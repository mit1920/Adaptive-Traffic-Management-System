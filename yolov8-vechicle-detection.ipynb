{
 "cells": [
  {
   "cell_type": "code",
   "execution_count": null,
   "metadata": {
    "_cell_guid": "b1076dfc-b9ad-4769-8c92-a6c4dae69d19",
    "_uuid": "8f2839f25d086af736a60e9eeb907d3b93b6e0e5",
    "editable": false,
    "trusted": true
   },
   "outputs": [],
   "source": [
    "# This Python 3 environment comes with many helpful analytics libraries installed\n",
    "# It is defined by the kaggle/python Docker image: https://github.com/kaggle/docker-python\n",
    "# For example, here's several helpful packages to load\n",
    "\n",
    "import numpy as np # linear algebra\n",
    "import pandas as pd # data processing, CSV file I/O (e.g. pd.read_csv)\n",
    "\n",
    "# Input data files are available in the read-only \"../input/\" directory\n",
    "# For example, running this (by clicking run or pressing Shift+Enter) will list all files under the input directory\n",
    "\n",
    "import os\n",
    "for dirname, _, filenames in os.walk('/kaggle/input'):\n",
    "    for filename in filenames:\n",
    "        print(os.path.join(dirname, filename))\n",
    "\n",
    "# You can write up to 20GB to the current directory (/kaggle/working/) that gets preserved as output when you create a version using \"Save & Run All\" \n",
    "# You can also write temporary files to /kaggle/temp/, but they won't be saved outside of the current session"
   ]
  },
  {
   "cell_type": "code",
   "execution_count": 7,
   "metadata": {
    "editable": false,
    "execution": {
     "iopub.execute_input": "2024-12-07T06:13:37.771025Z",
     "iopub.status.busy": "2024-12-07T06:13:37.770384Z",
     "iopub.status.idle": "2024-12-07T06:13:37.776058Z",
     "shell.execute_reply": "2024-12-07T06:13:37.775275Z",
     "shell.execute_reply.started": "2024-12-07T06:13:37.770994Z"
    },
    "trusted": true
   },
   "outputs": [
    {
     "name": "stdout",
     "output_type": "stream",
     "text": [
      "dataset.yaml has been saved to: /kaggle/working/dataset.yaml\n"
     ]
    }
   ],
   "source": [
    "data = \"\"\"\n",
    "train: /kaggle/input/traffic-vehicles-object-detection/Traffic Dataset/images/train\n",
    "val: /kaggle/input/traffic-vehicles-object-detection/Traffic Dataset/images/val\n",
    "\n",
    "nc: 7\n",
    "names: ['Car',Two Wheeler', 'Auto', 'Bus', 'Truck']\n",
    "\"\"\"\n",
    "\n",
    "path = '/kaggle/working/dataset.yaml'\n",
    "\n",
    "\n",
    "with open(path, 'w') as file:\n",
    "    file.write(data)\n",
    "\n",
    "print(f\"dataset.yaml has been saved to: {path}\")k"
   ]
  },
  {
   "cell_type": "code",
   "execution_count": 2,
   "metadata": {
    "editable": false,
    "execution": {
     "iopub.execute_input": "2024-12-03T06:38:26.859818Z",
     "iopub.status.busy": "2024-12-03T06:38:26.859481Z",
     "iopub.status.idle": "2024-12-03T06:38:38.893471Z",
     "shell.execute_reply": "2024-12-03T06:38:38.892524Z",
     "shell.execute_reply.started": "2024-12-03T06:38:26.859786Z"
    },
    "trusted": true
   },
   "outputs": [
    {
     "name": "stdout",
     "output_type": "stream",
     "text": [
      "Collecting ultralytics\n",
      "  Downloading ultralytics-8.3.40-py3-none-any.whl.metadata (35 kB)\n",
      "Requirement already satisfied: numpy>=1.23.0 in /opt/conda/lib/python3.10/site-packages (from ultralytics) (1.26.4)\n",
      "Requirement already satisfied: matplotlib>=3.3.0 in /opt/conda/lib/python3.10/site-packages (from ultralytics) (3.7.5)\n",
      "Requirement already satisfied: opencv-python>=4.6.0 in /opt/conda/lib/python3.10/site-packages (from ultralytics) (4.10.0.84)\n",
      "Requirement already satisfied: pillow>=7.1.2 in /opt/conda/lib/python3.10/site-packages (from ultralytics) (10.3.0)\n",
      "Requirement already satisfied: pyyaml>=5.3.1 in /opt/conda/lib/python3.10/site-packages (from ultralytics) (6.0.2)\n",
      "Requirement already satisfied: requests>=2.23.0 in /opt/conda/lib/python3.10/site-packages (from ultralytics) (2.32.3)\n",
      "Requirement already satisfied: scipy>=1.4.1 in /opt/conda/lib/python3.10/site-packages (from ultralytics) (1.14.1)\n",
      "Requirement already satisfied: torch>=1.8.0 in /opt/conda/lib/python3.10/site-packages (from ultralytics) (2.4.0)\n",
      "Requirement already satisfied: torchvision>=0.9.0 in /opt/conda/lib/python3.10/site-packages (from ultralytics) (0.19.0)\n",
      "Requirement already satisfied: tqdm>=4.64.0 in /opt/conda/lib/python3.10/site-packages (from ultralytics) (4.66.4)\n",
      "Requirement already satisfied: psutil in /opt/conda/lib/python3.10/site-packages (from ultralytics) (5.9.3)\n",
      "Requirement already satisfied: py-cpuinfo in /opt/conda/lib/python3.10/site-packages (from ultralytics) (9.0.0)\n",
      "Requirement already satisfied: pandas>=1.1.4 in /opt/conda/lib/python3.10/site-packages (from ultralytics) (2.2.2)\n",
      "Requirement already satisfied: seaborn>=0.11.0 in /opt/conda/lib/python3.10/site-packages (from ultralytics) (0.12.2)\n",
      "Collecting ultralytics-thop>=2.0.0 (from ultralytics)\n",
      "  Downloading ultralytics_thop-2.0.12-py3-none-any.whl.metadata (9.4 kB)\n",
      "Requirement already satisfied: contourpy>=1.0.1 in /opt/conda/lib/python3.10/site-packages (from matplotlib>=3.3.0->ultralytics) (1.2.1)\n",
      "Requirement already satisfied: cycler>=0.10 in /opt/conda/lib/python3.10/site-packages (from matplotlib>=3.3.0->ultralytics) (0.12.1)\n",
      "Requirement already satisfied: fonttools>=4.22.0 in /opt/conda/lib/python3.10/site-packages (from matplotlib>=3.3.0->ultralytics) (4.53.0)\n",
      "Requirement already satisfied: kiwisolver>=1.0.1 in /opt/conda/lib/python3.10/site-packages (from matplotlib>=3.3.0->ultralytics) (1.4.5)\n",
      "Requirement already satisfied: packaging>=20.0 in /opt/conda/lib/python3.10/site-packages (from matplotlib>=3.3.0->ultralytics) (21.3)\n",
      "Requirement already satisfied: pyparsing>=2.3.1 in /opt/conda/lib/python3.10/site-packages (from matplotlib>=3.3.0->ultralytics) (3.1.2)\n",
      "Requirement already satisfied: python-dateutil>=2.7 in /opt/conda/lib/python3.10/site-packages (from matplotlib>=3.3.0->ultralytics) (2.9.0.post0)\n",
      "Requirement already satisfied: pytz>=2020.1 in /opt/conda/lib/python3.10/site-packages (from pandas>=1.1.4->ultralytics) (2024.1)\n",
      "Requirement already satisfied: tzdata>=2022.7 in /opt/conda/lib/python3.10/site-packages (from pandas>=1.1.4->ultralytics) (2024.1)\n",
      "Requirement already satisfied: charset-normalizer<4,>=2 in /opt/conda/lib/python3.10/site-packages (from requests>=2.23.0->ultralytics) (3.3.2)\n",
      "Requirement already satisfied: idna<4,>=2.5 in /opt/conda/lib/python3.10/site-packages (from requests>=2.23.0->ultralytics) (3.7)\n",
      "Requirement already satisfied: urllib3<3,>=1.21.1 in /opt/conda/lib/python3.10/site-packages (from requests>=2.23.0->ultralytics) (1.26.18)\n",
      "Requirement already satisfied: certifi>=2017.4.17 in /opt/conda/lib/python3.10/site-packages (from requests>=2.23.0->ultralytics) (2024.8.30)\n",
      "Requirement already satisfied: filelock in /opt/conda/lib/python3.10/site-packages (from torch>=1.8.0->ultralytics) (3.15.1)\n",
      "Requirement already satisfied: typing-extensions>=4.8.0 in /opt/conda/lib/python3.10/site-packages (from torch>=1.8.0->ultralytics) (4.12.2)\n",
      "Requirement already satisfied: sympy in /opt/conda/lib/python3.10/site-packages (from torch>=1.8.0->ultralytics) (1.13.3)\n",
      "Requirement already satisfied: networkx in /opt/conda/lib/python3.10/site-packages (from torch>=1.8.0->ultralytics) (3.3)\n",
      "Requirement already satisfied: jinja2 in /opt/conda/lib/python3.10/site-packages (from torch>=1.8.0->ultralytics) (3.1.4)\n",
      "Requirement already satisfied: fsspec in /opt/conda/lib/python3.10/site-packages (from torch>=1.8.0->ultralytics) (2024.6.1)\n",
      "Requirement already satisfied: six>=1.5 in /opt/conda/lib/python3.10/site-packages (from python-dateutil>=2.7->matplotlib>=3.3.0->ultralytics) (1.16.0)\n",
      "Requirement already satisfied: MarkupSafe>=2.0 in /opt/conda/lib/python3.10/site-packages (from jinja2->torch>=1.8.0->ultralytics) (2.1.5)\n",
      "Requirement already satisfied: mpmath<1.4,>=1.1.0 in /opt/conda/lib/python3.10/site-packages (from sympy->torch>=1.8.0->ultralytics) (1.3.0)\n",
      "Downloading ultralytics-8.3.40-py3-none-any.whl (898 kB)\n",
      "\u001b[2K   \u001b[90m━━━━━━━━━━━━━━━━━━━━━━━━━━━━━━━━━━━━━━━━\u001b[0m \u001b[32m898.5/898.5 kB\u001b[0m \u001b[31m15.6 MB/s\u001b[0m eta \u001b[36m0:00:00\u001b[0ma \u001b[36m0:00:01\u001b[0m\n",
      "\u001b[?25hDownloading ultralytics_thop-2.0.12-py3-none-any.whl (26 kB)\n",
      "Installing collected packages: ultralytics-thop, ultralytics\n",
      "Successfully installed ultralytics-8.3.40 ultralytics-thop-2.0.12\n"
     ]
    }
   ],
   "source": [
    "!pip install ultralytics"
   ]
  },
  {
   "cell_type": "code",
   "execution_count": 3,
   "metadata": {
    "editable": false,
    "execution": {
     "iopub.execute_input": "2024-12-03T06:38:40.316350Z",
     "iopub.status.busy": "2024-12-03T06:38:40.316010Z",
     "iopub.status.idle": "2024-12-03T08:41:32.644736Z",
     "shell.execute_reply": "2024-12-03T08:41:32.643352Z",
     "shell.execute_reply.started": "2024-12-03T06:38:40.316321Z"
    },
    "trusted": true
   },
   "outputs": [
    {
     "name": "stdout",
     "output_type": "stream",
     "text": [
      "Creating new Ultralytics Settings v0.0.6 file ✅ \n",
      "View Ultralytics Settings with 'yolo settings' or at '/root/.config/Ultralytics/settings.json'\n",
      "Update Settings with 'yolo settings key=value', i.e. 'yolo settings runs_dir=path/to/dir'. For help see https://docs.ultralytics.com/quickstart/#ultralytics-settings.\n",
      "Downloading https://github.com/ultralytics/assets/releases/download/v8.3.0/yolov8x.pt to 'yolov8x.pt'...\n"
     ]
    },
    {
     "name": "stderr",
     "output_type": "stream",
     "text": [
      "100%|██████████| 131M/131M [00:00<00:00, 319MB/s] \n"
     ]
    },
    {
     "name": "stdout",
     "output_type": "stream",
     "text": [
      "Ultralytics 8.3.40 🚀 Python-3.10.14 torch-2.4.0 CUDA:0 (Tesla T4, 15095MiB)\n",
      "\u001b[34m\u001b[1mengine/trainer: \u001b[0mtask=detect, mode=train, model=yolov8x.pt, data=/kaggle/working/dataset.yaml, epochs=100, time=None, patience=100, batch=16, imgsz=640, save=True, save_period=-1, cache=True, device=None, workers=8, project=runs/train, name=exp, exist_ok=False, pretrained=True, optimizer=auto, verbose=True, seed=0, deterministic=True, single_cls=False, rect=False, cos_lr=False, close_mosaic=10, resume=False, amp=True, fraction=1.0, profile=False, freeze=None, multi_scale=False, overlap_mask=True, mask_ratio=4, dropout=0.0, val=True, split=val, save_json=False, save_hybrid=False, conf=None, iou=0.7, max_det=300, half=False, dnn=False, plots=True, source=None, vid_stride=1, stream_buffer=False, visualize=False, augment=False, agnostic_nms=False, classes=None, retina_masks=False, embed=None, show=False, save_frames=False, save_txt=False, save_conf=False, save_crop=False, show_labels=True, show_conf=True, show_boxes=True, line_width=None, format=torchscript, keras=False, optimize=False, int8=False, dynamic=False, simplify=True, opset=None, workspace=None, nms=False, lr0=0.01, lrf=0.01, momentum=0.937, weight_decay=0.0005, warmup_epochs=3.0, warmup_momentum=0.8, warmup_bias_lr=0.1, box=7.5, cls=0.5, dfl=1.5, pose=12.0, kobj=1.0, nbs=64, hsv_h=0.015, hsv_s=0.7, hsv_v=0.4, degrees=0.0, translate=0.1, scale=0.5, shear=0.0, perspective=0.0, flipud=0.0, fliplr=0.5, bgr=0.0, mosaic=1.0, mixup=0.0, copy_paste=0.0, copy_paste_mode=flip, auto_augment=randaugment, erasing=0.4, crop_fraction=1.0, cfg=None, tracker=botsort.yaml, save_dir=runs/train/exp\n",
      "Downloading https://ultralytics.com/assets/Arial.ttf to '/root/.config/Ultralytics/Arial.ttf'...\n"
     ]
    },
    {
     "name": "stderr",
     "output_type": "stream",
     "text": [
      "100%|██████████| 755k/755k [00:00<00:00, 4.06MB/s]\n",
      "2024-12-03 06:38:51,026\tINFO util.py:124 -- Outdated packages:\n",
      "  ipywidgets==7.7.1 found, needs ipywidgets>=8\n",
      "Run `pip install -U ipywidgets`, then restart the notebook server for rich notebook output.\n",
      "2024-12-03 06:38:52,164\tINFO util.py:124 -- Outdated packages:\n",
      "  ipywidgets==7.7.1 found, needs ipywidgets>=8\n",
      "Run `pip install -U ipywidgets`, then restart the notebook server for rich notebook output.\n"
     ]
    },
    {
     "name": "stdout",
     "output_type": "stream",
     "text": [
      "Overriding model.yaml nc=80 with nc=7\n",
      "\n",
      "                   from  n    params  module                                       arguments                     \n",
      "  0                  -1  1      2320  ultralytics.nn.modules.conv.Conv             [3, 80, 3, 2]                 \n",
      "  1                  -1  1    115520  ultralytics.nn.modules.conv.Conv             [80, 160, 3, 2]               \n",
      "  2                  -1  3    436800  ultralytics.nn.modules.block.C2f             [160, 160, 3, True]           \n",
      "  3                  -1  1    461440  ultralytics.nn.modules.conv.Conv             [160, 320, 3, 2]              \n",
      "  4                  -1  6   3281920  ultralytics.nn.modules.block.C2f             [320, 320, 6, True]           \n",
      "  5                  -1  1   1844480  ultralytics.nn.modules.conv.Conv             [320, 640, 3, 2]              \n",
      "  6                  -1  6  13117440  ultralytics.nn.modules.block.C2f             [640, 640, 6, True]           \n",
      "  7                  -1  1   3687680  ultralytics.nn.modules.conv.Conv             [640, 640, 3, 2]              \n",
      "  8                  -1  3   6969600  ultralytics.nn.modules.block.C2f             [640, 640, 3, True]           \n",
      "  9                  -1  1   1025920  ultralytics.nn.modules.block.SPPF            [640, 640, 5]                 \n",
      " 10                  -1  1         0  torch.nn.modules.upsampling.Upsample         [None, 2, 'nearest']          \n",
      " 11             [-1, 6]  1         0  ultralytics.nn.modules.conv.Concat           [1]                           \n",
      " 12                  -1  3   7379200  ultralytics.nn.modules.block.C2f             [1280, 640, 3]                \n",
      " 13                  -1  1         0  torch.nn.modules.upsampling.Upsample         [None, 2, 'nearest']          \n",
      " 14             [-1, 4]  1         0  ultralytics.nn.modules.conv.Concat           [1]                           \n",
      " 15                  -1  3   1948800  ultralytics.nn.modules.block.C2f             [960, 320, 3]                 \n",
      " 16                  -1  1    922240  ultralytics.nn.modules.conv.Conv             [320, 320, 3, 2]              \n",
      " 17            [-1, 12]  1         0  ultralytics.nn.modules.conv.Concat           [1]                           \n",
      " 18                  -1  3   7174400  ultralytics.nn.modules.block.C2f             [960, 640, 3]                 \n",
      " 19                  -1  1   3687680  ultralytics.nn.modules.conv.Conv             [640, 640, 3, 2]              \n",
      " 20             [-1, 9]  1         0  ultralytics.nn.modules.conv.Concat           [1]                           \n",
      " 21                  -1  3   7379200  ultralytics.nn.modules.block.C2f             [1280, 640, 3]                \n",
      " 22        [15, 18, 21]  1   8724709  ultralytics.nn.modules.head.Detect           [7, [320, 640, 640]]          \n",
      "Model summary: 365 layers, 68,159,349 parameters, 68,159,333 gradients, 258.2 GFLOPs\n",
      "\n",
      "Transferred 589/595 items from pretrained weights\n",
      "\u001b[34m\u001b[1mTensorBoard: \u001b[0mStart with 'tensorboard --logdir runs/train/exp', view at http://localhost:6006/\n",
      "Freezing layer 'model.22.dfl.conv.weight'\n",
      "\u001b[34m\u001b[1mAMP: \u001b[0mrunning Automatic Mixed Precision (AMP) checks...\n",
      "Downloading https://github.com/ultralytics/assets/releases/download/v8.3.0/yolo11n.pt to 'yolo11n.pt'...\n"
     ]
    },
    {
     "name": "stderr",
     "output_type": "stream",
     "text": [
      "100%|██████████| 5.35M/5.35M [00:00<00:00, 69.0MB/s]\n"
     ]
    },
    {
     "name": "stdout",
     "output_type": "stream",
     "text": [
      "\u001b[34m\u001b[1mAMP: \u001b[0mchecks passed ✅\n"
     ]
    },
    {
     "name": "stderr",
     "output_type": "stream",
     "text": [
      "\u001b[34m\u001b[1mtrain: \u001b[0mScanning /kaggle/input/traffic-vehicles-object-detection/Traffic Dataset/labels/train... 735 images, 6 backgrounds, 3 corrupt: 100%|██████████| 738/738 [00:06<00:00, 109.84it/s]"
     ]
    },
    {
     "name": "stdout",
     "output_type": "stream",
     "text": [
      "\u001b[34m\u001b[1mtrain: \u001b[0mWARNING ⚠️ /kaggle/input/traffic-vehicles-object-detection/Traffic Dataset/images/train/00 (453).jpg: ignoring corrupt image/label: [Errno 30] Read-only file system: '/kaggle/input/traffic-vehicles-object-detection/Traffic Dataset/images/train/00 (453).jpg'\n",
      "\u001b[34m\u001b[1mtrain: \u001b[0mWARNING ⚠️ /kaggle/input/traffic-vehicles-object-detection/Traffic Dataset/images/train/00 (837).jpg: ignoring corrupt image/label: [Errno 30] Read-only file system: '/kaggle/input/traffic-vehicles-object-detection/Traffic Dataset/images/train/00 (837).jpg'\n",
      "\u001b[34m\u001b[1mtrain: \u001b[0mWARNING ⚠️ /kaggle/input/traffic-vehicles-object-detection/Traffic Dataset/images/train/00 (857).jpg: ignoring corrupt image/label: [Errno 30] Read-only file system: '/kaggle/input/traffic-vehicles-object-detection/Traffic Dataset/images/train/00 (857).jpg'\n"
     ]
    },
    {
     "name": "stderr",
     "output_type": "stream",
     "text": [
      "\n"
     ]
    },
    {
     "name": "stdout",
     "output_type": "stream",
     "text": [
      "\u001b[34m\u001b[1mtrain: \u001b[0mWARNING ⚠️ Cache directory /kaggle/input/traffic-vehicles-object-detection/Traffic Dataset/labels is not writeable, cache not saved.\n",
      "WARNING ⚠️ cache='ram' may produce non-deterministic training results. Consider cache='disk' as a deterministic alternative if your disk space allows.\n"
     ]
    },
    {
     "name": "stderr",
     "output_type": "stream",
     "text": [
      "\u001b[34m\u001b[1mtrain: \u001b[0mCaching images (0.5GB RAM): 100%|██████████| 735/735 [00:04<00:00, 176.88it/s]\n"
     ]
    },
    {
     "name": "stdout",
     "output_type": "stream",
     "text": [
      "\u001b[34m\u001b[1malbumentations: \u001b[0mBlur(p=0.01, blur_limit=(3, 7)), MedianBlur(p=0.01, blur_limit=(3, 7)), ToGray(p=0.01, num_output_channels=3, method='weighted_average'), CLAHE(p=0.01, clip_limit=(1, 4.0), tile_grid_size=(8, 8))\n"
     ]
    },
    {
     "name": "stderr",
     "output_type": "stream",
     "text": [
      "/opt/conda/lib/python3.10/site-packages/albumentations/__init__.py:13: UserWarning: A new version of Albumentations is available: 1.4.21 (you have 1.4.17). Upgrade using: pip install -U albumentations. To disable automatic update checks, set the environment variable NO_ALBUMENTATIONS_UPDATE to 1.\n",
      "  check_for_updates()\n",
      "/opt/conda/lib/python3.10/multiprocessing/popen_fork.py:66: RuntimeWarning: os.fork() was called. os.fork() is incompatible with multithreaded code, and JAX is multithreaded, so this will likely lead to a deadlock.\n",
      "  self.pid = os.fork()\n",
      "\u001b[34m\u001b[1mval: \u001b[0mScanning /kaggle/input/traffic-vehicles-object-detection/Traffic Dataset/labels/val... 185 images, 1 backgrounds, 0 corrupt: 100%|██████████| 185/185 [00:01<00:00, 102.07it/s]"
     ]
    },
    {
     "name": "stdout",
     "output_type": "stream",
     "text": [
      "\u001b[34m\u001b[1mval: \u001b[0mWARNING ⚠️ Cache directory /kaggle/input/traffic-vehicles-object-detection/Traffic Dataset/labels is not writeable, cache not saved.\n"
     ]
    },
    {
     "name": "stderr",
     "output_type": "stream",
     "text": [
      "\n"
     ]
    },
    {
     "name": "stdout",
     "output_type": "stream",
     "text": [
      "WARNING ⚠️ cache='ram' may produce non-deterministic training results. Consider cache='disk' as a deterministic alternative if your disk space allows.\n"
     ]
    },
    {
     "name": "stderr",
     "output_type": "stream",
     "text": [
      "\u001b[34m\u001b[1mval: \u001b[0mCaching images (0.1GB RAM): 100%|██████████| 185/185 [00:01<00:00, 159.08it/s]\n"
     ]
    },
    {
     "name": "stdout",
     "output_type": "stream",
     "text": [
      "Plotting labels to runs/train/exp/labels.jpg... \n",
      "\u001b[34m\u001b[1moptimizer:\u001b[0m 'optimizer=auto' found, ignoring 'lr0=0.01' and 'momentum=0.937' and determining best 'optimizer', 'lr0' and 'momentum' automatically... \n",
      "\u001b[34m\u001b[1moptimizer:\u001b[0m AdamW(lr=0.000909, momentum=0.9) with parameter groups 97 weight(decay=0.0), 104 weight(decay=0.0005), 103 bias(decay=0.0)\n",
      "\u001b[34m\u001b[1mTensorBoard: \u001b[0mmodel graph visualization added ✅\n",
      "Image sizes 640 train, 640 val\n",
      "Using 2 dataloader workers\n",
      "Logging results to \u001b[1mruns/train/exp\u001b[0m\n",
      "Starting training for 100 epochs...\n",
      "\n",
      "      Epoch    GPU_mem   box_loss   cls_loss   dfl_loss  Instances       Size\n"
     ]
    },
    {
     "name": "stderr",
     "output_type": "stream",
     "text": [
      "      1/100      13.1G     0.9022      1.247     0.9675        463        640: 100%|██████████| 46/46 [00:57<00:00,  1.26s/it]\n",
      "                 Class     Images  Instances      Box(P          R      mAP50  mAP50-95): 100%|██████████| 6/6 [00:05<00:00,  1.02it/s]"
     ]
    },
    {
     "name": "stdout",
     "output_type": "stream",
     "text": [
      "                   all        185       1980      0.256      0.524      0.278       0.17\n"
     ]
    },
    {
     "name": "stderr",
     "output_type": "stream",
     "text": [
      "\n"
     ]
    },
    {
     "name": "stdout",
     "output_type": "stream",
     "text": [
      "\n",
      "      Epoch    GPU_mem   box_loss   cls_loss   dfl_loss  Instances       Size\n"
     ]
    },
    {
     "name": "stderr",
     "output_type": "stream",
     "text": [
      "      2/100      13.5G      0.864     0.6667     0.9431        544        640: 100%|██████████| 46/46 [01:05<00:00,  1.42s/it]\n",
      "                 Class     Images  Instances      Box(P          R      mAP50  mAP50-95): 100%|██████████| 6/6 [00:05<00:00,  1.14it/s]"
     ]
    },
    {
     "name": "stdout",
     "output_type": "stream",
     "text": [
      "                   all        185       1980       0.57      0.501      0.502      0.308\n"
     ]
    },
    {
     "name": "stderr",
     "output_type": "stream",
     "text": [
      "\n"
     ]
    },
    {
     "name": "stdout",
     "output_type": "stream",
     "text": [
      "\n",
      "      Epoch    GPU_mem   box_loss   cls_loss   dfl_loss  Instances       Size\n"
     ]
    },
    {
     "name": "stderr",
     "output_type": "stream",
     "text": [
      "      3/100      13.2G     0.8787      0.618      0.955        339        640: 100%|██████████| 46/46 [01:05<00:00,  1.43s/it]\n",
      "                 Class     Images  Instances      Box(P          R      mAP50  mAP50-95): 100%|██████████| 6/6 [00:05<00:00,  1.19it/s]"
     ]
    },
    {
     "name": "stdout",
     "output_type": "stream",
     "text": [
      "                   all        185       1980      0.524      0.504      0.465      0.284\n"
     ]
    },
    {
     "name": "stderr",
     "output_type": "stream",
     "text": [
      "\n"
     ]
    },
    {
     "name": "stdout",
     "output_type": "stream",
     "text": [
      "\n",
      "      Epoch    GPU_mem   box_loss   cls_loss   dfl_loss  Instances       Size\n"
     ]
    },
    {
     "name": "stderr",
     "output_type": "stream",
     "text": [
      "      4/100      13.1G     0.8521     0.5807     0.9452        597        640: 100%|██████████| 46/46 [01:06<00:00,  1.44s/it]\n",
      "                 Class     Images  Instances      Box(P          R      mAP50  mAP50-95): 100%|██████████| 6/6 [00:04<00:00,  1.21it/s]"
     ]
    },
    {
     "name": "stdout",
     "output_type": "stream",
     "text": [
      "                   all        185       1980      0.507      0.542      0.482      0.293\n"
     ]
    },
    {
     "name": "stderr",
     "output_type": "stream",
     "text": [
      "\n"
     ]
    },
    {
     "name": "stdout",
     "output_type": "stream",
     "text": [
      "\n",
      "      Epoch    GPU_mem   box_loss   cls_loss   dfl_loss  Instances       Size\n"
     ]
    },
    {
     "name": "stderr",
     "output_type": "stream",
     "text": [
      "      5/100      13.4G     0.8553      0.578     0.9606        407        640: 100%|██████████| 46/46 [01:06<00:00,  1.44s/it]\n",
      "                 Class     Images  Instances      Box(P          R      mAP50  mAP50-95): 100%|██████████| 6/6 [00:04<00:00,  1.21it/s]"
     ]
    },
    {
     "name": "stdout",
     "output_type": "stream",
     "text": [
      "                   all        185       1980      0.631      0.419      0.469      0.279\n"
     ]
    },
    {
     "name": "stderr",
     "output_type": "stream",
     "text": [
      "\n"
     ]
    },
    {
     "name": "stdout",
     "output_type": "stream",
     "text": [
      "\n",
      "      Epoch    GPU_mem   box_loss   cls_loss   dfl_loss  Instances       Size\n"
     ]
    },
    {
     "name": "stderr",
     "output_type": "stream",
     "text": [
      "      6/100      12.9G     0.8307     0.5449     0.9481        407        640: 100%|██████████| 46/46 [01:05<00:00,  1.43s/it]\n",
      "                 Class     Images  Instances      Box(P          R      mAP50  mAP50-95): 100%|██████████| 6/6 [00:05<00:00,  1.20it/s]"
     ]
    },
    {
     "name": "stdout",
     "output_type": "stream",
     "text": [
      "                   all        185       1980      0.738      0.586      0.659      0.375\n"
     ]
    },
    {
     "name": "stderr",
     "output_type": "stream",
     "text": [
      "\n"
     ]
    },
    {
     "name": "stdout",
     "output_type": "stream",
     "text": [
      "\n",
      "      Epoch    GPU_mem   box_loss   cls_loss   dfl_loss  Instances       Size\n"
     ]
    },
    {
     "name": "stderr",
     "output_type": "stream",
     "text": [
      "      7/100      12.8G     0.8036      0.515     0.9345        376        640: 100%|██████████| 46/46 [01:06<00:00,  1.44s/it]\n",
      "                 Class     Images  Instances      Box(P          R      mAP50  mAP50-95): 100%|██████████| 6/6 [00:04<00:00,  1.21it/s]"
     ]
    },
    {
     "name": "stdout",
     "output_type": "stream",
     "text": [
      "                   all        185       1980       0.63      0.597      0.573      0.337\n"
     ]
    },
    {
     "name": "stderr",
     "output_type": "stream",
     "text": [
      "\n"
     ]
    },
    {
     "name": "stdout",
     "output_type": "stream",
     "text": [
      "\n",
      "      Epoch    GPU_mem   box_loss   cls_loss   dfl_loss  Instances       Size\n"
     ]
    },
    {
     "name": "stderr",
     "output_type": "stream",
     "text": [
      "      8/100      13.1G     0.8002      0.504     0.9314        514        640: 100%|██████████| 46/46 [01:06<00:00,  1.44s/it]\n",
      "                 Class     Images  Instances      Box(P          R      mAP50  mAP50-95): 100%|██████████| 6/6 [00:04<00:00,  1.21it/s]"
     ]
    },
    {
     "name": "stdout",
     "output_type": "stream",
     "text": [
      "                   all        185       1980      0.676      0.554      0.611      0.376\n"
     ]
    },
    {
     "name": "stderr",
     "output_type": "stream",
     "text": [
      "\n"
     ]
    },
    {
     "name": "stdout",
     "output_type": "stream",
     "text": [
      "\n",
      "      Epoch    GPU_mem   box_loss   cls_loss   dfl_loss  Instances       Size\n"
     ]
    },
    {
     "name": "stderr",
     "output_type": "stream",
     "text": [
      "      9/100      13.4G     0.7936      0.492     0.9344        374        640: 100%|██████████| 46/46 [01:06<00:00,  1.44s/it]\n",
      "                 Class     Images  Instances      Box(P          R      mAP50  mAP50-95): 100%|██████████| 6/6 [00:04<00:00,  1.22it/s]"
     ]
    },
    {
     "name": "stdout",
     "output_type": "stream",
     "text": [
      "                   all        185       1980      0.673      0.594      0.622      0.394\n"
     ]
    },
    {
     "name": "stderr",
     "output_type": "stream",
     "text": [
      "\n"
     ]
    },
    {
     "name": "stdout",
     "output_type": "stream",
     "text": [
      "\n",
      "      Epoch    GPU_mem   box_loss   cls_loss   dfl_loss  Instances       Size\n"
     ]
    },
    {
     "name": "stderr",
     "output_type": "stream",
     "text": [
      "     10/100      13.1G     0.7783     0.4916      0.925        552        640: 100%|██████████| 46/46 [01:06<00:00,  1.44s/it]\n",
      "                 Class     Images  Instances      Box(P          R      mAP50  mAP50-95): 100%|██████████| 6/6 [00:04<00:00,  1.21it/s]"
     ]
    },
    {
     "name": "stdout",
     "output_type": "stream",
     "text": [
      "                   all        185       1980      0.678      0.584      0.622      0.396\n"
     ]
    },
    {
     "name": "stderr",
     "output_type": "stream",
     "text": [
      "\n"
     ]
    },
    {
     "name": "stdout",
     "output_type": "stream",
     "text": [
      "\n",
      "      Epoch    GPU_mem   box_loss   cls_loss   dfl_loss  Instances       Size\n"
     ]
    },
    {
     "name": "stderr",
     "output_type": "stream",
     "text": [
      "     11/100      13.3G     0.7646     0.4663      0.923        391        640: 100%|██████████| 46/46 [01:05<00:00,  1.43s/it]\n",
      "                 Class     Images  Instances      Box(P          R      mAP50  mAP50-95): 100%|██████████| 6/6 [00:04<00:00,  1.21it/s]"
     ]
    },
    {
     "name": "stdout",
     "output_type": "stream",
     "text": [
      "                   all        185       1980      0.804      0.557      0.685      0.418\n"
     ]
    },
    {
     "name": "stderr",
     "output_type": "stream",
     "text": [
      "\n"
     ]
    },
    {
     "name": "stdout",
     "output_type": "stream",
     "text": [
      "\n",
      "      Epoch    GPU_mem   box_loss   cls_loss   dfl_loss  Instances       Size\n"
     ]
    },
    {
     "name": "stderr",
     "output_type": "stream",
     "text": [
      "     12/100      13.1G     0.7706     0.4746      0.926        388        640: 100%|██████████| 46/46 [01:05<00:00,  1.42s/it]\n",
      "                 Class     Images  Instances      Box(P          R      mAP50  mAP50-95): 100%|██████████| 6/6 [00:05<00:00,  1.20it/s]"
     ]
    },
    {
     "name": "stdout",
     "output_type": "stream",
     "text": [
      "                   all        185       1980      0.589      0.628      0.631      0.392\n"
     ]
    },
    {
     "name": "stderr",
     "output_type": "stream",
     "text": [
      "\n"
     ]
    },
    {
     "name": "stdout",
     "output_type": "stream",
     "text": [
      "\n",
      "      Epoch    GPU_mem   box_loss   cls_loss   dfl_loss  Instances       Size\n"
     ]
    },
    {
     "name": "stderr",
     "output_type": "stream",
     "text": [
      "     13/100      13.2G     0.7523     0.4597     0.9161        310        640: 100%|██████████| 46/46 [01:05<00:00,  1.43s/it]\n",
      "                 Class     Images  Instances      Box(P          R      mAP50  mAP50-95): 100%|██████████| 6/6 [00:04<00:00,  1.23it/s]"
     ]
    },
    {
     "name": "stdout",
     "output_type": "stream",
     "text": [
      "                   all        185       1980      0.655      0.579      0.639      0.408\n"
     ]
    },
    {
     "name": "stderr",
     "output_type": "stream",
     "text": [
      "\n"
     ]
    },
    {
     "name": "stdout",
     "output_type": "stream",
     "text": [
      "\n",
      "      Epoch    GPU_mem   box_loss   cls_loss   dfl_loss  Instances       Size\n"
     ]
    },
    {
     "name": "stderr",
     "output_type": "stream",
     "text": [
      "     14/100      13.1G     0.7377     0.4421     0.9143        507        640: 100%|██████████| 46/46 [01:06<00:00,  1.44s/it]\n",
      "                 Class     Images  Instances      Box(P          R      mAP50  mAP50-95): 100%|██████████| 6/6 [00:04<00:00,  1.24it/s]"
     ]
    },
    {
     "name": "stdout",
     "output_type": "stream",
     "text": [
      "                   all        185       1980      0.661      0.648      0.674      0.427\n"
     ]
    },
    {
     "name": "stderr",
     "output_type": "stream",
     "text": [
      "\n"
     ]
    },
    {
     "name": "stdout",
     "output_type": "stream",
     "text": [
      "\n",
      "      Epoch    GPU_mem   box_loss   cls_loss   dfl_loss  Instances       Size\n"
     ]
    },
    {
     "name": "stderr",
     "output_type": "stream",
     "text": [
      "     15/100      13.2G     0.7385      0.438     0.9151        392        640: 100%|██████████| 46/46 [01:06<00:00,  1.44s/it]\n",
      "                 Class     Images  Instances      Box(P          R      mAP50  mAP50-95): 100%|██████████| 6/6 [00:04<00:00,  1.24it/s]"
     ]
    },
    {
     "name": "stdout",
     "output_type": "stream",
     "text": [
      "                   all        185       1980      0.695      0.632      0.686      0.446\n"
     ]
    },
    {
     "name": "stderr",
     "output_type": "stream",
     "text": [
      "\n"
     ]
    },
    {
     "name": "stdout",
     "output_type": "stream",
     "text": [
      "\n",
      "      Epoch    GPU_mem   box_loss   cls_loss   dfl_loss  Instances       Size\n"
     ]
    },
    {
     "name": "stderr",
     "output_type": "stream",
     "text": [
      "     16/100      12.6G     0.7314     0.4394     0.9106        573        640: 100%|██████████| 46/46 [01:06<00:00,  1.44s/it]\n",
      "                 Class     Images  Instances      Box(P          R      mAP50  mAP50-95): 100%|██████████| 6/6 [00:04<00:00,  1.27it/s]"
     ]
    },
    {
     "name": "stdout",
     "output_type": "stream",
     "text": [
      "                   all        185       1980      0.723      0.658      0.702      0.432\n"
     ]
    },
    {
     "name": "stderr",
     "output_type": "stream",
     "text": [
      "\n"
     ]
    },
    {
     "name": "stdout",
     "output_type": "stream",
     "text": [
      "\n",
      "      Epoch    GPU_mem   box_loss   cls_loss   dfl_loss  Instances       Size\n"
     ]
    },
    {
     "name": "stderr",
     "output_type": "stream",
     "text": [
      "     17/100      13.3G      0.732     0.4381     0.9181        551        640: 100%|██████████| 46/46 [01:05<00:00,  1.43s/it]\n",
      "                 Class     Images  Instances      Box(P          R      mAP50  mAP50-95): 100%|██████████| 6/6 [00:04<00:00,  1.21it/s]"
     ]
    },
    {
     "name": "stdout",
     "output_type": "stream",
     "text": [
      "                   all        185       1980      0.712      0.584      0.668       0.43\n"
     ]
    },
    {
     "name": "stderr",
     "output_type": "stream",
     "text": [
      "\n"
     ]
    },
    {
     "name": "stdout",
     "output_type": "stream",
     "text": [
      "\n",
      "      Epoch    GPU_mem   box_loss   cls_loss   dfl_loss  Instances       Size\n"
     ]
    },
    {
     "name": "stderr",
     "output_type": "stream",
     "text": [
      "     18/100      13.1G     0.7301     0.4352     0.9091        364        640: 100%|██████████| 46/46 [01:06<00:00,  1.44s/it]\n",
      "                 Class     Images  Instances      Box(P          R      mAP50  mAP50-95): 100%|██████████| 6/6 [00:04<00:00,  1.21it/s]"
     ]
    },
    {
     "name": "stdout",
     "output_type": "stream",
     "text": [
      "                   all        185       1980      0.759      0.618        0.7      0.464\n"
     ]
    },
    {
     "name": "stderr",
     "output_type": "stream",
     "text": [
      "\n"
     ]
    },
    {
     "name": "stdout",
     "output_type": "stream",
     "text": [
      "\n",
      "      Epoch    GPU_mem   box_loss   cls_loss   dfl_loss  Instances       Size\n"
     ]
    },
    {
     "name": "stderr",
     "output_type": "stream",
     "text": [
      "     19/100      13.3G     0.7113     0.4229     0.9051        432        640: 100%|██████████| 46/46 [01:05<00:00,  1.43s/it]\n",
      "                 Class     Images  Instances      Box(P          R      mAP50  mAP50-95): 100%|██████████| 6/6 [00:04<00:00,  1.20it/s]"
     ]
    },
    {
     "name": "stdout",
     "output_type": "stream",
     "text": [
      "                   all        185       1980       0.73      0.574      0.644      0.419\n"
     ]
    },
    {
     "name": "stderr",
     "output_type": "stream",
     "text": [
      "\n"
     ]
    },
    {
     "name": "stdout",
     "output_type": "stream",
     "text": [
      "\n",
      "      Epoch    GPU_mem   box_loss   cls_loss   dfl_loss  Instances       Size\n"
     ]
    },
    {
     "name": "stderr",
     "output_type": "stream",
     "text": [
      "     20/100      13.1G      0.713     0.4174     0.9017        490        640: 100%|██████████| 46/46 [01:05<00:00,  1.43s/it]\n",
      "                 Class     Images  Instances      Box(P          R      mAP50  mAP50-95): 100%|██████████| 6/6 [00:04<00:00,  1.23it/s]"
     ]
    },
    {
     "name": "stdout",
     "output_type": "stream",
     "text": [
      "                   all        185       1980      0.755      0.622      0.691      0.451\n"
     ]
    },
    {
     "name": "stderr",
     "output_type": "stream",
     "text": [
      "\n"
     ]
    },
    {
     "name": "stdout",
     "output_type": "stream",
     "text": [
      "\n",
      "      Epoch    GPU_mem   box_loss   cls_loss   dfl_loss  Instances       Size\n"
     ]
    },
    {
     "name": "stderr",
     "output_type": "stream",
     "text": [
      "     21/100      13.3G     0.6963     0.4052     0.9005        444        640: 100%|██████████| 46/46 [01:06<00:00,  1.44s/it]\n",
      "                 Class     Images  Instances      Box(P          R      mAP50  mAP50-95): 100%|██████████| 6/6 [00:04<00:00,  1.22it/s]"
     ]
    },
    {
     "name": "stdout",
     "output_type": "stream",
     "text": [
      "                   all        185       1980      0.717      0.702       0.74       0.48\n"
     ]
    },
    {
     "name": "stderr",
     "output_type": "stream",
     "text": [
      "\n"
     ]
    },
    {
     "name": "stdout",
     "output_type": "stream",
     "text": [
      "\n",
      "      Epoch    GPU_mem   box_loss   cls_loss   dfl_loss  Instances       Size\n"
     ]
    },
    {
     "name": "stderr",
     "output_type": "stream",
     "text": [
      "     22/100      12.9G     0.6975     0.4076      0.897        453        640: 100%|██████████| 46/46 [01:06<00:00,  1.44s/it]\n",
      "                 Class     Images  Instances      Box(P          R      mAP50  mAP50-95): 100%|██████████| 6/6 [00:04<00:00,  1.24it/s]"
     ]
    },
    {
     "name": "stdout",
     "output_type": "stream",
     "text": [
      "                   all        185       1980      0.734      0.658      0.714      0.467\n"
     ]
    },
    {
     "name": "stderr",
     "output_type": "stream",
     "text": [
      "\n"
     ]
    },
    {
     "name": "stdout",
     "output_type": "stream",
     "text": [
      "\n",
      "      Epoch    GPU_mem   box_loss   cls_loss   dfl_loss  Instances       Size\n"
     ]
    },
    {
     "name": "stderr",
     "output_type": "stream",
     "text": [
      "     23/100      13.4G     0.6982     0.4035     0.8994        409        640: 100%|██████████| 46/46 [01:06<00:00,  1.44s/it]\n",
      "                 Class     Images  Instances      Box(P          R      mAP50  mAP50-95): 100%|██████████| 6/6 [00:04<00:00,  1.22it/s]"
     ]
    },
    {
     "name": "stdout",
     "output_type": "stream",
     "text": [
      "                   all        185       1980      0.778      0.647      0.736      0.481\n"
     ]
    },
    {
     "name": "stderr",
     "output_type": "stream",
     "text": [
      "\n"
     ]
    },
    {
     "name": "stdout",
     "output_type": "stream",
     "text": [
      "\n",
      "      Epoch    GPU_mem   box_loss   cls_loss   dfl_loss  Instances       Size\n"
     ]
    },
    {
     "name": "stderr",
     "output_type": "stream",
     "text": [
      "     24/100      12.9G     0.6836     0.3965     0.8941        442        640: 100%|██████████| 46/46 [01:05<00:00,  1.43s/it]\n",
      "                 Class     Images  Instances      Box(P          R      mAP50  mAP50-95): 100%|██████████| 6/6 [00:04<00:00,  1.22it/s]"
     ]
    },
    {
     "name": "stdout",
     "output_type": "stream",
     "text": [
      "                   all        185       1980      0.802      0.675       0.75      0.497\n"
     ]
    },
    {
     "name": "stderr",
     "output_type": "stream",
     "text": [
      "\n"
     ]
    },
    {
     "name": "stdout",
     "output_type": "stream",
     "text": [
      "\n",
      "      Epoch    GPU_mem   box_loss   cls_loss   dfl_loss  Instances       Size\n"
     ]
    },
    {
     "name": "stderr",
     "output_type": "stream",
     "text": [
      "     25/100      13.2G     0.6756      0.393     0.8898        405        640: 100%|██████████| 46/46 [01:05<00:00,  1.43s/it]\n",
      "                 Class     Images  Instances      Box(P          R      mAP50  mAP50-95): 100%|██████████| 6/6 [00:04<00:00,  1.22it/s]"
     ]
    },
    {
     "name": "stdout",
     "output_type": "stream",
     "text": [
      "                   all        185       1980      0.727      0.677      0.723      0.473\n"
     ]
    },
    {
     "name": "stderr",
     "output_type": "stream",
     "text": [
      "\n"
     ]
    },
    {
     "name": "stdout",
     "output_type": "stream",
     "text": [
      "\n",
      "      Epoch    GPU_mem   box_loss   cls_loss   dfl_loss  Instances       Size\n"
     ]
    },
    {
     "name": "stderr",
     "output_type": "stream",
     "text": [
      "     26/100      13.1G     0.6847     0.3927     0.8991        511        640: 100%|██████████| 46/46 [01:06<00:00,  1.44s/it]\n",
      "                 Class     Images  Instances      Box(P          R      mAP50  mAP50-95): 100%|██████████| 6/6 [00:04<00:00,  1.23it/s]"
     ]
    },
    {
     "name": "stdout",
     "output_type": "stream",
     "text": [
      "                   all        185       1980      0.761      0.645      0.706      0.463\n"
     ]
    },
    {
     "name": "stderr",
     "output_type": "stream",
     "text": [
      "\n"
     ]
    },
    {
     "name": "stdout",
     "output_type": "stream",
     "text": [
      "\n",
      "      Epoch    GPU_mem   box_loss   cls_loss   dfl_loss  Instances       Size\n"
     ]
    },
    {
     "name": "stderr",
     "output_type": "stream",
     "text": [
      "     27/100      13.3G     0.6716     0.3889     0.8915        494        640: 100%|██████████| 46/46 [01:06<00:00,  1.44s/it]\n",
      "                 Class     Images  Instances      Box(P          R      mAP50  mAP50-95): 100%|██████████| 6/6 [00:04<00:00,  1.21it/s]"
     ]
    },
    {
     "name": "stdout",
     "output_type": "stream",
     "text": [
      "                   all        185       1980      0.745      0.664      0.727      0.481\n"
     ]
    },
    {
     "name": "stderr",
     "output_type": "stream",
     "text": [
      "\n"
     ]
    },
    {
     "name": "stdout",
     "output_type": "stream",
     "text": [
      "\n",
      "      Epoch    GPU_mem   box_loss   cls_loss   dfl_loss  Instances       Size\n"
     ]
    },
    {
     "name": "stderr",
     "output_type": "stream",
     "text": [
      "     28/100      13.1G     0.6698      0.387     0.8932        477        640: 100%|██████████| 46/46 [01:05<00:00,  1.43s/it]\n",
      "                 Class     Images  Instances      Box(P          R      mAP50  mAP50-95): 100%|██████████| 6/6 [00:04<00:00,  1.22it/s]"
     ]
    },
    {
     "name": "stdout",
     "output_type": "stream",
     "text": [
      "                   all        185       1980      0.763      0.674      0.734      0.473\n"
     ]
    },
    {
     "name": "stderr",
     "output_type": "stream",
     "text": [
      "\n"
     ]
    },
    {
     "name": "stdout",
     "output_type": "stream",
     "text": [
      "\n",
      "      Epoch    GPU_mem   box_loss   cls_loss   dfl_loss  Instances       Size\n"
     ]
    },
    {
     "name": "stderr",
     "output_type": "stream",
     "text": [
      "     29/100      13.3G     0.6663     0.3863     0.8896        399        640: 100%|██████████| 46/46 [01:05<00:00,  1.43s/it]\n",
      "                 Class     Images  Instances      Box(P          R      mAP50  mAP50-95): 100%|██████████| 6/6 [00:04<00:00,  1.21it/s]"
     ]
    },
    {
     "name": "stdout",
     "output_type": "stream",
     "text": [
      "                   all        185       1980      0.777       0.66      0.738      0.484\n"
     ]
    },
    {
     "name": "stderr",
     "output_type": "stream",
     "text": [
      "\n"
     ]
    },
    {
     "name": "stdout",
     "output_type": "stream",
     "text": [
      "\n",
      "      Epoch    GPU_mem   box_loss   cls_loss   dfl_loss  Instances       Size\n"
     ]
    },
    {
     "name": "stderr",
     "output_type": "stream",
     "text": [
      "     30/100      13.1G     0.6556     0.3768      0.889        388        640: 100%|██████████| 46/46 [01:05<00:00,  1.43s/it]\n",
      "                 Class     Images  Instances      Box(P          R      mAP50  mAP50-95): 100%|██████████| 6/6 [00:04<00:00,  1.22it/s]"
     ]
    },
    {
     "name": "stdout",
     "output_type": "stream",
     "text": [
      "                   all        185       1980      0.731      0.677      0.741       0.49\n"
     ]
    },
    {
     "name": "stderr",
     "output_type": "stream",
     "text": [
      "\n"
     ]
    },
    {
     "name": "stdout",
     "output_type": "stream",
     "text": [
      "\n",
      "      Epoch    GPU_mem   box_loss   cls_loss   dfl_loss  Instances       Size\n"
     ]
    },
    {
     "name": "stderr",
     "output_type": "stream",
     "text": [
      "     31/100      13.2G     0.6435     0.3672     0.8821        507        640: 100%|██████████| 46/46 [01:06<00:00,  1.44s/it]\n",
      "                 Class     Images  Instances      Box(P          R      mAP50  mAP50-95): 100%|██████████| 6/6 [00:04<00:00,  1.23it/s]"
     ]
    },
    {
     "name": "stdout",
     "output_type": "stream",
     "text": [
      "                   all        185       1980      0.714      0.653      0.721      0.481\n"
     ]
    },
    {
     "name": "stderr",
     "output_type": "stream",
     "text": [
      "\n"
     ]
    },
    {
     "name": "stdout",
     "output_type": "stream",
     "text": [
      "\n",
      "      Epoch    GPU_mem   box_loss   cls_loss   dfl_loss  Instances       Size\n"
     ]
    },
    {
     "name": "stderr",
     "output_type": "stream",
     "text": [
      "     32/100      13.1G      0.641     0.3668     0.8791        442        640: 100%|██████████| 46/46 [01:05<00:00,  1.43s/it]\n",
      "                 Class     Images  Instances      Box(P          R      mAP50  mAP50-95): 100%|██████████| 6/6 [00:04<00:00,  1.22it/s]"
     ]
    },
    {
     "name": "stdout",
     "output_type": "stream",
     "text": [
      "                   all        185       1980      0.675      0.693      0.732      0.484\n"
     ]
    },
    {
     "name": "stderr",
     "output_type": "stream",
     "text": [
      "\n"
     ]
    },
    {
     "name": "stdout",
     "output_type": "stream",
     "text": [
      "\n",
      "      Epoch    GPU_mem   box_loss   cls_loss   dfl_loss  Instances       Size\n"
     ]
    },
    {
     "name": "stderr",
     "output_type": "stream",
     "text": [
      "     33/100      13.4G     0.6417     0.3626     0.8851        374        640: 100%|██████████| 46/46 [01:05<00:00,  1.43s/it]\n",
      "                 Class     Images  Instances      Box(P          R      mAP50  mAP50-95): 100%|██████████| 6/6 [00:04<00:00,  1.22it/s]"
     ]
    },
    {
     "name": "stdout",
     "output_type": "stream",
     "text": [
      "                   all        185       1980      0.797      0.649      0.734      0.487\n"
     ]
    },
    {
     "name": "stderr",
     "output_type": "stream",
     "text": [
      "\n"
     ]
    },
    {
     "name": "stdout",
     "output_type": "stream",
     "text": [
      "\n",
      "      Epoch    GPU_mem   box_loss   cls_loss   dfl_loss  Instances       Size\n"
     ]
    },
    {
     "name": "stderr",
     "output_type": "stream",
     "text": [
      "     34/100      13.1G     0.6387     0.3629     0.8817        341        640: 100%|██████████| 46/46 [01:05<00:00,  1.43s/it]\n",
      "                 Class     Images  Instances      Box(P          R      mAP50  mAP50-95): 100%|██████████| 6/6 [00:04<00:00,  1.23it/s]"
     ]
    },
    {
     "name": "stdout",
     "output_type": "stream",
     "text": [
      "                   all        185       1980       0.73      0.667      0.736      0.492\n"
     ]
    },
    {
     "name": "stderr",
     "output_type": "stream",
     "text": [
      "\n"
     ]
    },
    {
     "name": "stdout",
     "output_type": "stream",
     "text": [
      "\n",
      "      Epoch    GPU_mem   box_loss   cls_loss   dfl_loss  Instances       Size\n"
     ]
    },
    {
     "name": "stderr",
     "output_type": "stream",
     "text": [
      "     35/100      13.3G      0.631     0.3623     0.8803        336        640: 100%|██████████| 46/46 [01:06<00:00,  1.44s/it]\n",
      "                 Class     Images  Instances      Box(P          R      mAP50  mAP50-95): 100%|██████████| 6/6 [00:04<00:00,  1.23it/s]"
     ]
    },
    {
     "name": "stdout",
     "output_type": "stream",
     "text": [
      "                   all        185       1980      0.721      0.692      0.734      0.482\n"
     ]
    },
    {
     "name": "stderr",
     "output_type": "stream",
     "text": [
      "\n"
     ]
    },
    {
     "name": "stdout",
     "output_type": "stream",
     "text": [
      "\n",
      "      Epoch    GPU_mem   box_loss   cls_loss   dfl_loss  Instances       Size\n"
     ]
    },
    {
     "name": "stderr",
     "output_type": "stream",
     "text": [
      "     36/100        13G     0.6262     0.3627     0.8756        344        640: 100%|██████████| 46/46 [01:05<00:00,  1.43s/it]\n",
      "                 Class     Images  Instances      Box(P          R      mAP50  mAP50-95): 100%|██████████| 6/6 [00:04<00:00,  1.22it/s]"
     ]
    },
    {
     "name": "stdout",
     "output_type": "stream",
     "text": [
      "                   all        185       1980      0.721      0.682      0.739      0.493\n"
     ]
    },
    {
     "name": "stderr",
     "output_type": "stream",
     "text": [
      "\n"
     ]
    },
    {
     "name": "stdout",
     "output_type": "stream",
     "text": [
      "\n",
      "      Epoch    GPU_mem   box_loss   cls_loss   dfl_loss  Instances       Size\n"
     ]
    },
    {
     "name": "stderr",
     "output_type": "stream",
     "text": [
      "     37/100      13.2G      0.621     0.3502     0.8783        318        640: 100%|██████████| 46/46 [01:05<00:00,  1.43s/it]\n",
      "                 Class     Images  Instances      Box(P          R      mAP50  mAP50-95): 100%|██████████| 6/6 [00:04<00:00,  1.22it/s]"
     ]
    },
    {
     "name": "stdout",
     "output_type": "stream",
     "text": [
      "                   all        185       1980       0.71      0.688      0.734      0.493\n"
     ]
    },
    {
     "name": "stderr",
     "output_type": "stream",
     "text": [
      "\n"
     ]
    },
    {
     "name": "stdout",
     "output_type": "stream",
     "text": [
      "\n",
      "      Epoch    GPU_mem   box_loss   cls_loss   dfl_loss  Instances       Size\n"
     ]
    },
    {
     "name": "stderr",
     "output_type": "stream",
     "text": [
      "     38/100      13.1G     0.6135     0.3502     0.8688        389        640: 100%|██████████| 46/46 [01:05<00:00,  1.42s/it]\n",
      "                 Class     Images  Instances      Box(P          R      mAP50  mAP50-95): 100%|██████████| 6/6 [00:04<00:00,  1.21it/s]"
     ]
    },
    {
     "name": "stdout",
     "output_type": "stream",
     "text": [
      "                   all        185       1980      0.791      0.674      0.753      0.503\n"
     ]
    },
    {
     "name": "stderr",
     "output_type": "stream",
     "text": [
      "\n"
     ]
    },
    {
     "name": "stdout",
     "output_type": "stream",
     "text": [
      "\n",
      "      Epoch    GPU_mem   box_loss   cls_loss   dfl_loss  Instances       Size\n"
     ]
    },
    {
     "name": "stderr",
     "output_type": "stream",
     "text": [
      "     39/100      13.3G      0.616     0.3496     0.8724        357        640: 100%|██████████| 46/46 [01:06<00:00,  1.44s/it]\n",
      "                 Class     Images  Instances      Box(P          R      mAP50  mAP50-95): 100%|██████████| 6/6 [00:04<00:00,  1.22it/s]"
     ]
    },
    {
     "name": "stdout",
     "output_type": "stream",
     "text": [
      "                   all        185       1980      0.767      0.682      0.743      0.494\n"
     ]
    },
    {
     "name": "stderr",
     "output_type": "stream",
     "text": [
      "\n"
     ]
    },
    {
     "name": "stdout",
     "output_type": "stream",
     "text": [
      "\n",
      "      Epoch    GPU_mem   box_loss   cls_loss   dfl_loss  Instances       Size\n"
     ]
    },
    {
     "name": "stderr",
     "output_type": "stream",
     "text": [
      "     40/100      12.6G     0.6098      0.344     0.8739        416        640: 100%|██████████| 46/46 [01:06<00:00,  1.44s/it]\n",
      "                 Class     Images  Instances      Box(P          R      mAP50  mAP50-95): 100%|██████████| 6/6 [00:04<00:00,  1.27it/s]"
     ]
    },
    {
     "name": "stdout",
     "output_type": "stream",
     "text": [
      "                   all        185       1980      0.715      0.713      0.751      0.499\n"
     ]
    },
    {
     "name": "stderr",
     "output_type": "stream",
     "text": [
      "\n"
     ]
    },
    {
     "name": "stdout",
     "output_type": "stream",
     "text": [
      "\n",
      "      Epoch    GPU_mem   box_loss   cls_loss   dfl_loss  Instances       Size\n"
     ]
    },
    {
     "name": "stderr",
     "output_type": "stream",
     "text": [
      "     41/100      13.4G     0.5942     0.3328     0.8687        379        640: 100%|██████████| 46/46 [01:05<00:00,  1.43s/it]\n",
      "                 Class     Images  Instances      Box(P          R      mAP50  mAP50-95): 100%|██████████| 6/6 [00:04<00:00,  1.23it/s]"
     ]
    },
    {
     "name": "stdout",
     "output_type": "stream",
     "text": [
      "                   all        185       1980      0.659      0.723      0.754      0.508\n"
     ]
    },
    {
     "name": "stderr",
     "output_type": "stream",
     "text": [
      "\n"
     ]
    },
    {
     "name": "stdout",
     "output_type": "stream",
     "text": [
      "\n",
      "      Epoch    GPU_mem   box_loss   cls_loss   dfl_loss  Instances       Size\n"
     ]
    },
    {
     "name": "stderr",
     "output_type": "stream",
     "text": [
      "     42/100      12.9G     0.5971     0.3365     0.8718        304        640: 100%|██████████| 46/46 [01:06<00:00,  1.44s/it]\n",
      "                 Class     Images  Instances      Box(P          R      mAP50  mAP50-95): 100%|██████████| 6/6 [00:04<00:00,  1.23it/s]"
     ]
    },
    {
     "name": "stdout",
     "output_type": "stream",
     "text": [
      "                   all        185       1980      0.737       0.66      0.736      0.494\n"
     ]
    },
    {
     "name": "stderr",
     "output_type": "stream",
     "text": [
      "\n"
     ]
    },
    {
     "name": "stdout",
     "output_type": "stream",
     "text": [
      "\n",
      "      Epoch    GPU_mem   box_loss   cls_loss   dfl_loss  Instances       Size\n"
     ]
    },
    {
     "name": "stderr",
     "output_type": "stream",
     "text": [
      "     43/100      13.3G     0.5921      0.336     0.8667        357        640: 100%|██████████| 46/46 [01:05<00:00,  1.43s/it]\n",
      "                 Class     Images  Instances      Box(P          R      mAP50  mAP50-95): 100%|██████████| 6/6 [00:04<00:00,  1.23it/s]"
     ]
    },
    {
     "name": "stdout",
     "output_type": "stream",
     "text": [
      "                   all        185       1980       0.74      0.713      0.765      0.511\n"
     ]
    },
    {
     "name": "stderr",
     "output_type": "stream",
     "text": [
      "\n"
     ]
    },
    {
     "name": "stdout",
     "output_type": "stream",
     "text": [
      "\n",
      "      Epoch    GPU_mem   box_loss   cls_loss   dfl_loss  Instances       Size\n"
     ]
    },
    {
     "name": "stderr",
     "output_type": "stream",
     "text": [
      "     44/100      12.9G     0.5801     0.3252     0.8603        433        640: 100%|██████████| 46/46 [01:06<00:00,  1.44s/it]\n",
      "                 Class     Images  Instances      Box(P          R      mAP50  mAP50-95): 100%|██████████| 6/6 [00:04<00:00,  1.24it/s]"
     ]
    },
    {
     "name": "stdout",
     "output_type": "stream",
     "text": [
      "                   all        185       1980      0.736        0.7      0.767      0.516\n"
     ]
    },
    {
     "name": "stderr",
     "output_type": "stream",
     "text": [
      "\n"
     ]
    },
    {
     "name": "stdout",
     "output_type": "stream",
     "text": [
      "\n",
      "      Epoch    GPU_mem   box_loss   cls_loss   dfl_loss  Instances       Size\n"
     ]
    },
    {
     "name": "stderr",
     "output_type": "stream",
     "text": [
      "     45/100      13.4G     0.5827     0.3262      0.862        420        640: 100%|██████████| 46/46 [01:05<00:00,  1.43s/it]\n",
      "                 Class     Images  Instances      Box(P          R      mAP50  mAP50-95): 100%|██████████| 6/6 [00:04<00:00,  1.22it/s]"
     ]
    },
    {
     "name": "stdout",
     "output_type": "stream",
     "text": [
      "                   all        185       1980      0.708      0.698      0.746      0.499\n"
     ]
    },
    {
     "name": "stderr",
     "output_type": "stream",
     "text": [
      "\n"
     ]
    },
    {
     "name": "stdout",
     "output_type": "stream",
     "text": [
      "\n",
      "      Epoch    GPU_mem   box_loss   cls_loss   dfl_loss  Instances       Size\n"
     ]
    },
    {
     "name": "stderr",
     "output_type": "stream",
     "text": [
      "     46/100      13.1G     0.5752     0.3233     0.8626        502        640: 100%|██████████| 46/46 [01:06<00:00,  1.44s/it]\n",
      "                 Class     Images  Instances      Box(P          R      mAP50  mAP50-95): 100%|██████████| 6/6 [00:04<00:00,  1.22it/s]"
     ]
    },
    {
     "name": "stdout",
     "output_type": "stream",
     "text": [
      "                   all        185       1980      0.722      0.726      0.763      0.524\n"
     ]
    },
    {
     "name": "stderr",
     "output_type": "stream",
     "text": [
      "\n"
     ]
    },
    {
     "name": "stdout",
     "output_type": "stream",
     "text": [
      "\n",
      "      Epoch    GPU_mem   box_loss   cls_loss   dfl_loss  Instances       Size\n"
     ]
    },
    {
     "name": "stderr",
     "output_type": "stream",
     "text": [
      "     47/100      13.3G     0.5761     0.3238     0.8644        395        640: 100%|██████████| 46/46 [01:06<00:00,  1.44s/it]\n",
      "                 Class     Images  Instances      Box(P          R      mAP50  mAP50-95): 100%|██████████| 6/6 [00:04<00:00,  1.22it/s]"
     ]
    },
    {
     "name": "stdout",
     "output_type": "stream",
     "text": [
      "                   all        185       1980      0.767      0.705      0.763      0.515\n"
     ]
    },
    {
     "name": "stderr",
     "output_type": "stream",
     "text": [
      "\n"
     ]
    },
    {
     "name": "stdout",
     "output_type": "stream",
     "text": [
      "\n",
      "      Epoch    GPU_mem   box_loss   cls_loss   dfl_loss  Instances       Size\n"
     ]
    },
    {
     "name": "stderr",
     "output_type": "stream",
     "text": [
      "     48/100        13G     0.5712      0.322     0.8613        338        640: 100%|██████████| 46/46 [01:05<00:00,  1.43s/it]\n",
      "                 Class     Images  Instances      Box(P          R      mAP50  mAP50-95): 100%|██████████| 6/6 [00:04<00:00,  1.22it/s]"
     ]
    },
    {
     "name": "stdout",
     "output_type": "stream",
     "text": [
      "                   all        185       1980      0.775      0.681      0.764      0.522\n"
     ]
    },
    {
     "name": "stderr",
     "output_type": "stream",
     "text": [
      "\n"
     ]
    },
    {
     "name": "stdout",
     "output_type": "stream",
     "text": [
      "\n",
      "      Epoch    GPU_mem   box_loss   cls_loss   dfl_loss  Instances       Size\n"
     ]
    },
    {
     "name": "stderr",
     "output_type": "stream",
     "text": [
      "     49/100      13.3G     0.5652     0.3163     0.8585        414        640: 100%|██████████| 46/46 [01:05<00:00,  1.43s/it]\n",
      "                 Class     Images  Instances      Box(P          R      mAP50  mAP50-95): 100%|██████████| 6/6 [00:04<00:00,  1.21it/s]"
     ]
    },
    {
     "name": "stdout",
     "output_type": "stream",
     "text": [
      "                   all        185       1980      0.799      0.688      0.789      0.525\n"
     ]
    },
    {
     "name": "stderr",
     "output_type": "stream",
     "text": [
      "\n"
     ]
    },
    {
     "name": "stdout",
     "output_type": "stream",
     "text": [
      "\n",
      "      Epoch    GPU_mem   box_loss   cls_loss   dfl_loss  Instances       Size\n"
     ]
    },
    {
     "name": "stderr",
     "output_type": "stream",
     "text": [
      "     50/100      13.1G     0.5612     0.3153     0.8599        507        640: 100%|██████████| 46/46 [01:06<00:00,  1.44s/it]\n",
      "                 Class     Images  Instances      Box(P          R      mAP50  mAP50-95): 100%|██████████| 6/6 [00:04<00:00,  1.21it/s]"
     ]
    },
    {
     "name": "stdout",
     "output_type": "stream",
     "text": [
      "                   all        185       1980      0.709      0.741      0.752      0.506\n"
     ]
    },
    {
     "name": "stderr",
     "output_type": "stream",
     "text": [
      "\n"
     ]
    },
    {
     "name": "stdout",
     "output_type": "stream",
     "text": [
      "\n",
      "      Epoch    GPU_mem   box_loss   cls_loss   dfl_loss  Instances       Size\n"
     ]
    },
    {
     "name": "stderr",
     "output_type": "stream",
     "text": [
      "     51/100      13.3G     0.5637      0.317      0.858        431        640: 100%|██████████| 46/46 [01:06<00:00,  1.44s/it]\n",
      "                 Class     Images  Instances      Box(P          R      mAP50  mAP50-95): 100%|██████████| 6/6 [00:04<00:00,  1.21it/s]"
     ]
    },
    {
     "name": "stdout",
     "output_type": "stream",
     "text": [
      "                   all        185       1980      0.781      0.712      0.782      0.531\n"
     ]
    },
    {
     "name": "stderr",
     "output_type": "stream",
     "text": [
      "\n"
     ]
    },
    {
     "name": "stdout",
     "output_type": "stream",
     "text": [
      "\n",
      "      Epoch    GPU_mem   box_loss   cls_loss   dfl_loss  Instances       Size\n"
     ]
    },
    {
     "name": "stderr",
     "output_type": "stream",
     "text": [
      "     52/100      13.1G     0.5539     0.3087     0.8513        444        640: 100%|██████████| 46/46 [01:05<00:00,  1.43s/it]\n",
      "                 Class     Images  Instances      Box(P          R      mAP50  mAP50-95): 100%|██████████| 6/6 [00:04<00:00,  1.22it/s]"
     ]
    },
    {
     "name": "stdout",
     "output_type": "stream",
     "text": [
      "                   all        185       1980       0.75      0.715      0.771      0.525\n"
     ]
    },
    {
     "name": "stderr",
     "output_type": "stream",
     "text": [
      "\n"
     ]
    },
    {
     "name": "stdout",
     "output_type": "stream",
     "text": [
      "\n",
      "      Epoch    GPU_mem   box_loss   cls_loss   dfl_loss  Instances       Size\n"
     ]
    },
    {
     "name": "stderr",
     "output_type": "stream",
     "text": [
      "     53/100      13.3G     0.5548     0.3041     0.8554        471        640: 100%|██████████| 46/46 [01:05<00:00,  1.43s/it]\n",
      "                 Class     Images  Instances      Box(P          R      mAP50  mAP50-95): 100%|██████████| 6/6 [00:04<00:00,  1.21it/s]"
     ]
    },
    {
     "name": "stdout",
     "output_type": "stream",
     "text": [
      "                   all        185       1980      0.724      0.708      0.759      0.516\n"
     ]
    },
    {
     "name": "stderr",
     "output_type": "stream",
     "text": [
      "\n"
     ]
    },
    {
     "name": "stdout",
     "output_type": "stream",
     "text": [
      "\n",
      "      Epoch    GPU_mem   box_loss   cls_loss   dfl_loss  Instances       Size\n"
     ]
    },
    {
     "name": "stderr",
     "output_type": "stream",
     "text": [
      "     54/100        13G      0.544     0.3036     0.8567        458        640: 100%|██████████| 46/46 [01:05<00:00,  1.42s/it]\n",
      "                 Class     Images  Instances      Box(P          R      mAP50  mAP50-95): 100%|██████████| 6/6 [00:04<00:00,  1.23it/s]"
     ]
    },
    {
     "name": "stdout",
     "output_type": "stream",
     "text": [
      "                   all        185       1980      0.753       0.71      0.774      0.525\n"
     ]
    },
    {
     "name": "stderr",
     "output_type": "stream",
     "text": [
      "\n"
     ]
    },
    {
     "name": "stdout",
     "output_type": "stream",
     "text": [
      "\n",
      "      Epoch    GPU_mem   box_loss   cls_loss   dfl_loss  Instances       Size\n"
     ]
    },
    {
     "name": "stderr",
     "output_type": "stream",
     "text": [
      "     55/100      13.4G     0.5377      0.297     0.8517        559        640: 100%|██████████| 46/46 [01:06<00:00,  1.44s/it]\n",
      "                 Class     Images  Instances      Box(P          R      mAP50  mAP50-95): 100%|██████████| 6/6 [00:04<00:00,  1.23it/s]"
     ]
    },
    {
     "name": "stdout",
     "output_type": "stream",
     "text": [
      "                   all        185       1980      0.706      0.744      0.786      0.537\n"
     ]
    },
    {
     "name": "stderr",
     "output_type": "stream",
     "text": [
      "\n"
     ]
    },
    {
     "name": "stdout",
     "output_type": "stream",
     "text": [
      "\n",
      "      Epoch    GPU_mem   box_loss   cls_loss   dfl_loss  Instances       Size\n"
     ]
    },
    {
     "name": "stderr",
     "output_type": "stream",
     "text": [
      "     56/100      13.1G     0.5454     0.3048     0.8544        326        640: 100%|██████████| 46/46 [01:06<00:00,  1.44s/it]\n",
      "                 Class     Images  Instances      Box(P          R      mAP50  mAP50-95): 100%|██████████| 6/6 [00:04<00:00,  1.21it/s]"
     ]
    },
    {
     "name": "stdout",
     "output_type": "stream",
     "text": [
      "                   all        185       1980       0.79      0.717      0.796      0.542\n"
     ]
    },
    {
     "name": "stderr",
     "output_type": "stream",
     "text": [
      "\n"
     ]
    },
    {
     "name": "stdout",
     "output_type": "stream",
     "text": [
      "\n",
      "      Epoch    GPU_mem   box_loss   cls_loss   dfl_loss  Instances       Size\n"
     ]
    },
    {
     "name": "stderr",
     "output_type": "stream",
     "text": [
      "     57/100      13.4G     0.5326     0.2964     0.8493        452        640: 100%|██████████| 46/46 [01:05<00:00,  1.43s/it]\n",
      "                 Class     Images  Instances      Box(P          R      mAP50  mAP50-95): 100%|██████████| 6/6 [00:04<00:00,  1.21it/s]"
     ]
    },
    {
     "name": "stdout",
     "output_type": "stream",
     "text": [
      "                   all        185       1980      0.767      0.707       0.77      0.526\n"
     ]
    },
    {
     "name": "stderr",
     "output_type": "stream",
     "text": [
      "\n"
     ]
    },
    {
     "name": "stdout",
     "output_type": "stream",
     "text": [
      "\n",
      "      Epoch    GPU_mem   box_loss   cls_loss   dfl_loss  Instances       Size\n"
     ]
    },
    {
     "name": "stderr",
     "output_type": "stream",
     "text": [
      "     58/100      13.1G     0.5336     0.2963     0.8545        433        640: 100%|██████████| 46/46 [01:05<00:00,  1.43s/it]\n",
      "                 Class     Images  Instances      Box(P          R      mAP50  mAP50-95): 100%|██████████| 6/6 [00:04<00:00,  1.21it/s]"
     ]
    },
    {
     "name": "stdout",
     "output_type": "stream",
     "text": [
      "                   all        185       1980      0.722      0.693      0.757      0.521\n"
     ]
    },
    {
     "name": "stderr",
     "output_type": "stream",
     "text": [
      "\n"
     ]
    },
    {
     "name": "stdout",
     "output_type": "stream",
     "text": [
      "\n",
      "      Epoch    GPU_mem   box_loss   cls_loss   dfl_loss  Instances       Size\n"
     ]
    },
    {
     "name": "stderr",
     "output_type": "stream",
     "text": [
      "     59/100      13.2G     0.5309      0.295     0.8533        321        640: 100%|██████████| 46/46 [01:05<00:00,  1.43s/it]\n",
      "                 Class     Images  Instances      Box(P          R      mAP50  mAP50-95): 100%|██████████| 6/6 [00:04<00:00,  1.20it/s]"
     ]
    },
    {
     "name": "stdout",
     "output_type": "stream",
     "text": [
      "                   all        185       1980      0.797      0.676      0.774      0.529\n"
     ]
    },
    {
     "name": "stderr",
     "output_type": "stream",
     "text": [
      "\n"
     ]
    },
    {
     "name": "stdout",
     "output_type": "stream",
     "text": [
      "\n",
      "      Epoch    GPU_mem   box_loss   cls_loss   dfl_loss  Instances       Size\n"
     ]
    },
    {
     "name": "stderr",
     "output_type": "stream",
     "text": [
      "     60/100      13.1G     0.5244     0.2951     0.8484        448        640: 100%|██████████| 46/46 [01:05<00:00,  1.43s/it]\n",
      "                 Class     Images  Instances      Box(P          R      mAP50  mAP50-95): 100%|██████████| 6/6 [00:04<00:00,  1.22it/s]"
     ]
    },
    {
     "name": "stdout",
     "output_type": "stream",
     "text": [
      "                   all        185       1980      0.739      0.713      0.776      0.525\n"
     ]
    },
    {
     "name": "stderr",
     "output_type": "stream",
     "text": [
      "\n"
     ]
    },
    {
     "name": "stdout",
     "output_type": "stream",
     "text": [
      "\n",
      "      Epoch    GPU_mem   box_loss   cls_loss   dfl_loss  Instances       Size\n"
     ]
    },
    {
     "name": "stderr",
     "output_type": "stream",
     "text": [
      "     61/100      13.3G     0.5232     0.2929     0.8474        526        640: 100%|██████████| 46/46 [01:05<00:00,  1.43s/it]\n",
      "                 Class     Images  Instances      Box(P          R      mAP50  mAP50-95): 100%|██████████| 6/6 [00:04<00:00,  1.21it/s]"
     ]
    },
    {
     "name": "stdout",
     "output_type": "stream",
     "text": [
      "                   all        185       1980      0.759      0.699      0.768      0.521\n"
     ]
    },
    {
     "name": "stderr",
     "output_type": "stream",
     "text": [
      "\n"
     ]
    },
    {
     "name": "stdout",
     "output_type": "stream",
     "text": [
      "\n",
      "      Epoch    GPU_mem   box_loss   cls_loss   dfl_loss  Instances       Size\n"
     ]
    },
    {
     "name": "stderr",
     "output_type": "stream",
     "text": [
      "     62/100        13G     0.5203     0.2889     0.8496        363        640: 100%|██████████| 46/46 [01:06<00:00,  1.44s/it]\n",
      "                 Class     Images  Instances      Box(P          R      mAP50  mAP50-95): 100%|██████████| 6/6 [00:04<00:00,  1.24it/s]"
     ]
    },
    {
     "name": "stdout",
     "output_type": "stream",
     "text": [
      "                   all        185       1980      0.713       0.74       0.78      0.529\n"
     ]
    },
    {
     "name": "stderr",
     "output_type": "stream",
     "text": [
      "\n"
     ]
    },
    {
     "name": "stdout",
     "output_type": "stream",
     "text": [
      "\n",
      "      Epoch    GPU_mem   box_loss   cls_loss   dfl_loss  Instances       Size\n"
     ]
    },
    {
     "name": "stderr",
     "output_type": "stream",
     "text": [
      "     63/100      13.3G     0.5119     0.2826     0.8474        411        640: 100%|██████████| 46/46 [01:05<00:00,  1.43s/it]\n",
      "                 Class     Images  Instances      Box(P          R      mAP50  mAP50-95): 100%|██████████| 6/6 [00:04<00:00,  1.23it/s]"
     ]
    },
    {
     "name": "stdout",
     "output_type": "stream",
     "text": [
      "                   all        185       1980       0.83      0.694       0.79      0.532\n"
     ]
    },
    {
     "name": "stderr",
     "output_type": "stream",
     "text": [
      "\n"
     ]
    },
    {
     "name": "stdout",
     "output_type": "stream",
     "text": [
      "\n",
      "      Epoch    GPU_mem   box_loss   cls_loss   dfl_loss  Instances       Size\n"
     ]
    },
    {
     "name": "stderr",
     "output_type": "stream",
     "text": [
      "     64/100      12.9G      0.511     0.2844     0.8426        418        640: 100%|██████████| 46/46 [01:05<00:00,  1.43s/it]\n",
      "                 Class     Images  Instances      Box(P          R      mAP50  mAP50-95): 100%|██████████| 6/6 [00:04<00:00,  1.23it/s]"
     ]
    },
    {
     "name": "stdout",
     "output_type": "stream",
     "text": [
      "                   all        185       1980      0.815      0.662       0.76      0.523\n"
     ]
    },
    {
     "name": "stderr",
     "output_type": "stream",
     "text": [
      "\n"
     ]
    },
    {
     "name": "stdout",
     "output_type": "stream",
     "text": [
      "\n",
      "      Epoch    GPU_mem   box_loss   cls_loss   dfl_loss  Instances       Size\n"
     ]
    },
    {
     "name": "stderr",
     "output_type": "stream",
     "text": [
      "     65/100      13.2G     0.5132     0.2869     0.8438        520        640: 100%|██████████| 46/46 [01:06<00:00,  1.44s/it]\n",
      "                 Class     Images  Instances      Box(P          R      mAP50  mAP50-95): 100%|██████████| 6/6 [00:04<00:00,  1.22it/s]"
     ]
    },
    {
     "name": "stdout",
     "output_type": "stream",
     "text": [
      "                   all        185       1980      0.737      0.741      0.783      0.534\n"
     ]
    },
    {
     "name": "stderr",
     "output_type": "stream",
     "text": [
      "\n"
     ]
    },
    {
     "name": "stdout",
     "output_type": "stream",
     "text": [
      "\n",
      "      Epoch    GPU_mem   box_loss   cls_loss   dfl_loss  Instances       Size\n"
     ]
    },
    {
     "name": "stderr",
     "output_type": "stream",
     "text": [
      "     66/100      13.2G     0.5071     0.2807     0.8438        405        640: 100%|██████████| 46/46 [01:05<00:00,  1.43s/it]\n",
      "                 Class     Images  Instances      Box(P          R      mAP50  mAP50-95): 100%|██████████| 6/6 [00:04<00:00,  1.22it/s]"
     ]
    },
    {
     "name": "stdout",
     "output_type": "stream",
     "text": [
      "                   all        185       1980      0.758      0.751      0.805      0.542\n"
     ]
    },
    {
     "name": "stderr",
     "output_type": "stream",
     "text": [
      "\n"
     ]
    },
    {
     "name": "stdout",
     "output_type": "stream",
     "text": [
      "\n",
      "      Epoch    GPU_mem   box_loss   cls_loss   dfl_loss  Instances       Size\n"
     ]
    },
    {
     "name": "stderr",
     "output_type": "stream",
     "text": [
      "     67/100      13.3G     0.4981     0.2757     0.8403        487        640: 100%|██████████| 46/46 [01:05<00:00,  1.43s/it]\n",
      "                 Class     Images  Instances      Box(P          R      mAP50  mAP50-95): 100%|██████████| 6/6 [00:04<00:00,  1.24it/s]"
     ]
    },
    {
     "name": "stdout",
     "output_type": "stream",
     "text": [
      "                   all        185       1980      0.781      0.747      0.805      0.547\n"
     ]
    },
    {
     "name": "stderr",
     "output_type": "stream",
     "text": [
      "\n"
     ]
    },
    {
     "name": "stdout",
     "output_type": "stream",
     "text": [
      "\n",
      "      Epoch    GPU_mem   box_loss   cls_loss   dfl_loss  Instances       Size\n"
     ]
    },
    {
     "name": "stderr",
     "output_type": "stream",
     "text": [
      "     68/100        13G      0.495     0.2705     0.8404        380        640: 100%|██████████| 46/46 [01:06<00:00,  1.44s/it]\n",
      "                 Class     Images  Instances      Box(P          R      mAP50  mAP50-95): 100%|██████████| 6/6 [00:04<00:00,  1.24it/s]"
     ]
    },
    {
     "name": "stdout",
     "output_type": "stream",
     "text": [
      "                   all        185       1980       0.76      0.756      0.796      0.547\n"
     ]
    },
    {
     "name": "stderr",
     "output_type": "stream",
     "text": [
      "\n"
     ]
    },
    {
     "name": "stdout",
     "output_type": "stream",
     "text": [
      "\n",
      "      Epoch    GPU_mem   box_loss   cls_loss   dfl_loss  Instances       Size\n"
     ]
    },
    {
     "name": "stderr",
     "output_type": "stream",
     "text": [
      "     69/100      13.3G     0.4931     0.2708     0.8409        490        640: 100%|██████████| 46/46 [01:06<00:00,  1.44s/it]\n",
      "                 Class     Images  Instances      Box(P          R      mAP50  mAP50-95): 100%|██████████| 6/6 [00:04<00:00,  1.22it/s]"
     ]
    },
    {
     "name": "stdout",
     "output_type": "stream",
     "text": [
      "                   all        185       1980      0.759      0.749      0.799      0.552\n"
     ]
    },
    {
     "name": "stderr",
     "output_type": "stream",
     "text": [
      "\n"
     ]
    },
    {
     "name": "stdout",
     "output_type": "stream",
     "text": [
      "\n",
      "      Epoch    GPU_mem   box_loss   cls_loss   dfl_loss  Instances       Size\n"
     ]
    },
    {
     "name": "stderr",
     "output_type": "stream",
     "text": [
      "     70/100        13G     0.4904     0.2703     0.8418        547        640: 100%|██████████| 46/46 [01:05<00:00,  1.43s/it]\n",
      "                 Class     Images  Instances      Box(P          R      mAP50  mAP50-95): 100%|██████████| 6/6 [00:04<00:00,  1.21it/s]"
     ]
    },
    {
     "name": "stdout",
     "output_type": "stream",
     "text": [
      "                   all        185       1980      0.778      0.732      0.804      0.547\n"
     ]
    },
    {
     "name": "stderr",
     "output_type": "stream",
     "text": [
      "\n"
     ]
    },
    {
     "name": "stdout",
     "output_type": "stream",
     "text": [
      "\n",
      "      Epoch    GPU_mem   box_loss   cls_loss   dfl_loss  Instances       Size\n"
     ]
    },
    {
     "name": "stderr",
     "output_type": "stream",
     "text": [
      "     71/100      13.4G     0.4871     0.2676     0.8413        460        640: 100%|██████████| 46/46 [01:05<00:00,  1.42s/it]\n",
      "                 Class     Images  Instances      Box(P          R      mAP50  mAP50-95): 100%|██████████| 6/6 [00:04<00:00,  1.21it/s]"
     ]
    },
    {
     "name": "stdout",
     "output_type": "stream",
     "text": [
      "                   all        185       1980       0.73       0.75      0.788      0.539\n"
     ]
    },
    {
     "name": "stderr",
     "output_type": "stream",
     "text": [
      "\n"
     ]
    },
    {
     "name": "stdout",
     "output_type": "stream",
     "text": [
      "\n",
      "      Epoch    GPU_mem   box_loss   cls_loss   dfl_loss  Instances       Size\n"
     ]
    },
    {
     "name": "stderr",
     "output_type": "stream",
     "text": [
      "     72/100      13.1G     0.4885     0.2691     0.8432        411        640: 100%|██████████| 46/46 [01:05<00:00,  1.43s/it]\n",
      "                 Class     Images  Instances      Box(P          R      mAP50  mAP50-95): 100%|██████████| 6/6 [00:04<00:00,  1.23it/s]"
     ]
    },
    {
     "name": "stdout",
     "output_type": "stream",
     "text": [
      "                   all        185       1980      0.731      0.753      0.801       0.55\n"
     ]
    },
    {
     "name": "stderr",
     "output_type": "stream",
     "text": [
      "\n"
     ]
    },
    {
     "name": "stdout",
     "output_type": "stream",
     "text": [
      "\n",
      "      Epoch    GPU_mem   box_loss   cls_loss   dfl_loss  Instances       Size\n"
     ]
    },
    {
     "name": "stderr",
     "output_type": "stream",
     "text": [
      "     73/100      13.3G     0.4758     0.2638      0.837        325        640: 100%|██████████| 46/46 [01:06<00:00,  1.44s/it]\n",
      "                 Class     Images  Instances      Box(P          R      mAP50  mAP50-95): 100%|██████████| 6/6 [00:04<00:00,  1.22it/s]"
     ]
    },
    {
     "name": "stdout",
     "output_type": "stream",
     "text": [
      "                   all        185       1980      0.748      0.755       0.79      0.546\n"
     ]
    },
    {
     "name": "stderr",
     "output_type": "stream",
     "text": [
      "\n"
     ]
    },
    {
     "name": "stdout",
     "output_type": "stream",
     "text": [
      "\n",
      "      Epoch    GPU_mem   box_loss   cls_loss   dfl_loss  Instances       Size\n"
     ]
    },
    {
     "name": "stderr",
     "output_type": "stream",
     "text": [
      "     74/100      13.1G     0.4764     0.2612     0.8392        381        640: 100%|██████████| 46/46 [01:05<00:00,  1.42s/it]\n",
      "                 Class     Images  Instances      Box(P          R      mAP50  mAP50-95): 100%|██████████| 6/6 [00:04<00:00,  1.24it/s]"
     ]
    },
    {
     "name": "stdout",
     "output_type": "stream",
     "text": [
      "                   all        185       1980      0.715      0.746      0.788      0.534\n"
     ]
    },
    {
     "name": "stderr",
     "output_type": "stream",
     "text": [
      "\n"
     ]
    },
    {
     "name": "stdout",
     "output_type": "stream",
     "text": [
      "\n",
      "      Epoch    GPU_mem   box_loss   cls_loss   dfl_loss  Instances       Size\n"
     ]
    },
    {
     "name": "stderr",
     "output_type": "stream",
     "text": [
      "     75/100      13.3G     0.4718     0.2603      0.838        470        640: 100%|██████████| 46/46 [01:06<00:00,  1.43s/it]\n",
      "                 Class     Images  Instances      Box(P          R      mAP50  mAP50-95): 100%|██████████| 6/6 [00:04<00:00,  1.24it/s]"
     ]
    },
    {
     "name": "stdout",
     "output_type": "stream",
     "text": [
      "                   all        185       1980      0.777      0.759       0.81      0.547\n"
     ]
    },
    {
     "name": "stderr",
     "output_type": "stream",
     "text": [
      "\n"
     ]
    },
    {
     "name": "stdout",
     "output_type": "stream",
     "text": [
      "\n",
      "      Epoch    GPU_mem   box_loss   cls_loss   dfl_loss  Instances       Size\n"
     ]
    },
    {
     "name": "stderr",
     "output_type": "stream",
     "text": [
      "     76/100      13.1G     0.4586     0.2534     0.8348        508        640: 100%|██████████| 46/46 [01:05<00:00,  1.43s/it]\n",
      "                 Class     Images  Instances      Box(P          R      mAP50  mAP50-95): 100%|██████████| 6/6 [00:04<00:00,  1.23it/s]"
     ]
    },
    {
     "name": "stdout",
     "output_type": "stream",
     "text": [
      "                   all        185       1980      0.814      0.706      0.803      0.542\n"
     ]
    },
    {
     "name": "stderr",
     "output_type": "stream",
     "text": [
      "\n"
     ]
    },
    {
     "name": "stdout",
     "output_type": "stream",
     "text": [
      "\n",
      "      Epoch    GPU_mem   box_loss   cls_loss   dfl_loss  Instances       Size\n"
     ]
    },
    {
     "name": "stderr",
     "output_type": "stream",
     "text": [
      "     77/100      13.4G     0.4602     0.2508     0.8335        336        640: 100%|██████████| 46/46 [01:05<00:00,  1.43s/it]\n",
      "                 Class     Images  Instances      Box(P          R      mAP50  mAP50-95): 100%|██████████| 6/6 [00:04<00:00,  1.22it/s]"
     ]
    },
    {
     "name": "stdout",
     "output_type": "stream",
     "text": [
      "                   all        185       1980      0.693      0.788      0.801      0.546\n"
     ]
    },
    {
     "name": "stderr",
     "output_type": "stream",
     "text": [
      "\n"
     ]
    },
    {
     "name": "stdout",
     "output_type": "stream",
     "text": [
      "\n",
      "      Epoch    GPU_mem   box_loss   cls_loss   dfl_loss  Instances       Size\n"
     ]
    },
    {
     "name": "stderr",
     "output_type": "stream",
     "text": [
      "     78/100      13.1G     0.4545     0.2513     0.8297        492        640: 100%|██████████| 46/46 [01:05<00:00,  1.43s/it]\n",
      "                 Class     Images  Instances      Box(P          R      mAP50  mAP50-95): 100%|██████████| 6/6 [00:04<00:00,  1.23it/s]"
     ]
    },
    {
     "name": "stdout",
     "output_type": "stream",
     "text": [
      "                   all        185       1980      0.795      0.743      0.804      0.553\n"
     ]
    },
    {
     "name": "stderr",
     "output_type": "stream",
     "text": [
      "\n"
     ]
    },
    {
     "name": "stdout",
     "output_type": "stream",
     "text": [
      "\n",
      "      Epoch    GPU_mem   box_loss   cls_loss   dfl_loss  Instances       Size\n"
     ]
    },
    {
     "name": "stderr",
     "output_type": "stream",
     "text": [
      "     79/100      13.4G     0.4596     0.2512     0.8291        592        640: 100%|██████████| 46/46 [01:05<00:00,  1.43s/it]\n",
      "                 Class     Images  Instances      Box(P          R      mAP50  mAP50-95): 100%|██████████| 6/6 [00:04<00:00,  1.23it/s]"
     ]
    },
    {
     "name": "stdout",
     "output_type": "stream",
     "text": [
      "                   all        185       1980      0.798      0.706      0.795      0.546\n"
     ]
    },
    {
     "name": "stderr",
     "output_type": "stream",
     "text": [
      "\n"
     ]
    },
    {
     "name": "stdout",
     "output_type": "stream",
     "text": [
      "\n",
      "      Epoch    GPU_mem   box_loss   cls_loss   dfl_loss  Instances       Size\n"
     ]
    },
    {
     "name": "stderr",
     "output_type": "stream",
     "text": [
      "     80/100      13.1G     0.4517     0.2495     0.8332        463        640: 100%|██████████| 46/46 [01:05<00:00,  1.43s/it]\n",
      "                 Class     Images  Instances      Box(P          R      mAP50  mAP50-95): 100%|██████████| 6/6 [00:04<00:00,  1.21it/s]"
     ]
    },
    {
     "name": "stdout",
     "output_type": "stream",
     "text": [
      "                   all        185       1980      0.776      0.739      0.794      0.546\n"
     ]
    },
    {
     "name": "stderr",
     "output_type": "stream",
     "text": [
      "\n"
     ]
    },
    {
     "name": "stdout",
     "output_type": "stream",
     "text": [
      "\n",
      "      Epoch    GPU_mem   box_loss   cls_loss   dfl_loss  Instances       Size\n"
     ]
    },
    {
     "name": "stderr",
     "output_type": "stream",
     "text": [
      "     81/100      13.3G     0.4565     0.2498     0.8346        462        640: 100%|██████████| 46/46 [01:05<00:00,  1.43s/it]\n",
      "                 Class     Images  Instances      Box(P          R      mAP50  mAP50-95): 100%|██████████| 6/6 [00:04<00:00,  1.20it/s]"
     ]
    },
    {
     "name": "stdout",
     "output_type": "stream",
     "text": [
      "                   all        185       1980       0.77       0.77      0.812      0.562\n"
     ]
    },
    {
     "name": "stderr",
     "output_type": "stream",
     "text": [
      "\n"
     ]
    },
    {
     "name": "stdout",
     "output_type": "stream",
     "text": [
      "\n",
      "      Epoch    GPU_mem   box_loss   cls_loss   dfl_loss  Instances       Size\n"
     ]
    },
    {
     "name": "stderr",
     "output_type": "stream",
     "text": [
      "     82/100        13G     0.4505     0.2459     0.8328        400        640: 100%|██████████| 46/46 [01:05<00:00,  1.43s/it]\n",
      "                 Class     Images  Instances      Box(P          R      mAP50  mAP50-95): 100%|██████████| 6/6 [00:04<00:00,  1.22it/s]"
     ]
    },
    {
     "name": "stdout",
     "output_type": "stream",
     "text": [
      "                   all        185       1980       0.78      0.761      0.812      0.563\n"
     ]
    },
    {
     "name": "stderr",
     "output_type": "stream",
     "text": [
      "\n"
     ]
    },
    {
     "name": "stdout",
     "output_type": "stream",
     "text": [
      "\n",
      "      Epoch    GPU_mem   box_loss   cls_loss   dfl_loss  Instances       Size\n"
     ]
    },
    {
     "name": "stderr",
     "output_type": "stream",
     "text": [
      "     83/100      13.3G     0.4489     0.2462     0.8319        432        640: 100%|██████████| 46/46 [01:05<00:00,  1.43s/it]\n",
      "                 Class     Images  Instances      Box(P          R      mAP50  mAP50-95): 100%|██████████| 6/6 [00:04<00:00,  1.24it/s]"
     ]
    },
    {
     "name": "stdout",
     "output_type": "stream",
     "text": [
      "                   all        185       1980      0.767      0.761      0.807      0.556\n"
     ]
    },
    {
     "name": "stderr",
     "output_type": "stream",
     "text": [
      "\n"
     ]
    },
    {
     "name": "stdout",
     "output_type": "stream",
     "text": [
      "\n",
      "      Epoch    GPU_mem   box_loss   cls_loss   dfl_loss  Instances       Size\n"
     ]
    },
    {
     "name": "stderr",
     "output_type": "stream",
     "text": [
      "     84/100      12.9G     0.4383      0.241     0.8317        451        640: 100%|██████████| 46/46 [01:05<00:00,  1.43s/it]\n",
      "                 Class     Images  Instances      Box(P          R      mAP50  mAP50-95): 100%|██████████| 6/6 [00:04<00:00,  1.23it/s]"
     ]
    },
    {
     "name": "stdout",
     "output_type": "stream",
     "text": [
      "                   all        185       1980      0.762      0.763        0.8       0.55\n"
     ]
    },
    {
     "name": "stderr",
     "output_type": "stream",
     "text": [
      "\n"
     ]
    },
    {
     "name": "stdout",
     "output_type": "stream",
     "text": [
      "\n",
      "      Epoch    GPU_mem   box_loss   cls_loss   dfl_loss  Instances       Size\n"
     ]
    },
    {
     "name": "stderr",
     "output_type": "stream",
     "text": [
      "     85/100      13.4G     0.4389     0.2406     0.8272        375        640: 100%|██████████| 46/46 [01:05<00:00,  1.43s/it]\n",
      "                 Class     Images  Instances      Box(P          R      mAP50  mAP50-95): 100%|██████████| 6/6 [00:04<00:00,  1.22it/s]"
     ]
    },
    {
     "name": "stdout",
     "output_type": "stream",
     "text": [
      "                   all        185       1980      0.778      0.747      0.801      0.554\n"
     ]
    },
    {
     "name": "stderr",
     "output_type": "stream",
     "text": [
      "\n"
     ]
    },
    {
     "name": "stdout",
     "output_type": "stream",
     "text": [
      "\n",
      "      Epoch    GPU_mem   box_loss   cls_loss   dfl_loss  Instances       Size\n"
     ]
    },
    {
     "name": "stderr",
     "output_type": "stream",
     "text": [
      "     86/100        13G      0.439     0.2381     0.8286        499        640: 100%|██████████| 46/46 [01:05<00:00,  1.43s/it]\n",
      "                 Class     Images  Instances      Box(P          R      mAP50  mAP50-95): 100%|██████████| 6/6 [00:04<00:00,  1.24it/s]"
     ]
    },
    {
     "name": "stdout",
     "output_type": "stream",
     "text": [
      "                   all        185       1980      0.789      0.742      0.813       0.56\n"
     ]
    },
    {
     "name": "stderr",
     "output_type": "stream",
     "text": [
      "\n"
     ]
    },
    {
     "name": "stdout",
     "output_type": "stream",
     "text": [
      "\n",
      "      Epoch    GPU_mem   box_loss   cls_loss   dfl_loss  Instances       Size\n"
     ]
    },
    {
     "name": "stderr",
     "output_type": "stream",
     "text": [
      "     87/100      13.3G     0.4275      0.235     0.8271        408        640: 100%|██████████| 46/46 [01:06<00:00,  1.44s/it]\n",
      "                 Class     Images  Instances      Box(P          R      mAP50  mAP50-95): 100%|██████████| 6/6 [00:04<00:00,  1.22it/s]"
     ]
    },
    {
     "name": "stdout",
     "output_type": "stream",
     "text": [
      "                   all        185       1980      0.741      0.787      0.819      0.564\n"
     ]
    },
    {
     "name": "stderr",
     "output_type": "stream",
     "text": [
      "\n"
     ]
    },
    {
     "name": "stdout",
     "output_type": "stream",
     "text": [
      "\n",
      "      Epoch    GPU_mem   box_loss   cls_loss   dfl_loss  Instances       Size\n"
     ]
    },
    {
     "name": "stderr",
     "output_type": "stream",
     "text": [
      "     88/100      13.1G     0.4235     0.2317     0.8244        498        640: 100%|██████████| 46/46 [01:05<00:00,  1.43s/it]\n",
      "                 Class     Images  Instances      Box(P          R      mAP50  mAP50-95): 100%|██████████| 6/6 [00:04<00:00,  1.22it/s]"
     ]
    },
    {
     "name": "stdout",
     "output_type": "stream",
     "text": [
      "                   all        185       1980      0.782      0.758       0.82      0.567\n"
     ]
    },
    {
     "name": "stderr",
     "output_type": "stream",
     "text": [
      "\n"
     ]
    },
    {
     "name": "stdout",
     "output_type": "stream",
     "text": [
      "\n",
      "      Epoch    GPU_mem   box_loss   cls_loss   dfl_loss  Instances       Size\n"
     ]
    },
    {
     "name": "stderr",
     "output_type": "stream",
     "text": [
      "     89/100      13.4G     0.4248     0.2314     0.8267        470        640: 100%|██████████| 46/46 [01:06<00:00,  1.44s/it]\n",
      "                 Class     Images  Instances      Box(P          R      mAP50  mAP50-95): 100%|██████████| 6/6 [00:04<00:00,  1.23it/s]"
     ]
    },
    {
     "name": "stdout",
     "output_type": "stream",
     "text": [
      "                   all        185       1980      0.761      0.776      0.813      0.563\n"
     ]
    },
    {
     "name": "stderr",
     "output_type": "stream",
     "text": [
      "\n"
     ]
    },
    {
     "name": "stdout",
     "output_type": "stream",
     "text": [
      "\n",
      "      Epoch    GPU_mem   box_loss   cls_loss   dfl_loss  Instances       Size\n"
     ]
    },
    {
     "name": "stderr",
     "output_type": "stream",
     "text": [
      "     90/100      13.1G     0.4152     0.2287     0.8256        463        640: 100%|██████████| 46/46 [01:06<00:00,  1.44s/it]\n",
      "                 Class     Images  Instances      Box(P          R      mAP50  mAP50-95): 100%|██████████| 6/6 [00:04<00:00,  1.25it/s]"
     ]
    },
    {
     "name": "stdout",
     "output_type": "stream",
     "text": [
      "                   all        185       1980      0.765      0.771      0.813      0.565\n"
     ]
    },
    {
     "name": "stderr",
     "output_type": "stream",
     "text": [
      "\n"
     ]
    },
    {
     "name": "stdout",
     "output_type": "stream",
     "text": [
      "Closing dataloader mosaic\n",
      "\u001b[34m\u001b[1malbumentations: \u001b[0mBlur(p=0.01, blur_limit=(3, 7)), MedianBlur(p=0.01, blur_limit=(3, 7)), ToGray(p=0.01, num_output_channels=3, method='weighted_average'), CLAHE(p=0.01, clip_limit=(1, 4.0), tile_grid_size=(8, 8))\n"
     ]
    },
    {
     "name": "stderr",
     "output_type": "stream",
     "text": [
      "/opt/conda/lib/python3.10/multiprocessing/popen_fork.py:66: RuntimeWarning: os.fork() was called. os.fork() is incompatible with multithreaded code, and JAX is multithreaded, so this will likely lead to a deadlock.\n",
      "  self.pid = os.fork()\n",
      "/opt/conda/lib/python3.10/multiprocessing/popen_fork.py:66: RuntimeWarning: os.fork() was called. os.fork() is incompatible with multithreaded code, and JAX is multithreaded, so this will likely lead to a deadlock.\n",
      "  self.pid = os.fork()\n"
     ]
    },
    {
     "name": "stdout",
     "output_type": "stream",
     "text": [
      "\n",
      "      Epoch    GPU_mem   box_loss   cls_loss   dfl_loss  Instances       Size\n"
     ]
    },
    {
     "name": "stderr",
     "output_type": "stream",
     "text": [
      "     91/100      13.4G     0.6597     0.3545     0.9193        101        640: 100%|██████████| 46/46 [01:05<00:00,  1.43s/it]\n",
      "                 Class     Images  Instances      Box(P          R      mAP50  mAP50-95): 100%|██████████| 6/6 [00:04<00:00,  1.23it/s]"
     ]
    },
    {
     "name": "stdout",
     "output_type": "stream",
     "text": [
      "                   all        185       1980      0.771      0.746      0.814      0.565\n"
     ]
    },
    {
     "name": "stderr",
     "output_type": "stream",
     "text": [
      "\n"
     ]
    },
    {
     "name": "stdout",
     "output_type": "stream",
     "text": [
      "\n",
      "      Epoch    GPU_mem   box_loss   cls_loss   dfl_loss  Instances       Size\n"
     ]
    },
    {
     "name": "stderr",
     "output_type": "stream",
     "text": [
      "     92/100      13.1G     0.6386     0.3458     0.9049        143        640: 100%|██████████| 46/46 [01:05<00:00,  1.43s/it]\n",
      "                 Class     Images  Instances      Box(P          R      mAP50  mAP50-95): 100%|██████████| 6/6 [00:04<00:00,  1.24it/s]"
     ]
    },
    {
     "name": "stdout",
     "output_type": "stream",
     "text": [
      "                   all        185       1980      0.812      0.706      0.797      0.555\n"
     ]
    },
    {
     "name": "stderr",
     "output_type": "stream",
     "text": [
      "\n"
     ]
    },
    {
     "name": "stdout",
     "output_type": "stream",
     "text": [
      "\n",
      "      Epoch    GPU_mem   box_loss   cls_loss   dfl_loss  Instances       Size\n"
     ]
    },
    {
     "name": "stderr",
     "output_type": "stream",
     "text": [
      "     93/100      13.4G     0.6339     0.3355      0.902        134        640: 100%|██████████| 46/46 [01:05<00:00,  1.42s/it]\n",
      "                 Class     Images  Instances      Box(P          R      mAP50  mAP50-95): 100%|██████████| 6/6 [00:04<00:00,  1.21it/s]"
     ]
    },
    {
     "name": "stdout",
     "output_type": "stream",
     "text": [
      "                   all        185       1980      0.752      0.737      0.801      0.559\n"
     ]
    },
    {
     "name": "stderr",
     "output_type": "stream",
     "text": [
      "\n"
     ]
    },
    {
     "name": "stdout",
     "output_type": "stream",
     "text": [
      "\n",
      "      Epoch    GPU_mem   box_loss   cls_loss   dfl_loss  Instances       Size\n"
     ]
    },
    {
     "name": "stderr",
     "output_type": "stream",
     "text": [
      "     94/100      13.2G     0.6328     0.3347     0.9075        132        640: 100%|██████████| 46/46 [01:05<00:00,  1.42s/it]\n",
      "                 Class     Images  Instances      Box(P          R      mAP50  mAP50-95): 100%|██████████| 6/6 [00:04<00:00,  1.22it/s]"
     ]
    },
    {
     "name": "stdout",
     "output_type": "stream",
     "text": [
      "                   all        185       1980      0.751      0.762       0.81      0.564\n"
     ]
    },
    {
     "name": "stderr",
     "output_type": "stream",
     "text": [
      "\n"
     ]
    },
    {
     "name": "stdout",
     "output_type": "stream",
     "text": [
      "\n",
      "      Epoch    GPU_mem   box_loss   cls_loss   dfl_loss  Instances       Size\n"
     ]
    },
    {
     "name": "stderr",
     "output_type": "stream",
     "text": [
      "     95/100      13.4G     0.6313     0.3306     0.9032        124        640: 100%|██████████| 46/46 [01:05<00:00,  1.42s/it]\n",
      "                 Class     Images  Instances      Box(P          R      mAP50  mAP50-95): 100%|██████████| 6/6 [00:04<00:00,  1.20it/s]"
     ]
    },
    {
     "name": "stdout",
     "output_type": "stream",
     "text": [
      "                   all        185       1980      0.798      0.743      0.805      0.556\n"
     ]
    },
    {
     "name": "stderr",
     "output_type": "stream",
     "text": [
      "\n"
     ]
    },
    {
     "name": "stdout",
     "output_type": "stream",
     "text": [
      "\n",
      "      Epoch    GPU_mem   box_loss   cls_loss   dfl_loss  Instances       Size\n"
     ]
    },
    {
     "name": "stderr",
     "output_type": "stream",
     "text": [
      "     96/100      13.1G     0.6258     0.3227     0.9019        163        640: 100%|██████████| 46/46 [01:05<00:00,  1.42s/it]\n",
      "                 Class     Images  Instances      Box(P          R      mAP50  mAP50-95): 100%|██████████| 6/6 [00:04<00:00,  1.23it/s]"
     ]
    },
    {
     "name": "stdout",
     "output_type": "stream",
     "text": [
      "                   all        185       1980      0.787      0.744      0.806      0.559\n"
     ]
    },
    {
     "name": "stderr",
     "output_type": "stream",
     "text": [
      "\n"
     ]
    },
    {
     "name": "stdout",
     "output_type": "stream",
     "text": [
      "\n",
      "      Epoch    GPU_mem   box_loss   cls_loss   dfl_loss  Instances       Size\n"
     ]
    },
    {
     "name": "stderr",
     "output_type": "stream",
     "text": [
      "     97/100      13.4G     0.6112      0.312     0.8915        225        640: 100%|██████████| 46/46 [01:05<00:00,  1.41s/it]\n",
      "                 Class     Images  Instances      Box(P          R      mAP50  mAP50-95): 100%|██████████| 6/6 [00:04<00:00,  1.21it/s]"
     ]
    },
    {
     "name": "stdout",
     "output_type": "stream",
     "text": [
      "                   all        185       1980      0.766      0.758      0.803      0.563\n"
     ]
    },
    {
     "name": "stderr",
     "output_type": "stream",
     "text": [
      "\n"
     ]
    },
    {
     "name": "stdout",
     "output_type": "stream",
     "text": [
      "\n",
      "      Epoch    GPU_mem   box_loss   cls_loss   dfl_loss  Instances       Size\n"
     ]
    },
    {
     "name": "stderr",
     "output_type": "stream",
     "text": [
      "     98/100      13.1G     0.6113     0.3127     0.8946        189        640: 100%|██████████| 46/46 [01:05<00:00,  1.42s/it]\n",
      "                 Class     Images  Instances      Box(P          R      mAP50  mAP50-95): 100%|██████████| 6/6 [00:04<00:00,  1.22it/s]"
     ]
    },
    {
     "name": "stdout",
     "output_type": "stream",
     "text": [
      "                   all        185       1980      0.757      0.759      0.805      0.566\n"
     ]
    },
    {
     "name": "stderr",
     "output_type": "stream",
     "text": [
      "\n"
     ]
    },
    {
     "name": "stdout",
     "output_type": "stream",
     "text": [
      "\n",
      "      Epoch    GPU_mem   box_loss   cls_loss   dfl_loss  Instances       Size\n"
     ]
    },
    {
     "name": "stderr",
     "output_type": "stream",
     "text": [
      "     99/100      13.4G     0.6033     0.3053     0.8887        192        640: 100%|██████████| 46/46 [01:05<00:00,  1.42s/it]\n",
      "                 Class     Images  Instances      Box(P          R      mAP50  mAP50-95): 100%|██████████| 6/6 [00:04<00:00,  1.22it/s]"
     ]
    },
    {
     "name": "stdout",
     "output_type": "stream",
     "text": [
      "                   all        185       1980      0.775      0.766      0.813      0.568\n"
     ]
    },
    {
     "name": "stderr",
     "output_type": "stream",
     "text": [
      "\n"
     ]
    },
    {
     "name": "stdout",
     "output_type": "stream",
     "text": [
      "\n",
      "      Epoch    GPU_mem   box_loss   cls_loss   dfl_loss  Instances       Size\n"
     ]
    },
    {
     "name": "stderr",
     "output_type": "stream",
     "text": [
      "    100/100      13.2G     0.6023     0.3081     0.8838        144        640: 100%|██████████| 46/46 [01:05<00:00,  1.42s/it]\n",
      "                 Class     Images  Instances      Box(P          R      mAP50  mAP50-95): 100%|██████████| 6/6 [00:04<00:00,  1.23it/s]"
     ]
    },
    {
     "name": "stdout",
     "output_type": "stream",
     "text": [
      "                   all        185       1980       0.77      0.764      0.816      0.569\n"
     ]
    },
    {
     "name": "stderr",
     "output_type": "stream",
     "text": [
      "\n"
     ]
    },
    {
     "name": "stdout",
     "output_type": "stream",
     "text": [
      "\n",
      "100 epochs completed in 2.026 hours.\n",
      "Optimizer stripped from runs/train/exp/weights/last.pt, 136.7MB\n",
      "Optimizer stripped from runs/train/exp/weights/best.pt, 136.7MB\n",
      "\n",
      "Validating runs/train/exp/weights/best.pt...\n",
      "Ultralytics 8.3.40 🚀 Python-3.10.14 torch-2.4.0 CUDA:0 (Tesla T4, 15095MiB)\n",
      "Model summary (fused): 268 layers, 68,130,309 parameters, 0 gradients, 257.4 GFLOPs\n"
     ]
    },
    {
     "name": "stderr",
     "output_type": "stream",
     "text": [
      "                 Class     Images  Instances      Box(P          R      mAP50  mAP50-95): 100%|██████████| 6/6 [00:05<00:00,  1.00it/s]\n"
     ]
    },
    {
     "name": "stdout",
     "output_type": "stream",
     "text": [
      "                   all        185       1980       0.77      0.763      0.816       0.57\n",
      "                   Car        159       1061      0.889       0.92      0.949      0.801\n",
      "          Number Plate        104        174      0.708      0.839      0.858      0.551\n",
      "     Blur Number Plate         80        161      0.738      0.634      0.704      0.384\n",
      "           Two Wheeler         88        271      0.849      0.849      0.898      0.649\n",
      "                  Auto         44         94      0.745      0.685      0.752      0.414\n",
      "                   Bus         93        110      0.753      0.727      0.797       0.58\n",
      "                 Truck         55        109      0.708      0.691      0.757      0.607\n",
      "Speed: 0.1ms preprocess, 21.2ms inference, 0.0ms loss, 1.2ms postprocess per image\n",
      "Results saved to \u001b[1mruns/train/exp\u001b[0m\n"
     ]
    },
    {
     "data": {
      "text/plain": [
       "ultralytics.utils.metrics.DetMetrics object with attributes:\n",
       "\n",
       "ap_class_index: array([0, 1, 2, 3, 4, 5, 6])\n",
       "box: ultralytics.utils.metrics.Metric object\n",
       "confusion_matrix: <ultralytics.utils.metrics.ConfusionMatrix object at 0x7836ce826c50>\n",
       "curves: ['Precision-Recall(B)', 'F1-Confidence(B)', 'Precision-Confidence(B)', 'Recall-Confidence(B)']\n",
       "curves_results: [[array([          0,    0.001001,    0.002002,    0.003003,    0.004004,    0.005005,    0.006006,    0.007007,    0.008008,    0.009009,     0.01001,    0.011011,    0.012012,    0.013013,    0.014014,    0.015015,    0.016016,    0.017017,    0.018018,    0.019019,     0.02002,    0.021021,    0.022022,    0.023023,\n",
       "          0.024024,    0.025025,    0.026026,    0.027027,    0.028028,    0.029029,     0.03003,    0.031031,    0.032032,    0.033033,    0.034034,    0.035035,    0.036036,    0.037037,    0.038038,    0.039039,     0.04004,    0.041041,    0.042042,    0.043043,    0.044044,    0.045045,    0.046046,    0.047047,\n",
       "          0.048048,    0.049049,     0.05005,    0.051051,    0.052052,    0.053053,    0.054054,    0.055055,    0.056056,    0.057057,    0.058058,    0.059059,     0.06006,    0.061061,    0.062062,    0.063063,    0.064064,    0.065065,    0.066066,    0.067067,    0.068068,    0.069069,     0.07007,    0.071071,\n",
       "          0.072072,    0.073073,    0.074074,    0.075075,    0.076076,    0.077077,    0.078078,    0.079079,     0.08008,    0.081081,    0.082082,    0.083083,    0.084084,    0.085085,    0.086086,    0.087087,    0.088088,    0.089089,     0.09009,    0.091091,    0.092092,    0.093093,    0.094094,    0.095095,\n",
       "          0.096096,    0.097097,    0.098098,    0.099099,      0.1001,      0.1011,      0.1021,      0.1031,      0.1041,     0.10511,     0.10611,     0.10711,     0.10811,     0.10911,     0.11011,     0.11111,     0.11211,     0.11311,     0.11411,     0.11512,     0.11612,     0.11712,     0.11812,     0.11912,\n",
       "           0.12012,     0.12112,     0.12212,     0.12312,     0.12412,     0.12513,     0.12613,     0.12713,     0.12813,     0.12913,     0.13013,     0.13113,     0.13213,     0.13313,     0.13413,     0.13514,     0.13614,     0.13714,     0.13814,     0.13914,     0.14014,     0.14114,     0.14214,     0.14314,\n",
       "           0.14414,     0.14515,     0.14615,     0.14715,     0.14815,     0.14915,     0.15015,     0.15115,     0.15215,     0.15315,     0.15415,     0.15516,     0.15616,     0.15716,     0.15816,     0.15916,     0.16016,     0.16116,     0.16216,     0.16316,     0.16416,     0.16517,     0.16617,     0.16717,\n",
       "           0.16817,     0.16917,     0.17017,     0.17117,     0.17217,     0.17317,     0.17417,     0.17518,     0.17618,     0.17718,     0.17818,     0.17918,     0.18018,     0.18118,     0.18218,     0.18318,     0.18418,     0.18519,     0.18619,     0.18719,     0.18819,     0.18919,     0.19019,     0.19119,\n",
       "           0.19219,     0.19319,     0.19419,      0.1952,      0.1962,      0.1972,      0.1982,      0.1992,      0.2002,      0.2012,      0.2022,      0.2032,      0.2042,     0.20521,     0.20621,     0.20721,     0.20821,     0.20921,     0.21021,     0.21121,     0.21221,     0.21321,     0.21421,     0.21522,\n",
       "           0.21622,     0.21722,     0.21822,     0.21922,     0.22022,     0.22122,     0.22222,     0.22322,     0.22422,     0.22523,     0.22623,     0.22723,     0.22823,     0.22923,     0.23023,     0.23123,     0.23223,     0.23323,     0.23423,     0.23524,     0.23624,     0.23724,     0.23824,     0.23924,\n",
       "           0.24024,     0.24124,     0.24224,     0.24324,     0.24424,     0.24525,     0.24625,     0.24725,     0.24825,     0.24925,     0.25025,     0.25125,     0.25225,     0.25325,     0.25425,     0.25526,     0.25626,     0.25726,     0.25826,     0.25926,     0.26026,     0.26126,     0.26226,     0.26326,\n",
       "           0.26426,     0.26527,     0.26627,     0.26727,     0.26827,     0.26927,     0.27027,     0.27127,     0.27227,     0.27327,     0.27427,     0.27528,     0.27628,     0.27728,     0.27828,     0.27928,     0.28028,     0.28128,     0.28228,     0.28328,     0.28428,     0.28529,     0.28629,     0.28729,\n",
       "           0.28829,     0.28929,     0.29029,     0.29129,     0.29229,     0.29329,     0.29429,      0.2953,      0.2963,      0.2973,      0.2983,      0.2993,      0.3003,      0.3013,      0.3023,      0.3033,      0.3043,     0.30531,     0.30631,     0.30731,     0.30831,     0.30931,     0.31031,     0.31131,\n",
       "           0.31231,     0.31331,     0.31431,     0.31532,     0.31632,     0.31732,     0.31832,     0.31932,     0.32032,     0.32132,     0.32232,     0.32332,     0.32432,     0.32533,     0.32633,     0.32733,     0.32833,     0.32933,     0.33033,     0.33133,     0.33233,     0.33333,     0.33433,     0.33534,\n",
       "           0.33634,     0.33734,     0.33834,     0.33934,     0.34034,     0.34134,     0.34234,     0.34334,     0.34434,     0.34535,     0.34635,     0.34735,     0.34835,     0.34935,     0.35035,     0.35135,     0.35235,     0.35335,     0.35435,     0.35536,     0.35636,     0.35736,     0.35836,     0.35936,\n",
       "           0.36036,     0.36136,     0.36236,     0.36336,     0.36436,     0.36537,     0.36637,     0.36737,     0.36837,     0.36937,     0.37037,     0.37137,     0.37237,     0.37337,     0.37437,     0.37538,     0.37638,     0.37738,     0.37838,     0.37938,     0.38038,     0.38138,     0.38238,     0.38338,\n",
       "           0.38438,     0.38539,     0.38639,     0.38739,     0.38839,     0.38939,     0.39039,     0.39139,     0.39239,     0.39339,     0.39439,      0.3954,      0.3964,      0.3974,      0.3984,      0.3994,      0.4004,      0.4014,      0.4024,      0.4034,      0.4044,     0.40541,     0.40641,     0.40741,\n",
       "           0.40841,     0.40941,     0.41041,     0.41141,     0.41241,     0.41341,     0.41441,     0.41542,     0.41642,     0.41742,     0.41842,     0.41942,     0.42042,     0.42142,     0.42242,     0.42342,     0.42442,     0.42543,     0.42643,     0.42743,     0.42843,     0.42943,     0.43043,     0.43143,\n",
       "           0.43243,     0.43343,     0.43443,     0.43544,     0.43644,     0.43744,     0.43844,     0.43944,     0.44044,     0.44144,     0.44244,     0.44344,     0.44444,     0.44545,     0.44645,     0.44745,     0.44845,     0.44945,     0.45045,     0.45145,     0.45245,     0.45345,     0.45445,     0.45546,\n",
       "           0.45646,     0.45746,     0.45846,     0.45946,     0.46046,     0.46146,     0.46246,     0.46346,     0.46446,     0.46547,     0.46647,     0.46747,     0.46847,     0.46947,     0.47047,     0.47147,     0.47247,     0.47347,     0.47447,     0.47548,     0.47648,     0.47748,     0.47848,     0.47948,\n",
       "           0.48048,     0.48148,     0.48248,     0.48348,     0.48448,     0.48549,     0.48649,     0.48749,     0.48849,     0.48949,     0.49049,     0.49149,     0.49249,     0.49349,     0.49449,      0.4955,      0.4965,      0.4975,      0.4985,      0.4995,      0.5005,      0.5015,      0.5025,      0.5035,\n",
       "            0.5045,     0.50551,     0.50651,     0.50751,     0.50851,     0.50951,     0.51051,     0.51151,     0.51251,     0.51351,     0.51451,     0.51552,     0.51652,     0.51752,     0.51852,     0.51952,     0.52052,     0.52152,     0.52252,     0.52352,     0.52452,     0.52553,     0.52653,     0.52753,\n",
       "           0.52853,     0.52953,     0.53053,     0.53153,     0.53253,     0.53353,     0.53453,     0.53554,     0.53654,     0.53754,     0.53854,     0.53954,     0.54054,     0.54154,     0.54254,     0.54354,     0.54454,     0.54555,     0.54655,     0.54755,     0.54855,     0.54955,     0.55055,     0.55155,\n",
       "           0.55255,     0.55355,     0.55455,     0.55556,     0.55656,     0.55756,     0.55856,     0.55956,     0.56056,     0.56156,     0.56256,     0.56356,     0.56456,     0.56557,     0.56657,     0.56757,     0.56857,     0.56957,     0.57057,     0.57157,     0.57257,     0.57357,     0.57457,     0.57558,\n",
       "           0.57658,     0.57758,     0.57858,     0.57958,     0.58058,     0.58158,     0.58258,     0.58358,     0.58458,     0.58559,     0.58659,     0.58759,     0.58859,     0.58959,     0.59059,     0.59159,     0.59259,     0.59359,     0.59459,      0.5956,      0.5966,      0.5976,      0.5986,      0.5996,\n",
       "            0.6006,      0.6016,      0.6026,      0.6036,      0.6046,     0.60561,     0.60661,     0.60761,     0.60861,     0.60961,     0.61061,     0.61161,     0.61261,     0.61361,     0.61461,     0.61562,     0.61662,     0.61762,     0.61862,     0.61962,     0.62062,     0.62162,     0.62262,     0.62362,\n",
       "           0.62462,     0.62563,     0.62663,     0.62763,     0.62863,     0.62963,     0.63063,     0.63163,     0.63263,     0.63363,     0.63463,     0.63564,     0.63664,     0.63764,     0.63864,     0.63964,     0.64064,     0.64164,     0.64264,     0.64364,     0.64464,     0.64565,     0.64665,     0.64765,\n",
       "           0.64865,     0.64965,     0.65065,     0.65165,     0.65265,     0.65365,     0.65465,     0.65566,     0.65666,     0.65766,     0.65866,     0.65966,     0.66066,     0.66166,     0.66266,     0.66366,     0.66466,     0.66567,     0.66667,     0.66767,     0.66867,     0.66967,     0.67067,     0.67167,\n",
       "           0.67267,     0.67367,     0.67467,     0.67568,     0.67668,     0.67768,     0.67868,     0.67968,     0.68068,     0.68168,     0.68268,     0.68368,     0.68468,     0.68569,     0.68669,     0.68769,     0.68869,     0.68969,     0.69069,     0.69169,     0.69269,     0.69369,     0.69469,      0.6957,\n",
       "            0.6967,      0.6977,      0.6987,      0.6997,      0.7007,      0.7017,      0.7027,      0.7037,      0.7047,     0.70571,     0.70671,     0.70771,     0.70871,     0.70971,     0.71071,     0.71171,     0.71271,     0.71371,     0.71471,     0.71572,     0.71672,     0.71772,     0.71872,     0.71972,\n",
       "           0.72072,     0.72172,     0.72272,     0.72372,     0.72472,     0.72573,     0.72673,     0.72773,     0.72873,     0.72973,     0.73073,     0.73173,     0.73273,     0.73373,     0.73473,     0.73574,     0.73674,     0.73774,     0.73874,     0.73974,     0.74074,     0.74174,     0.74274,     0.74374,\n",
       "           0.74474,     0.74575,     0.74675,     0.74775,     0.74875,     0.74975,     0.75075,     0.75175,     0.75275,     0.75375,     0.75475,     0.75576,     0.75676,     0.75776,     0.75876,     0.75976,     0.76076,     0.76176,     0.76276,     0.76376,     0.76476,     0.76577,     0.76677,     0.76777,\n",
       "           0.76877,     0.76977,     0.77077,     0.77177,     0.77277,     0.77377,     0.77477,     0.77578,     0.77678,     0.77778,     0.77878,     0.77978,     0.78078,     0.78178,     0.78278,     0.78378,     0.78478,     0.78579,     0.78679,     0.78779,     0.78879,     0.78979,     0.79079,     0.79179,\n",
       "           0.79279,     0.79379,     0.79479,      0.7958,      0.7968,      0.7978,      0.7988,      0.7998,      0.8008,      0.8018,      0.8028,      0.8038,      0.8048,     0.80581,     0.80681,     0.80781,     0.80881,     0.80981,     0.81081,     0.81181,     0.81281,     0.81381,     0.81481,     0.81582,\n",
       "           0.81682,     0.81782,     0.81882,     0.81982,     0.82082,     0.82182,     0.82282,     0.82382,     0.82482,     0.82583,     0.82683,     0.82783,     0.82883,     0.82983,     0.83083,     0.83183,     0.83283,     0.83383,     0.83483,     0.83584,     0.83684,     0.83784,     0.83884,     0.83984,\n",
       "           0.84084,     0.84184,     0.84284,     0.84384,     0.84484,     0.84585,     0.84685,     0.84785,     0.84885,     0.84985,     0.85085,     0.85185,     0.85285,     0.85385,     0.85485,     0.85586,     0.85686,     0.85786,     0.85886,     0.85986,     0.86086,     0.86186,     0.86286,     0.86386,\n",
       "           0.86486,     0.86587,     0.86687,     0.86787,     0.86887,     0.86987,     0.87087,     0.87187,     0.87287,     0.87387,     0.87487,     0.87588,     0.87688,     0.87788,     0.87888,     0.87988,     0.88088,     0.88188,     0.88288,     0.88388,     0.88488,     0.88589,     0.88689,     0.88789,\n",
       "           0.88889,     0.88989,     0.89089,     0.89189,     0.89289,     0.89389,     0.89489,      0.8959,      0.8969,      0.8979,      0.8989,      0.8999,      0.9009,      0.9019,      0.9029,      0.9039,      0.9049,     0.90591,     0.90691,     0.90791,     0.90891,     0.90991,     0.91091,     0.91191,\n",
       "           0.91291,     0.91391,     0.91491,     0.91592,     0.91692,     0.91792,     0.91892,     0.91992,     0.92092,     0.92192,     0.92292,     0.92392,     0.92492,     0.92593,     0.92693,     0.92793,     0.92893,     0.92993,     0.93093,     0.93193,     0.93293,     0.93393,     0.93493,     0.93594,\n",
       "           0.93694,     0.93794,     0.93894,     0.93994,     0.94094,     0.94194,     0.94294,     0.94394,     0.94494,     0.94595,     0.94695,     0.94795,     0.94895,     0.94995,     0.95095,     0.95195,     0.95295,     0.95395,     0.95495,     0.95596,     0.95696,     0.95796,     0.95896,     0.95996,\n",
       "           0.96096,     0.96196,     0.96296,     0.96396,     0.96496,     0.96597,     0.96697,     0.96797,     0.96897,     0.96997,     0.97097,     0.97197,     0.97297,     0.97397,     0.97497,     0.97598,     0.97698,     0.97798,     0.97898,     0.97998,     0.98098,     0.98198,     0.98298,     0.98398,\n",
       "           0.98498,     0.98599,     0.98699,     0.98799,     0.98899,     0.98999,     0.99099,     0.99199,     0.99299,     0.99399,     0.99499,       0.996,       0.997,       0.998,       0.999,           1]), array([[          1,           1,           1, ...,    0.024631,    0.012316,           0],\n",
       "       [    0.96774,     0.96774,     0.96774, ...,   0.0091407,   0.0045703,           0],\n",
       "       [          1,           1,           1, ...,      0.0023,     0.00115,           0],\n",
       "       ...,\n",
       "       [          1,           1,           1, ...,   0.0045697,   0.0022848,           0],\n",
       "       [          1,           1,           1, ...,   0.0087093,   0.0043546,           0],\n",
       "       [          1,           1,           1, ...,   0.0020582,   0.0010291,           0]]), 'Recall', 'Precision'], [array([          0,    0.001001,    0.002002,    0.003003,    0.004004,    0.005005,    0.006006,    0.007007,    0.008008,    0.009009,     0.01001,    0.011011,    0.012012,    0.013013,    0.014014,    0.015015,    0.016016,    0.017017,    0.018018,    0.019019,     0.02002,    0.021021,    0.022022,    0.023023,\n",
       "          0.024024,    0.025025,    0.026026,    0.027027,    0.028028,    0.029029,     0.03003,    0.031031,    0.032032,    0.033033,    0.034034,    0.035035,    0.036036,    0.037037,    0.038038,    0.039039,     0.04004,    0.041041,    0.042042,    0.043043,    0.044044,    0.045045,    0.046046,    0.047047,\n",
       "          0.048048,    0.049049,     0.05005,    0.051051,    0.052052,    0.053053,    0.054054,    0.055055,    0.056056,    0.057057,    0.058058,    0.059059,     0.06006,    0.061061,    0.062062,    0.063063,    0.064064,    0.065065,    0.066066,    0.067067,    0.068068,    0.069069,     0.07007,    0.071071,\n",
       "          0.072072,    0.073073,    0.074074,    0.075075,    0.076076,    0.077077,    0.078078,    0.079079,     0.08008,    0.081081,    0.082082,    0.083083,    0.084084,    0.085085,    0.086086,    0.087087,    0.088088,    0.089089,     0.09009,    0.091091,    0.092092,    0.093093,    0.094094,    0.095095,\n",
       "          0.096096,    0.097097,    0.098098,    0.099099,      0.1001,      0.1011,      0.1021,      0.1031,      0.1041,     0.10511,     0.10611,     0.10711,     0.10811,     0.10911,     0.11011,     0.11111,     0.11211,     0.11311,     0.11411,     0.11512,     0.11612,     0.11712,     0.11812,     0.11912,\n",
       "           0.12012,     0.12112,     0.12212,     0.12312,     0.12412,     0.12513,     0.12613,     0.12713,     0.12813,     0.12913,     0.13013,     0.13113,     0.13213,     0.13313,     0.13413,     0.13514,     0.13614,     0.13714,     0.13814,     0.13914,     0.14014,     0.14114,     0.14214,     0.14314,\n",
       "           0.14414,     0.14515,     0.14615,     0.14715,     0.14815,     0.14915,     0.15015,     0.15115,     0.15215,     0.15315,     0.15415,     0.15516,     0.15616,     0.15716,     0.15816,     0.15916,     0.16016,     0.16116,     0.16216,     0.16316,     0.16416,     0.16517,     0.16617,     0.16717,\n",
       "           0.16817,     0.16917,     0.17017,     0.17117,     0.17217,     0.17317,     0.17417,     0.17518,     0.17618,     0.17718,     0.17818,     0.17918,     0.18018,     0.18118,     0.18218,     0.18318,     0.18418,     0.18519,     0.18619,     0.18719,     0.18819,     0.18919,     0.19019,     0.19119,\n",
       "           0.19219,     0.19319,     0.19419,      0.1952,      0.1962,      0.1972,      0.1982,      0.1992,      0.2002,      0.2012,      0.2022,      0.2032,      0.2042,     0.20521,     0.20621,     0.20721,     0.20821,     0.20921,     0.21021,     0.21121,     0.21221,     0.21321,     0.21421,     0.21522,\n",
       "           0.21622,     0.21722,     0.21822,     0.21922,     0.22022,     0.22122,     0.22222,     0.22322,     0.22422,     0.22523,     0.22623,     0.22723,     0.22823,     0.22923,     0.23023,     0.23123,     0.23223,     0.23323,     0.23423,     0.23524,     0.23624,     0.23724,     0.23824,     0.23924,\n",
       "           0.24024,     0.24124,     0.24224,     0.24324,     0.24424,     0.24525,     0.24625,     0.24725,     0.24825,     0.24925,     0.25025,     0.25125,     0.25225,     0.25325,     0.25425,     0.25526,     0.25626,     0.25726,     0.25826,     0.25926,     0.26026,     0.26126,     0.26226,     0.26326,\n",
       "           0.26426,     0.26527,     0.26627,     0.26727,     0.26827,     0.26927,     0.27027,     0.27127,     0.27227,     0.27327,     0.27427,     0.27528,     0.27628,     0.27728,     0.27828,     0.27928,     0.28028,     0.28128,     0.28228,     0.28328,     0.28428,     0.28529,     0.28629,     0.28729,\n",
       "           0.28829,     0.28929,     0.29029,     0.29129,     0.29229,     0.29329,     0.29429,      0.2953,      0.2963,      0.2973,      0.2983,      0.2993,      0.3003,      0.3013,      0.3023,      0.3033,      0.3043,     0.30531,     0.30631,     0.30731,     0.30831,     0.30931,     0.31031,     0.31131,\n",
       "           0.31231,     0.31331,     0.31431,     0.31532,     0.31632,     0.31732,     0.31832,     0.31932,     0.32032,     0.32132,     0.32232,     0.32332,     0.32432,     0.32533,     0.32633,     0.32733,     0.32833,     0.32933,     0.33033,     0.33133,     0.33233,     0.33333,     0.33433,     0.33534,\n",
       "           0.33634,     0.33734,     0.33834,     0.33934,     0.34034,     0.34134,     0.34234,     0.34334,     0.34434,     0.34535,     0.34635,     0.34735,     0.34835,     0.34935,     0.35035,     0.35135,     0.35235,     0.35335,     0.35435,     0.35536,     0.35636,     0.35736,     0.35836,     0.35936,\n",
       "           0.36036,     0.36136,     0.36236,     0.36336,     0.36436,     0.36537,     0.36637,     0.36737,     0.36837,     0.36937,     0.37037,     0.37137,     0.37237,     0.37337,     0.37437,     0.37538,     0.37638,     0.37738,     0.37838,     0.37938,     0.38038,     0.38138,     0.38238,     0.38338,\n",
       "           0.38438,     0.38539,     0.38639,     0.38739,     0.38839,     0.38939,     0.39039,     0.39139,     0.39239,     0.39339,     0.39439,      0.3954,      0.3964,      0.3974,      0.3984,      0.3994,      0.4004,      0.4014,      0.4024,      0.4034,      0.4044,     0.40541,     0.40641,     0.40741,\n",
       "           0.40841,     0.40941,     0.41041,     0.41141,     0.41241,     0.41341,     0.41441,     0.41542,     0.41642,     0.41742,     0.41842,     0.41942,     0.42042,     0.42142,     0.42242,     0.42342,     0.42442,     0.42543,     0.42643,     0.42743,     0.42843,     0.42943,     0.43043,     0.43143,\n",
       "           0.43243,     0.43343,     0.43443,     0.43544,     0.43644,     0.43744,     0.43844,     0.43944,     0.44044,     0.44144,     0.44244,     0.44344,     0.44444,     0.44545,     0.44645,     0.44745,     0.44845,     0.44945,     0.45045,     0.45145,     0.45245,     0.45345,     0.45445,     0.45546,\n",
       "           0.45646,     0.45746,     0.45846,     0.45946,     0.46046,     0.46146,     0.46246,     0.46346,     0.46446,     0.46547,     0.46647,     0.46747,     0.46847,     0.46947,     0.47047,     0.47147,     0.47247,     0.47347,     0.47447,     0.47548,     0.47648,     0.47748,     0.47848,     0.47948,\n",
       "           0.48048,     0.48148,     0.48248,     0.48348,     0.48448,     0.48549,     0.48649,     0.48749,     0.48849,     0.48949,     0.49049,     0.49149,     0.49249,     0.49349,     0.49449,      0.4955,      0.4965,      0.4975,      0.4985,      0.4995,      0.5005,      0.5015,      0.5025,      0.5035,\n",
       "            0.5045,     0.50551,     0.50651,     0.50751,     0.50851,     0.50951,     0.51051,     0.51151,     0.51251,     0.51351,     0.51451,     0.51552,     0.51652,     0.51752,     0.51852,     0.51952,     0.52052,     0.52152,     0.52252,     0.52352,     0.52452,     0.52553,     0.52653,     0.52753,\n",
       "           0.52853,     0.52953,     0.53053,     0.53153,     0.53253,     0.53353,     0.53453,     0.53554,     0.53654,     0.53754,     0.53854,     0.53954,     0.54054,     0.54154,     0.54254,     0.54354,     0.54454,     0.54555,     0.54655,     0.54755,     0.54855,     0.54955,     0.55055,     0.55155,\n",
       "           0.55255,     0.55355,     0.55455,     0.55556,     0.55656,     0.55756,     0.55856,     0.55956,     0.56056,     0.56156,     0.56256,     0.56356,     0.56456,     0.56557,     0.56657,     0.56757,     0.56857,     0.56957,     0.57057,     0.57157,     0.57257,     0.57357,     0.57457,     0.57558,\n",
       "           0.57658,     0.57758,     0.57858,     0.57958,     0.58058,     0.58158,     0.58258,     0.58358,     0.58458,     0.58559,     0.58659,     0.58759,     0.58859,     0.58959,     0.59059,     0.59159,     0.59259,     0.59359,     0.59459,      0.5956,      0.5966,      0.5976,      0.5986,      0.5996,\n",
       "            0.6006,      0.6016,      0.6026,      0.6036,      0.6046,     0.60561,     0.60661,     0.60761,     0.60861,     0.60961,     0.61061,     0.61161,     0.61261,     0.61361,     0.61461,     0.61562,     0.61662,     0.61762,     0.61862,     0.61962,     0.62062,     0.62162,     0.62262,     0.62362,\n",
       "           0.62462,     0.62563,     0.62663,     0.62763,     0.62863,     0.62963,     0.63063,     0.63163,     0.63263,     0.63363,     0.63463,     0.63564,     0.63664,     0.63764,     0.63864,     0.63964,     0.64064,     0.64164,     0.64264,     0.64364,     0.64464,     0.64565,     0.64665,     0.64765,\n",
       "           0.64865,     0.64965,     0.65065,     0.65165,     0.65265,     0.65365,     0.65465,     0.65566,     0.65666,     0.65766,     0.65866,     0.65966,     0.66066,     0.66166,     0.66266,     0.66366,     0.66466,     0.66567,     0.66667,     0.66767,     0.66867,     0.66967,     0.67067,     0.67167,\n",
       "           0.67267,     0.67367,     0.67467,     0.67568,     0.67668,     0.67768,     0.67868,     0.67968,     0.68068,     0.68168,     0.68268,     0.68368,     0.68468,     0.68569,     0.68669,     0.68769,     0.68869,     0.68969,     0.69069,     0.69169,     0.69269,     0.69369,     0.69469,      0.6957,\n",
       "            0.6967,      0.6977,      0.6987,      0.6997,      0.7007,      0.7017,      0.7027,      0.7037,      0.7047,     0.70571,     0.70671,     0.70771,     0.70871,     0.70971,     0.71071,     0.71171,     0.71271,     0.71371,     0.71471,     0.71572,     0.71672,     0.71772,     0.71872,     0.71972,\n",
       "           0.72072,     0.72172,     0.72272,     0.72372,     0.72472,     0.72573,     0.72673,     0.72773,     0.72873,     0.72973,     0.73073,     0.73173,     0.73273,     0.73373,     0.73473,     0.73574,     0.73674,     0.73774,     0.73874,     0.73974,     0.74074,     0.74174,     0.74274,     0.74374,\n",
       "           0.74474,     0.74575,     0.74675,     0.74775,     0.74875,     0.74975,     0.75075,     0.75175,     0.75275,     0.75375,     0.75475,     0.75576,     0.75676,     0.75776,     0.75876,     0.75976,     0.76076,     0.76176,     0.76276,     0.76376,     0.76476,     0.76577,     0.76677,     0.76777,\n",
       "           0.76877,     0.76977,     0.77077,     0.77177,     0.77277,     0.77377,     0.77477,     0.77578,     0.77678,     0.77778,     0.77878,     0.77978,     0.78078,     0.78178,     0.78278,     0.78378,     0.78478,     0.78579,     0.78679,     0.78779,     0.78879,     0.78979,     0.79079,     0.79179,\n",
       "           0.79279,     0.79379,     0.79479,      0.7958,      0.7968,      0.7978,      0.7988,      0.7998,      0.8008,      0.8018,      0.8028,      0.8038,      0.8048,     0.80581,     0.80681,     0.80781,     0.80881,     0.80981,     0.81081,     0.81181,     0.81281,     0.81381,     0.81481,     0.81582,\n",
       "           0.81682,     0.81782,     0.81882,     0.81982,     0.82082,     0.82182,     0.82282,     0.82382,     0.82482,     0.82583,     0.82683,     0.82783,     0.82883,     0.82983,     0.83083,     0.83183,     0.83283,     0.83383,     0.83483,     0.83584,     0.83684,     0.83784,     0.83884,     0.83984,\n",
       "           0.84084,     0.84184,     0.84284,     0.84384,     0.84484,     0.84585,     0.84685,     0.84785,     0.84885,     0.84985,     0.85085,     0.85185,     0.85285,     0.85385,     0.85485,     0.85586,     0.85686,     0.85786,     0.85886,     0.85986,     0.86086,     0.86186,     0.86286,     0.86386,\n",
       "           0.86486,     0.86587,     0.86687,     0.86787,     0.86887,     0.86987,     0.87087,     0.87187,     0.87287,     0.87387,     0.87487,     0.87588,     0.87688,     0.87788,     0.87888,     0.87988,     0.88088,     0.88188,     0.88288,     0.88388,     0.88488,     0.88589,     0.88689,     0.88789,\n",
       "           0.88889,     0.88989,     0.89089,     0.89189,     0.89289,     0.89389,     0.89489,      0.8959,      0.8969,      0.8979,      0.8989,      0.8999,      0.9009,      0.9019,      0.9029,      0.9039,      0.9049,     0.90591,     0.90691,     0.90791,     0.90891,     0.90991,     0.91091,     0.91191,\n",
       "           0.91291,     0.91391,     0.91491,     0.91592,     0.91692,     0.91792,     0.91892,     0.91992,     0.92092,     0.92192,     0.92292,     0.92392,     0.92492,     0.92593,     0.92693,     0.92793,     0.92893,     0.92993,     0.93093,     0.93193,     0.93293,     0.93393,     0.93493,     0.93594,\n",
       "           0.93694,     0.93794,     0.93894,     0.93994,     0.94094,     0.94194,     0.94294,     0.94394,     0.94494,     0.94595,     0.94695,     0.94795,     0.94895,     0.94995,     0.95095,     0.95195,     0.95295,     0.95395,     0.95495,     0.95596,     0.95696,     0.95796,     0.95896,     0.95996,\n",
       "           0.96096,     0.96196,     0.96296,     0.96396,     0.96496,     0.96597,     0.96697,     0.96797,     0.96897,     0.96997,     0.97097,     0.97197,     0.97297,     0.97397,     0.97497,     0.97598,     0.97698,     0.97798,     0.97898,     0.97998,     0.98098,     0.98198,     0.98298,     0.98398,\n",
       "           0.98498,     0.98599,     0.98699,     0.98799,     0.98899,     0.98999,     0.99099,     0.99199,     0.99299,     0.99399,     0.99499,       0.996,       0.997,       0.998,       0.999,           1]), array([[    0.57175,     0.57175,     0.64211, ...,           0,           0,           0],\n",
       "       [    0.41051,     0.41051,     0.49043, ...,           0,           0,           0],\n",
       "       [    0.24543,     0.24543,       0.308, ...,           0,           0,           0],\n",
       "       ...,\n",
       "       [    0.25215,     0.25215,     0.32768, ...,           0,           0,           0],\n",
       "       [    0.32761,     0.32761,     0.41979, ...,           0,           0,           0],\n",
       "       [    0.28217,     0.28217,     0.37368, ...,           0,           0,           0]]), 'Confidence', 'F1'], [array([          0,    0.001001,    0.002002,    0.003003,    0.004004,    0.005005,    0.006006,    0.007007,    0.008008,    0.009009,     0.01001,    0.011011,    0.012012,    0.013013,    0.014014,    0.015015,    0.016016,    0.017017,    0.018018,    0.019019,     0.02002,    0.021021,    0.022022,    0.023023,\n",
       "          0.024024,    0.025025,    0.026026,    0.027027,    0.028028,    0.029029,     0.03003,    0.031031,    0.032032,    0.033033,    0.034034,    0.035035,    0.036036,    0.037037,    0.038038,    0.039039,     0.04004,    0.041041,    0.042042,    0.043043,    0.044044,    0.045045,    0.046046,    0.047047,\n",
       "          0.048048,    0.049049,     0.05005,    0.051051,    0.052052,    0.053053,    0.054054,    0.055055,    0.056056,    0.057057,    0.058058,    0.059059,     0.06006,    0.061061,    0.062062,    0.063063,    0.064064,    0.065065,    0.066066,    0.067067,    0.068068,    0.069069,     0.07007,    0.071071,\n",
       "          0.072072,    0.073073,    0.074074,    0.075075,    0.076076,    0.077077,    0.078078,    0.079079,     0.08008,    0.081081,    0.082082,    0.083083,    0.084084,    0.085085,    0.086086,    0.087087,    0.088088,    0.089089,     0.09009,    0.091091,    0.092092,    0.093093,    0.094094,    0.095095,\n",
       "          0.096096,    0.097097,    0.098098,    0.099099,      0.1001,      0.1011,      0.1021,      0.1031,      0.1041,     0.10511,     0.10611,     0.10711,     0.10811,     0.10911,     0.11011,     0.11111,     0.11211,     0.11311,     0.11411,     0.11512,     0.11612,     0.11712,     0.11812,     0.11912,\n",
       "           0.12012,     0.12112,     0.12212,     0.12312,     0.12412,     0.12513,     0.12613,     0.12713,     0.12813,     0.12913,     0.13013,     0.13113,     0.13213,     0.13313,     0.13413,     0.13514,     0.13614,     0.13714,     0.13814,     0.13914,     0.14014,     0.14114,     0.14214,     0.14314,\n",
       "           0.14414,     0.14515,     0.14615,     0.14715,     0.14815,     0.14915,     0.15015,     0.15115,     0.15215,     0.15315,     0.15415,     0.15516,     0.15616,     0.15716,     0.15816,     0.15916,     0.16016,     0.16116,     0.16216,     0.16316,     0.16416,     0.16517,     0.16617,     0.16717,\n",
       "           0.16817,     0.16917,     0.17017,     0.17117,     0.17217,     0.17317,     0.17417,     0.17518,     0.17618,     0.17718,     0.17818,     0.17918,     0.18018,     0.18118,     0.18218,     0.18318,     0.18418,     0.18519,     0.18619,     0.18719,     0.18819,     0.18919,     0.19019,     0.19119,\n",
       "           0.19219,     0.19319,     0.19419,      0.1952,      0.1962,      0.1972,      0.1982,      0.1992,      0.2002,      0.2012,      0.2022,      0.2032,      0.2042,     0.20521,     0.20621,     0.20721,     0.20821,     0.20921,     0.21021,     0.21121,     0.21221,     0.21321,     0.21421,     0.21522,\n",
       "           0.21622,     0.21722,     0.21822,     0.21922,     0.22022,     0.22122,     0.22222,     0.22322,     0.22422,     0.22523,     0.22623,     0.22723,     0.22823,     0.22923,     0.23023,     0.23123,     0.23223,     0.23323,     0.23423,     0.23524,     0.23624,     0.23724,     0.23824,     0.23924,\n",
       "           0.24024,     0.24124,     0.24224,     0.24324,     0.24424,     0.24525,     0.24625,     0.24725,     0.24825,     0.24925,     0.25025,     0.25125,     0.25225,     0.25325,     0.25425,     0.25526,     0.25626,     0.25726,     0.25826,     0.25926,     0.26026,     0.26126,     0.26226,     0.26326,\n",
       "           0.26426,     0.26527,     0.26627,     0.26727,     0.26827,     0.26927,     0.27027,     0.27127,     0.27227,     0.27327,     0.27427,     0.27528,     0.27628,     0.27728,     0.27828,     0.27928,     0.28028,     0.28128,     0.28228,     0.28328,     0.28428,     0.28529,     0.28629,     0.28729,\n",
       "           0.28829,     0.28929,     0.29029,     0.29129,     0.29229,     0.29329,     0.29429,      0.2953,      0.2963,      0.2973,      0.2983,      0.2993,      0.3003,      0.3013,      0.3023,      0.3033,      0.3043,     0.30531,     0.30631,     0.30731,     0.30831,     0.30931,     0.31031,     0.31131,\n",
       "           0.31231,     0.31331,     0.31431,     0.31532,     0.31632,     0.31732,     0.31832,     0.31932,     0.32032,     0.32132,     0.32232,     0.32332,     0.32432,     0.32533,     0.32633,     0.32733,     0.32833,     0.32933,     0.33033,     0.33133,     0.33233,     0.33333,     0.33433,     0.33534,\n",
       "           0.33634,     0.33734,     0.33834,     0.33934,     0.34034,     0.34134,     0.34234,     0.34334,     0.34434,     0.34535,     0.34635,     0.34735,     0.34835,     0.34935,     0.35035,     0.35135,     0.35235,     0.35335,     0.35435,     0.35536,     0.35636,     0.35736,     0.35836,     0.35936,\n",
       "           0.36036,     0.36136,     0.36236,     0.36336,     0.36436,     0.36537,     0.36637,     0.36737,     0.36837,     0.36937,     0.37037,     0.37137,     0.37237,     0.37337,     0.37437,     0.37538,     0.37638,     0.37738,     0.37838,     0.37938,     0.38038,     0.38138,     0.38238,     0.38338,\n",
       "           0.38438,     0.38539,     0.38639,     0.38739,     0.38839,     0.38939,     0.39039,     0.39139,     0.39239,     0.39339,     0.39439,      0.3954,      0.3964,      0.3974,      0.3984,      0.3994,      0.4004,      0.4014,      0.4024,      0.4034,      0.4044,     0.40541,     0.40641,     0.40741,\n",
       "           0.40841,     0.40941,     0.41041,     0.41141,     0.41241,     0.41341,     0.41441,     0.41542,     0.41642,     0.41742,     0.41842,     0.41942,     0.42042,     0.42142,     0.42242,     0.42342,     0.42442,     0.42543,     0.42643,     0.42743,     0.42843,     0.42943,     0.43043,     0.43143,\n",
       "           0.43243,     0.43343,     0.43443,     0.43544,     0.43644,     0.43744,     0.43844,     0.43944,     0.44044,     0.44144,     0.44244,     0.44344,     0.44444,     0.44545,     0.44645,     0.44745,     0.44845,     0.44945,     0.45045,     0.45145,     0.45245,     0.45345,     0.45445,     0.45546,\n",
       "           0.45646,     0.45746,     0.45846,     0.45946,     0.46046,     0.46146,     0.46246,     0.46346,     0.46446,     0.46547,     0.46647,     0.46747,     0.46847,     0.46947,     0.47047,     0.47147,     0.47247,     0.47347,     0.47447,     0.47548,     0.47648,     0.47748,     0.47848,     0.47948,\n",
       "           0.48048,     0.48148,     0.48248,     0.48348,     0.48448,     0.48549,     0.48649,     0.48749,     0.48849,     0.48949,     0.49049,     0.49149,     0.49249,     0.49349,     0.49449,      0.4955,      0.4965,      0.4975,      0.4985,      0.4995,      0.5005,      0.5015,      0.5025,      0.5035,\n",
       "            0.5045,     0.50551,     0.50651,     0.50751,     0.50851,     0.50951,     0.51051,     0.51151,     0.51251,     0.51351,     0.51451,     0.51552,     0.51652,     0.51752,     0.51852,     0.51952,     0.52052,     0.52152,     0.52252,     0.52352,     0.52452,     0.52553,     0.52653,     0.52753,\n",
       "           0.52853,     0.52953,     0.53053,     0.53153,     0.53253,     0.53353,     0.53453,     0.53554,     0.53654,     0.53754,     0.53854,     0.53954,     0.54054,     0.54154,     0.54254,     0.54354,     0.54454,     0.54555,     0.54655,     0.54755,     0.54855,     0.54955,     0.55055,     0.55155,\n",
       "           0.55255,     0.55355,     0.55455,     0.55556,     0.55656,     0.55756,     0.55856,     0.55956,     0.56056,     0.56156,     0.56256,     0.56356,     0.56456,     0.56557,     0.56657,     0.56757,     0.56857,     0.56957,     0.57057,     0.57157,     0.57257,     0.57357,     0.57457,     0.57558,\n",
       "           0.57658,     0.57758,     0.57858,     0.57958,     0.58058,     0.58158,     0.58258,     0.58358,     0.58458,     0.58559,     0.58659,     0.58759,     0.58859,     0.58959,     0.59059,     0.59159,     0.59259,     0.59359,     0.59459,      0.5956,      0.5966,      0.5976,      0.5986,      0.5996,\n",
       "            0.6006,      0.6016,      0.6026,      0.6036,      0.6046,     0.60561,     0.60661,     0.60761,     0.60861,     0.60961,     0.61061,     0.61161,     0.61261,     0.61361,     0.61461,     0.61562,     0.61662,     0.61762,     0.61862,     0.61962,     0.62062,     0.62162,     0.62262,     0.62362,\n",
       "           0.62462,     0.62563,     0.62663,     0.62763,     0.62863,     0.62963,     0.63063,     0.63163,     0.63263,     0.63363,     0.63463,     0.63564,     0.63664,     0.63764,     0.63864,     0.63964,     0.64064,     0.64164,     0.64264,     0.64364,     0.64464,     0.64565,     0.64665,     0.64765,\n",
       "           0.64865,     0.64965,     0.65065,     0.65165,     0.65265,     0.65365,     0.65465,     0.65566,     0.65666,     0.65766,     0.65866,     0.65966,     0.66066,     0.66166,     0.66266,     0.66366,     0.66466,     0.66567,     0.66667,     0.66767,     0.66867,     0.66967,     0.67067,     0.67167,\n",
       "           0.67267,     0.67367,     0.67467,     0.67568,     0.67668,     0.67768,     0.67868,     0.67968,     0.68068,     0.68168,     0.68268,     0.68368,     0.68468,     0.68569,     0.68669,     0.68769,     0.68869,     0.68969,     0.69069,     0.69169,     0.69269,     0.69369,     0.69469,      0.6957,\n",
       "            0.6967,      0.6977,      0.6987,      0.6997,      0.7007,      0.7017,      0.7027,      0.7037,      0.7047,     0.70571,     0.70671,     0.70771,     0.70871,     0.70971,     0.71071,     0.71171,     0.71271,     0.71371,     0.71471,     0.71572,     0.71672,     0.71772,     0.71872,     0.71972,\n",
       "           0.72072,     0.72172,     0.72272,     0.72372,     0.72472,     0.72573,     0.72673,     0.72773,     0.72873,     0.72973,     0.73073,     0.73173,     0.73273,     0.73373,     0.73473,     0.73574,     0.73674,     0.73774,     0.73874,     0.73974,     0.74074,     0.74174,     0.74274,     0.74374,\n",
       "           0.74474,     0.74575,     0.74675,     0.74775,     0.74875,     0.74975,     0.75075,     0.75175,     0.75275,     0.75375,     0.75475,     0.75576,     0.75676,     0.75776,     0.75876,     0.75976,     0.76076,     0.76176,     0.76276,     0.76376,     0.76476,     0.76577,     0.76677,     0.76777,\n",
       "           0.76877,     0.76977,     0.77077,     0.77177,     0.77277,     0.77377,     0.77477,     0.77578,     0.77678,     0.77778,     0.77878,     0.77978,     0.78078,     0.78178,     0.78278,     0.78378,     0.78478,     0.78579,     0.78679,     0.78779,     0.78879,     0.78979,     0.79079,     0.79179,\n",
       "           0.79279,     0.79379,     0.79479,      0.7958,      0.7968,      0.7978,      0.7988,      0.7998,      0.8008,      0.8018,      0.8028,      0.8038,      0.8048,     0.80581,     0.80681,     0.80781,     0.80881,     0.80981,     0.81081,     0.81181,     0.81281,     0.81381,     0.81481,     0.81582,\n",
       "           0.81682,     0.81782,     0.81882,     0.81982,     0.82082,     0.82182,     0.82282,     0.82382,     0.82482,     0.82583,     0.82683,     0.82783,     0.82883,     0.82983,     0.83083,     0.83183,     0.83283,     0.83383,     0.83483,     0.83584,     0.83684,     0.83784,     0.83884,     0.83984,\n",
       "           0.84084,     0.84184,     0.84284,     0.84384,     0.84484,     0.84585,     0.84685,     0.84785,     0.84885,     0.84985,     0.85085,     0.85185,     0.85285,     0.85385,     0.85485,     0.85586,     0.85686,     0.85786,     0.85886,     0.85986,     0.86086,     0.86186,     0.86286,     0.86386,\n",
       "           0.86486,     0.86587,     0.86687,     0.86787,     0.86887,     0.86987,     0.87087,     0.87187,     0.87287,     0.87387,     0.87487,     0.87588,     0.87688,     0.87788,     0.87888,     0.87988,     0.88088,     0.88188,     0.88288,     0.88388,     0.88488,     0.88589,     0.88689,     0.88789,\n",
       "           0.88889,     0.88989,     0.89089,     0.89189,     0.89289,     0.89389,     0.89489,      0.8959,      0.8969,      0.8979,      0.8989,      0.8999,      0.9009,      0.9019,      0.9029,      0.9039,      0.9049,     0.90591,     0.90691,     0.90791,     0.90891,     0.90991,     0.91091,     0.91191,\n",
       "           0.91291,     0.91391,     0.91491,     0.91592,     0.91692,     0.91792,     0.91892,     0.91992,     0.92092,     0.92192,     0.92292,     0.92392,     0.92492,     0.92593,     0.92693,     0.92793,     0.92893,     0.92993,     0.93093,     0.93193,     0.93293,     0.93393,     0.93493,     0.93594,\n",
       "           0.93694,     0.93794,     0.93894,     0.93994,     0.94094,     0.94194,     0.94294,     0.94394,     0.94494,     0.94595,     0.94695,     0.94795,     0.94895,     0.94995,     0.95095,     0.95195,     0.95295,     0.95395,     0.95495,     0.95596,     0.95696,     0.95796,     0.95896,     0.95996,\n",
       "           0.96096,     0.96196,     0.96296,     0.96396,     0.96496,     0.96597,     0.96697,     0.96797,     0.96897,     0.96997,     0.97097,     0.97197,     0.97297,     0.97397,     0.97497,     0.97598,     0.97698,     0.97798,     0.97898,     0.97998,     0.98098,     0.98198,     0.98298,     0.98398,\n",
       "           0.98498,     0.98599,     0.98699,     0.98799,     0.98899,     0.98999,     0.99099,     0.99199,     0.99299,     0.99399,     0.99499,       0.996,       0.997,       0.998,       0.999,           1]), array([[    0.40585,     0.40585,     0.48203, ...,           1,           1,           1],\n",
       "       [     0.2624,      0.2624,     0.33216, ...,           1,           1,           1],\n",
       "       [    0.14271,     0.14271,     0.18714, ...,           1,           1,           1],\n",
       "       ...,\n",
       "       [     0.1457,      0.1457,      0.2001, ...,           1,           1,           1],\n",
       "       [    0.19774,     0.19774,     0.27054, ...,           1,           1,           1],\n",
       "       [    0.16978,     0.16978,     0.24071, ...,           1,           1,           1]]), 'Confidence', 'Precision'], [array([          0,    0.001001,    0.002002,    0.003003,    0.004004,    0.005005,    0.006006,    0.007007,    0.008008,    0.009009,     0.01001,    0.011011,    0.012012,    0.013013,    0.014014,    0.015015,    0.016016,    0.017017,    0.018018,    0.019019,     0.02002,    0.021021,    0.022022,    0.023023,\n",
       "          0.024024,    0.025025,    0.026026,    0.027027,    0.028028,    0.029029,     0.03003,    0.031031,    0.032032,    0.033033,    0.034034,    0.035035,    0.036036,    0.037037,    0.038038,    0.039039,     0.04004,    0.041041,    0.042042,    0.043043,    0.044044,    0.045045,    0.046046,    0.047047,\n",
       "          0.048048,    0.049049,     0.05005,    0.051051,    0.052052,    0.053053,    0.054054,    0.055055,    0.056056,    0.057057,    0.058058,    0.059059,     0.06006,    0.061061,    0.062062,    0.063063,    0.064064,    0.065065,    0.066066,    0.067067,    0.068068,    0.069069,     0.07007,    0.071071,\n",
       "          0.072072,    0.073073,    0.074074,    0.075075,    0.076076,    0.077077,    0.078078,    0.079079,     0.08008,    0.081081,    0.082082,    0.083083,    0.084084,    0.085085,    0.086086,    0.087087,    0.088088,    0.089089,     0.09009,    0.091091,    0.092092,    0.093093,    0.094094,    0.095095,\n",
       "          0.096096,    0.097097,    0.098098,    0.099099,      0.1001,      0.1011,      0.1021,      0.1031,      0.1041,     0.10511,     0.10611,     0.10711,     0.10811,     0.10911,     0.11011,     0.11111,     0.11211,     0.11311,     0.11411,     0.11512,     0.11612,     0.11712,     0.11812,     0.11912,\n",
       "           0.12012,     0.12112,     0.12212,     0.12312,     0.12412,     0.12513,     0.12613,     0.12713,     0.12813,     0.12913,     0.13013,     0.13113,     0.13213,     0.13313,     0.13413,     0.13514,     0.13614,     0.13714,     0.13814,     0.13914,     0.14014,     0.14114,     0.14214,     0.14314,\n",
       "           0.14414,     0.14515,     0.14615,     0.14715,     0.14815,     0.14915,     0.15015,     0.15115,     0.15215,     0.15315,     0.15415,     0.15516,     0.15616,     0.15716,     0.15816,     0.15916,     0.16016,     0.16116,     0.16216,     0.16316,     0.16416,     0.16517,     0.16617,     0.16717,\n",
       "           0.16817,     0.16917,     0.17017,     0.17117,     0.17217,     0.17317,     0.17417,     0.17518,     0.17618,     0.17718,     0.17818,     0.17918,     0.18018,     0.18118,     0.18218,     0.18318,     0.18418,     0.18519,     0.18619,     0.18719,     0.18819,     0.18919,     0.19019,     0.19119,\n",
       "           0.19219,     0.19319,     0.19419,      0.1952,      0.1962,      0.1972,      0.1982,      0.1992,      0.2002,      0.2012,      0.2022,      0.2032,      0.2042,     0.20521,     0.20621,     0.20721,     0.20821,     0.20921,     0.21021,     0.21121,     0.21221,     0.21321,     0.21421,     0.21522,\n",
       "           0.21622,     0.21722,     0.21822,     0.21922,     0.22022,     0.22122,     0.22222,     0.22322,     0.22422,     0.22523,     0.22623,     0.22723,     0.22823,     0.22923,     0.23023,     0.23123,     0.23223,     0.23323,     0.23423,     0.23524,     0.23624,     0.23724,     0.23824,     0.23924,\n",
       "           0.24024,     0.24124,     0.24224,     0.24324,     0.24424,     0.24525,     0.24625,     0.24725,     0.24825,     0.24925,     0.25025,     0.25125,     0.25225,     0.25325,     0.25425,     0.25526,     0.25626,     0.25726,     0.25826,     0.25926,     0.26026,     0.26126,     0.26226,     0.26326,\n",
       "           0.26426,     0.26527,     0.26627,     0.26727,     0.26827,     0.26927,     0.27027,     0.27127,     0.27227,     0.27327,     0.27427,     0.27528,     0.27628,     0.27728,     0.27828,     0.27928,     0.28028,     0.28128,     0.28228,     0.28328,     0.28428,     0.28529,     0.28629,     0.28729,\n",
       "           0.28829,     0.28929,     0.29029,     0.29129,     0.29229,     0.29329,     0.29429,      0.2953,      0.2963,      0.2973,      0.2983,      0.2993,      0.3003,      0.3013,      0.3023,      0.3033,      0.3043,     0.30531,     0.30631,     0.30731,     0.30831,     0.30931,     0.31031,     0.31131,\n",
       "           0.31231,     0.31331,     0.31431,     0.31532,     0.31632,     0.31732,     0.31832,     0.31932,     0.32032,     0.32132,     0.32232,     0.32332,     0.32432,     0.32533,     0.32633,     0.32733,     0.32833,     0.32933,     0.33033,     0.33133,     0.33233,     0.33333,     0.33433,     0.33534,\n",
       "           0.33634,     0.33734,     0.33834,     0.33934,     0.34034,     0.34134,     0.34234,     0.34334,     0.34434,     0.34535,     0.34635,     0.34735,     0.34835,     0.34935,     0.35035,     0.35135,     0.35235,     0.35335,     0.35435,     0.35536,     0.35636,     0.35736,     0.35836,     0.35936,\n",
       "           0.36036,     0.36136,     0.36236,     0.36336,     0.36436,     0.36537,     0.36637,     0.36737,     0.36837,     0.36937,     0.37037,     0.37137,     0.37237,     0.37337,     0.37437,     0.37538,     0.37638,     0.37738,     0.37838,     0.37938,     0.38038,     0.38138,     0.38238,     0.38338,\n",
       "           0.38438,     0.38539,     0.38639,     0.38739,     0.38839,     0.38939,     0.39039,     0.39139,     0.39239,     0.39339,     0.39439,      0.3954,      0.3964,      0.3974,      0.3984,      0.3994,      0.4004,      0.4014,      0.4024,      0.4034,      0.4044,     0.40541,     0.40641,     0.40741,\n",
       "           0.40841,     0.40941,     0.41041,     0.41141,     0.41241,     0.41341,     0.41441,     0.41542,     0.41642,     0.41742,     0.41842,     0.41942,     0.42042,     0.42142,     0.42242,     0.42342,     0.42442,     0.42543,     0.42643,     0.42743,     0.42843,     0.42943,     0.43043,     0.43143,\n",
       "           0.43243,     0.43343,     0.43443,     0.43544,     0.43644,     0.43744,     0.43844,     0.43944,     0.44044,     0.44144,     0.44244,     0.44344,     0.44444,     0.44545,     0.44645,     0.44745,     0.44845,     0.44945,     0.45045,     0.45145,     0.45245,     0.45345,     0.45445,     0.45546,\n",
       "           0.45646,     0.45746,     0.45846,     0.45946,     0.46046,     0.46146,     0.46246,     0.46346,     0.46446,     0.46547,     0.46647,     0.46747,     0.46847,     0.46947,     0.47047,     0.47147,     0.47247,     0.47347,     0.47447,     0.47548,     0.47648,     0.47748,     0.47848,     0.47948,\n",
       "           0.48048,     0.48148,     0.48248,     0.48348,     0.48448,     0.48549,     0.48649,     0.48749,     0.48849,     0.48949,     0.49049,     0.49149,     0.49249,     0.49349,     0.49449,      0.4955,      0.4965,      0.4975,      0.4985,      0.4995,      0.5005,      0.5015,      0.5025,      0.5035,\n",
       "            0.5045,     0.50551,     0.50651,     0.50751,     0.50851,     0.50951,     0.51051,     0.51151,     0.51251,     0.51351,     0.51451,     0.51552,     0.51652,     0.51752,     0.51852,     0.51952,     0.52052,     0.52152,     0.52252,     0.52352,     0.52452,     0.52553,     0.52653,     0.52753,\n",
       "           0.52853,     0.52953,     0.53053,     0.53153,     0.53253,     0.53353,     0.53453,     0.53554,     0.53654,     0.53754,     0.53854,     0.53954,     0.54054,     0.54154,     0.54254,     0.54354,     0.54454,     0.54555,     0.54655,     0.54755,     0.54855,     0.54955,     0.55055,     0.55155,\n",
       "           0.55255,     0.55355,     0.55455,     0.55556,     0.55656,     0.55756,     0.55856,     0.55956,     0.56056,     0.56156,     0.56256,     0.56356,     0.56456,     0.56557,     0.56657,     0.56757,     0.56857,     0.56957,     0.57057,     0.57157,     0.57257,     0.57357,     0.57457,     0.57558,\n",
       "           0.57658,     0.57758,     0.57858,     0.57958,     0.58058,     0.58158,     0.58258,     0.58358,     0.58458,     0.58559,     0.58659,     0.58759,     0.58859,     0.58959,     0.59059,     0.59159,     0.59259,     0.59359,     0.59459,      0.5956,      0.5966,      0.5976,      0.5986,      0.5996,\n",
       "            0.6006,      0.6016,      0.6026,      0.6036,      0.6046,     0.60561,     0.60661,     0.60761,     0.60861,     0.60961,     0.61061,     0.61161,     0.61261,     0.61361,     0.61461,     0.61562,     0.61662,     0.61762,     0.61862,     0.61962,     0.62062,     0.62162,     0.62262,     0.62362,\n",
       "           0.62462,     0.62563,     0.62663,     0.62763,     0.62863,     0.62963,     0.63063,     0.63163,     0.63263,     0.63363,     0.63463,     0.63564,     0.63664,     0.63764,     0.63864,     0.63964,     0.64064,     0.64164,     0.64264,     0.64364,     0.64464,     0.64565,     0.64665,     0.64765,\n",
       "           0.64865,     0.64965,     0.65065,     0.65165,     0.65265,     0.65365,     0.65465,     0.65566,     0.65666,     0.65766,     0.65866,     0.65966,     0.66066,     0.66166,     0.66266,     0.66366,     0.66466,     0.66567,     0.66667,     0.66767,     0.66867,     0.66967,     0.67067,     0.67167,\n",
       "           0.67267,     0.67367,     0.67467,     0.67568,     0.67668,     0.67768,     0.67868,     0.67968,     0.68068,     0.68168,     0.68268,     0.68368,     0.68468,     0.68569,     0.68669,     0.68769,     0.68869,     0.68969,     0.69069,     0.69169,     0.69269,     0.69369,     0.69469,      0.6957,\n",
       "            0.6967,      0.6977,      0.6987,      0.6997,      0.7007,      0.7017,      0.7027,      0.7037,      0.7047,     0.70571,     0.70671,     0.70771,     0.70871,     0.70971,     0.71071,     0.71171,     0.71271,     0.71371,     0.71471,     0.71572,     0.71672,     0.71772,     0.71872,     0.71972,\n",
       "           0.72072,     0.72172,     0.72272,     0.72372,     0.72472,     0.72573,     0.72673,     0.72773,     0.72873,     0.72973,     0.73073,     0.73173,     0.73273,     0.73373,     0.73473,     0.73574,     0.73674,     0.73774,     0.73874,     0.73974,     0.74074,     0.74174,     0.74274,     0.74374,\n",
       "           0.74474,     0.74575,     0.74675,     0.74775,     0.74875,     0.74975,     0.75075,     0.75175,     0.75275,     0.75375,     0.75475,     0.75576,     0.75676,     0.75776,     0.75876,     0.75976,     0.76076,     0.76176,     0.76276,     0.76376,     0.76476,     0.76577,     0.76677,     0.76777,\n",
       "           0.76877,     0.76977,     0.77077,     0.77177,     0.77277,     0.77377,     0.77477,     0.77578,     0.77678,     0.77778,     0.77878,     0.77978,     0.78078,     0.78178,     0.78278,     0.78378,     0.78478,     0.78579,     0.78679,     0.78779,     0.78879,     0.78979,     0.79079,     0.79179,\n",
       "           0.79279,     0.79379,     0.79479,      0.7958,      0.7968,      0.7978,      0.7988,      0.7998,      0.8008,      0.8018,      0.8028,      0.8038,      0.8048,     0.80581,     0.80681,     0.80781,     0.80881,     0.80981,     0.81081,     0.81181,     0.81281,     0.81381,     0.81481,     0.81582,\n",
       "           0.81682,     0.81782,     0.81882,     0.81982,     0.82082,     0.82182,     0.82282,     0.82382,     0.82482,     0.82583,     0.82683,     0.82783,     0.82883,     0.82983,     0.83083,     0.83183,     0.83283,     0.83383,     0.83483,     0.83584,     0.83684,     0.83784,     0.83884,     0.83984,\n",
       "           0.84084,     0.84184,     0.84284,     0.84384,     0.84484,     0.84585,     0.84685,     0.84785,     0.84885,     0.84985,     0.85085,     0.85185,     0.85285,     0.85385,     0.85485,     0.85586,     0.85686,     0.85786,     0.85886,     0.85986,     0.86086,     0.86186,     0.86286,     0.86386,\n",
       "           0.86486,     0.86587,     0.86687,     0.86787,     0.86887,     0.86987,     0.87087,     0.87187,     0.87287,     0.87387,     0.87487,     0.87588,     0.87688,     0.87788,     0.87888,     0.87988,     0.88088,     0.88188,     0.88288,     0.88388,     0.88488,     0.88589,     0.88689,     0.88789,\n",
       "           0.88889,     0.88989,     0.89089,     0.89189,     0.89289,     0.89389,     0.89489,      0.8959,      0.8969,      0.8979,      0.8989,      0.8999,      0.9009,      0.9019,      0.9029,      0.9039,      0.9049,     0.90591,     0.90691,     0.90791,     0.90891,     0.90991,     0.91091,     0.91191,\n",
       "           0.91291,     0.91391,     0.91491,     0.91592,     0.91692,     0.91792,     0.91892,     0.91992,     0.92092,     0.92192,     0.92292,     0.92392,     0.92492,     0.92593,     0.92693,     0.92793,     0.92893,     0.92993,     0.93093,     0.93193,     0.93293,     0.93393,     0.93493,     0.93594,\n",
       "           0.93694,     0.93794,     0.93894,     0.93994,     0.94094,     0.94194,     0.94294,     0.94394,     0.94494,     0.94595,     0.94695,     0.94795,     0.94895,     0.94995,     0.95095,     0.95195,     0.95295,     0.95395,     0.95495,     0.95596,     0.95696,     0.95796,     0.95896,     0.95996,\n",
       "           0.96096,     0.96196,     0.96296,     0.96396,     0.96496,     0.96597,     0.96697,     0.96797,     0.96897,     0.96997,     0.97097,     0.97197,     0.97297,     0.97397,     0.97497,     0.97598,     0.97698,     0.97798,     0.97898,     0.97998,     0.98098,     0.98198,     0.98298,     0.98398,\n",
       "           0.98498,     0.98599,     0.98699,     0.98799,     0.98899,     0.98999,     0.99099,     0.99199,     0.99299,     0.99399,     0.99499,       0.996,       0.997,       0.998,       0.999,           1]), array([[    0.96701,     0.96701,     0.96136, ...,           0,           0,           0],\n",
       "       [    0.94253,     0.94253,     0.93678, ...,           0,           0,           0],\n",
       "       [    0.87578,     0.87578,     0.86957, ...,           0,           0,           0],\n",
       "       ...,\n",
       "       [    0.93617,     0.93617,     0.90426, ...,           0,           0,           0],\n",
       "       [    0.95455,     0.95455,     0.93636, ...,           0,           0,           0],\n",
       "       [    0.83486,     0.83486,     0.83486, ...,           0,           0,           0]]), 'Confidence', 'Recall']]\n",
       "fitness: 0.5942069587177613\n",
       "keys: ['metrics/precision(B)', 'metrics/recall(B)', 'metrics/mAP50(B)', 'metrics/mAP50-95(B)']\n",
       "maps: array([    0.80119,     0.55118,     0.38437,       0.649,     0.41421,     0.58018,     0.60654])\n",
       "names: {0: 'Car', 1: 'Number Plate', 2: 'Blur Number Plate', 3: 'Two Wheeler', 4: 'Auto', 5: 'Bus', 6: 'Truck'}\n",
       "plot: True\n",
       "results_dict: {'metrics/precision(B)': 0.7701690720578555, 'metrics/recall(B)': 0.7633793897652487, 'metrics/mAP50(B)': 0.8163442948762044, 'metrics/mAP50-95(B)': 0.5695250324779343, 'fitness': 0.5942069587177613}\n",
       "save_dir: PosixPath('runs/train/exp')\n",
       "speed: {'preprocess': 0.13415491258775866, 'inference': 21.1585959872684, 'loss': 0.0005425633610905827, 'postprocess': 1.1797247706232845}\n",
       "task: 'detect'"
      ]
     },
     "execution_count": 3,
     "metadata": {},
     "output_type": "execute_result"
    }
   ],
   "source": [
    "from ultralytics import YOLO\n",
    "\n",
    "# Load a YOLOv8 model (e.g., YOLOv8s)\n",
    "model = YOLO('yolov8x.pt')  # Pretrained weights for YOLOv8 small model\n",
    "\n",
    "# Train the model\n",
    "model.train(\n",
    "    data='/kaggle/working/dataset.yaml',  # Path to the dataset configuration file\n",
    "    imgsz=640,  # Image size\n",
    "    batch=16,  # Batch size\n",
    "    epochs=100,  # Number of epochs\n",
    "    cache=True,  # Cache the dataset for faster training\n",
    "    project='runs/train',  # Directory where training runs are saved\n",
    "    name='exp',  # Name of the specific training run\n",
    ")\n"
   ]
  },
  {
   "cell_type": "code",
   "execution_count": null,
   "metadata": {
    "editable": false,
    "execution": {
     "iopub.execute_input": "2024-12-01T20:03:13.750045Z",
     "iopub.status.busy": "2024-12-01T20:03:13.749264Z"
    },
    "trusted": true
   },
   "outputs": [
    {
     "name": "stdout",
     "output_type": "stream",
     "text": [
      "\n",
      "\n",
      "WARNING ⚠️ inference results will accumulate in RAM unless `stream=True` is passed, causing potential out-of-memory\n",
      "errors for large sources or long-running streams and videos. See https://docs.ultralytics.com/modes/predict/ for help.\n",
      "\n",
      "Example:\n",
      "    results = model(source=..., stream=True)  # generator of Results objects\n",
      "    for r in results:\n",
      "        boxes = r.boxes  # Boxes object for bbox outputs\n",
      "        masks = r.masks  # Masks object for segment masks outputs\n",
      "        probs = r.probs  # Class probabilities for classification outputs\n",
      "\n",
      "image 1/278 /kaggle/input/traffic-vehicles-object-detection/Traffic Dataset/images/test/00 (1).png: 640x608 1 Car, 1 Number Plate, 82.7ms\n",
      "image 2/278 /kaggle/input/traffic-vehicles-object-detection/Traffic Dataset/images/test/00 (10).png: 640x640 2 Cars, 1 Number Plate, 1 Two Wheeler, 73.2ms\n",
      "image 3/278 /kaggle/input/traffic-vehicles-object-detection/Traffic Dataset/images/test/00 (100).png: 384x640 1 Car, 1 Number Plate, 1 Blur Number Plate, 1 Two Wheeler, 1 Auto, 44.9ms\n",
      "image 4/278 /kaggle/input/traffic-vehicles-object-detection/Traffic Dataset/images/test/00 (11).png: 640x640 1 Car, 2 Number Plates, 1 Two Wheeler, 65.3ms\n",
      "image 5/278 /kaggle/input/traffic-vehicles-object-detection/Traffic Dataset/images/test/00 (12).png: 640x640 1 Car, 1 Number Plate, 1 Blur Number Plate, 65.0ms\n",
      "image 6/278 /kaggle/input/traffic-vehicles-object-detection/Traffic Dataset/images/test/00 (13).png: 640x640 3 Cars, 1 Number Plate, 5 Two Wheelers, 55.6ms\n",
      "image 7/278 /kaggle/input/traffic-vehicles-object-detection/Traffic Dataset/images/test/00 (14).png: 352x640 4 Cars, 1 Number Plate, 1 Two Wheeler, 43.1ms\n",
      "image 8/278 /kaggle/input/traffic-vehicles-object-detection/Traffic Dataset/images/test/00 (15).png: 640x544 1 Car, 1 Number Plate, 57.5ms\n",
      "image 9/278 /kaggle/input/traffic-vehicles-object-detection/Traffic Dataset/images/test/00 (16).png: 640x640 2 Cars, 2 Number Plates, 1 Two Wheeler, 57.4ms\n",
      "image 10/278 /kaggle/input/traffic-vehicles-object-detection/Traffic Dataset/images/test/00 (17).png: 640x576 2 Cars, 1 Number Plate, 53.9ms\n",
      "image 11/278 /kaggle/input/traffic-vehicles-object-detection/Traffic Dataset/images/test/00 (174).jpg: 384x640 6 Cars, 2 Blur Number Plates, 38.0ms\n",
      "image 12/278 /kaggle/input/traffic-vehicles-object-detection/Traffic Dataset/images/test/00 (175).jpg: 384x640 5 Cars, 2 Blur Number Plates, 33.1ms\n",
      "image 13/278 /kaggle/input/traffic-vehicles-object-detection/Traffic Dataset/images/test/00 (176).jpg: 384x640 5 Cars, 1 Blur Number Plate, 33.9ms\n",
      "image 14/278 /kaggle/input/traffic-vehicles-object-detection/Traffic Dataset/images/test/00 (177).jpg: 384x640 6 Cars, 1 Number Plate, 1 Blur Number Plate, 34.4ms\n",
      "image 15/278 /kaggle/input/traffic-vehicles-object-detection/Traffic Dataset/images/test/00 (178).jpg: 384x640 5 Cars, 2 Number Plates, 1 Blur Number Plate, 33.8ms\n",
      "image 16/278 /kaggle/input/traffic-vehicles-object-detection/Traffic Dataset/images/test/00 (179).jpg: 384x640 5 Cars, 2 Number Plates, 1 Blur Number Plate, 33.7ms\n",
      "image 17/278 /kaggle/input/traffic-vehicles-object-detection/Traffic Dataset/images/test/00 (18).png: 640x640 1 Car, 1 Number Plate, 1 Two Wheeler, 53.0ms\n",
      "image 18/278 /kaggle/input/traffic-vehicles-object-detection/Traffic Dataset/images/test/00 (180).jpg: 384x640 5 Cars, 1 Number Plate, 1 Blur Number Plate, 2 Buss, 41.3ms\n",
      "image 19/278 /kaggle/input/traffic-vehicles-object-detection/Traffic Dataset/images/test/00 (181).jpg: 384x640 5 Cars, 1 Blur Number Plate, 1 Two Wheeler, 1 Bus, 33.3ms\n",
      "image 20/278 /kaggle/input/traffic-vehicles-object-detection/Traffic Dataset/images/test/00 (182).jpg: 384x640 5 Cars, 3 Blur Number Plates, 1 Two Wheeler, 2 Buss, 33.1ms\n",
      "image 21/278 /kaggle/input/traffic-vehicles-object-detection/Traffic Dataset/images/test/00 (183).jpg: 384x640 3 Two Wheelers, 2 Buss, 32.6ms\n",
      "image 22/278 /kaggle/input/traffic-vehicles-object-detection/Traffic Dataset/images/test/00 (184).jpg: 384x640 3 Two Wheelers, 2 Buss, 33.5ms\n",
      "image 23/278 /kaggle/input/traffic-vehicles-object-detection/Traffic Dataset/images/test/00 (185).jpg: 384x640 1 Two Wheeler, 1 Bus, 33.5ms\n",
      "image 24/278 /kaggle/input/traffic-vehicles-object-detection/Traffic Dataset/images/test/00 (186).jpg: 384x640 1 Car, 2 Two Wheelers, 1 Bus, 33.3ms\n",
      "image 25/278 /kaggle/input/traffic-vehicles-object-detection/Traffic Dataset/images/test/00 (187).jpg: 384x640 2 Two Wheelers, 1 Bus, 33.8ms\n",
      "image 26/278 /kaggle/input/traffic-vehicles-object-detection/Traffic Dataset/images/test/00 (188).jpg: 384x640 2 Two Wheelers, 1 Bus, 34.5ms\n",
      "image 27/278 /kaggle/input/traffic-vehicles-object-detection/Traffic Dataset/images/test/00 (189).jpg: 384x640 1 Two Wheeler, 1 Bus, 34.8ms\n",
      "image 28/278 /kaggle/input/traffic-vehicles-object-detection/Traffic Dataset/images/test/00 (19).png: 640x608 4 Cars, 1 Number Plate, 1 Blur Number Plate, 1 Two Wheeler, 50.5ms\n",
      "image 29/278 /kaggle/input/traffic-vehicles-object-detection/Traffic Dataset/images/test/00 (190).jpg: 384x640 4 Two Wheelers, 1 Bus, 43.3ms\n",
      "image 30/278 /kaggle/input/traffic-vehicles-object-detection/Traffic Dataset/images/test/00 (191).jpg: 384x640 3 Two Wheelers, 1 Bus, 33.2ms\n",
      "image 31/278 /kaggle/input/traffic-vehicles-object-detection/Traffic Dataset/images/test/00 (192).jpg: 384x640 2 Two Wheelers, 1 Bus, 34.5ms\n",
      "image 32/278 /kaggle/input/traffic-vehicles-object-detection/Traffic Dataset/images/test/00 (193).jpg: 384x640 2 Two Wheelers, 1 Bus, 35.7ms\n",
      "image 33/278 /kaggle/input/traffic-vehicles-object-detection/Traffic Dataset/images/test/00 (194).jpg: 384x640 1 Two Wheeler, 1 Bus, 33.6ms\n",
      "image 34/278 /kaggle/input/traffic-vehicles-object-detection/Traffic Dataset/images/test/00 (195).jpg: 384x640 2 Two Wheelers, 2 Buss, 34.8ms\n",
      "image 35/278 /kaggle/input/traffic-vehicles-object-detection/Traffic Dataset/images/test/00 (196).jpg: 384x640 2 Two Wheelers, 2 Buss, 33.2ms\n",
      "image 36/278 /kaggle/input/traffic-vehicles-object-detection/Traffic Dataset/images/test/00 (197).jpg: 384x640 3 Two Wheelers, 1 Bus, 33.4ms\n",
      "image 37/278 /kaggle/input/traffic-vehicles-object-detection/Traffic Dataset/images/test/00 (198).jpg: 384x640 2 Two Wheelers, 3 Buss, 33.6ms\n",
      "image 38/278 /kaggle/input/traffic-vehicles-object-detection/Traffic Dataset/images/test/00 (199).jpg: 384x640 1 Car, 3 Two Wheelers, 3 Buss, 33.4ms\n",
      "image 39/278 /kaggle/input/traffic-vehicles-object-detection/Traffic Dataset/images/test/00 (2).png: 640x576 1 Car, 2 Number Plates, 1 Two Wheeler, 1 Auto, 51.1ms\n",
      "image 40/278 /kaggle/input/traffic-vehicles-object-detection/Traffic Dataset/images/test/00 (20).png: 608x640 5 Cars, 1 Number Plate, 2 Blur Number Plates, 1 Two Wheeler, 55.7ms\n",
      "image 41/278 /kaggle/input/traffic-vehicles-object-detection/Traffic Dataset/images/test/00 (200).jpg: 384x640 2 Cars, 2 Two Wheelers, 1 Bus, 39.4ms\n",
      "image 42/278 /kaggle/input/traffic-vehicles-object-detection/Traffic Dataset/images/test/00 (201).jpg: 384x640 2 Cars, 4 Two Wheelers, 1 Bus, 32.5ms\n",
      "image 43/278 /kaggle/input/traffic-vehicles-object-detection/Traffic Dataset/images/test/00 (202).jpg: 384x640 1 Car, 3 Two Wheelers, 1 Bus, 33.9ms\n",
      "image 44/278 /kaggle/input/traffic-vehicles-object-detection/Traffic Dataset/images/test/00 (203).jpg: 384x640 3 Two Wheelers, 1 Bus, 33.3ms\n",
      "image 45/278 /kaggle/input/traffic-vehicles-object-detection/Traffic Dataset/images/test/00 (204).jpg: 384x640 1 Car, 2 Two Wheelers, 1 Bus, 34.8ms\n",
      "image 46/278 /kaggle/input/traffic-vehicles-object-detection/Traffic Dataset/images/test/00 (205).jpg: 384x640 2 Cars, 2 Two Wheelers, 1 Bus, 35.6ms\n",
      "image 47/278 /kaggle/input/traffic-vehicles-object-detection/Traffic Dataset/images/test/00 (206).jpg: 384x640 2 Cars, 2 Two Wheelers, 1 Bus, 32.8ms\n",
      "image 48/278 /kaggle/input/traffic-vehicles-object-detection/Traffic Dataset/images/test/00 (207).jpg: 384x640 1 Car, 2 Two Wheelers, 1 Bus, 33.3ms\n",
      "image 49/278 /kaggle/input/traffic-vehicles-object-detection/Traffic Dataset/images/test/00 (208).jpg: 384x640 1 Car, 3 Two Wheelers, 2 Buss, 33.4ms\n",
      "image 50/278 /kaggle/input/traffic-vehicles-object-detection/Traffic Dataset/images/test/00 (209).jpg: 384x640 1 Car, 1 Two Wheeler, 2 Buss, 34.0ms\n",
      "image 51/278 /kaggle/input/traffic-vehicles-object-detection/Traffic Dataset/images/test/00 (21).png: 640x640 6 Cars, 1 Number Plate, 1 Blur Number Plate, 1 Two Wheeler, 1 Auto, 54.1ms\n",
      "image 52/278 /kaggle/input/traffic-vehicles-object-detection/Traffic Dataset/images/test/00 (210).jpg: 384x640 2 Cars, 2 Two Wheelers, 1 Bus, 38.4ms\n",
      "image 53/278 /kaggle/input/traffic-vehicles-object-detection/Traffic Dataset/images/test/00 (211).jpg: 384x640 2 Cars, 2 Two Wheelers, 2 Buss, 33.4ms\n",
      "image 54/278 /kaggle/input/traffic-vehicles-object-detection/Traffic Dataset/images/test/00 (212).jpg: 384x640 1 Car, 1 Two Wheeler, 2 Buss, 34.9ms\n",
      "image 55/278 /kaggle/input/traffic-vehicles-object-detection/Traffic Dataset/images/test/00 (213).jpg: 384x640 1 Car, 2 Two Wheelers, 2 Buss, 34.0ms\n",
      "image 56/278 /kaggle/input/traffic-vehicles-object-detection/Traffic Dataset/images/test/00 (214).jpg: 384x640 2 Cars, 2 Two Wheelers, 3 Buss, 32.6ms\n",
      "image 57/278 /kaggle/input/traffic-vehicles-object-detection/Traffic Dataset/images/test/00 (215).jpg: 384x640 19 Cars, 2 Number Plates, 1 Blur Number Plate, 3 Trucks, 30.4ms\n",
      "image 58/278 /kaggle/input/traffic-vehicles-object-detection/Traffic Dataset/images/test/00 (216).jpg: 384x640 17 Cars, 3 Number Plates, 1 Blur Number Plate, 3 Trucks, 30.3ms\n",
      "image 59/278 /kaggle/input/traffic-vehicles-object-detection/Traffic Dataset/images/test/00 (217).jpg: 384x640 14 Cars, 4 Number Plates, 3 Trucks, 30.9ms\n",
      "image 60/278 /kaggle/input/traffic-vehicles-object-detection/Traffic Dataset/images/test/00 (218).jpg: 384x640 13 Cars, 4 Number Plates, 1 Blur Number Plate, 3 Trucks, 32.1ms\n",
      "image 61/278 /kaggle/input/traffic-vehicles-object-detection/Traffic Dataset/images/test/00 (219).jpg: 384x640 14 Cars, 4 Number Plates, 1 Blur Number Plate, 3 Trucks, 31.9ms\n",
      "image 62/278 /kaggle/input/traffic-vehicles-object-detection/Traffic Dataset/images/test/00 (22).png: 640x640 5 Cars, 1 Number Plate, 1 Blur Number Plate, 2 Two Wheelers, 2 Autos, 56.6ms\n",
      "image 63/278 /kaggle/input/traffic-vehicles-object-detection/Traffic Dataset/images/test/00 (220).jpg: 384x640 15 Cars, 4 Number Plates, 3 Trucks, 34.8ms\n",
      "image 64/278 /kaggle/input/traffic-vehicles-object-detection/Traffic Dataset/images/test/00 (221).jpg: 384x640 15 Cars, 5 Number Plates, 3 Trucks, 33.9ms\n",
      "image 65/278 /kaggle/input/traffic-vehicles-object-detection/Traffic Dataset/images/test/00 (222).jpg: 384x640 15 Cars, 3 Number Plates, 3 Trucks, 34.2ms\n",
      "image 66/278 /kaggle/input/traffic-vehicles-object-detection/Traffic Dataset/images/test/00 (223).jpg: 384x640 16 Cars, 2 Number Plates, 3 Trucks, 33.8ms\n",
      "image 67/278 /kaggle/input/traffic-vehicles-object-detection/Traffic Dataset/images/test/00 (224).jpg: 384x640 16 Cars, 3 Number Plates, 3 Trucks, 33.1ms\n",
      "image 68/278 /kaggle/input/traffic-vehicles-object-detection/Traffic Dataset/images/test/00 (225).jpg: 384x640 18 Cars, 2 Number Plates, 1 Blur Number Plate, 2 Trucks, 33.2ms\n",
      "image 69/278 /kaggle/input/traffic-vehicles-object-detection/Traffic Dataset/images/test/00 (226).jpg: 384x640 16 Cars, 2 Number Plates, 1 Blur Number Plate, 2 Trucks, 33.1ms\n",
      "image 70/278 /kaggle/input/traffic-vehicles-object-detection/Traffic Dataset/images/test/00 (227).jpg: 384x640 17 Cars, 1 Number Plate, 1 Blur Number Plate, 2 Trucks, 33.0ms\n",
      "image 71/278 /kaggle/input/traffic-vehicles-object-detection/Traffic Dataset/images/test/00 (228).jpg: 384x640 18 Cars, 2 Number Plates, 3 Trucks, 33.1ms\n",
      "image 72/278 /kaggle/input/traffic-vehicles-object-detection/Traffic Dataset/images/test/00 (229).jpg: 384x640 17 Cars, 3 Number Plates, 3 Trucks, 33.1ms\n",
      "image 73/278 /kaggle/input/traffic-vehicles-object-detection/Traffic Dataset/images/test/00 (23).png: 640x640 6 Cars, 1 Number Plate, 1 Blur Number Plate, 2 Two Wheelers, 1 Auto, 58.4ms\n",
      "image 74/278 /kaggle/input/traffic-vehicles-object-detection/Traffic Dataset/images/test/00 (230).jpg: 384x640 17 Cars, 3 Number Plates, 1 Blur Number Plate, 3 Trucks, 34.6ms\n",
      "image 75/278 /kaggle/input/traffic-vehicles-object-detection/Traffic Dataset/images/test/00 (231).jpg: 384x640 16 Cars, 4 Number Plates, 1 Blur Number Plate, 3 Trucks, 34.0ms\n",
      "image 76/278 /kaggle/input/traffic-vehicles-object-detection/Traffic Dataset/images/test/00 (232).jpg: 384x640 19 Cars, 2 Number Plates, 1 Blur Number Plate, 3 Trucks, 34.5ms\n",
      "image 77/278 /kaggle/input/traffic-vehicles-object-detection/Traffic Dataset/images/test/00 (233).jpg: 384x640 18 Cars, 3 Number Plates, 3 Trucks, 34.3ms\n",
      "image 78/278 /kaggle/input/traffic-vehicles-object-detection/Traffic Dataset/images/test/00 (234).jpg: 384x640 17 Cars, 2 Number Plates, 3 Trucks, 34.8ms\n",
      "image 79/278 /kaggle/input/traffic-vehicles-object-detection/Traffic Dataset/images/test/00 (235).jpg: 384x640 19 Cars, 2 Number Plates, 3 Trucks, 34.4ms\n",
      "image 80/278 /kaggle/input/traffic-vehicles-object-detection/Traffic Dataset/images/test/00 (236).jpg: 384x640 17 Cars, 2 Number Plates, 3 Trucks, 34.1ms\n",
      "image 81/278 /kaggle/input/traffic-vehicles-object-detection/Traffic Dataset/images/test/00 (237).jpg: 384x640 17 Cars, 2 Number Plates, 3 Trucks, 34.1ms\n",
      "image 82/278 /kaggle/input/traffic-vehicles-object-detection/Traffic Dataset/images/test/00 (238).jpg: 384x640 16 Cars, 4 Number Plates, 3 Trucks, 33.9ms\n",
      "image 83/278 /kaggle/input/traffic-vehicles-object-detection/Traffic Dataset/images/test/00 (239).jpg: 384x640 16 Cars, 4 Number Plates, 3 Trucks, 34.6ms\n",
      "image 84/278 /kaggle/input/traffic-vehicles-object-detection/Traffic Dataset/images/test/00 (24).png: 576x640 8 Cars, 1 Number Plate, 1 Blur Number Plate, 2 Two Wheelers, 55.4ms\n",
      "image 85/278 /kaggle/input/traffic-vehicles-object-detection/Traffic Dataset/images/test/00 (240).jpg: 384x640 17 Cars, 3 Number Plates, 3 Trucks, 34.3ms\n",
      "image 86/278 /kaggle/input/traffic-vehicles-object-detection/Traffic Dataset/images/test/00 (241).jpg: 384x640 17 Cars, 3 Number Plates, 3 Trucks, 35.1ms\n",
      "image 87/278 /kaggle/input/traffic-vehicles-object-detection/Traffic Dataset/images/test/00 (242).jpg: 384x640 18 Cars, 3 Number Plates, 3 Trucks, 35.4ms\n",
      "image 88/278 /kaggle/input/traffic-vehicles-object-detection/Traffic Dataset/images/test/00 (243).jpg: 384x640 17 Cars, 4 Number Plates, 3 Trucks, 35.2ms\n",
      "image 89/278 /kaggle/input/traffic-vehicles-object-detection/Traffic Dataset/images/test/00 (244).jpg: 384x640 18 Cars, 4 Number Plates, 3 Trucks, 35.5ms\n",
      "image 90/278 /kaggle/input/traffic-vehicles-object-detection/Traffic Dataset/images/test/00 (245).jpg: 384x640 19 Cars, 4 Number Plates, 2 Trucks, 35.1ms\n",
      "image 91/278 /kaggle/input/traffic-vehicles-object-detection/Traffic Dataset/images/test/00 (246).jpg: 384x640 18 Cars, 3 Number Plates, 2 Trucks, 34.6ms\n",
      "image 92/278 /kaggle/input/traffic-vehicles-object-detection/Traffic Dataset/images/test/00 (247).jpg: 384x640 2 Cars, 4 Two Wheelers, 3 Buss, 35.2ms\n",
      "image 93/278 /kaggle/input/traffic-vehicles-object-detection/Traffic Dataset/images/test/00 (248).jpg: 384x640 7 Cars, 1 Blur Number Plate, 1 Two Wheeler, 2 Buss, 35.7ms\n",
      "image 94/278 /kaggle/input/traffic-vehicles-object-detection/Traffic Dataset/images/test/00 (249).jpg: 384x640 4 Cars, 1 Two Wheeler, 35.0ms\n",
      "image 95/278 /kaggle/input/traffic-vehicles-object-detection/Traffic Dataset/images/test/00 (25).png: 640x544 3 Cars, 1 Number Plate, 1 Blur Number Plate, 2 Two Wheelers, 50.5ms\n",
      "image 96/278 /kaggle/input/traffic-vehicles-object-detection/Traffic Dataset/images/test/00 (250).jpg: 384x640 3 Cars, 40.5ms\n",
      "image 97/278 /kaggle/input/traffic-vehicles-object-detection/Traffic Dataset/images/test/00 (251).jpg: 384x640 4 Cars, 33.6ms\n",
      "image 98/278 /kaggle/input/traffic-vehicles-object-detection/Traffic Dataset/images/test/00 (252).jpg: 384x640 1 Car, 34.6ms\n",
      "image 99/278 /kaggle/input/traffic-vehicles-object-detection/Traffic Dataset/images/test/00 (26).png: 640x544 3 Cars, 1 Number Plate, 52.7ms\n",
      "image 100/278 /kaggle/input/traffic-vehicles-object-detection/Traffic Dataset/images/test/00 (265).jpg: 384x640 4 Cars, 2 Number Plates, 1 Blur Number Plate, 1 Bus, 37.4ms\n",
      "image 101/278 /kaggle/input/traffic-vehicles-object-detection/Traffic Dataset/images/test/00 (266).jpg: 384x640 4 Cars, 1 Bus, 32.7ms\n",
      "image 102/278 /kaggle/input/traffic-vehicles-object-detection/Traffic Dataset/images/test/00 (267).jpg: 384x640 4 Cars, 33.5ms\n",
      "image 103/278 /kaggle/input/traffic-vehicles-object-detection/Traffic Dataset/images/test/00 (268).jpg: 384x640 3 Cars, 1 Blur Number Plate, 2 Buss, 33.8ms\n",
      "image 104/278 /kaggle/input/traffic-vehicles-object-detection/Traffic Dataset/images/test/00 (269).jpg: 384x640 4 Cars, 1 Number Plate, 1 Auto, 2 Buss, 1 Truck, 33.8ms\n",
      "image 105/278 /kaggle/input/traffic-vehicles-object-detection/Traffic Dataset/images/test/00 (27).png: 544x640 3 Cars, 1 Number Plate, 1 Blur Number Plate, 2 Two Wheelers, 53.5ms\n",
      "image 106/278 /kaggle/input/traffic-vehicles-object-detection/Traffic Dataset/images/test/00 (270).jpg: 384x640 2 Cars, 1 Auto, 2 Buss, 1 Truck, 37.6ms\n",
      "image 107/278 /kaggle/input/traffic-vehicles-object-detection/Traffic Dataset/images/test/00 (271).jpg: 384x640 2 Cars, 3 Buss, 1 Truck, 31.4ms\n",
      "image 108/278 /kaggle/input/traffic-vehicles-object-detection/Traffic Dataset/images/test/00 (272).jpg: 384x640 4 Buss, 33.4ms\n",
      "image 109/278 /kaggle/input/traffic-vehicles-object-detection/Traffic Dataset/images/test/00 (273).jpg: 384x640 2 Buss, 33.3ms\n",
      "image 110/278 /kaggle/input/traffic-vehicles-object-detection/Traffic Dataset/images/test/00 (274).jpg: 384x640 1 Number Plate, 2 Buss, 33.7ms\n",
      "image 111/278 /kaggle/input/traffic-vehicles-object-detection/Traffic Dataset/images/test/00 (275).jpg: 384x640 1 Car, 1 Number Plate, 1 Blur Number Plate, 2 Buss, 34.3ms\n",
      "image 112/278 /kaggle/input/traffic-vehicles-object-detection/Traffic Dataset/images/test/00 (276).jpg: 384x640 3 Cars, 1 Number Plate, 2 Blur Number Plates, 2 Buss, 32.3ms\n",
      "image 113/278 /kaggle/input/traffic-vehicles-object-detection/Traffic Dataset/images/test/00 (277).jpg: 384x640 3 Cars, 1 Number Plate, 2 Blur Number Plates, 2 Buss, 1 Truck, 33.4ms\n",
      "image 114/278 /kaggle/input/traffic-vehicles-object-detection/Traffic Dataset/images/test/00 (278).jpg: 384x640 3 Cars, 1 Number Plate, 2 Blur Number Plates, 2 Buss, 1 Truck, 33.4ms\n",
      "image 115/278 /kaggle/input/traffic-vehicles-object-detection/Traffic Dataset/images/test/00 (279).jpg: 384x640 3 Cars, 1 Blur Number Plate, 1 Two Wheeler, 2 Buss, 1 Truck, 33.0ms\n",
      "image 116/278 /kaggle/input/traffic-vehicles-object-detection/Traffic Dataset/images/test/00 (28).png: 608x640 4 Cars, 2 Number Plates, 54.9ms\n",
      "image 117/278 /kaggle/input/traffic-vehicles-object-detection/Traffic Dataset/images/test/00 (280).jpg: 384x640 4 Cars, 2 Blur Number Plates, 1 Two Wheeler, 2 Buss, 1 Truck, 38.9ms\n",
      "image 118/278 /kaggle/input/traffic-vehicles-object-detection/Traffic Dataset/images/test/00 (281).jpg: 640x384 14 Cars, 4 Number Plates, 3 Two Wheelers, 2 Buss, 44.1ms\n",
      "image 119/278 /kaggle/input/traffic-vehicles-object-detection/Traffic Dataset/images/test/00 (282).jpg: 640x384 12 Cars, 2 Number Plates, 1 Bus, 30.5ms\n",
      "image 120/278 /kaggle/input/traffic-vehicles-object-detection/Traffic Dataset/images/test/00 (283).jpg: 640x384 12 Cars, 2 Number Plates, 1 Bus, 34.8ms\n",
      "image 121/278 /kaggle/input/traffic-vehicles-object-detection/Traffic Dataset/images/test/00 (284).jpg: 640x384 12 Cars, 1 Number Plate, 1 Blur Number Plate, 1 Bus, 33.6ms\n",
      "image 122/278 /kaggle/input/traffic-vehicles-object-detection/Traffic Dataset/images/test/00 (285).jpg: 640x384 12 Cars, 1 Number Plate, 1 Bus, 34.9ms\n",
      "image 123/278 /kaggle/input/traffic-vehicles-object-detection/Traffic Dataset/images/test/00 (286).jpg: 640x384 12 Cars, 3 Number Plates, 2 Buss, 33.9ms\n",
      "image 124/278 /kaggle/input/traffic-vehicles-object-detection/Traffic Dataset/images/test/00 (287).jpg: 640x384 12 Cars, 3 Number Plates, 1 Bus, 31.1ms\n",
      "image 125/278 /kaggle/input/traffic-vehicles-object-detection/Traffic Dataset/images/test/00 (288).jpg: 640x384 12 Cars, 2 Number Plates, 1 Bus, 33.3ms\n",
      "image 126/278 /kaggle/input/traffic-vehicles-object-detection/Traffic Dataset/images/test/00 (289).jpg: 640x384 12 Cars, 2 Number Plates, 1 Bus, 32.7ms\n",
      "image 127/278 /kaggle/input/traffic-vehicles-object-detection/Traffic Dataset/images/test/00 (29).png: 640x480 2 Cars, 1 Blur Number Plate, 1 Two Wheeler, 44.9ms\n",
      "image 128/278 /kaggle/input/traffic-vehicles-object-detection/Traffic Dataset/images/test/00 (290).jpg: 640x384 12 Cars, 2 Number Plates, 1 Bus, 41.4ms\n",
      "image 129/278 /kaggle/input/traffic-vehicles-object-detection/Traffic Dataset/images/test/00 (291).jpg: 640x384 12 Cars, 2 Number Plates, 1 Bus, 32.5ms\n",
      "image 130/278 /kaggle/input/traffic-vehicles-object-detection/Traffic Dataset/images/test/00 (292).jpg: 640x384 12 Cars, 2 Number Plates, 1 Bus, 32.5ms\n",
      "image 131/278 /kaggle/input/traffic-vehicles-object-detection/Traffic Dataset/images/test/00 (293).jpg: 640x384 12 Cars, 1 Number Plate, 1 Bus, 33.6ms\n",
      "image 132/278 /kaggle/input/traffic-vehicles-object-detection/Traffic Dataset/images/test/00 (294).jpg: 640x384 12 Cars, 2 Number Plates, 1 Bus, 32.4ms\n",
      "image 133/278 /kaggle/input/traffic-vehicles-object-detection/Traffic Dataset/images/test/00 (295).jpg: 640x384 12 Cars, 2 Number Plates, 1 Bus, 32.9ms\n",
      "image 134/278 /kaggle/input/traffic-vehicles-object-detection/Traffic Dataset/images/test/00 (296).jpg: 640x384 12 Cars, 2 Number Plates, 1 Bus, 33.7ms\n",
      "image 135/278 /kaggle/input/traffic-vehicles-object-detection/Traffic Dataset/images/test/00 (297).jpg: 640x384 12 Cars, 1 Number Plate, 1 Bus, 33.0ms\n",
      "image 136/278 /kaggle/input/traffic-vehicles-object-detection/Traffic Dataset/images/test/00 (298).jpg: 640x384 12 Cars, 2 Number Plates, 1 Bus, 33.4ms\n",
      "image 137/278 /kaggle/input/traffic-vehicles-object-detection/Traffic Dataset/images/test/00 (299).jpg: 640x384 12 Cars, 2 Number Plates, 1 Bus, 33.8ms\n",
      "image 138/278 /kaggle/input/traffic-vehicles-object-detection/Traffic Dataset/images/test/00 (3).png: 640x608 1 Car, 2 Number Plates, 58.2ms\n",
      "image 139/278 /kaggle/input/traffic-vehicles-object-detection/Traffic Dataset/images/test/00 (30).png: 576x640 1 Car, 1 Number Plate, 1 Two Wheeler, 53.7ms\n",
      "image 140/278 /kaggle/input/traffic-vehicles-object-detection/Traffic Dataset/images/test/00 (300).jpg: 640x384 12 Cars, 2 Number Plates, 1 Bus, 40.7ms\n",
      "image 141/278 /kaggle/input/traffic-vehicles-object-detection/Traffic Dataset/images/test/00 (301).jpg: 640x384 12 Cars, 2 Number Plates, 1 Two Wheeler, 1 Bus, 36.1ms\n",
      "image 142/278 /kaggle/input/traffic-vehicles-object-detection/Traffic Dataset/images/test/00 (302).jpg: 640x384 12 Cars, 2 Number Plates, 1 Two Wheeler, 1 Bus, 37.1ms\n",
      "image 143/278 /kaggle/input/traffic-vehicles-object-detection/Traffic Dataset/images/test/00 (303).jpg: 640x384 13 Cars, 2 Number Plates, 1 Two Wheeler, 1 Bus, 36.5ms\n",
      "image 144/278 /kaggle/input/traffic-vehicles-object-detection/Traffic Dataset/images/test/00 (304).jpg: 640x384 13 Cars, 2 Number Plates, 1 Two Wheeler, 1 Bus, 31.8ms\n",
      "image 145/278 /kaggle/input/traffic-vehicles-object-detection/Traffic Dataset/images/test/00 (305).jpg: 640x384 14 Cars, 3 Number Plates, 1 Two Wheeler, 1 Bus, 32.0ms\n",
      "image 146/278 /kaggle/input/traffic-vehicles-object-detection/Traffic Dataset/images/test/00 (306).jpg: 640x384 13 Cars, 2 Number Plates, 2 Two Wheelers, 1 Bus, 32.3ms\n",
      "image 147/278 /kaggle/input/traffic-vehicles-object-detection/Traffic Dataset/images/test/00 (307).jpg: 640x384 13 Cars, 3 Number Plates, 2 Two Wheelers, 1 Bus, 33.6ms\n",
      "image 148/278 /kaggle/input/traffic-vehicles-object-detection/Traffic Dataset/images/test/00 (308).jpg: 640x384 13 Cars, 3 Number Plates, 2 Two Wheelers, 1 Bus, 33.8ms\n",
      "image 149/278 /kaggle/input/traffic-vehicles-object-detection/Traffic Dataset/images/test/00 (309).jpg: 640x384 14 Cars, 3 Number Plates, 3 Two Wheelers, 1 Bus, 33.6ms\n",
      "image 150/278 /kaggle/input/traffic-vehicles-object-detection/Traffic Dataset/images/test/00 (31).png: 640x448 2 Cars, 1 Number Plate, 1 Blur Number Plate, 1 Two Wheeler, 43.8ms\n",
      "image 151/278 /kaggle/input/traffic-vehicles-object-detection/Traffic Dataset/images/test/00 (310).jpg: 640x384 13 Cars, 3 Number Plates, 3 Two Wheelers, 1 Bus, 36.6ms\n",
      "image 152/278 /kaggle/input/traffic-vehicles-object-detection/Traffic Dataset/images/test/00 (311).jpg: 640x384 13 Cars, 3 Number Plates, 4 Two Wheelers, 1 Bus, 30.9ms\n",
      "image 153/278 /kaggle/input/traffic-vehicles-object-detection/Traffic Dataset/images/test/00 (312).jpg: 640x384 13 Cars, 3 Number Plates, 4 Two Wheelers, 1 Bus, 33.4ms\n",
      "image 154/278 /kaggle/input/traffic-vehicles-object-detection/Traffic Dataset/images/test/00 (313).jpg: 384x640 8 Cars, 3 Number Plates, 34.1ms\n",
      "image 155/278 /kaggle/input/traffic-vehicles-object-detection/Traffic Dataset/images/test/00 (314).jpg: 640x384 5 Cars, 1 Blur Number Plate, 1 Bus, 1 Truck, 33.7ms\n",
      "image 156/278 /kaggle/input/traffic-vehicles-object-detection/Traffic Dataset/images/test/00 (315).jpg: 384x640 7 Cars, 2 Number Plates, 31.3ms\n",
      "image 157/278 /kaggle/input/traffic-vehicles-object-detection/Traffic Dataset/images/test/00 (316).jpg: 416x640 1 Truck, 44.2ms\n",
      "image 158/278 /kaggle/input/traffic-vehicles-object-detection/Traffic Dataset/images/test/00 (317).jpg: 448x640 3 Trucks, 46.0ms\n",
      "image 159/278 /kaggle/input/traffic-vehicles-object-detection/Traffic Dataset/images/test/00 (318).jpg: 448x640 3 Blur Number Plates, 1 Truck, 50.6ms\n",
      "image 160/278 /kaggle/input/traffic-vehicles-object-detection/Traffic Dataset/images/test/00 (32).png: 576x640 2 Cars, 2 Number Plates, 2 Blur Number Plates, 53.9ms\n",
      "image 161/278 /kaggle/input/traffic-vehicles-object-detection/Traffic Dataset/images/test/00 (321).jpg: 480x640 1 Blur Number Plate, 2 Trucks, 52.1ms\n",
      "image 162/278 /kaggle/input/traffic-vehicles-object-detection/Traffic Dataset/images/test/00 (322).jpg: 640x640 1 Blur Number Plate, 3 Trucks, 70.2ms\n",
      "image 163/278 /kaggle/input/traffic-vehicles-object-detection/Traffic Dataset/images/test/00 (323).jpg: 640x448 1 Blur Number Plate, 1 Truck, 50.4ms\n",
      "image 164/278 /kaggle/input/traffic-vehicles-object-detection/Traffic Dataset/images/test/00 (326).jpg: 384x640 1 Number Plate, 1 Truck, 37.4ms\n",
      "image 165/278 /kaggle/input/traffic-vehicles-object-detection/Traffic Dataset/images/test/00 (327).jpg: 384x640 1 Number Plate, 2 Trucks, 35.3ms\n",
      "image 166/278 /kaggle/input/traffic-vehicles-object-detection/Traffic Dataset/images/test/00 (328).jpg: 512x640 2 Trucks, 47.7ms\n",
      "image 167/278 /kaggle/input/traffic-vehicles-object-detection/Traffic Dataset/images/test/00 (33).png: 640x416 2 Cars, 1 Number Plate, 47.5ms\n",
      "image 168/278 /kaggle/input/traffic-vehicles-object-detection/Traffic Dataset/images/test/00 (331).jpg: 448x640 1 Blur Number Plate, 1 Truck, 47.0ms\n",
      "image 169/278 /kaggle/input/traffic-vehicles-object-detection/Traffic Dataset/images/test/00 (34).png: 640x320 1 Car, 1 Number Plate, 1 Blur Number Plate, 43.1ms\n",
      "image 170/278 /kaggle/input/traffic-vehicles-object-detection/Traffic Dataset/images/test/00 (35).png: 640x512 2 Cars, 1 Number Plate, 1 Two Wheeler, 43.2ms\n",
      "image 171/278 /kaggle/input/traffic-vehicles-object-detection/Traffic Dataset/images/test/00 (353).jpg: 448x640 2 Trucks, 47.1ms\n",
      "image 172/278 /kaggle/input/traffic-vehicles-object-detection/Traffic Dataset/images/test/00 (354).jpg: 480x640 1 Car, 1 Number Plate, 4 Trucks, 48.3ms\n",
      "image 173/278 /kaggle/input/traffic-vehicles-object-detection/Traffic Dataset/images/test/00 (357).jpg: 448x640 1 Number Plate, 1 Truck, 44.3ms\n",
      "image 174/278 /kaggle/input/traffic-vehicles-object-detection/Traffic Dataset/images/test/00 (36).png: 640x576 1 Car, 1 Number Plate, 56.9ms\n",
      "image 175/278 /kaggle/input/traffic-vehicles-object-detection/Traffic Dataset/images/test/00 (361).jpg: 640x448 1 Number Plate, 1 Truck, 50.9ms\n",
      "image 176/278 /kaggle/input/traffic-vehicles-object-detection/Traffic Dataset/images/test/00 (366).jpg: 640x448 1 Blur Number Plate, 1 Truck, 48.6ms\n",
      "image 177/278 /kaggle/input/traffic-vehicles-object-detection/Traffic Dataset/images/test/00 (37).png: 608x640 2 Cars, 1 Number Plate, 57.0ms\n",
      "image 178/278 /kaggle/input/traffic-vehicles-object-detection/Traffic Dataset/images/test/00 (377).jpg: 384x640 2 Trucks, 33.7ms\n",
      "image 179/278 /kaggle/input/traffic-vehicles-object-detection/Traffic Dataset/images/test/00 (378).jpg: 352x640 1 Blur Number Plate, 2 Trucks, 34.9ms\n",
      "image 180/278 /kaggle/input/traffic-vehicles-object-detection/Traffic Dataset/images/test/00 (379).jpg: 640x480 1 Number Plate, 1 Truck, 38.5ms\n",
      "image 181/278 /kaggle/input/traffic-vehicles-object-detection/Traffic Dataset/images/test/00 (38).png: 320x640 4 Cars, 1 Number Plate, 1 Blur Number Plate, 1 Two Wheeler, 45.3ms\n",
      "image 182/278 /kaggle/input/traffic-vehicles-object-detection/Traffic Dataset/images/test/00 (382).jpg: 384x640 2 Cars, 1 Truck, 31.0ms\n",
      "image 183/278 /kaggle/input/traffic-vehicles-object-detection/Traffic Dataset/images/test/00 (385).jpg: 448x640 1 Car, 1 Number Plate, 1 Truck, 38.0ms\n",
      "image 184/278 /kaggle/input/traffic-vehicles-object-detection/Traffic Dataset/images/test/00 (387).jpg: 640x640 1 Number Plate, 3 Trucks, 63.6ms\n",
      "image 185/278 /kaggle/input/traffic-vehicles-object-detection/Traffic Dataset/images/test/00 (388).jpg: 640x480 1 Number Plate, 1 Truck, 50.2ms\n",
      "image 186/278 /kaggle/input/traffic-vehicles-object-detection/Traffic Dataset/images/test/00 (389).jpg: 384x640 2 Number Plates, 1 Truck, 38.7ms\n",
      "image 187/278 /kaggle/input/traffic-vehicles-object-detection/Traffic Dataset/images/test/00 (39).png: 608x640 2 Cars, 1 Number Plate, 1 Two Wheeler, 51.3ms\n",
      "image 188/278 /kaggle/input/traffic-vehicles-object-detection/Traffic Dataset/images/test/00 (390).jpg: 448x640 1 Truck, 50.9ms\n",
      "image 189/278 /kaggle/input/traffic-vehicles-object-detection/Traffic Dataset/images/test/00 (391).jpg: 640x448 1 Blur Number Plate, 1 Truck, 43.1ms\n",
      "image 190/278 /kaggle/input/traffic-vehicles-object-detection/Traffic Dataset/images/test/00 (392).jpg: 480x640 3 Trucks, 49.3ms\n",
      "image 191/278 /kaggle/input/traffic-vehicles-object-detection/Traffic Dataset/images/test/00 (393).jpg: 448x640 1 Number Plate, 1 Truck, 35.3ms\n",
      "image 192/278 /kaggle/input/traffic-vehicles-object-detection/Traffic Dataset/images/test/00 (394).jpg: 448x640 4 Number Plates, 3 Trucks, 35.3ms\n",
      "image 193/278 /kaggle/input/traffic-vehicles-object-detection/Traffic Dataset/images/test/00 (395).jpg: 480x640 3 Number Plates, 3 Trucks, 39.6ms\n",
      "image 194/278 /kaggle/input/traffic-vehicles-object-detection/Traffic Dataset/images/test/00 (396).jpg: 384x640 1 Two Wheeler, 1 Truck, 38.4ms\n",
      "image 195/278 /kaggle/input/traffic-vehicles-object-detection/Traffic Dataset/images/test/00 (4).png: 608x640 2 Cars, 2 Number Plates, 1 Two Wheeler, 51.5ms\n",
      "image 196/278 /kaggle/input/traffic-vehicles-object-detection/Traffic Dataset/images/test/00 (40).png: 640x640 3 Cars, 2 Number Plates, 1 Blur Number Plate, 60.5ms\n",
      "image 197/278 /kaggle/input/traffic-vehicles-object-detection/Traffic Dataset/images/test/00 (41).png: 640x480 1 Car, 1 Number Plate, 44.0ms\n",
      "image 198/278 /kaggle/input/traffic-vehicles-object-detection/Traffic Dataset/images/test/00 (42).png: 416x640 3 Cars, 2 Number Plates, 1 Two Wheeler, 38.3ms\n",
      "image 199/278 /kaggle/input/traffic-vehicles-object-detection/Traffic Dataset/images/test/00 (43).png: 352x640 3 Cars, 2 Number Plates, 1 Two Wheeler, 32.8ms\n",
      "image 200/278 /kaggle/input/traffic-vehicles-object-detection/Traffic Dataset/images/test/00 (44).png: 352x640 1 Car, 2 Number Plates, 5 Two Wheelers, 33.2ms\n",
      "image 201/278 /kaggle/input/traffic-vehicles-object-detection/Traffic Dataset/images/test/00 (45).png: 352x640 1 Car, 1 Number Plate, 2 Blur Number Plates, 3 Two Wheelers, 37.9ms\n",
      "image 202/278 /kaggle/input/traffic-vehicles-object-detection/Traffic Dataset/images/test/00 (46).png: 320x640 1 Car, 1 Number Plate, 2 Two Wheelers, 38.2ms\n",
      "image 203/278 /kaggle/input/traffic-vehicles-object-detection/Traffic Dataset/images/test/00 (47).png: 384x640 1 Car, 2 Number Plates, 4 Two Wheelers, 33.9ms\n",
      "image 204/278 /kaggle/input/traffic-vehicles-object-detection/Traffic Dataset/images/test/00 (48).png: 352x640 5 Cars, 2 Number Plates, 3 Blur Number Plates, 2 Two Wheelers, 33.3ms\n",
      "image 205/278 /kaggle/input/traffic-vehicles-object-detection/Traffic Dataset/images/test/00 (49).png: 608x640 1 Car, 2 Number Plates, 2 Blur Number Plates, 3 Two Wheelers, 53.9ms\n",
      "image 206/278 /kaggle/input/traffic-vehicles-object-detection/Traffic Dataset/images/test/00 (5).png: 640x640 2 Cars, 2 Number Plates, 1 Blur Number Plate, 4 Two Wheelers, 58.3ms\n",
      "image 207/278 /kaggle/input/traffic-vehicles-object-detection/Traffic Dataset/images/test/00 (50).png: 416x640 2 Cars, 2 Number Plates, 3 Blur Number Plates, 2 Two Wheelers, 40.2ms\n",
      "image 208/278 /kaggle/input/traffic-vehicles-object-detection/Traffic Dataset/images/test/00 (51).png: 640x640 4 Cars, 1 Number Plate, 1 Blur Number Plate, 1 Two Wheeler, 61.5ms\n",
      "image 209/278 /kaggle/input/traffic-vehicles-object-detection/Traffic Dataset/images/test/00 (52).png: 448x640 1 Car, 1 Number Plate, 41.8ms\n",
      "image 210/278 /kaggle/input/traffic-vehicles-object-detection/Traffic Dataset/images/test/00 (53).png: 320x640 4 Cars, 1 Number Plate, 1 Blur Number Plate, 4 Two Wheelers, 30.6ms\n",
      "image 211/278 /kaggle/input/traffic-vehicles-object-detection/Traffic Dataset/images/test/00 (54).png: 352x640 5 Cars, 1 Number Plate, 2 Blur Number Plates, 2 Two Wheelers, 1 Auto, 33.3ms\n",
      "image 212/278 /kaggle/input/traffic-vehicles-object-detection/Traffic Dataset/images/test/00 (55).png: 608x640 2 Cars, 1 Number Plate, 1 Two Wheeler, 63.7ms\n",
      "image 213/278 /kaggle/input/traffic-vehicles-object-detection/Traffic Dataset/images/test/00 (56).png: 480x640 3 Cars, 1 Number Plate, 2 Blur Number Plates, 2 Two Wheelers, 43.0ms\n",
      "image 214/278 /kaggle/input/traffic-vehicles-object-detection/Traffic Dataset/images/test/00 (57).png: 448x640 4 Cars, 2 Number Plates, 1 Blur Number Plate, 38.9ms\n",
      "image 215/278 /kaggle/input/traffic-vehicles-object-detection/Traffic Dataset/images/test/00 (58).png: 576x640 2 Cars, 1 Number Plate, 54.1ms\n",
      "image 216/278 /kaggle/input/traffic-vehicles-object-detection/Traffic Dataset/images/test/00 (59).png: 640x640 4 Cars, 1 Blur Number Plate, 61.5ms\n",
      "image 217/278 /kaggle/input/traffic-vehicles-object-detection/Traffic Dataset/images/test/00 (6).png: 640x640 3 Cars, 3 Number Plates, 1 Two Wheeler, 62.2ms\n",
      "image 218/278 /kaggle/input/traffic-vehicles-object-detection/Traffic Dataset/images/test/00 (60).png: 640x512 1 Car, 1 Blur Number Plate, 1 Auto, 40.1ms\n",
      "image 219/278 /kaggle/input/traffic-vehicles-object-detection/Traffic Dataset/images/test/00 (61).png: 640x480 1 Car, 1 Number Plate, 44.4ms\n",
      "image 220/278 /kaggle/input/traffic-vehicles-object-detection/Traffic Dataset/images/test/00 (62).png: 640x640 2 Cars, 1 Number Plate, 1 Blur Number Plate, 1 Two Wheeler, 63.5ms\n",
      "image 221/278 /kaggle/input/traffic-vehicles-object-detection/Traffic Dataset/images/test/00 (63).png: 576x640 1 Car, 1 Number Plate, 56.3ms\n",
      "image 222/278 /kaggle/input/traffic-vehicles-object-detection/Traffic Dataset/images/test/00 (64).png: 640x576 2 Cars, 3 Number Plates, 55.9ms\n",
      "image 223/278 /kaggle/input/traffic-vehicles-object-detection/Traffic Dataset/images/test/00 (65).png: 416x640 1 Car, 1 Number Plate, 41.7ms\n",
      "image 224/278 /kaggle/input/traffic-vehicles-object-detection/Traffic Dataset/images/test/00 (66).png: 640x544 2 Cars, 1 Number Plate, 1 Auto, 57.3ms\n",
      "image 225/278 /kaggle/input/traffic-vehicles-object-detection/Traffic Dataset/images/test/00 (67).png: 608x640 3 Cars, 1 Number Plate, 1 Auto, 1 Truck, 56.8ms\n",
      "image 226/278 /kaggle/input/traffic-vehicles-object-detection/Traffic Dataset/images/test/00 (68).png: 640x640 3 Cars, 1 Number Plate, 1 Blur Number Plate, 1 Auto, 61.8ms\n",
      "image 227/278 /kaggle/input/traffic-vehicles-object-detection/Traffic Dataset/images/test/00 (69).png: 448x640 1 Car, 2 Blur Number Plates, 1 Two Wheeler, 2 Autos, 1 Truck, 41.6ms\n",
      "image 228/278 /kaggle/input/traffic-vehicles-object-detection/Traffic Dataset/images/test/00 (7).png: 608x640 3 Cars, 1 Number Plate, 57.9ms\n",
      "image 229/278 /kaggle/input/traffic-vehicles-object-detection/Traffic Dataset/images/test/00 (70).png: 288x640 6 Cars, 1 Number Plate, 2 Blur Number Plates, 1 Auto, 42.0ms\n",
      "image 230/278 /kaggle/input/traffic-vehicles-object-detection/Traffic Dataset/images/test/00 (71).png: 512x640 4 Cars, 1 Number Plate, 1 Blur Number Plate, 1 Bus, 44.1ms\n",
      "image 231/278 /kaggle/input/traffic-vehicles-object-detection/Traffic Dataset/images/test/00 (72).png: 448x640 3 Cars, 4 Blur Number Plates, 1 Two Wheeler, 1 Truck, 42.5ms\n",
      "image 232/278 /kaggle/input/traffic-vehicles-object-detection/Traffic Dataset/images/test/00 (73).png: 320x640 3 Cars, 1 Number Plate, 2 Blur Number Plates, 1 Truck, 33.5ms\n",
      "image 233/278 /kaggle/input/traffic-vehicles-object-detection/Traffic Dataset/images/test/00 (74).png: 416x640 2 Cars, 1 Number Plate, 1 Blur Number Plate, 1 Two Wheeler, 1 Auto, 1 Truck, 39.3ms\n",
      "image 234/278 /kaggle/input/traffic-vehicles-object-detection/Traffic Dataset/images/test/00 (75).png: 448x640 3 Cars, 1 Number Plate, 1 Blur Number Plate, 1 Two Wheeler, 1 Bus, 41.5ms\n",
      "image 235/278 /kaggle/input/traffic-vehicles-object-detection/Traffic Dataset/images/test/00 (76).png: 448x640 1 Car, 1 Number Plate, 2 Two Wheelers, 40.9ms\n",
      "image 236/278 /kaggle/input/traffic-vehicles-object-detection/Traffic Dataset/images/test/00 (77).png: 480x640 1 Car, 2 Number Plates, 1 Blur Number Plate, 1 Truck, 44.0ms\n",
      "image 237/278 /kaggle/input/traffic-vehicles-object-detection/Traffic Dataset/images/test/00 (78).png: 416x640 2 Cars, 1 Number Plate, 1 Blur Number Plate, 2 Two Wheelers, 1 Auto, 40.8ms\n",
      "image 238/278 /kaggle/input/traffic-vehicles-object-detection/Traffic Dataset/images/test/00 (79).png: 448x640 2 Cars, 1 Blur Number Plate, 2 Two Wheelers, 42.4ms\n",
      "image 239/278 /kaggle/input/traffic-vehicles-object-detection/Traffic Dataset/images/test/00 (8).png: 640x576 2 Cars, 1 Number Plate, 1 Blur Number Plate, 58.8ms\n",
      "image 240/278 /kaggle/input/traffic-vehicles-object-detection/Traffic Dataset/images/test/00 (80).png: 384x640 2 Cars, 1 Number Plate, 1 Blur Number Plate, 1 Two Wheeler, 1 Bus, 33.1ms\n",
      "image 241/278 /kaggle/input/traffic-vehicles-object-detection/Traffic Dataset/images/test/00 (81).png: 352x640 1 Car, 1 Number Plate, 32.3ms\n",
      "image 242/278 /kaggle/input/traffic-vehicles-object-detection/Traffic Dataset/images/test/00 (82).png: 352x640 1 Car, 1 Blur Number Plate, 2 Autos, 1 Bus, 32.6ms\n",
      "image 243/278 /kaggle/input/traffic-vehicles-object-detection/Traffic Dataset/images/test/00 (83).png: 320x640 3 Cars, 1 Blur Number Plate, 1 Two Wheeler, 1 Auto, 31.7ms\n",
      "image 244/278 /kaggle/input/traffic-vehicles-object-detection/Traffic Dataset/images/test/00 (84).png: 640x640 3 Cars, 2 Number Plates, 1 Blur Number Plate, 56.8ms\n",
      "image 245/278 /kaggle/input/traffic-vehicles-object-detection/Traffic Dataset/images/test/00 (85).png: 576x640 2 Cars, 1 Number Plate, 1 Blur Number Plate, 56.3ms\n",
      "image 246/278 /kaggle/input/traffic-vehicles-object-detection/Traffic Dataset/images/test/00 (86).png: 512x640 2 Cars, 1 Number Plate, 1 Blur Number Plate, 1 Auto, 42.9ms\n",
      "image 247/278 /kaggle/input/traffic-vehicles-object-detection/Traffic Dataset/images/test/00 (87).png: 288x640 1 Car, 2 Number Plates, 1 Truck, 29.7ms\n",
      "image 248/278 /kaggle/input/traffic-vehicles-object-detection/Traffic Dataset/images/test/00 (88).png: 448x640 1 Number Plate, 2 Two Wheelers, 40.0ms\n",
      "image 249/278 /kaggle/input/traffic-vehicles-object-detection/Traffic Dataset/images/test/00 (89).png: 352x640 2 Cars, 2 Number Plates, 2 Two Wheelers, 34.3ms\n",
      "image 250/278 /kaggle/input/traffic-vehicles-object-detection/Traffic Dataset/images/test/00 (9).png: 640x640 4 Cars, 1 Number Plate, 1 Two Wheeler, 58.0ms\n",
      "image 251/278 /kaggle/input/traffic-vehicles-object-detection/Traffic Dataset/images/test/00 (90).png: 512x640 2 Cars, 1 Number Plate, 2 Blur Number Plates, 1 Two Wheeler, 1 Auto, 1 Truck, 44.3ms\n",
      "image 252/278 /kaggle/input/traffic-vehicles-object-detection/Traffic Dataset/images/test/00 (91).png: 448x640 4 Cars, 1 Number Plate, 1 Blur Number Plate, 1 Two Wheeler, 1 Auto, 1 Truck, 39.5ms\n",
      "image 253/278 /kaggle/input/traffic-vehicles-object-detection/Traffic Dataset/images/test/00 (92).png: 320x640 6 Cars, 1 Number Plate, 1 Blur Number Plate, 1 Two Wheeler, 1 Truck, 29.9ms\n",
      "image 254/278 /kaggle/input/traffic-vehicles-object-detection/Traffic Dataset/images/test/00 (93).png: 352x640 5 Cars, 2 Number Plates, 1 Blur Number Plate, 1 Two Wheeler, 1 Truck, 36.7ms\n",
      "image 255/278 /kaggle/input/traffic-vehicles-object-detection/Traffic Dataset/images/test/00 (94).png: 384x640 5 Cars, 1 Number Plate, 2 Blur Number Plates, 1 Truck, 37.7ms\n",
      "image 256/278 /kaggle/input/traffic-vehicles-object-detection/Traffic Dataset/images/test/00 (95).png: 448x640 1 Number Plate, 1 Auto, 42.0ms\n",
      "image 257/278 /kaggle/input/traffic-vehicles-object-detection/Traffic Dataset/images/test/00 (96).png: 352x640 1 Number Plate, 1 Auto, 35.5ms\n",
      "image 258/278 /kaggle/input/traffic-vehicles-object-detection/Traffic Dataset/images/test/00 (97).png: 416x640 1 Car, 1 Blur Number Plate, 1 Auto, 40.2ms\n",
      "image 259/278 /kaggle/input/traffic-vehicles-object-detection/Traffic Dataset/images/test/00 (98).png: 640x448 1 Blur Number Plate, 1 Auto, 42.6ms\n",
      "image 260/278 /kaggle/input/traffic-vehicles-object-detection/Traffic Dataset/images/test/00 (99).png: 640x640 1 Number Plate, 1 Two Wheeler, 62.7ms\n",
      "video 261/278 (frame 1/41) /kaggle/input/traffic-vehicles-object-detection/Traffic Dataset/images/test/Video1.mp4: 384x640 12 Cars, 4 Number Plates, 4 Blur Number Plates, 6 Two Wheelers, 3 Autos, 1 Bus, 34.7ms\n",
      "video 261/278 (frame 2/41) /kaggle/input/traffic-vehicles-object-detection/Traffic Dataset/images/test/Video1.mp4: 384x640 12 Cars, 3 Number Plates, 4 Blur Number Plates, 6 Two Wheelers, 3 Autos, 1 Bus, 34.0ms\n",
      "video 261/278 (frame 3/41) /kaggle/input/traffic-vehicles-object-detection/Traffic Dataset/images/test/Video1.mp4: 384x640 12 Cars, 3 Number Plates, 3 Blur Number Plates, 6 Two Wheelers, 2 Autos, 1 Bus, 39.5ms\n",
      "video 261/278 (frame 4/41) /kaggle/input/traffic-vehicles-object-detection/Traffic Dataset/images/test/Video1.mp4: 384x640 12 Cars, 3 Number Plates, 3 Blur Number Plates, 6 Two Wheelers, 3 Autos, 1 Bus, 40.0ms\n",
      "video 261/278 (frame 5/41) /kaggle/input/traffic-vehicles-object-detection/Traffic Dataset/images/test/Video1.mp4: 384x640 13 Cars, 3 Number Plates, 3 Blur Number Plates, 6 Two Wheelers, 3 Autos, 1 Bus, 37.9ms\n",
      "video 261/278 (frame 6/41) /kaggle/input/traffic-vehicles-object-detection/Traffic Dataset/images/test/Video1.mp4: 384x640 13 Cars, 3 Number Plates, 3 Blur Number Plates, 6 Two Wheelers, 3 Autos, 1 Bus, 37.9ms\n",
      "video 261/278 (frame 7/41) /kaggle/input/traffic-vehicles-object-detection/Traffic Dataset/images/test/Video1.mp4: 384x640 13 Cars, 3 Number Plates, 3 Blur Number Plates, 6 Two Wheelers, 3 Autos, 1 Bus, 38.1ms\n",
      "video 261/278 (frame 8/41) /kaggle/input/traffic-vehicles-object-detection/Traffic Dataset/images/test/Video1.mp4: 384x640 13 Cars, 3 Number Plates, 3 Blur Number Plates, 7 Two Wheelers, 3 Autos, 1 Bus, 38.4ms\n",
      "video 261/278 (frame 9/41) /kaggle/input/traffic-vehicles-object-detection/Traffic Dataset/images/test/Video1.mp4: 384x640 13 Cars, 3 Number Plates, 3 Blur Number Plates, 5 Two Wheelers, 3 Autos, 1 Bus, 39.1ms\n",
      "video 261/278 (frame 10/41) /kaggle/input/traffic-vehicles-object-detection/Traffic Dataset/images/test/Video1.mp4: 384x640 13 Cars, 3 Number Plates, 3 Blur Number Plates, 5 Two Wheelers, 3 Autos, 1 Bus, 38.7ms\n",
      "video 261/278 (frame 11/41) /kaggle/input/traffic-vehicles-object-detection/Traffic Dataset/images/test/Video1.mp4: 384x640 14 Cars, 3 Number Plates, 3 Blur Number Plates, 6 Two Wheelers, 3 Autos, 1 Bus, 38.2ms\n",
      "video 261/278 (frame 12/41) /kaggle/input/traffic-vehicles-object-detection/Traffic Dataset/images/test/Video1.mp4: 384x640 14 Cars, 3 Number Plates, 3 Blur Number Plates, 6 Two Wheelers, 3 Autos, 1 Bus, 37.9ms\n",
      "video 261/278 (frame 13/41) /kaggle/input/traffic-vehicles-object-detection/Traffic Dataset/images/test/Video1.mp4: 384x640 15 Cars, 4 Number Plates, 3 Blur Number Plates, 7 Two Wheelers, 3 Autos, 1 Bus, 37.9ms\n",
      "video 261/278 (frame 14/41) /kaggle/input/traffic-vehicles-object-detection/Traffic Dataset/images/test/Video1.mp4: 384x640 16 Cars, 3 Number Plates, 3 Blur Number Plates, 7 Two Wheelers, 3 Autos, 1 Bus, 38.2ms\n",
      "video 261/278 (frame 15/41) /kaggle/input/traffic-vehicles-object-detection/Traffic Dataset/images/test/Video1.mp4: 384x640 14 Cars, 3 Number Plates, 3 Blur Number Plates, 7 Two Wheelers, 3 Autos, 1 Bus, 36.2ms\n",
      "video 261/278 (frame 16/41) /kaggle/input/traffic-vehicles-object-detection/Traffic Dataset/images/test/Video1.mp4: 384x640 14 Cars, 4 Number Plates, 3 Blur Number Plates, 7 Two Wheelers, 3 Autos, 1 Bus, 38.4ms\n",
      "video 261/278 (frame 17/41) /kaggle/input/traffic-vehicles-object-detection/Traffic Dataset/images/test/Video1.mp4: 384x640 14 Cars, 3 Number Plates, 2 Blur Number Plates, 6 Two Wheelers, 3 Autos, 1 Bus, 38.6ms\n",
      "video 261/278 (frame 18/41) /kaggle/input/traffic-vehicles-object-detection/Traffic Dataset/images/test/Video1.mp4: 384x640 14 Cars, 3 Number Plates, 3 Blur Number Plates, 6 Two Wheelers, 3 Autos, 1 Bus, 40.8ms\n",
      "video 261/278 (frame 19/41) /kaggle/input/traffic-vehicles-object-detection/Traffic Dataset/images/test/Video1.mp4: 384x640 14 Cars, 4 Number Plates, 2 Blur Number Plates, 7 Two Wheelers, 3 Autos, 1 Bus, 39.5ms\n",
      "video 261/278 (frame 20/41) /kaggle/input/traffic-vehicles-object-detection/Traffic Dataset/images/test/Video1.mp4: 384x640 14 Cars, 3 Number Plates, 2 Blur Number Plates, 7 Two Wheelers, 3 Autos, 1 Bus, 37.8ms\n",
      "video 261/278 (frame 21/41) /kaggle/input/traffic-vehicles-object-detection/Traffic Dataset/images/test/Video1.mp4: 384x640 13 Cars, 3 Number Plates, 2 Blur Number Plates, 7 Two Wheelers, 3 Autos, 1 Bus, 37.8ms\n",
      "video 261/278 (frame 22/41) /kaggle/input/traffic-vehicles-object-detection/Traffic Dataset/images/test/Video1.mp4: 384x640 13 Cars, 3 Number Plates, 2 Blur Number Plates, 7 Two Wheelers, 3 Autos, 1 Bus, 38.5ms\n",
      "video 261/278 (frame 23/41) /kaggle/input/traffic-vehicles-object-detection/Traffic Dataset/images/test/Video1.mp4: 384x640 15 Cars, 4 Number Plates, 2 Blur Number Plates, 7 Two Wheelers, 3 Autos, 1 Bus, 38.8ms\n",
      "video 261/278 (frame 24/41) /kaggle/input/traffic-vehicles-object-detection/Traffic Dataset/images/test/Video1.mp4: 384x640 15 Cars, 3 Number Plates, 2 Blur Number Plates, 7 Two Wheelers, 3 Autos, 1 Bus, 38.2ms\n",
      "video 261/278 (frame 25/41) /kaggle/input/traffic-vehicles-object-detection/Traffic Dataset/images/test/Video1.mp4: 384x640 15 Cars, 3 Number Plates, 3 Blur Number Plates, 6 Two Wheelers, 3 Autos, 1 Bus, 37.7ms\n",
      "video 261/278 (frame 26/41) /kaggle/input/traffic-vehicles-object-detection/Traffic Dataset/images/test/Video1.mp4: 384x640 15 Cars, 4 Number Plates, 2 Blur Number Plates, 6 Two Wheelers, 3 Autos, 2 Buss, 39.0ms\n",
      "video 261/278 (frame 27/41) /kaggle/input/traffic-vehicles-object-detection/Traffic Dataset/images/test/Video1.mp4: 384x640 14 Cars, 3 Number Plates, 2 Blur Number Plates, 6 Two Wheelers, 3 Autos, 2 Buss, 39.1ms\n",
      "video 261/278 (frame 28/41) /kaggle/input/traffic-vehicles-object-detection/Traffic Dataset/images/test/Video1.mp4: 384x640 13 Cars, 3 Number Plates, 2 Blur Number Plates, 6 Two Wheelers, 3 Autos, 2 Buss, 38.3ms\n",
      "video 261/278 (frame 29/41) /kaggle/input/traffic-vehicles-object-detection/Traffic Dataset/images/test/Video1.mp4: 384x640 13 Cars, 3 Number Plates, 1 Blur Number Plate, 5 Two Wheelers, 3 Autos, 2 Buss, 39.7ms\n",
      "video 261/278 (frame 30/41) /kaggle/input/traffic-vehicles-object-detection/Traffic Dataset/images/test/Video1.mp4: 384x640 11 Cars, 3 Number Plates, 2 Blur Number Plates, 5 Two Wheelers, 3 Autos, 2 Buss, 39.4ms\n",
      "video 261/278 (frame 31/41) /kaggle/input/traffic-vehicles-object-detection/Traffic Dataset/images/test/Video1.mp4: 384x640 12 Cars, 3 Number Plates, 2 Blur Number Plates, 5 Two Wheelers, 3 Autos, 2 Buss, 40.7ms\n",
      "video 261/278 (frame 32/41) /kaggle/input/traffic-vehicles-object-detection/Traffic Dataset/images/test/Video1.mp4: 384x640 11 Cars, 3 Number Plates, 2 Blur Number Plates, 5 Two Wheelers, 4 Autos, 2 Buss, 38.7ms\n",
      "video 261/278 (frame 33/41) /kaggle/input/traffic-vehicles-object-detection/Traffic Dataset/images/test/Video1.mp4: 384x640 10 Cars, 3 Number Plates, 2 Blur Number Plates, 5 Two Wheelers, 4 Autos, 2 Buss, 37.4ms\n",
      "video 261/278 (frame 34/41) /kaggle/input/traffic-vehicles-object-detection/Traffic Dataset/images/test/Video1.mp4: 384x640 10 Cars, 3 Number Plates, 1 Blur Number Plate, 5 Two Wheelers, 4 Autos, 2 Buss, 38.7ms\n",
      "video 261/278 (frame 35/41) /kaggle/input/traffic-vehicles-object-detection/Traffic Dataset/images/test/Video1.mp4: 384x640 10 Cars, 3 Number Plates, 2 Blur Number Plates, 5 Two Wheelers, 3 Autos, 1 Bus, 38.9ms\n",
      "video 261/278 (frame 36/41) /kaggle/input/traffic-vehicles-object-detection/Traffic Dataset/images/test/Video1.mp4: 384x640 10 Cars, 3 Number Plates, 2 Blur Number Plates, 5 Two Wheelers, 3 Autos, 1 Bus, 39.0ms\n",
      "video 261/278 (frame 37/41) /kaggle/input/traffic-vehicles-object-detection/Traffic Dataset/images/test/Video1.mp4: 384x640 10 Cars, 3 Number Plates, 2 Blur Number Plates, 6 Two Wheelers, 3 Autos, 1 Bus, 40.1ms\n",
      "video 261/278 (frame 38/41) /kaggle/input/traffic-vehicles-object-detection/Traffic Dataset/images/test/Video1.mp4: 384x640 11 Cars, 3 Number Plates, 2 Blur Number Plates, 7 Two Wheelers, 3 Autos, 1 Bus, 39.0ms\n",
      "video 261/278 (frame 39/41) /kaggle/input/traffic-vehicles-object-detection/Traffic Dataset/images/test/Video1.mp4: 384x640 11 Cars, 3 Number Plates, 2 Blur Number Plates, 6 Two Wheelers, 3 Autos, 1 Bus, 38.1ms\n",
      "video 261/278 (frame 40/41) /kaggle/input/traffic-vehicles-object-detection/Traffic Dataset/images/test/Video1.mp4: 384x640 11 Cars, 3 Number Plates, 2 Blur Number Plates, 6 Two Wheelers, 3 Autos, 1 Bus, 38.3ms\n",
      "video 261/278 (frame 41/41) /kaggle/input/traffic-vehicles-object-detection/Traffic Dataset/images/test/Video1.mp4: 384x640 11 Cars, 3 Number Plates, 2 Blur Number Plates, 6 Two Wheelers, 3 Autos, 1 Bus, 37.3ms\n",
      "video 262/278 (frame 1/41) /kaggle/input/traffic-vehicles-object-detection/Traffic Dataset/images/test/Video10.mp4: 384x640 14 Cars, 2 Number Plates, 2 Blur Number Plates, 9 Two Wheelers, 2 Autos, 2 Trucks, 34.5ms\n",
      "video 262/278 (frame 2/41) /kaggle/input/traffic-vehicles-object-detection/Traffic Dataset/images/test/Video10.mp4: 384x640 16 Cars, 2 Number Plates, 3 Blur Number Plates, 10 Two Wheelers, 2 Autos, 2 Trucks, 35.6ms\n",
      "video 262/278 (frame 3/41) /kaggle/input/traffic-vehicles-object-detection/Traffic Dataset/images/test/Video10.mp4: 384x640 14 Cars, 2 Number Plates, 2 Blur Number Plates, 11 Two Wheelers, 2 Autos, 2 Trucks, 37.8ms\n",
      "video 262/278 (frame 4/41) /kaggle/input/traffic-vehicles-object-detection/Traffic Dataset/images/test/Video10.mp4: 384x640 16 Cars, 2 Number Plates, 3 Blur Number Plates, 8 Two Wheelers, 2 Autos, 2 Trucks, 36.0ms\n",
      "video 262/278 (frame 5/41) /kaggle/input/traffic-vehicles-object-detection/Traffic Dataset/images/test/Video10.mp4: 384x640 13 Cars, 2 Number Plates, 4 Blur Number Plates, 6 Two Wheelers, 2 Autos, 2 Trucks, 37.9ms\n",
      "video 262/278 (frame 6/41) /kaggle/input/traffic-vehicles-object-detection/Traffic Dataset/images/test/Video10.mp4: 384x640 14 Cars, 2 Number Plates, 3 Blur Number Plates, 6 Two Wheelers, 2 Autos, 2 Trucks, 38.5ms\n",
      "video 262/278 (frame 7/41) /kaggle/input/traffic-vehicles-object-detection/Traffic Dataset/images/test/Video10.mp4: 384x640 15 Cars, 2 Number Plates, 3 Blur Number Plates, 6 Two Wheelers, 2 Autos, 2 Trucks, 38.9ms\n",
      "video 262/278 (frame 8/41) /kaggle/input/traffic-vehicles-object-detection/Traffic Dataset/images/test/Video10.mp4: 384x640 15 Cars, 2 Number Plates, 3 Blur Number Plates, 6 Two Wheelers, 2 Autos, 2 Trucks, 38.5ms\n",
      "video 262/278 (frame 9/41) /kaggle/input/traffic-vehicles-object-detection/Traffic Dataset/images/test/Video10.mp4: 384x640 14 Cars, 2 Number Plates, 3 Blur Number Plates, 6 Two Wheelers, 2 Autos, 2 Trucks, 39.4ms\n",
      "video 262/278 (frame 10/41) /kaggle/input/traffic-vehicles-object-detection/Traffic Dataset/images/test/Video10.mp4: 384x640 14 Cars, 2 Number Plates, 2 Blur Number Plates, 6 Two Wheelers, 3 Autos, 2 Trucks, 39.7ms\n",
      "video 262/278 (frame 11/41) /kaggle/input/traffic-vehicles-object-detection/Traffic Dataset/images/test/Video10.mp4: 384x640 14 Cars, 2 Number Plates, 2 Blur Number Plates, 7 Two Wheelers, 2 Autos, 2 Trucks, 38.6ms\n",
      "video 262/278 (frame 12/41) /kaggle/input/traffic-vehicles-object-detection/Traffic Dataset/images/test/Video10.mp4: 384x640 17 Cars, 2 Number Plates, 2 Blur Number Plates, 7 Two Wheelers, 1 Auto, 2 Trucks, 38.3ms\n",
      "video 262/278 (frame 13/41) /kaggle/input/traffic-vehicles-object-detection/Traffic Dataset/images/test/Video10.mp4: 384x640 14 Cars, 2 Number Plates, 2 Blur Number Plates, 8 Two Wheelers, 1 Auto, 2 Trucks, 38.5ms\n",
      "video 262/278 (frame 14/41) /kaggle/input/traffic-vehicles-object-detection/Traffic Dataset/images/test/Video10.mp4: 384x640 14 Cars, 2 Number Plates, 2 Blur Number Plates, 8 Two Wheelers, 1 Auto, 2 Trucks, 37.8ms\n",
      "video 262/278 (frame 15/41) /kaggle/input/traffic-vehicles-object-detection/Traffic Dataset/images/test/Video10.mp4: 384x640 17 Cars, 2 Number Plates, 3 Blur Number Plates, 8 Two Wheelers, 1 Auto, 2 Trucks, 37.8ms\n",
      "video 262/278 (frame 16/41) /kaggle/input/traffic-vehicles-object-detection/Traffic Dataset/images/test/Video10.mp4: 384x640 15 Cars, 2 Number Plates, 4 Blur Number Plates, 8 Two Wheelers, 1 Auto, 2 Trucks, 37.5ms\n",
      "video 262/278 (frame 17/41) /kaggle/input/traffic-vehicles-object-detection/Traffic Dataset/images/test/Video10.mp4: 384x640 17 Cars, 2 Number Plates, 2 Blur Number Plates, 6 Two Wheelers, 2 Trucks, 38.2ms\n",
      "video 262/278 (frame 18/41) /kaggle/input/traffic-vehicles-object-detection/Traffic Dataset/images/test/Video10.mp4: 384x640 17 Cars, 2 Number Plates, 2 Blur Number Plates, 8 Two Wheelers, 2 Trucks, 37.8ms\n",
      "video 262/278 (frame 19/41) /kaggle/input/traffic-vehicles-object-detection/Traffic Dataset/images/test/Video10.mp4: 384x640 14 Cars, 2 Number Plates, 2 Blur Number Plates, 8 Two Wheelers, 2 Trucks, 38.6ms\n",
      "video 262/278 (frame 20/41) /kaggle/input/traffic-vehicles-object-detection/Traffic Dataset/images/test/Video10.mp4: 384x640 14 Cars, 2 Number Plates, 2 Blur Number Plates, 8 Two Wheelers, 2 Trucks, 37.6ms\n",
      "video 262/278 (frame 21/41) /kaggle/input/traffic-vehicles-object-detection/Traffic Dataset/images/test/Video10.mp4: 384x640 14 Cars, 2 Number Plates, 2 Blur Number Plates, 9 Two Wheelers, 1 Auto, 2 Trucks, 38.9ms\n",
      "video 262/278 (frame 22/41) /kaggle/input/traffic-vehicles-object-detection/Traffic Dataset/images/test/Video10.mp4: 384x640 12 Cars, 2 Number Plates, 2 Blur Number Plates, 8 Two Wheelers, 1 Auto, 2 Trucks, 38.5ms\n",
      "video 262/278 (frame 23/41) /kaggle/input/traffic-vehicles-object-detection/Traffic Dataset/images/test/Video10.mp4: 384x640 11 Cars, 2 Number Plates, 2 Blur Number Plates, 7 Two Wheelers, 2 Autos, 2 Trucks, 38.8ms\n",
      "video 262/278 (frame 24/41) /kaggle/input/traffic-vehicles-object-detection/Traffic Dataset/images/test/Video10.mp4: 384x640 13 Cars, 2 Number Plates, 3 Blur Number Plates, 7 Two Wheelers, 1 Auto, 2 Trucks, 39.5ms\n",
      "video 262/278 (frame 25/41) /kaggle/input/traffic-vehicles-object-detection/Traffic Dataset/images/test/Video10.mp4: 384x640 15 Cars, 2 Number Plates, 2 Blur Number Plates, 7 Two Wheelers, 2 Autos, 2 Trucks, 40.0ms\n",
      "video 262/278 (frame 26/41) /kaggle/input/traffic-vehicles-object-detection/Traffic Dataset/images/test/Video10.mp4: 384x640 12 Cars, 2 Number Plates, 2 Blur Number Plates, 8 Two Wheelers, 1 Auto, 2 Trucks, 39.2ms\n",
      "video 262/278 (frame 27/41) /kaggle/input/traffic-vehicles-object-detection/Traffic Dataset/images/test/Video10.mp4: 384x640 13 Cars, 2 Number Plates, 2 Blur Number Plates, 7 Two Wheelers, 1 Auto, 2 Trucks, 38.7ms\n",
      "video 262/278 (frame 28/41) /kaggle/input/traffic-vehicles-object-detection/Traffic Dataset/images/test/Video10.mp4: 384x640 12 Cars, 2 Number Plates, 2 Blur Number Plates, 7 Two Wheelers, 1 Auto, 2 Trucks, 38.0ms\n",
      "video 262/278 (frame 29/41) /kaggle/input/traffic-vehicles-object-detection/Traffic Dataset/images/test/Video10.mp4: 384x640 12 Cars, 2 Number Plates, 2 Blur Number Plates, 7 Two Wheelers, 2 Autos, 2 Trucks, 37.7ms\n",
      "video 262/278 (frame 30/41) /kaggle/input/traffic-vehicles-object-detection/Traffic Dataset/images/test/Video10.mp4: 384x640 13 Cars, 2 Number Plates, 2 Blur Number Plates, 7 Two Wheelers, 2 Autos, 2 Trucks, 37.8ms\n",
      "video 262/278 (frame 31/41) /kaggle/input/traffic-vehicles-object-detection/Traffic Dataset/images/test/Video10.mp4: 384x640 13 Cars, 2 Number Plates, 2 Blur Number Plates, 7 Two Wheelers, 3 Autos, 2 Trucks, 37.7ms\n",
      "video 262/278 (frame 32/41) /kaggle/input/traffic-vehicles-object-detection/Traffic Dataset/images/test/Video10.mp4: 384x640 15 Cars, 2 Number Plates, 2 Blur Number Plates, 7 Two Wheelers, 3 Autos, 2 Trucks, 37.7ms\n",
      "video 262/278 (frame 33/41) /kaggle/input/traffic-vehicles-object-detection/Traffic Dataset/images/test/Video10.mp4: 384x640 15 Cars, 2 Number Plates, 2 Blur Number Plates, 8 Two Wheelers, 2 Autos, 2 Trucks, 38.4ms\n",
      "video 262/278 (frame 34/41) /kaggle/input/traffic-vehicles-object-detection/Traffic Dataset/images/test/Video10.mp4: 384x640 15 Cars, 2 Number Plates, 2 Blur Number Plates, 6 Two Wheelers, 3 Autos, 2 Trucks, 39.1ms\n",
      "video 262/278 (frame 35/41) /kaggle/input/traffic-vehicles-object-detection/Traffic Dataset/images/test/Video10.mp4: 384x640 13 Cars, 2 Number Plates, 2 Blur Number Plates, 6 Two Wheelers, 1 Auto, 1 Truck, 39.2ms\n",
      "video 262/278 (frame 36/41) /kaggle/input/traffic-vehicles-object-detection/Traffic Dataset/images/test/Video10.mp4: 384x640 16 Cars, 2 Number Plates, 2 Blur Number Plates, 7 Two Wheelers, 1 Auto, 1 Truck, 39.9ms\n",
      "video 262/278 (frame 37/41) /kaggle/input/traffic-vehicles-object-detection/Traffic Dataset/images/test/Video10.mp4: 384x640 15 Cars, 2 Number Plates, 2 Blur Number Plates, 7 Two Wheelers, 2 Autos, 1 Truck, 39.9ms\n",
      "video 262/278 (frame 38/41) /kaggle/input/traffic-vehicles-object-detection/Traffic Dataset/images/test/Video10.mp4: 384x640 17 Cars, 2 Number Plates, 2 Blur Number Plates, 8 Two Wheelers, 2 Autos, 1 Truck, 38.6ms\n",
      "video 262/278 (frame 39/41) /kaggle/input/traffic-vehicles-object-detection/Traffic Dataset/images/test/Video10.mp4: 384x640 15 Cars, 2 Number Plates, 2 Blur Number Plates, 7 Two Wheelers, 2 Autos, 1 Truck, 39.0ms\n",
      "video 262/278 (frame 40/41) /kaggle/input/traffic-vehicles-object-detection/Traffic Dataset/images/test/Video10.mp4: 384x640 18 Cars, 2 Number Plates, 2 Blur Number Plates, 8 Two Wheelers, 2 Autos, 1 Truck, 38.7ms\n",
      "video 262/278 (frame 41/41) /kaggle/input/traffic-vehicles-object-detection/Traffic Dataset/images/test/Video10.mp4: 384x640 17 Cars, 2 Number Plates, 2 Blur Number Plates, 8 Two Wheelers, 2 Autos, 1 Truck, 37.3ms\n",
      "video 263/278 (frame 1/1800) /kaggle/input/traffic-vehicles-object-detection/Traffic Dataset/images/test/Video11.mp4: 384x640 18 Cars, 4 Number Plates, 2 Trucks, 30.4ms\n",
      "video 263/278 (frame 2/1800) /kaggle/input/traffic-vehicles-object-detection/Traffic Dataset/images/test/Video11.mp4: 384x640 18 Cars, 4 Number Plates, 2 Trucks, 29.8ms\n",
      "video 263/278 (frame 3/1800) /kaggle/input/traffic-vehicles-object-detection/Traffic Dataset/images/test/Video11.mp4: 384x640 19 Cars, 4 Number Plates, 2 Trucks, 28.9ms\n",
      "video 263/278 (frame 4/1800) /kaggle/input/traffic-vehicles-object-detection/Traffic Dataset/images/test/Video11.mp4: 384x640 20 Cars, 4 Number Plates, 1 Blur Number Plate, 2 Trucks, 30.5ms\n",
      "video 263/278 (frame 5/1800) /kaggle/input/traffic-vehicles-object-detection/Traffic Dataset/images/test/Video11.mp4: 384x640 19 Cars, 4 Number Plates, 1 Blur Number Plate, 2 Trucks, 29.7ms\n",
      "video 263/278 (frame 6/1800) /kaggle/input/traffic-vehicles-object-detection/Traffic Dataset/images/test/Video11.mp4: 384x640 18 Cars, 4 Number Plates, 2 Trucks, 29.0ms\n",
      "video 263/278 (frame 7/1800) /kaggle/input/traffic-vehicles-object-detection/Traffic Dataset/images/test/Video11.mp4: 384x640 17 Cars, 4 Number Plates, 2 Trucks, 29.2ms\n",
      "video 263/278 (frame 8/1800) /kaggle/input/traffic-vehicles-object-detection/Traffic Dataset/images/test/Video11.mp4: 384x640 17 Cars, 4 Number Plates, 1 Blur Number Plate, 2 Trucks, 28.9ms\n",
      "video 263/278 (frame 9/1800) /kaggle/input/traffic-vehicles-object-detection/Traffic Dataset/images/test/Video11.mp4: 384x640 19 Cars, 4 Number Plates, 2 Trucks, 30.2ms\n",
      "video 263/278 (frame 10/1800) /kaggle/input/traffic-vehicles-object-detection/Traffic Dataset/images/test/Video11.mp4: 384x640 21 Cars, 4 Number Plates, 2 Trucks, 42.3ms\n",
      "video 263/278 (frame 11/1800) /kaggle/input/traffic-vehicles-object-detection/Traffic Dataset/images/test/Video11.mp4: 384x640 20 Cars, 4 Number Plates, 2 Trucks, 43.2ms\n",
      "video 263/278 (frame 12/1800) /kaggle/input/traffic-vehicles-object-detection/Traffic Dataset/images/test/Video11.mp4: 384x640 20 Cars, 4 Number Plates, 1 Blur Number Plate, 2 Trucks, 45.0ms\n",
      "video 263/278 (frame 13/1800) /kaggle/input/traffic-vehicles-object-detection/Traffic Dataset/images/test/Video11.mp4: 384x640 20 Cars, 4 Number Plates, 1 Blur Number Plate, 2 Trucks, 46.3ms\n",
      "video 263/278 (frame 14/1800) /kaggle/input/traffic-vehicles-object-detection/Traffic Dataset/images/test/Video11.mp4: 384x640 19 Cars, 4 Number Plates, 3 Trucks, 47.7ms\n",
      "video 263/278 (frame 15/1800) /kaggle/input/traffic-vehicles-object-detection/Traffic Dataset/images/test/Video11.mp4: 384x640 19 Cars, 4 Number Plates, 2 Trucks, 49.2ms\n",
      "video 263/278 (frame 16/1800) /kaggle/input/traffic-vehicles-object-detection/Traffic Dataset/images/test/Video11.mp4: 384x640 20 Cars, 4 Number Plates, 3 Trucks, 50.8ms\n",
      "video 263/278 (frame 17/1800) /kaggle/input/traffic-vehicles-object-detection/Traffic Dataset/images/test/Video11.mp4: 384x640 19 Cars, 4 Number Plates, 2 Trucks, 51.7ms\n",
      "video 263/278 (frame 18/1800) /kaggle/input/traffic-vehicles-object-detection/Traffic Dataset/images/test/Video11.mp4: 384x640 19 Cars, 4 Number Plates, 2 Trucks, 52.3ms\n",
      "video 263/278 (frame 19/1800) /kaggle/input/traffic-vehicles-object-detection/Traffic Dataset/images/test/Video11.mp4: 384x640 19 Cars, 4 Number Plates, 2 Trucks, 53.2ms\n",
      "video 263/278 (frame 20/1800) /kaggle/input/traffic-vehicles-object-detection/Traffic Dataset/images/test/Video11.mp4: 384x640 19 Cars, 3 Number Plates, 2 Trucks, 53.8ms\n",
      "video 263/278 (frame 21/1800) /kaggle/input/traffic-vehicles-object-detection/Traffic Dataset/images/test/Video11.mp4: 384x640 18 Cars, 2 Number Plates, 2 Trucks, 55.0ms\n",
      "video 263/278 (frame 22/1800) /kaggle/input/traffic-vehicles-object-detection/Traffic Dataset/images/test/Video11.mp4: 384x640 18 Cars, 3 Number Plates, 2 Trucks, 55.7ms\n",
      "video 263/278 (frame 23/1800) /kaggle/input/traffic-vehicles-object-detection/Traffic Dataset/images/test/Video11.mp4: 384x640 18 Cars, 3 Number Plates, 2 Trucks, 56.6ms\n",
      "video 263/278 (frame 24/1800) /kaggle/input/traffic-vehicles-object-detection/Traffic Dataset/images/test/Video11.mp4: 384x640 18 Cars, 3 Number Plates, 2 Trucks, 56.6ms\n",
      "video 263/278 (frame 25/1800) /kaggle/input/traffic-vehicles-object-detection/Traffic Dataset/images/test/Video11.mp4: 384x640 17 Cars, 3 Number Plates, 2 Trucks, 57.7ms\n",
      "video 263/278 (frame 26/1800) /kaggle/input/traffic-vehicles-object-detection/Traffic Dataset/images/test/Video11.mp4: 384x640 18 Cars, 3 Number Plates, 2 Trucks, 58.9ms\n",
      "video 263/278 (frame 27/1800) /kaggle/input/traffic-vehicles-object-detection/Traffic Dataset/images/test/Video11.mp4: 384x640 17 Cars, 3 Number Plates, 2 Trucks, 60.2ms\n",
      "video 263/278 (frame 28/1800) /kaggle/input/traffic-vehicles-object-detection/Traffic Dataset/images/test/Video11.mp4: 384x640 17 Cars, 3 Number Plates, 2 Trucks, 61.5ms\n",
      "video 263/278 (frame 29/1800) /kaggle/input/traffic-vehicles-object-detection/Traffic Dataset/images/test/Video11.mp4: 384x640 17 Cars, 3 Number Plates, 2 Trucks, 62.8ms\n",
      "video 263/278 (frame 30/1800) /kaggle/input/traffic-vehicles-object-detection/Traffic Dataset/images/test/Video11.mp4: 384x640 19 Cars, 4 Number Plates, 2 Trucks, 62.9ms\n",
      "video 263/278 (frame 31/1800) /kaggle/input/traffic-vehicles-object-detection/Traffic Dataset/images/test/Video11.mp4: 384x640 18 Cars, 4 Number Plates, 2 Trucks, 62.8ms\n",
      "video 263/278 (frame 32/1800) /kaggle/input/traffic-vehicles-object-detection/Traffic Dataset/images/test/Video11.mp4: 384x640 17 Cars, 4 Number Plates, 2 Trucks, 62.8ms\n",
      "video 263/278 (frame 33/1800) /kaggle/input/traffic-vehicles-object-detection/Traffic Dataset/images/test/Video11.mp4: 384x640 19 Cars, 4 Number Plates, 2 Trucks, 62.8ms\n",
      "video 263/278 (frame 34/1800) /kaggle/input/traffic-vehicles-object-detection/Traffic Dataset/images/test/Video11.mp4: 384x640 18 Cars, 4 Number Plates, 2 Trucks, 62.8ms\n",
      "video 263/278 (frame 35/1800) /kaggle/input/traffic-vehicles-object-detection/Traffic Dataset/images/test/Video11.mp4: 384x640 20 Cars, 4 Number Plates, 2 Trucks, 62.8ms\n",
      "video 263/278 (frame 36/1800) /kaggle/input/traffic-vehicles-object-detection/Traffic Dataset/images/test/Video11.mp4: 384x640 19 Cars, 4 Number Plates, 1 Blur Number Plate, 2 Trucks, 62.8ms\n",
      "video 263/278 (frame 37/1800) /kaggle/input/traffic-vehicles-object-detection/Traffic Dataset/images/test/Video11.mp4: 384x640 19 Cars, 4 Number Plates, 2 Trucks, 62.8ms\n",
      "video 263/278 (frame 38/1800) /kaggle/input/traffic-vehicles-object-detection/Traffic Dataset/images/test/Video11.mp4: 384x640 20 Cars, 4 Number Plates, 2 Trucks, 62.8ms\n",
      "video 263/278 (frame 39/1800) /kaggle/input/traffic-vehicles-object-detection/Traffic Dataset/images/test/Video11.mp4: 384x640 19 Cars, 4 Number Plates, 2 Trucks, 62.8ms\n",
      "video 263/278 (frame 40/1800) /kaggle/input/traffic-vehicles-object-detection/Traffic Dataset/images/test/Video11.mp4: 384x640 19 Cars, 3 Number Plates, 1 Blur Number Plate, 2 Trucks, 62.9ms\n",
      "video 263/278 (frame 41/1800) /kaggle/input/traffic-vehicles-object-detection/Traffic Dataset/images/test/Video11.mp4: 384x640 20 Cars, 3 Number Plates, 1 Blur Number Plate, 2 Trucks, 62.8ms\n",
      "video 263/278 (frame 42/1800) /kaggle/input/traffic-vehicles-object-detection/Traffic Dataset/images/test/Video11.mp4: 384x640 19 Cars, 2 Number Plates, 1 Blur Number Plate, 2 Trucks, 62.8ms\n",
      "video 263/278 (frame 43/1800) /kaggle/input/traffic-vehicles-object-detection/Traffic Dataset/images/test/Video11.mp4: 384x640 19 Cars, 4 Number Plates, 1 Blur Number Plate, 2 Trucks, 62.8ms\n",
      "video 263/278 (frame 44/1800) /kaggle/input/traffic-vehicles-object-detection/Traffic Dataset/images/test/Video11.mp4: 384x640 20 Cars, 3 Number Plates, 2 Blur Number Plates, 2 Trucks, 62.8ms\n",
      "video 263/278 (frame 45/1800) /kaggle/input/traffic-vehicles-object-detection/Traffic Dataset/images/test/Video11.mp4: 384x640 19 Cars, 3 Number Plates, 1 Blur Number Plate, 2 Trucks, 62.8ms\n",
      "video 263/278 (frame 46/1800) /kaggle/input/traffic-vehicles-object-detection/Traffic Dataset/images/test/Video11.mp4: 384x640 18 Cars, 3 Number Plates, 2 Trucks, 62.8ms\n",
      "video 263/278 (frame 47/1800) /kaggle/input/traffic-vehicles-object-detection/Traffic Dataset/images/test/Video11.mp4: 384x640 18 Cars, 4 Number Plates, 1 Blur Number Plate, 2 Trucks, 62.8ms\n",
      "video 263/278 (frame 48/1800) /kaggle/input/traffic-vehicles-object-detection/Traffic Dataset/images/test/Video11.mp4: 384x640 18 Cars, 4 Number Plates, 1 Blur Number Plate, 2 Trucks, 62.8ms\n",
      "video 263/278 (frame 49/1800) /kaggle/input/traffic-vehicles-object-detection/Traffic Dataset/images/test/Video11.mp4: 384x640 19 Cars, 4 Number Plates, 2 Trucks, 62.8ms\n",
      "video 263/278 (frame 50/1800) /kaggle/input/traffic-vehicles-object-detection/Traffic Dataset/images/test/Video11.mp4: 384x640 19 Cars, 4 Number Plates, 1 Blur Number Plate, 2 Trucks, 62.8ms\n",
      "video 263/278 (frame 51/1800) /kaggle/input/traffic-vehicles-object-detection/Traffic Dataset/images/test/Video11.mp4: 384x640 19 Cars, 4 Number Plates, 2 Trucks, 62.8ms\n",
      "video 263/278 (frame 52/1800) /kaggle/input/traffic-vehicles-object-detection/Traffic Dataset/images/test/Video11.mp4: 384x640 19 Cars, 4 Number Plates, 3 Trucks, 62.8ms\n",
      "video 263/278 (frame 53/1800) /kaggle/input/traffic-vehicles-object-detection/Traffic Dataset/images/test/Video11.mp4: 384x640 19 Cars, 4 Number Plates, 2 Trucks, 62.8ms\n",
      "video 263/278 (frame 54/1800) /kaggle/input/traffic-vehicles-object-detection/Traffic Dataset/images/test/Video11.mp4: 384x640 19 Cars, 4 Number Plates, 2 Trucks, 62.8ms\n",
      "video 263/278 (frame 55/1800) /kaggle/input/traffic-vehicles-object-detection/Traffic Dataset/images/test/Video11.mp4: 384x640 19 Cars, 3 Number Plates, 2 Trucks, 62.8ms\n",
      "video 263/278 (frame 56/1800) /kaggle/input/traffic-vehicles-object-detection/Traffic Dataset/images/test/Video11.mp4: 384x640 19 Cars, 3 Number Plates, 2 Trucks, 62.8ms\n",
      "video 263/278 (frame 57/1800) /kaggle/input/traffic-vehicles-object-detection/Traffic Dataset/images/test/Video11.mp4: 384x640 19 Cars, 3 Number Plates, 3 Trucks, 62.8ms\n",
      "video 263/278 (frame 58/1800) /kaggle/input/traffic-vehicles-object-detection/Traffic Dataset/images/test/Video11.mp4: 384x640 18 Cars, 4 Number Plates, 2 Trucks, 62.8ms\n",
      "video 263/278 (frame 59/1800) /kaggle/input/traffic-vehicles-object-detection/Traffic Dataset/images/test/Video11.mp4: 384x640 18 Cars, 4 Number Plates, 2 Trucks, 62.8ms\n",
      "video 263/278 (frame 60/1800) /kaggle/input/traffic-vehicles-object-detection/Traffic Dataset/images/test/Video11.mp4: 384x640 18 Cars, 3 Number Plates, 2 Trucks, 62.8ms\n",
      "video 263/278 (frame 61/1800) /kaggle/input/traffic-vehicles-object-detection/Traffic Dataset/images/test/Video11.mp4: 384x640 18 Cars, 3 Number Plates, 2 Trucks, 62.8ms\n",
      "video 263/278 (frame 62/1800) /kaggle/input/traffic-vehicles-object-detection/Traffic Dataset/images/test/Video11.mp4: 384x640 18 Cars, 3 Number Plates, 2 Trucks, 62.8ms\n",
      "video 263/278 (frame 63/1800) /kaggle/input/traffic-vehicles-object-detection/Traffic Dataset/images/test/Video11.mp4: 384x640 17 Cars, 4 Number Plates, 3 Trucks, 62.9ms\n",
      "video 263/278 (frame 64/1800) /kaggle/input/traffic-vehicles-object-detection/Traffic Dataset/images/test/Video11.mp4: 384x640 17 Cars, 4 Number Plates, 1 Blur Number Plate, 3 Trucks, 62.8ms\n",
      "video 263/278 (frame 65/1800) /kaggle/input/traffic-vehicles-object-detection/Traffic Dataset/images/test/Video11.mp4: 384x640 17 Cars, 4 Number Plates, 1 Blur Number Plate, 3 Trucks, 62.9ms\n",
      "video 263/278 (frame 66/1800) /kaggle/input/traffic-vehicles-object-detection/Traffic Dataset/images/test/Video11.mp4: 384x640 17 Cars, 4 Number Plates, 3 Trucks, 62.8ms\n",
      "video 263/278 (frame 67/1800) /kaggle/input/traffic-vehicles-object-detection/Traffic Dataset/images/test/Video11.mp4: 384x640 17 Cars, 4 Number Plates, 3 Trucks, 62.9ms\n",
      "video 263/278 (frame 68/1800) /kaggle/input/traffic-vehicles-object-detection/Traffic Dataset/images/test/Video11.mp4: 384x640 16 Cars, 4 Number Plates, 3 Trucks, 62.8ms\n",
      "video 263/278 (frame 69/1800) /kaggle/input/traffic-vehicles-object-detection/Traffic Dataset/images/test/Video11.mp4: 384x640 17 Cars, 4 Number Plates, 3 Trucks, 62.9ms\n",
      "video 263/278 (frame 70/1800) /kaggle/input/traffic-vehicles-object-detection/Traffic Dataset/images/test/Video11.mp4: 384x640 17 Cars, 4 Number Plates, 1 Blur Number Plate, 3 Trucks, 62.8ms\n",
      "video 263/278 (frame 71/1800) /kaggle/input/traffic-vehicles-object-detection/Traffic Dataset/images/test/Video11.mp4: 384x640 17 Cars, 4 Number Plates, 1 Blur Number Plate, 3 Trucks, 62.8ms\n",
      "video 263/278 (frame 72/1800) /kaggle/input/traffic-vehicles-object-detection/Traffic Dataset/images/test/Video11.mp4: 384x640 17 Cars, 4 Number Plates, 1 Blur Number Plate, 3 Trucks, 62.8ms\n",
      "video 263/278 (frame 73/1800) /kaggle/input/traffic-vehicles-object-detection/Traffic Dataset/images/test/Video11.mp4: 384x640 17 Cars, 4 Number Plates, 3 Trucks, 62.8ms\n",
      "video 263/278 (frame 74/1800) /kaggle/input/traffic-vehicles-object-detection/Traffic Dataset/images/test/Video11.mp4: 384x640 16 Cars, 4 Number Plates, 3 Trucks, 62.8ms\n",
      "video 263/278 (frame 75/1800) /kaggle/input/traffic-vehicles-object-detection/Traffic Dataset/images/test/Video11.mp4: 384x640 17 Cars, 4 Number Plates, 3 Trucks, 62.8ms\n",
      "video 263/278 (frame 76/1800) /kaggle/input/traffic-vehicles-object-detection/Traffic Dataset/images/test/Video11.mp4: 384x640 19 Cars, 4 Number Plates, 3 Trucks, 62.9ms\n",
      "video 263/278 (frame 77/1800) /kaggle/input/traffic-vehicles-object-detection/Traffic Dataset/images/test/Video11.mp4: 384x640 17 Cars, 4 Number Plates, 3 Trucks, 62.8ms\n",
      "video 263/278 (frame 78/1800) /kaggle/input/traffic-vehicles-object-detection/Traffic Dataset/images/test/Video11.mp4: 384x640 18 Cars, 3 Number Plates, 3 Trucks, 62.8ms\n",
      "video 263/278 (frame 79/1800) /kaggle/input/traffic-vehicles-object-detection/Traffic Dataset/images/test/Video11.mp4: 384x640 18 Cars, 3 Number Plates, 3 Trucks, 62.9ms\n",
      "video 263/278 (frame 80/1800) /kaggle/input/traffic-vehicles-object-detection/Traffic Dataset/images/test/Video11.mp4: 384x640 18 Cars, 4 Number Plates, 3 Trucks, 62.9ms\n",
      "video 263/278 (frame 81/1800) /kaggle/input/traffic-vehicles-object-detection/Traffic Dataset/images/test/Video11.mp4: 384x640 18 Cars, 3 Number Plates, 3 Trucks, 62.8ms\n",
      "video 263/278 (frame 82/1800) /kaggle/input/traffic-vehicles-object-detection/Traffic Dataset/images/test/Video11.mp4: 384x640 18 Cars, 3 Number Plates, 3 Trucks, 62.9ms\n",
      "video 263/278 (frame 83/1800) /kaggle/input/traffic-vehicles-object-detection/Traffic Dataset/images/test/Video11.mp4: 384x640 18 Cars, 3 Number Plates, 3 Trucks, 62.8ms\n",
      "video 263/278 (frame 84/1800) /kaggle/input/traffic-vehicles-object-detection/Traffic Dataset/images/test/Video11.mp4: 384x640 19 Cars, 3 Number Plates, 3 Trucks, 62.9ms\n",
      "video 263/278 (frame 85/1800) /kaggle/input/traffic-vehicles-object-detection/Traffic Dataset/images/test/Video11.mp4: 384x640 19 Cars, 3 Number Plates, 3 Trucks, 62.9ms\n",
      "video 263/278 (frame 86/1800) /kaggle/input/traffic-vehicles-object-detection/Traffic Dataset/images/test/Video11.mp4: 384x640 19 Cars, 3 Number Plates, 3 Trucks, 62.8ms\n",
      "video 263/278 (frame 87/1800) /kaggle/input/traffic-vehicles-object-detection/Traffic Dataset/images/test/Video11.mp4: 384x640 18 Cars, 3 Number Plates, 3 Trucks, 62.8ms\n",
      "video 263/278 (frame 88/1800) /kaggle/input/traffic-vehicles-object-detection/Traffic Dataset/images/test/Video11.mp4: 384x640 18 Cars, 3 Number Plates, 3 Trucks, 62.8ms\n",
      "video 263/278 (frame 89/1800) /kaggle/input/traffic-vehicles-object-detection/Traffic Dataset/images/test/Video11.mp4: 384x640 17 Cars, 3 Number Plates, 3 Trucks, 62.8ms\n",
      "video 263/278 (frame 90/1800) /kaggle/input/traffic-vehicles-object-detection/Traffic Dataset/images/test/Video11.mp4: 384x640 18 Cars, 2 Number Plates, 3 Trucks, 62.8ms\n",
      "video 263/278 (frame 91/1800) /kaggle/input/traffic-vehicles-object-detection/Traffic Dataset/images/test/Video11.mp4: 384x640 17 Cars, 1 Number Plate, 3 Trucks, 62.8ms\n",
      "video 263/278 (frame 92/1800) /kaggle/input/traffic-vehicles-object-detection/Traffic Dataset/images/test/Video11.mp4: 384x640 17 Cars, 2 Number Plates, 3 Trucks, 62.9ms\n",
      "video 263/278 (frame 93/1800) /kaggle/input/traffic-vehicles-object-detection/Traffic Dataset/images/test/Video11.mp4: 384x640 17 Cars, 2 Number Plates, 3 Trucks, 62.8ms\n",
      "video 263/278 (frame 94/1800) /kaggle/input/traffic-vehicles-object-detection/Traffic Dataset/images/test/Video11.mp4: 384x640 17 Cars, 3 Number Plates, 3 Trucks, 62.8ms\n",
      "video 263/278 (frame 95/1800) /kaggle/input/traffic-vehicles-object-detection/Traffic Dataset/images/test/Video11.mp4: 384x640 18 Cars, 3 Number Plates, 3 Trucks, 62.8ms\n",
      "video 263/278 (frame 96/1800) /kaggle/input/traffic-vehicles-object-detection/Traffic Dataset/images/test/Video11.mp4: 384x640 18 Cars, 3 Number Plates, 3 Trucks, 62.8ms\n",
      "video 263/278 (frame 97/1800) /kaggle/input/traffic-vehicles-object-detection/Traffic Dataset/images/test/Video11.mp4: 384x640 18 Cars, 3 Number Plates, 3 Trucks, 62.8ms\n",
      "video 263/278 (frame 98/1800) /kaggle/input/traffic-vehicles-object-detection/Traffic Dataset/images/test/Video11.mp4: 384x640 18 Cars, 3 Number Plates, 3 Trucks, 62.8ms\n",
      "video 263/278 (frame 99/1800) /kaggle/input/traffic-vehicles-object-detection/Traffic Dataset/images/test/Video11.mp4: 384x640 18 Cars, 3 Number Plates, 3 Trucks, 62.8ms\n",
      "video 263/278 (frame 100/1800) /kaggle/input/traffic-vehicles-object-detection/Traffic Dataset/images/test/Video11.mp4: 384x640 18 Cars, 3 Number Plates, 3 Trucks, 62.9ms\n",
      "video 263/278 (frame 101/1800) /kaggle/input/traffic-vehicles-object-detection/Traffic Dataset/images/test/Video11.mp4: 384x640 19 Cars, 3 Number Plates, 3 Trucks, 62.9ms\n",
      "video 263/278 (frame 102/1800) /kaggle/input/traffic-vehicles-object-detection/Traffic Dataset/images/test/Video11.mp4: 384x640 19 Cars, 3 Number Plates, 3 Trucks, 62.8ms\n",
      "video 263/278 (frame 103/1800) /kaggle/input/traffic-vehicles-object-detection/Traffic Dataset/images/test/Video11.mp4: 384x640 18 Cars, 3 Number Plates, 3 Trucks, 62.8ms\n",
      "video 263/278 (frame 104/1800) /kaggle/input/traffic-vehicles-object-detection/Traffic Dataset/images/test/Video11.mp4: 384x640 17 Cars, 3 Number Plates, 3 Trucks, 62.8ms\n",
      "video 263/278 (frame 105/1800) /kaggle/input/traffic-vehicles-object-detection/Traffic Dataset/images/test/Video11.mp4: 384x640 17 Cars, 3 Number Plates, 3 Trucks, 62.8ms\n",
      "video 263/278 (frame 106/1800) /kaggle/input/traffic-vehicles-object-detection/Traffic Dataset/images/test/Video11.mp4: 384x640 17 Cars, 3 Number Plates, 3 Trucks, 62.8ms\n",
      "video 263/278 (frame 107/1800) /kaggle/input/traffic-vehicles-object-detection/Traffic Dataset/images/test/Video11.mp4: 384x640 17 Cars, 3 Number Plates, 3 Trucks, 62.8ms\n",
      "video 263/278 (frame 108/1800) /kaggle/input/traffic-vehicles-object-detection/Traffic Dataset/images/test/Video11.mp4: 384x640 17 Cars, 3 Number Plates, 3 Trucks, 62.8ms\n",
      "video 263/278 (frame 109/1800) /kaggle/input/traffic-vehicles-object-detection/Traffic Dataset/images/test/Video11.mp4: 384x640 17 Cars, 3 Number Plates, 3 Trucks, 62.8ms\n",
      "video 263/278 (frame 110/1800) /kaggle/input/traffic-vehicles-object-detection/Traffic Dataset/images/test/Video11.mp4: 384x640 17 Cars, 3 Number Plates, 3 Trucks, 62.8ms\n",
      "video 263/278 (frame 111/1800) /kaggle/input/traffic-vehicles-object-detection/Traffic Dataset/images/test/Video11.mp4: 384x640 17 Cars, 3 Number Plates, 3 Trucks, 62.9ms\n",
      "video 263/278 (frame 112/1800) /kaggle/input/traffic-vehicles-object-detection/Traffic Dataset/images/test/Video11.mp4: 384x640 17 Cars, 3 Number Plates, 3 Trucks, 62.9ms\n",
      "video 263/278 (frame 113/1800) /kaggle/input/traffic-vehicles-object-detection/Traffic Dataset/images/test/Video11.mp4: 384x640 16 Cars, 4 Number Plates, 3 Trucks, 62.8ms\n",
      "video 263/278 (frame 114/1800) /kaggle/input/traffic-vehicles-object-detection/Traffic Dataset/images/test/Video11.mp4: 384x640 16 Cars, 3 Number Plates, 3 Trucks, 62.8ms\n",
      "video 263/278 (frame 115/1800) /kaggle/input/traffic-vehicles-object-detection/Traffic Dataset/images/test/Video11.mp4: 384x640 16 Cars, 4 Number Plates, 3 Trucks, 62.8ms\n",
      "video 263/278 (frame 116/1800) /kaggle/input/traffic-vehicles-object-detection/Traffic Dataset/images/test/Video11.mp4: 384x640 16 Cars, 4 Number Plates, 3 Trucks, 62.9ms\n",
      "video 263/278 (frame 117/1800) /kaggle/input/traffic-vehicles-object-detection/Traffic Dataset/images/test/Video11.mp4: 384x640 16 Cars, 4 Number Plates, 3 Trucks, 62.8ms\n",
      "video 263/278 (frame 118/1800) /kaggle/input/traffic-vehicles-object-detection/Traffic Dataset/images/test/Video11.mp4: 384x640 17 Cars, 4 Number Plates, 3 Trucks, 62.8ms\n",
      "video 263/278 (frame 119/1800) /kaggle/input/traffic-vehicles-object-detection/Traffic Dataset/images/test/Video11.mp4: 384x640 17 Cars, 4 Number Plates, 3 Trucks, 62.8ms\n",
      "video 263/278 (frame 120/1800) /kaggle/input/traffic-vehicles-object-detection/Traffic Dataset/images/test/Video11.mp4: 384x640 17 Cars, 4 Number Plates, 3 Trucks, 62.9ms\n",
      "video 263/278 (frame 121/1800) /kaggle/input/traffic-vehicles-object-detection/Traffic Dataset/images/test/Video11.mp4: 384x640 17 Cars, 4 Number Plates, 3 Trucks, 62.8ms\n",
      "video 263/278 (frame 122/1800) /kaggle/input/traffic-vehicles-object-detection/Traffic Dataset/images/test/Video11.mp4: 384x640 17 Cars, 3 Number Plates, 3 Trucks, 62.8ms\n",
      "video 263/278 (frame 123/1800) /kaggle/input/traffic-vehicles-object-detection/Traffic Dataset/images/test/Video11.mp4: 384x640 17 Cars, 3 Number Plates, 3 Trucks, 62.8ms\n",
      "video 263/278 (frame 124/1800) /kaggle/input/traffic-vehicles-object-detection/Traffic Dataset/images/test/Video11.mp4: 384x640 17 Cars, 4 Number Plates, 3 Trucks, 62.8ms\n",
      "video 263/278 (frame 125/1800) /kaggle/input/traffic-vehicles-object-detection/Traffic Dataset/images/test/Video11.mp4: 384x640 16 Cars, 4 Number Plates, 3 Trucks, 62.9ms\n",
      "video 263/278 (frame 126/1800) /kaggle/input/traffic-vehicles-object-detection/Traffic Dataset/images/test/Video11.mp4: 384x640 16 Cars, 4 Number Plates, 3 Trucks, 62.9ms\n",
      "video 263/278 (frame 127/1800) /kaggle/input/traffic-vehicles-object-detection/Traffic Dataset/images/test/Video11.mp4: 384x640 16 Cars, 4 Number Plates, 3 Trucks, 62.8ms\n",
      "video 263/278 (frame 128/1800) /kaggle/input/traffic-vehicles-object-detection/Traffic Dataset/images/test/Video11.mp4: 384x640 16 Cars, 4 Number Plates, 3 Trucks, 62.9ms\n",
      "video 263/278 (frame 129/1800) /kaggle/input/traffic-vehicles-object-detection/Traffic Dataset/images/test/Video11.mp4: 384x640 16 Cars, 4 Number Plates, 3 Trucks, 62.8ms\n",
      "video 263/278 (frame 130/1800) /kaggle/input/traffic-vehicles-object-detection/Traffic Dataset/images/test/Video11.mp4: 384x640 16 Cars, 4 Number Plates, 3 Trucks, 62.9ms\n",
      "video 263/278 (frame 131/1800) /kaggle/input/traffic-vehicles-object-detection/Traffic Dataset/images/test/Video11.mp4: 384x640 16 Cars, 4 Number Plates, 3 Trucks, 62.8ms\n",
      "video 263/278 (frame 132/1800) /kaggle/input/traffic-vehicles-object-detection/Traffic Dataset/images/test/Video11.mp4: 384x640 16 Cars, 4 Number Plates, 3 Trucks, 62.9ms\n",
      "video 263/278 (frame 133/1800) /kaggle/input/traffic-vehicles-object-detection/Traffic Dataset/images/test/Video11.mp4: 384x640 16 Cars, 4 Number Plates, 3 Trucks, 62.8ms\n",
      "video 263/278 (frame 134/1800) /kaggle/input/traffic-vehicles-object-detection/Traffic Dataset/images/test/Video11.mp4: 384x640 16 Cars, 4 Number Plates, 3 Trucks, 62.8ms\n",
      "video 263/278 (frame 135/1800) /kaggle/input/traffic-vehicles-object-detection/Traffic Dataset/images/test/Video11.mp4: 384x640 17 Cars, 4 Number Plates, 3 Trucks, 62.8ms\n",
      "video 263/278 (frame 136/1800) /kaggle/input/traffic-vehicles-object-detection/Traffic Dataset/images/test/Video11.mp4: 384x640 16 Cars, 4 Number Plates, 3 Trucks, 62.8ms\n",
      "video 263/278 (frame 137/1800) /kaggle/input/traffic-vehicles-object-detection/Traffic Dataset/images/test/Video11.mp4: 384x640 16 Cars, 4 Number Plates, 3 Trucks, 62.9ms\n",
      "video 263/278 (frame 138/1800) /kaggle/input/traffic-vehicles-object-detection/Traffic Dataset/images/test/Video11.mp4: 384x640 16 Cars, 4 Number Plates, 3 Trucks, 62.8ms\n",
      "video 263/278 (frame 139/1800) /kaggle/input/traffic-vehicles-object-detection/Traffic Dataset/images/test/Video11.mp4: 384x640 16 Cars, 4 Number Plates, 3 Trucks, 62.9ms\n",
      "video 263/278 (frame 140/1800) /kaggle/input/traffic-vehicles-object-detection/Traffic Dataset/images/test/Video11.mp4: 384x640 16 Cars, 3 Number Plates, 3 Trucks, 62.8ms\n",
      "video 263/278 (frame 141/1800) /kaggle/input/traffic-vehicles-object-detection/Traffic Dataset/images/test/Video11.mp4: 384x640 16 Cars, 4 Number Plates, 3 Trucks, 62.9ms\n",
      "video 263/278 (frame 142/1800) /kaggle/input/traffic-vehicles-object-detection/Traffic Dataset/images/test/Video11.mp4: 384x640 16 Cars, 5 Number Plates, 3 Trucks, 62.9ms\n",
      "video 263/278 (frame 143/1800) /kaggle/input/traffic-vehicles-object-detection/Traffic Dataset/images/test/Video11.mp4: 384x640 16 Cars, 2 Number Plates, 3 Trucks, 62.8ms\n",
      "video 263/278 (frame 144/1800) /kaggle/input/traffic-vehicles-object-detection/Traffic Dataset/images/test/Video11.mp4: 384x640 17 Cars, 3 Number Plates, 3 Trucks, 62.8ms\n",
      "video 263/278 (frame 145/1800) /kaggle/input/traffic-vehicles-object-detection/Traffic Dataset/images/test/Video11.mp4: 384x640 17 Cars, 2 Number Plates, 3 Trucks, 62.8ms\n",
      "video 263/278 (frame 146/1800) /kaggle/input/traffic-vehicles-object-detection/Traffic Dataset/images/test/Video11.mp4: 384x640 17 Cars, 2 Number Plates, 3 Trucks, 62.8ms\n",
      "video 263/278 (frame 147/1800) /kaggle/input/traffic-vehicles-object-detection/Traffic Dataset/images/test/Video11.mp4: 384x640 18 Cars, 1 Number Plate, 3 Trucks, 62.9ms\n",
      "video 263/278 (frame 148/1800) /kaggle/input/traffic-vehicles-object-detection/Traffic Dataset/images/test/Video11.mp4: 384x640 18 Cars, 2 Number Plates, 3 Trucks, 62.8ms\n",
      "video 263/278 (frame 149/1800) /kaggle/input/traffic-vehicles-object-detection/Traffic Dataset/images/test/Video11.mp4: 384x640 17 Cars, 2 Number Plates, 3 Trucks, 62.8ms\n",
      "video 263/278 (frame 150/1800) /kaggle/input/traffic-vehicles-object-detection/Traffic Dataset/images/test/Video11.mp4: 384x640 18 Cars, 2 Number Plates, 3 Trucks, 62.8ms\n",
      "video 263/278 (frame 151/1800) /kaggle/input/traffic-vehicles-object-detection/Traffic Dataset/images/test/Video11.mp4: 384x640 18 Cars, 2 Number Plates, 3 Trucks, 62.9ms\n",
      "video 263/278 (frame 152/1800) /kaggle/input/traffic-vehicles-object-detection/Traffic Dataset/images/test/Video11.mp4: 384x640 18 Cars, 2 Number Plates, 3 Trucks, 62.8ms\n",
      "video 263/278 (frame 153/1800) /kaggle/input/traffic-vehicles-object-detection/Traffic Dataset/images/test/Video11.mp4: 384x640 18 Cars, 2 Number Plates, 3 Trucks, 62.8ms\n",
      "video 263/278 (frame 154/1800) /kaggle/input/traffic-vehicles-object-detection/Traffic Dataset/images/test/Video11.mp4: 384x640 18 Cars, 2 Number Plates, 3 Trucks, 62.9ms\n",
      "video 263/278 (frame 155/1800) /kaggle/input/traffic-vehicles-object-detection/Traffic Dataset/images/test/Video11.mp4: 384x640 18 Cars, 2 Number Plates, 3 Trucks, 62.8ms\n",
      "video 263/278 (frame 156/1800) /kaggle/input/traffic-vehicles-object-detection/Traffic Dataset/images/test/Video11.mp4: 384x640 18 Cars, 2 Number Plates, 3 Trucks, 62.8ms\n",
      "video 263/278 (frame 157/1800) /kaggle/input/traffic-vehicles-object-detection/Traffic Dataset/images/test/Video11.mp4: 384x640 18 Cars, 2 Number Plates, 3 Trucks, 62.8ms\n",
      "video 263/278 (frame 158/1800) /kaggle/input/traffic-vehicles-object-detection/Traffic Dataset/images/test/Video11.mp4: 384x640 18 Cars, 2 Number Plates, 3 Trucks, 62.8ms\n",
      "video 263/278 (frame 159/1800) /kaggle/input/traffic-vehicles-object-detection/Traffic Dataset/images/test/Video11.mp4: 384x640 17 Cars, 2 Number Plates, 3 Trucks, 62.8ms\n",
      "video 263/278 (frame 160/1800) /kaggle/input/traffic-vehicles-object-detection/Traffic Dataset/images/test/Video11.mp4: 384x640 17 Cars, 2 Number Plates, 3 Trucks, 62.8ms\n",
      "video 263/278 (frame 161/1800) /kaggle/input/traffic-vehicles-object-detection/Traffic Dataset/images/test/Video11.mp4: 384x640 16 Cars, 2 Number Plates, 3 Trucks, 62.8ms\n",
      "video 263/278 (frame 162/1800) /kaggle/input/traffic-vehicles-object-detection/Traffic Dataset/images/test/Video11.mp4: 384x640 16 Cars, 2 Number Plates, 3 Trucks, 62.8ms\n",
      "video 263/278 (frame 163/1800) /kaggle/input/traffic-vehicles-object-detection/Traffic Dataset/images/test/Video11.mp4: 384x640 16 Cars, 2 Number Plates, 3 Trucks, 62.8ms\n",
      "video 263/278 (frame 164/1800) /kaggle/input/traffic-vehicles-object-detection/Traffic Dataset/images/test/Video11.mp4: 384x640 16 Cars, 2 Number Plates, 3 Trucks, 62.8ms\n",
      "video 263/278 (frame 165/1800) /kaggle/input/traffic-vehicles-object-detection/Traffic Dataset/images/test/Video11.mp4: 384x640 16 Cars, 2 Number Plates, 3 Trucks, 62.8ms\n",
      "video 263/278 (frame 166/1800) /kaggle/input/traffic-vehicles-object-detection/Traffic Dataset/images/test/Video11.mp4: 384x640 16 Cars, 2 Number Plates, 3 Trucks, 62.8ms\n",
      "video 263/278 (frame 167/1800) /kaggle/input/traffic-vehicles-object-detection/Traffic Dataset/images/test/Video11.mp4: 384x640 17 Cars, 2 Number Plates, 3 Trucks, 62.8ms\n",
      "video 263/278 (frame 168/1800) /kaggle/input/traffic-vehicles-object-detection/Traffic Dataset/images/test/Video11.mp4: 384x640 17 Cars, 2 Number Plates, 3 Trucks, 62.8ms\n",
      "video 263/278 (frame 169/1800) /kaggle/input/traffic-vehicles-object-detection/Traffic Dataset/images/test/Video11.mp4: 384x640 17 Cars, 1 Number Plate, 3 Trucks, 62.8ms\n",
      "video 263/278 (frame 170/1800) /kaggle/input/traffic-vehicles-object-detection/Traffic Dataset/images/test/Video11.mp4: 384x640 17 Cars, 2 Number Plates, 3 Trucks, 62.8ms\n",
      "video 263/278 (frame 171/1800) /kaggle/input/traffic-vehicles-object-detection/Traffic Dataset/images/test/Video11.mp4: 384x640 17 Cars, 2 Number Plates, 3 Trucks, 62.8ms\n",
      "video 263/278 (frame 172/1800) /kaggle/input/traffic-vehicles-object-detection/Traffic Dataset/images/test/Video11.mp4: 384x640 17 Cars, 2 Number Plates, 3 Trucks, 62.9ms\n",
      "video 263/278 (frame 173/1800) /kaggle/input/traffic-vehicles-object-detection/Traffic Dataset/images/test/Video11.mp4: 384x640 17 Cars, 2 Number Plates, 3 Trucks, 62.8ms\n",
      "video 263/278 (frame 174/1800) /kaggle/input/traffic-vehicles-object-detection/Traffic Dataset/images/test/Video11.mp4: 384x640 17 Cars, 2 Number Plates, 3 Trucks, 62.9ms\n",
      "video 263/278 (frame 175/1800) /kaggle/input/traffic-vehicles-object-detection/Traffic Dataset/images/test/Video11.mp4: 384x640 17 Cars, 2 Number Plates, 3 Trucks, 62.8ms\n",
      "video 263/278 (frame 176/1800) /kaggle/input/traffic-vehicles-object-detection/Traffic Dataset/images/test/Video11.mp4: 384x640 17 Cars, 2 Number Plates, 3 Trucks, 62.8ms\n",
      "video 263/278 (frame 177/1800) /kaggle/input/traffic-vehicles-object-detection/Traffic Dataset/images/test/Video11.mp4: 384x640 18 Cars, 2 Number Plates, 3 Trucks, 62.8ms\n",
      "video 263/278 (frame 178/1800) /kaggle/input/traffic-vehicles-object-detection/Traffic Dataset/images/test/Video11.mp4: 384x640 18 Cars, 2 Number Plates, 3 Trucks, 62.8ms\n",
      "video 263/278 (frame 179/1800) /kaggle/input/traffic-vehicles-object-detection/Traffic Dataset/images/test/Video11.mp4: 384x640 18 Cars, 2 Number Plates, 3 Trucks, 62.8ms\n",
      "video 263/278 (frame 180/1800) /kaggle/input/traffic-vehicles-object-detection/Traffic Dataset/images/test/Video11.mp4: 384x640 18 Cars, 2 Number Plates, 3 Trucks, 62.9ms\n",
      "video 263/278 (frame 181/1800) /kaggle/input/traffic-vehicles-object-detection/Traffic Dataset/images/test/Video11.mp4: 384x640 18 Cars, 2 Number Plates, 3 Trucks, 62.8ms\n",
      "video 263/278 (frame 182/1800) /kaggle/input/traffic-vehicles-object-detection/Traffic Dataset/images/test/Video11.mp4: 384x640 19 Cars, 2 Number Plates, 3 Trucks, 62.8ms\n",
      "video 263/278 (frame 183/1800) /kaggle/input/traffic-vehicles-object-detection/Traffic Dataset/images/test/Video11.mp4: 384x640 18 Cars, 2 Number Plates, 3 Trucks, 62.8ms\n",
      "video 263/278 (frame 184/1800) /kaggle/input/traffic-vehicles-object-detection/Traffic Dataset/images/test/Video11.mp4: 384x640 19 Cars, 2 Number Plates, 3 Trucks, 62.8ms\n",
      "video 263/278 (frame 185/1800) /kaggle/input/traffic-vehicles-object-detection/Traffic Dataset/images/test/Video11.mp4: 384x640 19 Cars, 2 Number Plates, 3 Trucks, 62.8ms\n",
      "video 263/278 (frame 186/1800) /kaggle/input/traffic-vehicles-object-detection/Traffic Dataset/images/test/Video11.mp4: 384x640 19 Cars, 2 Number Plates, 3 Trucks, 62.8ms\n",
      "video 263/278 (frame 187/1800) /kaggle/input/traffic-vehicles-object-detection/Traffic Dataset/images/test/Video11.mp4: 384x640 18 Cars, 2 Number Plates, 3 Trucks, 62.8ms\n",
      "video 263/278 (frame 188/1800) /kaggle/input/traffic-vehicles-object-detection/Traffic Dataset/images/test/Video11.mp4: 384x640 19 Cars, 2 Number Plates, 3 Trucks, 62.8ms\n",
      "video 263/278 (frame 189/1800) /kaggle/input/traffic-vehicles-object-detection/Traffic Dataset/images/test/Video11.mp4: 384x640 19 Cars, 2 Number Plates, 3 Trucks, 62.8ms\n",
      "video 263/278 (frame 190/1800) /kaggle/input/traffic-vehicles-object-detection/Traffic Dataset/images/test/Video11.mp4: 384x640 18 Cars, 2 Number Plates, 3 Trucks, 62.8ms\n",
      "video 263/278 (frame 191/1800) /kaggle/input/traffic-vehicles-object-detection/Traffic Dataset/images/test/Video11.mp4: 384x640 19 Cars, 2 Number Plates, 3 Trucks, 62.8ms\n",
      "video 263/278 (frame 192/1800) /kaggle/input/traffic-vehicles-object-detection/Traffic Dataset/images/test/Video11.mp4: 384x640 19 Cars, 2 Number Plates, 3 Trucks, 62.8ms\n",
      "video 263/278 (frame 193/1800) /kaggle/input/traffic-vehicles-object-detection/Traffic Dataset/images/test/Video11.mp4: 384x640 19 Cars, 2 Number Plates, 3 Trucks, 62.9ms\n",
      "video 263/278 (frame 194/1800) /kaggle/input/traffic-vehicles-object-detection/Traffic Dataset/images/test/Video11.mp4: 384x640 19 Cars, 2 Number Plates, 3 Trucks, 62.9ms\n",
      "video 263/278 (frame 195/1800) /kaggle/input/traffic-vehicles-object-detection/Traffic Dataset/images/test/Video11.mp4: 384x640 18 Cars, 2 Number Plates, 3 Trucks, 62.9ms\n",
      "video 263/278 (frame 196/1800) /kaggle/input/traffic-vehicles-object-detection/Traffic Dataset/images/test/Video11.mp4: 384x640 19 Cars, 2 Number Plates, 3 Trucks, 62.8ms\n",
      "video 263/278 (frame 197/1800) /kaggle/input/traffic-vehicles-object-detection/Traffic Dataset/images/test/Video11.mp4: 384x640 19 Cars, 2 Number Plates, 3 Trucks, 62.8ms\n",
      "video 263/278 (frame 198/1800) /kaggle/input/traffic-vehicles-object-detection/Traffic Dataset/images/test/Video11.mp4: 384x640 19 Cars, 2 Number Plates, 3 Trucks, 62.8ms\n",
      "video 263/278 (frame 199/1800) /kaggle/input/traffic-vehicles-object-detection/Traffic Dataset/images/test/Video11.mp4: 384x640 18 Cars, 2 Number Plates, 3 Trucks, 62.8ms\n",
      "video 263/278 (frame 200/1800) /kaggle/input/traffic-vehicles-object-detection/Traffic Dataset/images/test/Video11.mp4: 384x640 18 Cars, 2 Number Plates, 3 Trucks, 62.8ms\n",
      "video 263/278 (frame 201/1800) /kaggle/input/traffic-vehicles-object-detection/Traffic Dataset/images/test/Video11.mp4: 384x640 18 Cars, 2 Number Plates, 3 Trucks, 62.8ms\n",
      "video 263/278 (frame 202/1800) /kaggle/input/traffic-vehicles-object-detection/Traffic Dataset/images/test/Video11.mp4: 384x640 18 Cars, 2 Number Plates, 3 Trucks, 62.8ms\n",
      "video 263/278 (frame 203/1800) /kaggle/input/traffic-vehicles-object-detection/Traffic Dataset/images/test/Video11.mp4: 384x640 17 Cars, 2 Number Plates, 3 Trucks, 62.8ms\n",
      "video 263/278 (frame 204/1800) /kaggle/input/traffic-vehicles-object-detection/Traffic Dataset/images/test/Video11.mp4: 384x640 17 Cars, 2 Number Plates, 3 Trucks, 62.8ms\n",
      "video 263/278 (frame 205/1800) /kaggle/input/traffic-vehicles-object-detection/Traffic Dataset/images/test/Video11.mp4: 384x640 18 Cars, 2 Number Plates, 3 Trucks, 62.8ms\n",
      "video 263/278 (frame 206/1800) /kaggle/input/traffic-vehicles-object-detection/Traffic Dataset/images/test/Video11.mp4: 384x640 18 Cars, 2 Number Plates, 3 Trucks, 62.9ms\n",
      "video 263/278 (frame 207/1800) /kaggle/input/traffic-vehicles-object-detection/Traffic Dataset/images/test/Video11.mp4: 384x640 16 Cars, 2 Number Plates, 3 Trucks, 62.8ms\n",
      "video 263/278 (frame 208/1800) /kaggle/input/traffic-vehicles-object-detection/Traffic Dataset/images/test/Video11.mp4: 384x640 18 Cars, 2 Number Plates, 3 Trucks, 62.8ms\n",
      "video 263/278 (frame 209/1800) /kaggle/input/traffic-vehicles-object-detection/Traffic Dataset/images/test/Video11.mp4: 384x640 18 Cars, 2 Number Plates, 3 Trucks, 62.8ms\n",
      "video 263/278 (frame 210/1800) /kaggle/input/traffic-vehicles-object-detection/Traffic Dataset/images/test/Video11.mp4: 384x640 18 Cars, 3 Number Plates, 3 Trucks, 62.8ms\n",
      "video 263/278 (frame 211/1800) /kaggle/input/traffic-vehicles-object-detection/Traffic Dataset/images/test/Video11.mp4: 384x640 18 Cars, 3 Number Plates, 3 Trucks, 62.8ms\n",
      "video 263/278 (frame 212/1800) /kaggle/input/traffic-vehicles-object-detection/Traffic Dataset/images/test/Video11.mp4: 384x640 18 Cars, 3 Number Plates, 3 Trucks, 62.8ms\n",
      "video 263/278 (frame 213/1800) /kaggle/input/traffic-vehicles-object-detection/Traffic Dataset/images/test/Video11.mp4: 384x640 17 Cars, 3 Number Plates, 3 Trucks, 62.8ms\n",
      "video 263/278 (frame 214/1800) /kaggle/input/traffic-vehicles-object-detection/Traffic Dataset/images/test/Video11.mp4: 384x640 16 Cars, 3 Number Plates, 3 Trucks, 62.8ms\n",
      "video 263/278 (frame 215/1800) /kaggle/input/traffic-vehicles-object-detection/Traffic Dataset/images/test/Video11.mp4: 384x640 15 Cars, 3 Number Plates, 3 Trucks, 62.8ms\n",
      "video 263/278 (frame 216/1800) /kaggle/input/traffic-vehicles-object-detection/Traffic Dataset/images/test/Video11.mp4: 384x640 17 Cars, 3 Number Plates, 3 Trucks, 62.8ms\n",
      "video 263/278 (frame 217/1800) /kaggle/input/traffic-vehicles-object-detection/Traffic Dataset/images/test/Video11.mp4: 384x640 18 Cars, 3 Number Plates, 3 Trucks, 62.8ms\n",
      "video 263/278 (frame 218/1800) /kaggle/input/traffic-vehicles-object-detection/Traffic Dataset/images/test/Video11.mp4: 384x640 17 Cars, 3 Number Plates, 3 Trucks, 62.9ms\n",
      "video 263/278 (frame 219/1800) /kaggle/input/traffic-vehicles-object-detection/Traffic Dataset/images/test/Video11.mp4: 384x640 17 Cars, 3 Number Plates, 3 Trucks, 62.8ms\n",
      "video 263/278 (frame 220/1800) /kaggle/input/traffic-vehicles-object-detection/Traffic Dataset/images/test/Video11.mp4: 384x640 19 Cars, 3 Number Plates, 3 Trucks, 62.8ms\n",
      "video 263/278 (frame 221/1800) /kaggle/input/traffic-vehicles-object-detection/Traffic Dataset/images/test/Video11.mp4: 384x640 19 Cars, 3 Number Plates, 3 Trucks, 62.8ms\n",
      "video 263/278 (frame 222/1800) /kaggle/input/traffic-vehicles-object-detection/Traffic Dataset/images/test/Video11.mp4: 384x640 17 Cars, 2 Number Plates, 3 Trucks, 62.8ms\n",
      "video 263/278 (frame 223/1800) /kaggle/input/traffic-vehicles-object-detection/Traffic Dataset/images/test/Video11.mp4: 384x640 18 Cars, 2 Number Plates, 3 Trucks, 62.8ms\n",
      "video 263/278 (frame 224/1800) /kaggle/input/traffic-vehicles-object-detection/Traffic Dataset/images/test/Video11.mp4: 384x640 17 Cars, 2 Number Plates, 3 Trucks, 62.8ms\n",
      "video 263/278 (frame 225/1800) /kaggle/input/traffic-vehicles-object-detection/Traffic Dataset/images/test/Video11.mp4: 384x640 17 Cars, 2 Number Plates, 3 Trucks, 62.8ms\n",
      "video 263/278 (frame 226/1800) /kaggle/input/traffic-vehicles-object-detection/Traffic Dataset/images/test/Video11.mp4: 384x640 18 Cars, 2 Number Plates, 3 Trucks, 62.8ms\n",
      "video 263/278 (frame 227/1800) /kaggle/input/traffic-vehicles-object-detection/Traffic Dataset/images/test/Video11.mp4: 384x640 19 Cars, 2 Number Plates, 3 Trucks, 62.8ms\n",
      "video 263/278 (frame 228/1800) /kaggle/input/traffic-vehicles-object-detection/Traffic Dataset/images/test/Video11.mp4: 384x640 18 Cars, 2 Number Plates, 1 Blur Number Plate, 3 Trucks, 62.8ms\n",
      "video 263/278 (frame 229/1800) /kaggle/input/traffic-vehicles-object-detection/Traffic Dataset/images/test/Video11.mp4: 384x640 18 Cars, 2 Number Plates, 1 Blur Number Plate, 3 Trucks, 62.8ms\n",
      "video 263/278 (frame 230/1800) /kaggle/input/traffic-vehicles-object-detection/Traffic Dataset/images/test/Video11.mp4: 384x640 19 Cars, 2 Number Plates, 1 Blur Number Plate, 3 Trucks, 62.8ms\n",
      "video 263/278 (frame 231/1800) /kaggle/input/traffic-vehicles-object-detection/Traffic Dataset/images/test/Video11.mp4: 384x640 19 Cars, 2 Number Plates, 1 Blur Number Plate, 3 Trucks, 62.8ms\n",
      "video 263/278 (frame 232/1800) /kaggle/input/traffic-vehicles-object-detection/Traffic Dataset/images/test/Video11.mp4: 384x640 19 Cars, 2 Number Plates, 1 Blur Number Plate, 3 Trucks, 62.8ms\n",
      "video 263/278 (frame 233/1800) /kaggle/input/traffic-vehicles-object-detection/Traffic Dataset/images/test/Video11.mp4: 384x640 19 Cars, 2 Number Plates, 1 Blur Number Plate, 3 Trucks, 62.9ms\n",
      "video 263/278 (frame 234/1800) /kaggle/input/traffic-vehicles-object-detection/Traffic Dataset/images/test/Video11.mp4: 384x640 19 Cars, 2 Number Plates, 1 Blur Number Plate, 3 Trucks, 62.8ms\n",
      "video 263/278 (frame 235/1800) /kaggle/input/traffic-vehicles-object-detection/Traffic Dataset/images/test/Video11.mp4: 384x640 18 Cars, 2 Number Plates, 1 Blur Number Plate, 3 Trucks, 62.9ms\n",
      "video 263/278 (frame 236/1800) /kaggle/input/traffic-vehicles-object-detection/Traffic Dataset/images/test/Video11.mp4: 384x640 18 Cars, 2 Number Plates, 3 Trucks, 62.9ms\n",
      "video 263/278 (frame 237/1800) /kaggle/input/traffic-vehicles-object-detection/Traffic Dataset/images/test/Video11.mp4: 384x640 17 Cars, 3 Number Plates, 3 Trucks, 62.9ms\n",
      "video 263/278 (frame 238/1800) /kaggle/input/traffic-vehicles-object-detection/Traffic Dataset/images/test/Video11.mp4: 384x640 17 Cars, 2 Number Plates, 3 Trucks, 62.9ms\n",
      "video 263/278 (frame 239/1800) /kaggle/input/traffic-vehicles-object-detection/Traffic Dataset/images/test/Video11.mp4: 384x640 17 Cars, 2 Number Plates, 1 Blur Number Plate, 3 Trucks, 62.9ms\n",
      "video 263/278 (frame 240/1800) /kaggle/input/traffic-vehicles-object-detection/Traffic Dataset/images/test/Video11.mp4: 384x640 17 Cars, 3 Number Plates, 3 Trucks, 62.8ms\n",
      "video 263/278 (frame 241/1800) /kaggle/input/traffic-vehicles-object-detection/Traffic Dataset/images/test/Video11.mp4: 384x640 20 Cars, 3 Number Plates, 3 Trucks, 62.8ms\n",
      "video 263/278 (frame 242/1800) /kaggle/input/traffic-vehicles-object-detection/Traffic Dataset/images/test/Video11.mp4: 384x640 19 Cars, 3 Number Plates, 3 Trucks, 62.8ms\n",
      "video 263/278 (frame 243/1800) /kaggle/input/traffic-vehicles-object-detection/Traffic Dataset/images/test/Video11.mp4: 384x640 18 Cars, 3 Number Plates, 1 Blur Number Plate, 3 Trucks, 62.8ms\n",
      "video 263/278 (frame 244/1800) /kaggle/input/traffic-vehicles-object-detection/Traffic Dataset/images/test/Video11.mp4: 384x640 17 Cars, 4 Number Plates, 1 Blur Number Plate, 3 Trucks, 62.8ms\n",
      "video 263/278 (frame 245/1800) /kaggle/input/traffic-vehicles-object-detection/Traffic Dataset/images/test/Video11.mp4: 384x640 17 Cars, 4 Number Plates, 1 Blur Number Plate, 3 Trucks, 62.8ms\n",
      "video 263/278 (frame 246/1800) /kaggle/input/traffic-vehicles-object-detection/Traffic Dataset/images/test/Video11.mp4: 384x640 16 Cars, 5 Number Plates, 1 Blur Number Plate, 3 Trucks, 62.8ms\n",
      "video 263/278 (frame 247/1800) /kaggle/input/traffic-vehicles-object-detection/Traffic Dataset/images/test/Video11.mp4: 384x640 16 Cars, 4 Number Plates, 1 Blur Number Plate, 3 Trucks, 62.8ms\n",
      "video 263/278 (frame 248/1800) /kaggle/input/traffic-vehicles-object-detection/Traffic Dataset/images/test/Video11.mp4: 384x640 16 Cars, 4 Number Plates, 1 Blur Number Plate, 3 Trucks, 62.8ms\n",
      "video 263/278 (frame 249/1800) /kaggle/input/traffic-vehicles-object-detection/Traffic Dataset/images/test/Video11.mp4: 384x640 17 Cars, 4 Number Plates, 3 Trucks, 62.8ms\n",
      "video 263/278 (frame 250/1800) /kaggle/input/traffic-vehicles-object-detection/Traffic Dataset/images/test/Video11.mp4: 384x640 16 Cars, 4 Number Plates, 3 Trucks, 62.8ms\n",
      "video 263/278 (frame 251/1800) /kaggle/input/traffic-vehicles-object-detection/Traffic Dataset/images/test/Video11.mp4: 384x640 16 Cars, 3 Number Plates, 3 Trucks, 62.8ms\n",
      "video 263/278 (frame 252/1800) /kaggle/input/traffic-vehicles-object-detection/Traffic Dataset/images/test/Video11.mp4: 384x640 16 Cars, 4 Number Plates, 3 Trucks, 62.8ms\n",
      "video 263/278 (frame 253/1800) /kaggle/input/traffic-vehicles-object-detection/Traffic Dataset/images/test/Video11.mp4: 384x640 18 Cars, 3 Number Plates, 3 Trucks, 62.8ms\n",
      "video 263/278 (frame 254/1800) /kaggle/input/traffic-vehicles-object-detection/Traffic Dataset/images/test/Video11.mp4: 384x640 16 Cars, 3 Number Plates, 3 Trucks, 62.8ms\n",
      "video 263/278 (frame 255/1800) /kaggle/input/traffic-vehicles-object-detection/Traffic Dataset/images/test/Video11.mp4: 384x640 16 Cars, 3 Number Plates, 3 Trucks, 62.8ms\n",
      "video 263/278 (frame 256/1800) /kaggle/input/traffic-vehicles-object-detection/Traffic Dataset/images/test/Video11.mp4: 384x640 16 Cars, 3 Number Plates, 3 Trucks, 62.8ms\n",
      "video 263/278 (frame 257/1800) /kaggle/input/traffic-vehicles-object-detection/Traffic Dataset/images/test/Video11.mp4: 384x640 16 Cars, 3 Number Plates, 3 Trucks, 62.8ms\n",
      "video 263/278 (frame 258/1800) /kaggle/input/traffic-vehicles-object-detection/Traffic Dataset/images/test/Video11.mp4: 384x640 16 Cars, 3 Number Plates, 3 Trucks, 62.8ms\n",
      "video 263/278 (frame 259/1800) /kaggle/input/traffic-vehicles-object-detection/Traffic Dataset/images/test/Video11.mp4: 384x640 16 Cars, 4 Number Plates, 1 Blur Number Plate, 3 Trucks, 62.8ms\n",
      "video 263/278 (frame 260/1800) /kaggle/input/traffic-vehicles-object-detection/Traffic Dataset/images/test/Video11.mp4: 384x640 16 Cars, 3 Number Plates, 3 Trucks, 62.8ms\n",
      "video 263/278 (frame 261/1800) /kaggle/input/traffic-vehicles-object-detection/Traffic Dataset/images/test/Video11.mp4: 384x640 17 Cars, 3 Number Plates, 3 Trucks, 62.8ms\n",
      "video 263/278 (frame 262/1800) /kaggle/input/traffic-vehicles-object-detection/Traffic Dataset/images/test/Video11.mp4: 384x640 17 Cars, 3 Number Plates, 1 Blur Number Plate, 3 Trucks, 62.8ms\n",
      "video 263/278 (frame 263/1800) /kaggle/input/traffic-vehicles-object-detection/Traffic Dataset/images/test/Video11.mp4: 384x640 16 Cars, 3 Number Plates, 1 Blur Number Plate, 3 Trucks, 62.8ms\n",
      "video 263/278 (frame 264/1800) /kaggle/input/traffic-vehicles-object-detection/Traffic Dataset/images/test/Video11.mp4: 384x640 16 Cars, 3 Number Plates, 1 Blur Number Plate, 3 Trucks, 62.8ms\n",
      "video 263/278 (frame 265/1800) /kaggle/input/traffic-vehicles-object-detection/Traffic Dataset/images/test/Video11.mp4: 384x640 17 Cars, 3 Number Plates, 3 Trucks, 62.8ms\n",
      "video 263/278 (frame 266/1800) /kaggle/input/traffic-vehicles-object-detection/Traffic Dataset/images/test/Video11.mp4: 384x640 17 Cars, 3 Number Plates, 3 Trucks, 62.8ms\n",
      "video 263/278 (frame 267/1800) /kaggle/input/traffic-vehicles-object-detection/Traffic Dataset/images/test/Video11.mp4: 384x640 18 Cars, 3 Number Plates, 3 Trucks, 62.8ms\n",
      "video 263/278 (frame 268/1800) /kaggle/input/traffic-vehicles-object-detection/Traffic Dataset/images/test/Video11.mp4: 384x640 18 Cars, 3 Number Plates, 3 Trucks, 62.8ms\n",
      "video 263/278 (frame 269/1800) /kaggle/input/traffic-vehicles-object-detection/Traffic Dataset/images/test/Video11.mp4: 384x640 19 Cars, 3 Number Plates, 3 Trucks, 62.8ms\n",
      "video 263/278 (frame 270/1800) /kaggle/input/traffic-vehicles-object-detection/Traffic Dataset/images/test/Video11.mp4: 384x640 17 Cars, 3 Number Plates, 3 Trucks, 62.9ms\n",
      "video 263/278 (frame 271/1800) /kaggle/input/traffic-vehicles-object-detection/Traffic Dataset/images/test/Video11.mp4: 384x640 16 Cars, 3 Number Plates, 3 Trucks, 62.8ms\n",
      "video 263/278 (frame 272/1800) /kaggle/input/traffic-vehicles-object-detection/Traffic Dataset/images/test/Video11.mp4: 384x640 16 Cars, 3 Number Plates, 3 Trucks, 62.8ms\n",
      "video 263/278 (frame 273/1800) /kaggle/input/traffic-vehicles-object-detection/Traffic Dataset/images/test/Video11.mp4: 384x640 17 Cars, 3 Number Plates, 3 Trucks, 62.8ms\n",
      "video 263/278 (frame 274/1800) /kaggle/input/traffic-vehicles-object-detection/Traffic Dataset/images/test/Video11.mp4: 384x640 16 Cars, 3 Number Plates, 3 Trucks, 62.9ms\n",
      "video 263/278 (frame 275/1800) /kaggle/input/traffic-vehicles-object-detection/Traffic Dataset/images/test/Video11.mp4: 384x640 16 Cars, 3 Number Plates, 3 Trucks, 61.5ms\n",
      "video 263/278 (frame 276/1800) /kaggle/input/traffic-vehicles-object-detection/Traffic Dataset/images/test/Video11.mp4: 384x640 16 Cars, 3 Number Plates, 3 Trucks, 61.5ms\n",
      "video 263/278 (frame 277/1800) /kaggle/input/traffic-vehicles-object-detection/Traffic Dataset/images/test/Video11.mp4: 384x640 19 Cars, 3 Number Plates, 3 Trucks, 61.5ms\n",
      "video 263/278 (frame 278/1800) /kaggle/input/traffic-vehicles-object-detection/Traffic Dataset/images/test/Video11.mp4: 384x640 18 Cars, 3 Number Plates, 3 Trucks, 61.5ms\n",
      "video 263/278 (frame 279/1800) /kaggle/input/traffic-vehicles-object-detection/Traffic Dataset/images/test/Video11.mp4: 384x640 18 Cars, 3 Number Plates, 3 Trucks, 61.5ms\n",
      "video 263/278 (frame 280/1800) /kaggle/input/traffic-vehicles-object-detection/Traffic Dataset/images/test/Video11.mp4: 384x640 18 Cars, 3 Number Plates, 3 Trucks, 61.4ms\n",
      "video 263/278 (frame 281/1800) /kaggle/input/traffic-vehicles-object-detection/Traffic Dataset/images/test/Video11.mp4: 384x640 17 Cars, 3 Number Plates, 3 Trucks, 61.5ms\n",
      "video 263/278 (frame 282/1800) /kaggle/input/traffic-vehicles-object-detection/Traffic Dataset/images/test/Video11.mp4: 384x640 17 Cars, 3 Number Plates, 3 Trucks, 61.4ms\n",
      "video 263/278 (frame 283/1800) /kaggle/input/traffic-vehicles-object-detection/Traffic Dataset/images/test/Video11.mp4: 384x640 17 Cars, 3 Number Plates, 3 Trucks, 62.8ms\n",
      "video 263/278 (frame 284/1800) /kaggle/input/traffic-vehicles-object-detection/Traffic Dataset/images/test/Video11.mp4: 384x640 17 Cars, 3 Number Plates, 3 Trucks, 62.8ms\n",
      "video 263/278 (frame 285/1800) /kaggle/input/traffic-vehicles-object-detection/Traffic Dataset/images/test/Video11.mp4: 384x640 16 Cars, 3 Number Plates, 3 Trucks, 62.9ms\n",
      "video 263/278 (frame 286/1800) /kaggle/input/traffic-vehicles-object-detection/Traffic Dataset/images/test/Video11.mp4: 384x640 16 Cars, 2 Number Plates, 3 Trucks, 62.8ms\n",
      "video 263/278 (frame 287/1800) /kaggle/input/traffic-vehicles-object-detection/Traffic Dataset/images/test/Video11.mp4: 384x640 16 Cars, 2 Number Plates, 3 Trucks, 62.8ms\n",
      "video 263/278 (frame 288/1800) /kaggle/input/traffic-vehicles-object-detection/Traffic Dataset/images/test/Video11.mp4: 384x640 17 Cars, 2 Number Plates, 3 Trucks, 62.9ms\n",
      "video 263/278 (frame 289/1800) /kaggle/input/traffic-vehicles-object-detection/Traffic Dataset/images/test/Video11.mp4: 384x640 16 Cars, 2 Number Plates, 3 Trucks, 62.8ms\n",
      "video 263/278 (frame 290/1800) /kaggle/input/traffic-vehicles-object-detection/Traffic Dataset/images/test/Video11.mp4: 384x640 16 Cars, 2 Number Plates, 3 Trucks, 62.8ms\n",
      "video 263/278 (frame 291/1800) /kaggle/input/traffic-vehicles-object-detection/Traffic Dataset/images/test/Video11.mp4: 384x640 17 Cars, 2 Number Plates, 3 Trucks, 62.8ms\n",
      "video 263/278 (frame 292/1800) /kaggle/input/traffic-vehicles-object-detection/Traffic Dataset/images/test/Video11.mp4: 384x640 18 Cars, 3 Number Plates, 3 Trucks, 62.8ms\n",
      "video 263/278 (frame 293/1800) /kaggle/input/traffic-vehicles-object-detection/Traffic Dataset/images/test/Video11.mp4: 384x640 18 Cars, 3 Number Plates, 3 Trucks, 62.8ms\n",
      "video 263/278 (frame 294/1800) /kaggle/input/traffic-vehicles-object-detection/Traffic Dataset/images/test/Video11.mp4: 384x640 17 Cars, 2 Number Plates, 3 Trucks, 62.8ms\n",
      "video 263/278 (frame 295/1800) /kaggle/input/traffic-vehicles-object-detection/Traffic Dataset/images/test/Video11.mp4: 384x640 18 Cars, 2 Number Plates, 3 Trucks, 62.8ms\n",
      "video 263/278 (frame 296/1800) /kaggle/input/traffic-vehicles-object-detection/Traffic Dataset/images/test/Video11.mp4: 384x640 18 Cars, 2 Number Plates, 3 Trucks, 62.8ms\n",
      "video 263/278 (frame 297/1800) /kaggle/input/traffic-vehicles-object-detection/Traffic Dataset/images/test/Video11.mp4: 384x640 19 Cars, 2 Number Plates, 3 Trucks, 62.8ms\n",
      "video 263/278 (frame 298/1800) /kaggle/input/traffic-vehicles-object-detection/Traffic Dataset/images/test/Video11.mp4: 384x640 18 Cars, 2 Number Plates, 3 Trucks, 62.9ms\n",
      "video 263/278 (frame 299/1800) /kaggle/input/traffic-vehicles-object-detection/Traffic Dataset/images/test/Video11.mp4: 384x640 19 Cars, 2 Number Plates, 3 Trucks, 62.8ms\n",
      "video 263/278 (frame 300/1800) /kaggle/input/traffic-vehicles-object-detection/Traffic Dataset/images/test/Video11.mp4: 384x640 18 Cars, 2 Number Plates, 3 Trucks, 62.8ms\n",
      "video 263/278 (frame 301/1800) /kaggle/input/traffic-vehicles-object-detection/Traffic Dataset/images/test/Video11.mp4: 384x640 17 Cars, 2 Number Plates, 1 Blur Number Plate, 3 Trucks, 62.8ms\n",
      "video 263/278 (frame 302/1800) /kaggle/input/traffic-vehicles-object-detection/Traffic Dataset/images/test/Video11.mp4: 384x640 17 Cars, 2 Number Plates, 3 Trucks, 62.8ms\n",
      "video 263/278 (frame 303/1800) /kaggle/input/traffic-vehicles-object-detection/Traffic Dataset/images/test/Video11.mp4: 384x640 16 Cars, 1 Number Plate, 1 Blur Number Plate, 2 Trucks, 62.9ms\n",
      "video 263/278 (frame 304/1800) /kaggle/input/traffic-vehicles-object-detection/Traffic Dataset/images/test/Video11.mp4: 384x640 17 Cars, 1 Number Plate, 1 Blur Number Plate, 3 Trucks, 62.8ms\n",
      "video 263/278 (frame 305/1800) /kaggle/input/traffic-vehicles-object-detection/Traffic Dataset/images/test/Video11.mp4: 384x640 16 Cars, 1 Number Plate, 1 Blur Number Plate, 2 Trucks, 62.8ms\n",
      "video 263/278 (frame 306/1800) /kaggle/input/traffic-vehicles-object-detection/Traffic Dataset/images/test/Video11.mp4: 384x640 16 Cars, 1 Number Plate, 1 Blur Number Plate, 3 Trucks, 62.8ms\n",
      "video 263/278 (frame 307/1800) /kaggle/input/traffic-vehicles-object-detection/Traffic Dataset/images/test/Video11.mp4: 384x640 17 Cars, 1 Number Plate, 1 Blur Number Plate, 2 Trucks, 62.8ms\n",
      "video 263/278 (frame 308/1800) /kaggle/input/traffic-vehicles-object-detection/Traffic Dataset/images/test/Video11.mp4: 384x640 16 Cars, 2 Number Plates, 1 Blur Number Plate, 2 Trucks, 62.8ms\n",
      "video 263/278 (frame 309/1800) /kaggle/input/traffic-vehicles-object-detection/Traffic Dataset/images/test/Video11.mp4: 384x640 16 Cars, 2 Number Plates, 1 Blur Number Plate, 3 Trucks, 62.8ms\n",
      "video 263/278 (frame 310/1800) /kaggle/input/traffic-vehicles-object-detection/Traffic Dataset/images/test/Video11.mp4: 384x640 16 Cars, 2 Number Plates, 1 Blur Number Plate, 2 Trucks, 62.8ms\n",
      "video 263/278 (frame 311/1800) /kaggle/input/traffic-vehicles-object-detection/Traffic Dataset/images/test/Video11.mp4: 384x640 16 Cars, 1 Number Plate, 1 Blur Number Plate, 2 Trucks, 62.8ms\n",
      "video 263/278 (frame 312/1800) /kaggle/input/traffic-vehicles-object-detection/Traffic Dataset/images/test/Video11.mp4: 384x640 16 Cars, 1 Number Plate, 1 Blur Number Plate, 2 Trucks, 62.8ms\n",
      "video 263/278 (frame 313/1800) /kaggle/input/traffic-vehicles-object-detection/Traffic Dataset/images/test/Video11.mp4: 384x640 16 Cars, 1 Number Plate, 1 Blur Number Plate, 2 Trucks, 62.8ms\n",
      "video 263/278 (frame 314/1800) /kaggle/input/traffic-vehicles-object-detection/Traffic Dataset/images/test/Video11.mp4: 384x640 16 Cars, 1 Number Plate, 1 Blur Number Plate, 2 Trucks, 62.8ms\n",
      "video 263/278 (frame 315/1800) /kaggle/input/traffic-vehicles-object-detection/Traffic Dataset/images/test/Video11.mp4: 384x640 16 Cars, 1 Number Plate, 2 Trucks, 62.8ms\n",
      "video 263/278 (frame 316/1800) /kaggle/input/traffic-vehicles-object-detection/Traffic Dataset/images/test/Video11.mp4: 384x640 16 Cars, 1 Number Plate, 2 Trucks, 62.8ms\n",
      "video 263/278 (frame 317/1800) /kaggle/input/traffic-vehicles-object-detection/Traffic Dataset/images/test/Video11.mp4: 384x640 16 Cars, 1 Number Plate, 2 Trucks, 62.8ms\n",
      "video 263/278 (frame 318/1800) /kaggle/input/traffic-vehicles-object-detection/Traffic Dataset/images/test/Video11.mp4: 384x640 16 Cars, 1 Number Plate, 2 Trucks, 62.8ms\n",
      "video 263/278 (frame 319/1800) /kaggle/input/traffic-vehicles-object-detection/Traffic Dataset/images/test/Video11.mp4: 384x640 16 Cars, 1 Number Plate, 2 Trucks, 62.8ms\n",
      "video 263/278 (frame 320/1800) /kaggle/input/traffic-vehicles-object-detection/Traffic Dataset/images/test/Video11.mp4: 384x640 16 Cars, 2 Number Plates, 2 Trucks, 62.8ms\n",
      "video 263/278 (frame 321/1800) /kaggle/input/traffic-vehicles-object-detection/Traffic Dataset/images/test/Video11.mp4: 384x640 16 Cars, 1 Number Plate, 2 Trucks, 62.8ms\n",
      "video 263/278 (frame 322/1800) /kaggle/input/traffic-vehicles-object-detection/Traffic Dataset/images/test/Video11.mp4: 384x640 17 Cars, 2 Number Plates, 1 Blur Number Plate, 2 Trucks, 62.8ms\n",
      "video 263/278 (frame 323/1800) /kaggle/input/traffic-vehicles-object-detection/Traffic Dataset/images/test/Video11.mp4: 384x640 17 Cars, 2 Number Plates, 1 Blur Number Plate, 2 Trucks, 62.8ms\n",
      "video 263/278 (frame 324/1800) /kaggle/input/traffic-vehicles-object-detection/Traffic Dataset/images/test/Video11.mp4: 384x640 16 Cars, 3 Number Plates, 1 Blur Number Plate, 2 Trucks, 62.9ms\n",
      "video 263/278 (frame 325/1800) /kaggle/input/traffic-vehicles-object-detection/Traffic Dataset/images/test/Video11.mp4: 384x640 16 Cars, 2 Number Plates, 1 Blur Number Plate, 2 Trucks, 62.8ms\n",
      "video 263/278 (frame 326/1800) /kaggle/input/traffic-vehicles-object-detection/Traffic Dataset/images/test/Video11.mp4: 384x640 17 Cars, 3 Number Plates, 1 Blur Number Plate, 2 Trucks, 62.8ms\n",
      "video 263/278 (frame 327/1800) /kaggle/input/traffic-vehicles-object-detection/Traffic Dataset/images/test/Video11.mp4: 384x640 16 Cars, 3 Number Plates, 1 Blur Number Plate, 2 Trucks, 62.8ms\n",
      "video 263/278 (frame 328/1800) /kaggle/input/traffic-vehicles-object-detection/Traffic Dataset/images/test/Video11.mp4: 384x640 16 Cars, 2 Number Plates, 1 Blur Number Plate, 2 Trucks, 62.8ms\n",
      "video 263/278 (frame 329/1800) /kaggle/input/traffic-vehicles-object-detection/Traffic Dataset/images/test/Video11.mp4: 384x640 16 Cars, 2 Number Plates, 3 Trucks, 62.9ms\n",
      "video 263/278 (frame 330/1800) /kaggle/input/traffic-vehicles-object-detection/Traffic Dataset/images/test/Video11.mp4: 384x640 16 Cars, 3 Number Plates, 3 Trucks, 62.9ms\n",
      "video 263/278 (frame 331/1800) /kaggle/input/traffic-vehicles-object-detection/Traffic Dataset/images/test/Video11.mp4: 384x640 16 Cars, 3 Number Plates, 1 Blur Number Plate, 3 Trucks, 62.8ms\n",
      "video 263/278 (frame 332/1800) /kaggle/input/traffic-vehicles-object-detection/Traffic Dataset/images/test/Video11.mp4: 384x640 16 Cars, 4 Number Plates, 1 Blur Number Plate, 3 Trucks, 62.8ms\n",
      "video 263/278 (frame 333/1800) /kaggle/input/traffic-vehicles-object-detection/Traffic Dataset/images/test/Video11.mp4: 384x640 16 Cars, 4 Number Plates, 1 Blur Number Plate, 3 Trucks, 62.8ms\n",
      "video 263/278 (frame 334/1800) /kaggle/input/traffic-vehicles-object-detection/Traffic Dataset/images/test/Video11.mp4: 384x640 16 Cars, 3 Number Plates, 1 Blur Number Plate, 2 Trucks, 62.8ms\n",
      "video 263/278 (frame 335/1800) /kaggle/input/traffic-vehicles-object-detection/Traffic Dataset/images/test/Video11.mp4: 384x640 16 Cars, 3 Number Plates, 1 Blur Number Plate, 3 Trucks, 62.8ms\n",
      "video 263/278 (frame 336/1800) /kaggle/input/traffic-vehicles-object-detection/Traffic Dataset/images/test/Video11.mp4: 384x640 17 Cars, 2 Number Plates, 1 Blur Number Plate, 3 Trucks, 62.8ms\n",
      "video 263/278 (frame 337/1800) /kaggle/input/traffic-vehicles-object-detection/Traffic Dataset/images/test/Video11.mp4: 384x640 17 Cars, 3 Number Plates, 2 Trucks, 62.8ms\n",
      "video 263/278 (frame 338/1800) /kaggle/input/traffic-vehicles-object-detection/Traffic Dataset/images/test/Video11.mp4: 384x640 16 Cars, 2 Number Plates, 1 Blur Number Plate, 2 Trucks, 62.8ms\n",
      "video 263/278 (frame 339/1800) /kaggle/input/traffic-vehicles-object-detection/Traffic Dataset/images/test/Video11.mp4: 384x640 16 Cars, 2 Number Plates, 1 Blur Number Plate, 2 Trucks, 62.8ms\n",
      "video 263/278 (frame 340/1800) /kaggle/input/traffic-vehicles-object-detection/Traffic Dataset/images/test/Video11.mp4: 384x640 16 Cars, 2 Number Plates, 1 Blur Number Plate, 3 Trucks, 62.8ms\n",
      "video 263/278 (frame 341/1800) /kaggle/input/traffic-vehicles-object-detection/Traffic Dataset/images/test/Video11.mp4: 384x640 16 Cars, 1 Number Plate, 1 Blur Number Plate, 3 Trucks, 62.8ms\n",
      "video 263/278 (frame 342/1800) /kaggle/input/traffic-vehicles-object-detection/Traffic Dataset/images/test/Video11.mp4: 384x640 16 Cars, 2 Number Plates, 1 Blur Number Plate, 3 Trucks, 62.8ms\n",
      "video 263/278 (frame 343/1800) /kaggle/input/traffic-vehicles-object-detection/Traffic Dataset/images/test/Video11.mp4: 384x640 17 Cars, 2 Number Plates, 1 Blur Number Plate, 3 Trucks, 62.8ms\n",
      "video 263/278 (frame 344/1800) /kaggle/input/traffic-vehicles-object-detection/Traffic Dataset/images/test/Video11.mp4: 384x640 17 Cars, 2 Number Plates, 1 Blur Number Plate, 3 Trucks, 62.8ms\n",
      "video 263/278 (frame 345/1800) /kaggle/input/traffic-vehicles-object-detection/Traffic Dataset/images/test/Video11.mp4: 384x640 16 Cars, 2 Number Plates, 1 Blur Number Plate, 3 Trucks, 62.8ms\n",
      "video 263/278 (frame 346/1800) /kaggle/input/traffic-vehicles-object-detection/Traffic Dataset/images/test/Video11.mp4: 384x640 16 Cars, 2 Number Plates, 1 Blur Number Plate, 3 Trucks, 62.8ms\n",
      "video 263/278 (frame 347/1800) /kaggle/input/traffic-vehicles-object-detection/Traffic Dataset/images/test/Video11.mp4: 384x640 16 Cars, 2 Number Plates, 1 Blur Number Plate, 3 Trucks, 62.8ms\n",
      "video 263/278 (frame 348/1800) /kaggle/input/traffic-vehicles-object-detection/Traffic Dataset/images/test/Video11.mp4: 384x640 16 Cars, 2 Number Plates, 1 Blur Number Plate, 3 Trucks, 62.8ms\n",
      "video 263/278 (frame 349/1800) /kaggle/input/traffic-vehicles-object-detection/Traffic Dataset/images/test/Video11.mp4: 384x640 16 Cars, 3 Number Plates, 1 Blur Number Plate, 3 Trucks, 62.9ms\n",
      "video 263/278 (frame 350/1800) /kaggle/input/traffic-vehicles-object-detection/Traffic Dataset/images/test/Video11.mp4: 384x640 16 Cars, 3 Number Plates, 1 Blur Number Plate, 3 Trucks, 62.8ms\n",
      "video 263/278 (frame 351/1800) /kaggle/input/traffic-vehicles-object-detection/Traffic Dataset/images/test/Video11.mp4: 384x640 17 Cars, 3 Number Plates, 1 Blur Number Plate, 3 Trucks, 62.8ms\n",
      "video 263/278 (frame 352/1800) /kaggle/input/traffic-vehicles-object-detection/Traffic Dataset/images/test/Video11.mp4: 384x640 17 Cars, 3 Number Plates, 3 Trucks, 62.8ms\n",
      "video 263/278 (frame 353/1800) /kaggle/input/traffic-vehicles-object-detection/Traffic Dataset/images/test/Video11.mp4: 384x640 17 Cars, 3 Number Plates, 3 Trucks, 62.8ms\n",
      "video 263/278 (frame 354/1800) /kaggle/input/traffic-vehicles-object-detection/Traffic Dataset/images/test/Video11.mp4: 384x640 16 Cars, 3 Number Plates, 1 Blur Number Plate, 3 Trucks, 62.8ms\n",
      "video 263/278 (frame 355/1800) /kaggle/input/traffic-vehicles-object-detection/Traffic Dataset/images/test/Video11.mp4: 384x640 16 Cars, 3 Number Plates, 1 Blur Number Plate, 3 Trucks, 62.8ms\n",
      "video 263/278 (frame 356/1800) /kaggle/input/traffic-vehicles-object-detection/Traffic Dataset/images/test/Video11.mp4: 384x640 16 Cars, 3 Number Plates, 1 Blur Number Plate, 3 Trucks, 62.9ms\n",
      "video 263/278 (frame 357/1800) /kaggle/input/traffic-vehicles-object-detection/Traffic Dataset/images/test/Video11.mp4: 384x640 15 Cars, 2 Number Plates, 1 Blur Number Plate, 3 Trucks, 62.9ms\n",
      "video 263/278 (frame 358/1800) /kaggle/input/traffic-vehicles-object-detection/Traffic Dataset/images/test/Video11.mp4: 384x640 15 Cars, 3 Number Plates, 3 Trucks, 62.8ms\n",
      "video 263/278 (frame 359/1800) /kaggle/input/traffic-vehicles-object-detection/Traffic Dataset/images/test/Video11.mp4: 384x640 14 Cars, 3 Number Plates, 3 Trucks, 62.8ms\n",
      "video 263/278 (frame 360/1800) /kaggle/input/traffic-vehicles-object-detection/Traffic Dataset/images/test/Video11.mp4: 384x640 14 Cars, 3 Number Plates, 1 Blur Number Plate, 3 Trucks, 62.8ms\n",
      "video 263/278 (frame 361/1800) /kaggle/input/traffic-vehicles-object-detection/Traffic Dataset/images/test/Video11.mp4: 384x640 15 Cars, 2 Number Plates, 1 Blur Number Plate, 3 Trucks, 62.8ms\n",
      "video 263/278 (frame 362/1800) /kaggle/input/traffic-vehicles-object-detection/Traffic Dataset/images/test/Video11.mp4: 384x640 16 Cars, 2 Number Plates, 1 Blur Number Plate, 3 Trucks, 62.8ms\n",
      "video 263/278 (frame 363/1800) /kaggle/input/traffic-vehicles-object-detection/Traffic Dataset/images/test/Video11.mp4: 384x640 16 Cars, 2 Number Plates, 3 Trucks, 62.9ms\n",
      "video 263/278 (frame 364/1800) /kaggle/input/traffic-vehicles-object-detection/Traffic Dataset/images/test/Video11.mp4: 384x640 16 Cars, 2 Number Plates, 3 Trucks, 62.8ms\n",
      "video 263/278 (frame 365/1800) /kaggle/input/traffic-vehicles-object-detection/Traffic Dataset/images/test/Video11.mp4: 384x640 15 Cars, 2 Number Plates, 1 Blur Number Plate, 3 Trucks, 62.8ms\n",
      "video 263/278 (frame 366/1800) /kaggle/input/traffic-vehicles-object-detection/Traffic Dataset/images/test/Video11.mp4: 384x640 16 Cars, 3 Number Plates, 3 Trucks, 62.8ms\n",
      "video 263/278 (frame 367/1800) /kaggle/input/traffic-vehicles-object-detection/Traffic Dataset/images/test/Video11.mp4: 384x640 18 Cars, 3 Number Plates, 3 Trucks, 62.8ms\n",
      "video 263/278 (frame 368/1800) /kaggle/input/traffic-vehicles-object-detection/Traffic Dataset/images/test/Video11.mp4: 384x640 17 Cars, 3 Number Plates, 3 Trucks, 62.8ms\n",
      "video 263/278 (frame 369/1800) /kaggle/input/traffic-vehicles-object-detection/Traffic Dataset/images/test/Video11.mp4: 384x640 18 Cars, 3 Number Plates, 1 Blur Number Plate, 3 Trucks, 62.8ms\n",
      "video 263/278 (frame 370/1800) /kaggle/input/traffic-vehicles-object-detection/Traffic Dataset/images/test/Video11.mp4: 384x640 16 Cars, 3 Number Plates, 3 Trucks, 62.8ms\n",
      "video 263/278 (frame 371/1800) /kaggle/input/traffic-vehicles-object-detection/Traffic Dataset/images/test/Video11.mp4: 384x640 17 Cars, 3 Number Plates, 3 Trucks, 62.8ms\n",
      "video 263/278 (frame 372/1800) /kaggle/input/traffic-vehicles-object-detection/Traffic Dataset/images/test/Video11.mp4: 384x640 16 Cars, 3 Number Plates, 3 Trucks, 62.8ms\n",
      "video 263/278 (frame 373/1800) /kaggle/input/traffic-vehicles-object-detection/Traffic Dataset/images/test/Video11.mp4: 384x640 16 Cars, 3 Number Plates, 3 Trucks, 62.8ms\n",
      "video 263/278 (frame 374/1800) /kaggle/input/traffic-vehicles-object-detection/Traffic Dataset/images/test/Video11.mp4: 384x640 15 Cars, 3 Number Plates, 3 Trucks, 62.9ms\n",
      "video 263/278 (frame 375/1800) /kaggle/input/traffic-vehicles-object-detection/Traffic Dataset/images/test/Video11.mp4: 384x640 16 Cars, 3 Number Plates, 3 Trucks, 62.8ms\n",
      "video 263/278 (frame 376/1800) /kaggle/input/traffic-vehicles-object-detection/Traffic Dataset/images/test/Video11.mp4: 384x640 17 Cars, 3 Number Plates, 3 Trucks, 62.8ms\n",
      "video 263/278 (frame 377/1800) /kaggle/input/traffic-vehicles-object-detection/Traffic Dataset/images/test/Video11.mp4: 384x640 15 Cars, 3 Number Plates, 3 Trucks, 62.8ms\n",
      "video 263/278 (frame 378/1800) /kaggle/input/traffic-vehicles-object-detection/Traffic Dataset/images/test/Video11.mp4: 384x640 16 Cars, 3 Number Plates, 3 Trucks, 62.8ms\n",
      "video 263/278 (frame 379/1800) /kaggle/input/traffic-vehicles-object-detection/Traffic Dataset/images/test/Video11.mp4: 384x640 15 Cars, 3 Number Plates, 3 Trucks, 61.4ms\n",
      "video 263/278 (frame 380/1800) /kaggle/input/traffic-vehicles-object-detection/Traffic Dataset/images/test/Video11.mp4: 384x640 15 Cars, 3 Number Plates, 3 Trucks, 60.1ms\n",
      "video 263/278 (frame 381/1800) /kaggle/input/traffic-vehicles-object-detection/Traffic Dataset/images/test/Video11.mp4: 384x640 16 Cars, 3 Number Plates, 3 Trucks, 60.1ms\n",
      "video 263/278 (frame 382/1800) /kaggle/input/traffic-vehicles-object-detection/Traffic Dataset/images/test/Video11.mp4: 384x640 15 Cars, 3 Number Plates, 3 Trucks, 60.1ms\n",
      "video 263/278 (frame 383/1800) /kaggle/input/traffic-vehicles-object-detection/Traffic Dataset/images/test/Video11.mp4: 384x640 15 Cars, 3 Number Plates, 3 Trucks, 60.1ms\n",
      "video 263/278 (frame 384/1800) /kaggle/input/traffic-vehicles-object-detection/Traffic Dataset/images/test/Video11.mp4: 384x640 15 Cars, 3 Number Plates, 3 Trucks, 60.2ms\n",
      "video 263/278 (frame 385/1800) /kaggle/input/traffic-vehicles-object-detection/Traffic Dataset/images/test/Video11.mp4: 384x640 15 Cars, 3 Number Plates, 3 Trucks, 60.2ms\n",
      "video 263/278 (frame 386/1800) /kaggle/input/traffic-vehicles-object-detection/Traffic Dataset/images/test/Video11.mp4: 384x640 15 Cars, 3 Number Plates, 3 Trucks, 60.1ms\n",
      "video 263/278 (frame 387/1800) /kaggle/input/traffic-vehicles-object-detection/Traffic Dataset/images/test/Video11.mp4: 384x640 13 Cars, 5 Number Plates, 3 Trucks, 60.2ms\n",
      "video 263/278 (frame 388/1800) /kaggle/input/traffic-vehicles-object-detection/Traffic Dataset/images/test/Video11.mp4: 384x640 14 Cars, 3 Number Plates, 3 Trucks, 62.9ms\n",
      "video 263/278 (frame 389/1800) /kaggle/input/traffic-vehicles-object-detection/Traffic Dataset/images/test/Video11.mp4: 384x640 14 Cars, 5 Number Plates, 3 Trucks, 62.8ms\n",
      "video 263/278 (frame 390/1800) /kaggle/input/traffic-vehicles-object-detection/Traffic Dataset/images/test/Video11.mp4: 384x640 15 Cars, 4 Number Plates, 3 Trucks, 62.9ms\n",
      "video 263/278 (frame 391/1800) /kaggle/input/traffic-vehicles-object-detection/Traffic Dataset/images/test/Video11.mp4: 384x640 13 Cars, 3 Number Plates, 3 Trucks, 62.8ms\n",
      "video 263/278 (frame 392/1800) /kaggle/input/traffic-vehicles-object-detection/Traffic Dataset/images/test/Video11.mp4: 384x640 15 Cars, 4 Number Plates, 3 Trucks, 62.8ms\n",
      "video 263/278 (frame 393/1800) /kaggle/input/traffic-vehicles-object-detection/Traffic Dataset/images/test/Video11.mp4: 384x640 16 Cars, 5 Number Plates, 3 Trucks, 62.9ms\n",
      "video 263/278 (frame 394/1800) /kaggle/input/traffic-vehicles-object-detection/Traffic Dataset/images/test/Video11.mp4: 384x640 15 Cars, 5 Number Plates, 1 Blur Number Plate, 3 Trucks, 62.8ms\n",
      "video 263/278 (frame 395/1800) /kaggle/input/traffic-vehicles-object-detection/Traffic Dataset/images/test/Video11.mp4: 384x640 15 Cars, 5 Number Plates, 3 Trucks, 62.8ms\n",
      "video 263/278 (frame 396/1800) /kaggle/input/traffic-vehicles-object-detection/Traffic Dataset/images/test/Video11.mp4: 384x640 15 Cars, 5 Number Plates, 3 Trucks, 62.8ms\n",
      "video 263/278 (frame 397/1800) /kaggle/input/traffic-vehicles-object-detection/Traffic Dataset/images/test/Video11.mp4: 384x640 16 Cars, 5 Number Plates, 3 Trucks, 62.8ms\n",
      "video 263/278 (frame 398/1800) /kaggle/input/traffic-vehicles-object-detection/Traffic Dataset/images/test/Video11.mp4: 384x640 16 Cars, 5 Number Plates, 3 Trucks, 62.8ms\n",
      "video 263/278 (frame 399/1800) /kaggle/input/traffic-vehicles-object-detection/Traffic Dataset/images/test/Video11.mp4: 384x640 15 Cars, 4 Number Plates, 3 Trucks, 62.8ms\n",
      "video 263/278 (frame 400/1800) /kaggle/input/traffic-vehicles-object-detection/Traffic Dataset/images/test/Video11.mp4: 384x640 17 Cars, 4 Number Plates, 1 Blur Number Plate, 3 Trucks, 62.9ms\n",
      "video 263/278 (frame 401/1800) /kaggle/input/traffic-vehicles-object-detection/Traffic Dataset/images/test/Video11.mp4: 384x640 17 Cars, 5 Number Plates, 3 Trucks, 62.8ms\n",
      "video 263/278 (frame 402/1800) /kaggle/input/traffic-vehicles-object-detection/Traffic Dataset/images/test/Video11.mp4: 384x640 16 Cars, 4 Number Plates, 3 Trucks, 62.8ms\n",
      "video 263/278 (frame 403/1800) /kaggle/input/traffic-vehicles-object-detection/Traffic Dataset/images/test/Video11.mp4: 384x640 16 Cars, 4 Number Plates, 3 Trucks, 62.8ms\n",
      "video 263/278 (frame 404/1800) /kaggle/input/traffic-vehicles-object-detection/Traffic Dataset/images/test/Video11.mp4: 384x640 16 Cars, 4 Number Plates, 3 Trucks, 62.8ms\n",
      "video 263/278 (frame 405/1800) /kaggle/input/traffic-vehicles-object-detection/Traffic Dataset/images/test/Video11.mp4: 384x640 15 Cars, 4 Number Plates, 3 Trucks, 62.9ms\n",
      "video 263/278 (frame 406/1800) /kaggle/input/traffic-vehicles-object-detection/Traffic Dataset/images/test/Video11.mp4: 384x640 15 Cars, 4 Number Plates, 3 Trucks, 62.8ms\n",
      "video 263/278 (frame 407/1800) /kaggle/input/traffic-vehicles-object-detection/Traffic Dataset/images/test/Video11.mp4: 384x640 14 Cars, 5 Number Plates, 3 Trucks, 62.8ms\n",
      "video 263/278 (frame 408/1800) /kaggle/input/traffic-vehicles-object-detection/Traffic Dataset/images/test/Video11.mp4: 384x640 14 Cars, 5 Number Plates, 3 Trucks, 62.8ms\n",
      "video 263/278 (frame 409/1800) /kaggle/input/traffic-vehicles-object-detection/Traffic Dataset/images/test/Video11.mp4: 384x640 14 Cars, 5 Number Plates, 1 Blur Number Plate, 3 Trucks, 62.8ms\n",
      "video 263/278 (frame 410/1800) /kaggle/input/traffic-vehicles-object-detection/Traffic Dataset/images/test/Video11.mp4: 384x640 14 Cars, 4 Number Plates, 3 Trucks, 62.9ms\n",
      "video 263/278 (frame 411/1800) /kaggle/input/traffic-vehicles-object-detection/Traffic Dataset/images/test/Video11.mp4: 384x640 14 Cars, 5 Number Plates, 1 Blur Number Plate, 3 Trucks, 62.8ms\n",
      "video 263/278 (frame 412/1800) /kaggle/input/traffic-vehicles-object-detection/Traffic Dataset/images/test/Video11.mp4: 384x640 14 Cars, 4 Number Plates, 3 Trucks, 62.9ms\n",
      "video 263/278 (frame 413/1800) /kaggle/input/traffic-vehicles-object-detection/Traffic Dataset/images/test/Video11.mp4: 384x640 14 Cars, 4 Number Plates, 1 Blur Number Plate, 3 Trucks, 62.9ms\n",
      "video 263/278 (frame 414/1800) /kaggle/input/traffic-vehicles-object-detection/Traffic Dataset/images/test/Video11.mp4: 384x640 15 Cars, 4 Number Plates, 1 Blur Number Plate, 3 Trucks, 62.8ms\n",
      "video 263/278 (frame 415/1800) /kaggle/input/traffic-vehicles-object-detection/Traffic Dataset/images/test/Video11.mp4: 384x640 14 Cars, 4 Number Plates, 1 Blur Number Plate, 3 Trucks, 62.8ms\n",
      "video 263/278 (frame 416/1800) /kaggle/input/traffic-vehicles-object-detection/Traffic Dataset/images/test/Video11.mp4: 384x640 13 Cars, 4 Number Plates, 1 Blur Number Plate, 3 Trucks, 62.8ms\n",
      "video 263/278 (frame 417/1800) /kaggle/input/traffic-vehicles-object-detection/Traffic Dataset/images/test/Video11.mp4: 384x640 13 Cars, 3 Number Plates, 1 Blur Number Plate, 3 Trucks, 62.9ms\n",
      "video 263/278 (frame 418/1800) /kaggle/input/traffic-vehicles-object-detection/Traffic Dataset/images/test/Video11.mp4: 384x640 13 Cars, 3 Number Plates, 1 Blur Number Plate, 3 Trucks, 62.8ms\n",
      "video 263/278 (frame 419/1800) /kaggle/input/traffic-vehicles-object-detection/Traffic Dataset/images/test/Video11.mp4: 384x640 13 Cars, 3 Number Plates, 1 Blur Number Plate, 3 Trucks, 62.8ms\n",
      "video 263/278 (frame 420/1800) /kaggle/input/traffic-vehicles-object-detection/Traffic Dataset/images/test/Video11.mp4: 384x640 14 Cars, 3 Number Plates, 1 Blur Number Plate, 3 Trucks, 62.8ms\n",
      "video 263/278 (frame 421/1800) /kaggle/input/traffic-vehicles-object-detection/Traffic Dataset/images/test/Video11.mp4: 384x640 14 Cars, 4 Number Plates, 1 Blur Number Plate, 3 Trucks, 62.8ms\n",
      "video 263/278 (frame 422/1800) /kaggle/input/traffic-vehicles-object-detection/Traffic Dataset/images/test/Video11.mp4: 384x640 14 Cars, 3 Number Plates, 1 Blur Number Plate, 3 Trucks, 62.8ms\n",
      "video 263/278 (frame 423/1800) /kaggle/input/traffic-vehicles-object-detection/Traffic Dataset/images/test/Video11.mp4: 384x640 14 Cars, 4 Number Plates, 1 Blur Number Plate, 4 Trucks, 62.8ms\n",
      "video 263/278 (frame 424/1800) /kaggle/input/traffic-vehicles-object-detection/Traffic Dataset/images/test/Video11.mp4: 384x640 14 Cars, 4 Number Plates, 1 Blur Number Plate, 3 Trucks, 62.8ms\n",
      "video 263/278 (frame 425/1800) /kaggle/input/traffic-vehicles-object-detection/Traffic Dataset/images/test/Video11.mp4: 384x640 14 Cars, 4 Number Plates, 1 Blur Number Plate, 3 Trucks, 62.8ms\n",
      "video 263/278 (frame 426/1800) /kaggle/input/traffic-vehicles-object-detection/Traffic Dataset/images/test/Video11.mp4: 384x640 14 Cars, 4 Number Plates, 1 Blur Number Plate, 3 Trucks, 62.8ms\n",
      "video 263/278 (frame 427/1800) /kaggle/input/traffic-vehicles-object-detection/Traffic Dataset/images/test/Video11.mp4: 384x640 14 Cars, 4 Number Plates, 1 Blur Number Plate, 3 Trucks, 62.8ms\n",
      "video 263/278 (frame 428/1800) /kaggle/input/traffic-vehicles-object-detection/Traffic Dataset/images/test/Video11.mp4: 384x640 14 Cars, 4 Number Plates, 3 Trucks, 62.8ms\n",
      "video 263/278 (frame 429/1800) /kaggle/input/traffic-vehicles-object-detection/Traffic Dataset/images/test/Video11.mp4: 384x640 14 Cars, 4 Number Plates, 1 Blur Number Plate, 3 Trucks, 62.8ms\n",
      "video 263/278 (frame 430/1800) /kaggle/input/traffic-vehicles-object-detection/Traffic Dataset/images/test/Video11.mp4: 384x640 13 Cars, 4 Number Plates, 1 Blur Number Plate, 3 Trucks, 62.8ms\n",
      "video 263/278 (frame 431/1800) /kaggle/input/traffic-vehicles-object-detection/Traffic Dataset/images/test/Video11.mp4: 384x640 14 Cars, 4 Number Plates, 1 Blur Number Plate, 3 Trucks, 62.8ms\n",
      "video 263/278 (frame 432/1800) /kaggle/input/traffic-vehicles-object-detection/Traffic Dataset/images/test/Video11.mp4: 384x640 13 Cars, 3 Number Plates, 1 Blur Number Plate, 3 Trucks, 62.8ms\n",
      "video 263/278 (frame 433/1800) /kaggle/input/traffic-vehicles-object-detection/Traffic Dataset/images/test/Video11.mp4: 384x640 13 Cars, 3 Number Plates, 1 Blur Number Plate, 3 Trucks, 62.8ms\n",
      "video 263/278 (frame 434/1800) /kaggle/input/traffic-vehicles-object-detection/Traffic Dataset/images/test/Video11.mp4: 384x640 13 Cars, 3 Number Plates, 1 Blur Number Plate, 3 Trucks, 62.8ms\n",
      "video 263/278 (frame 435/1800) /kaggle/input/traffic-vehicles-object-detection/Traffic Dataset/images/test/Video11.mp4: 384x640 14 Cars, 4 Number Plates, 1 Blur Number Plate, 3 Trucks, 62.8ms\n",
      "video 263/278 (frame 436/1800) /kaggle/input/traffic-vehicles-object-detection/Traffic Dataset/images/test/Video11.mp4: 384x640 13 Cars, 3 Number Plates, 1 Blur Number Plate, 3 Trucks, 62.8ms\n",
      "video 263/278 (frame 437/1800) /kaggle/input/traffic-vehicles-object-detection/Traffic Dataset/images/test/Video11.mp4: 384x640 14 Cars, 3 Number Plates, 1 Blur Number Plate, 3 Trucks, 62.8ms\n",
      "video 263/278 (frame 438/1800) /kaggle/input/traffic-vehicles-object-detection/Traffic Dataset/images/test/Video11.mp4: 384x640 13 Cars, 3 Number Plates, 3 Trucks, 62.8ms\n",
      "video 263/278 (frame 439/1800) /kaggle/input/traffic-vehicles-object-detection/Traffic Dataset/images/test/Video11.mp4: 384x640 13 Cars, 4 Number Plates, 3 Trucks, 62.8ms\n",
      "video 263/278 (frame 440/1800) /kaggle/input/traffic-vehicles-object-detection/Traffic Dataset/images/test/Video11.mp4: 384x640 13 Cars, 3 Number Plates, 3 Trucks, 62.8ms\n",
      "video 263/278 (frame 441/1800) /kaggle/input/traffic-vehicles-object-detection/Traffic Dataset/images/test/Video11.mp4: 384x640 14 Cars, 4 Number Plates, 3 Trucks, 62.8ms\n",
      "video 263/278 (frame 442/1800) /kaggle/input/traffic-vehicles-object-detection/Traffic Dataset/images/test/Video11.mp4: 384x640 13 Cars, 4 Number Plates, 1 Blur Number Plate, 3 Trucks, 62.8ms\n",
      "video 263/278 (frame 443/1800) /kaggle/input/traffic-vehicles-object-detection/Traffic Dataset/images/test/Video11.mp4: 384x640 14 Cars, 3 Number Plates, 1 Blur Number Plate, 3 Trucks, 62.8ms\n",
      "video 263/278 (frame 444/1800) /kaggle/input/traffic-vehicles-object-detection/Traffic Dataset/images/test/Video11.mp4: 384x640 13 Cars, 3 Number Plates, 1 Blur Number Plate, 3 Trucks, 62.8ms\n",
      "video 263/278 (frame 445/1800) /kaggle/input/traffic-vehicles-object-detection/Traffic Dataset/images/test/Video11.mp4: 384x640 13 Cars, 3 Number Plates, 1 Blur Number Plate, 3 Trucks, 62.8ms\n",
      "video 263/278 (frame 446/1800) /kaggle/input/traffic-vehicles-object-detection/Traffic Dataset/images/test/Video11.mp4: 384x640 13 Cars, 3 Number Plates, 1 Blur Number Plate, 3 Trucks, 62.8ms\n",
      "video 263/278 (frame 447/1800) /kaggle/input/traffic-vehicles-object-detection/Traffic Dataset/images/test/Video11.mp4: 384x640 14 Cars, 4 Number Plates, 1 Blur Number Plate, 3 Trucks, 62.8ms\n",
      "video 263/278 (frame 448/1800) /kaggle/input/traffic-vehicles-object-detection/Traffic Dataset/images/test/Video11.mp4: 384x640 14 Cars, 4 Number Plates, 3 Trucks, 62.8ms\n",
      "video 263/278 (frame 449/1800) /kaggle/input/traffic-vehicles-object-detection/Traffic Dataset/images/test/Video11.mp4: 384x640 14 Cars, 4 Number Plates, 1 Blur Number Plate, 3 Trucks, 62.8ms\n",
      "video 263/278 (frame 450/1800) /kaggle/input/traffic-vehicles-object-detection/Traffic Dataset/images/test/Video11.mp4: 384x640 13 Cars, 4 Number Plates, 1 Blur Number Plate, 3 Trucks, 62.8ms\n",
      "video 263/278 (frame 451/1800) /kaggle/input/traffic-vehicles-object-detection/Traffic Dataset/images/test/Video11.mp4: 384x640 13 Cars, 4 Number Plates, 3 Trucks, 62.8ms\n",
      "video 263/278 (frame 452/1800) /kaggle/input/traffic-vehicles-object-detection/Traffic Dataset/images/test/Video11.mp4: 384x640 14 Cars, 4 Number Plates, 3 Trucks, 62.8ms\n",
      "video 263/278 (frame 453/1800) /kaggle/input/traffic-vehicles-object-detection/Traffic Dataset/images/test/Video11.mp4: 384x640 12 Cars, 4 Number Plates, 3 Trucks, 62.8ms\n",
      "video 263/278 (frame 454/1800) /kaggle/input/traffic-vehicles-object-detection/Traffic Dataset/images/test/Video11.mp4: 384x640 13 Cars, 3 Number Plates, 3 Trucks, 62.9ms\n",
      "video 263/278 (frame 455/1800) /kaggle/input/traffic-vehicles-object-detection/Traffic Dataset/images/test/Video11.mp4: 384x640 13 Cars, 3 Number Plates, 3 Trucks, 62.8ms\n",
      "video 263/278 (frame 456/1800) /kaggle/input/traffic-vehicles-object-detection/Traffic Dataset/images/test/Video11.mp4: 384x640 12 Cars, 4 Number Plates, 3 Trucks, 62.8ms\n",
      "video 263/278 (frame 457/1800) /kaggle/input/traffic-vehicles-object-detection/Traffic Dataset/images/test/Video11.mp4: 384x640 13 Cars, 4 Number Plates, 3 Trucks, 62.8ms\n",
      "video 263/278 (frame 458/1800) /kaggle/input/traffic-vehicles-object-detection/Traffic Dataset/images/test/Video11.mp4: 384x640 13 Cars, 4 Number Plates, 3 Trucks, 62.8ms\n",
      "video 263/278 (frame 459/1800) /kaggle/input/traffic-vehicles-object-detection/Traffic Dataset/images/test/Video11.mp4: 384x640 13 Cars, 4 Number Plates, 3 Trucks, 62.8ms\n",
      "video 263/278 (frame 460/1800) /kaggle/input/traffic-vehicles-object-detection/Traffic Dataset/images/test/Video11.mp4: 384x640 15 Cars, 4 Number Plates, 3 Trucks, 62.9ms\n",
      "video 263/278 (frame 461/1800) /kaggle/input/traffic-vehicles-object-detection/Traffic Dataset/images/test/Video11.mp4: 384x640 14 Cars, 4 Number Plates, 3 Trucks, 62.8ms\n",
      "video 263/278 (frame 462/1800) /kaggle/input/traffic-vehicles-object-detection/Traffic Dataset/images/test/Video11.mp4: 384x640 15 Cars, 4 Number Plates, 3 Trucks, 62.8ms\n",
      "video 263/278 (frame 463/1800) /kaggle/input/traffic-vehicles-object-detection/Traffic Dataset/images/test/Video11.mp4: 384x640 16 Cars, 4 Number Plates, 3 Trucks, 62.8ms\n",
      "video 263/278 (frame 464/1800) /kaggle/input/traffic-vehicles-object-detection/Traffic Dataset/images/test/Video11.mp4: 384x640 16 Cars, 4 Number Plates, 3 Trucks, 62.8ms\n",
      "video 263/278 (frame 465/1800) /kaggle/input/traffic-vehicles-object-detection/Traffic Dataset/images/test/Video11.mp4: 384x640 16 Cars, 4 Number Plates, 3 Trucks, 62.8ms\n",
      "video 263/278 (frame 466/1800) /kaggle/input/traffic-vehicles-object-detection/Traffic Dataset/images/test/Video11.mp4: 384x640 16 Cars, 4 Number Plates, 3 Trucks, 62.8ms\n",
      "video 263/278 (frame 467/1800) /kaggle/input/traffic-vehicles-object-detection/Traffic Dataset/images/test/Video11.mp4: 384x640 17 Cars, 4 Number Plates, 3 Trucks, 62.8ms\n",
      "video 263/278 (frame 468/1800) /kaggle/input/traffic-vehicles-object-detection/Traffic Dataset/images/test/Video11.mp4: 384x640 17 Cars, 4 Number Plates, 1 Blur Number Plate, 3 Trucks, 62.8ms\n",
      "video 263/278 (frame 469/1800) /kaggle/input/traffic-vehicles-object-detection/Traffic Dataset/images/test/Video11.mp4: 384x640 16 Cars, 4 Number Plates, 1 Blur Number Plate, 3 Trucks, 62.8ms\n",
      "video 263/278 (frame 470/1800) /kaggle/input/traffic-vehicles-object-detection/Traffic Dataset/images/test/Video11.mp4: 384x640 17 Cars, 4 Number Plates, 1 Blur Number Plate, 3 Trucks, 62.8ms\n",
      "video 263/278 (frame 471/1800) /kaggle/input/traffic-vehicles-object-detection/Traffic Dataset/images/test/Video11.mp4: 384x640 16 Cars, 4 Number Plates, 3 Trucks, 62.8ms\n",
      "video 263/278 (frame 472/1800) /kaggle/input/traffic-vehicles-object-detection/Traffic Dataset/images/test/Video11.mp4: 384x640 18 Cars, 4 Number Plates, 3 Trucks, 62.8ms\n",
      "video 263/278 (frame 473/1800) /kaggle/input/traffic-vehicles-object-detection/Traffic Dataset/images/test/Video11.mp4: 384x640 18 Cars, 4 Number Plates, 2 Blur Number Plates, 3 Trucks, 62.8ms\n",
      "video 263/278 (frame 474/1800) /kaggle/input/traffic-vehicles-object-detection/Traffic Dataset/images/test/Video11.mp4: 384x640 18 Cars, 3 Number Plates, 1 Blur Number Plate, 3 Trucks, 62.8ms\n",
      "video 263/278 (frame 475/1800) /kaggle/input/traffic-vehicles-object-detection/Traffic Dataset/images/test/Video11.mp4: 384x640 18 Cars, 1 Number Plate, 1 Blur Number Plate, 3 Trucks, 62.8ms\n",
      "video 263/278 (frame 476/1800) /kaggle/input/traffic-vehicles-object-detection/Traffic Dataset/images/test/Video11.mp4: 384x640 16 Cars, 2 Number Plates, 1 Blur Number Plate, 3 Trucks, 62.8ms\n",
      "video 263/278 (frame 477/1800) /kaggle/input/traffic-vehicles-object-detection/Traffic Dataset/images/test/Video11.mp4: 384x640 18 Cars, 3 Number Plates, 1 Blur Number Plate, 3 Trucks, 62.8ms\n",
      "video 263/278 (frame 478/1800) /kaggle/input/traffic-vehicles-object-detection/Traffic Dataset/images/test/Video11.mp4: 384x640 16 Cars, 2 Number Plates, 1 Blur Number Plate, 3 Trucks, 62.8ms\n",
      "video 263/278 (frame 479/1800) /kaggle/input/traffic-vehicles-object-detection/Traffic Dataset/images/test/Video11.mp4: 384x640 18 Cars, 2 Number Plates, 1 Blur Number Plate, 3 Trucks, 62.8ms\n",
      "video 263/278 (frame 480/1800) /kaggle/input/traffic-vehicles-object-detection/Traffic Dataset/images/test/Video11.mp4: 384x640 19 Cars, 2 Number Plates, 1 Blur Number Plate, 3 Trucks, 62.8ms\n",
      "video 263/278 (frame 481/1800) /kaggle/input/traffic-vehicles-object-detection/Traffic Dataset/images/test/Video11.mp4: 384x640 19 Cars, 3 Number Plates, 1 Blur Number Plate, 3 Trucks, 62.8ms\n",
      "video 263/278 (frame 482/1800) /kaggle/input/traffic-vehicles-object-detection/Traffic Dataset/images/test/Video11.mp4: 384x640 19 Cars, 2 Number Plates, 2 Blur Number Plates, 3 Trucks, 62.8ms\n",
      "video 263/278 (frame 483/1800) /kaggle/input/traffic-vehicles-object-detection/Traffic Dataset/images/test/Video11.mp4: 384x640 17 Cars, 2 Number Plates, 2 Blur Number Plates, 3 Trucks, 62.8ms\n",
      "video 263/278 (frame 484/1800) /kaggle/input/traffic-vehicles-object-detection/Traffic Dataset/images/test/Video11.mp4: 384x640 19 Cars, 2 Number Plates, 2 Blur Number Plates, 3 Trucks, 62.9ms\n",
      "video 263/278 (frame 485/1800) /kaggle/input/traffic-vehicles-object-detection/Traffic Dataset/images/test/Video11.mp4: 384x640 19 Cars, 2 Number Plates, 2 Blur Number Plates, 3 Trucks, 62.8ms\n",
      "video 263/278 (frame 486/1800) /kaggle/input/traffic-vehicles-object-detection/Traffic Dataset/images/test/Video11.mp4: 384x640 19 Cars, 2 Number Plates, 1 Blur Number Plate, 3 Trucks, 62.8ms\n",
      "video 263/278 (frame 487/1800) /kaggle/input/traffic-vehicles-object-detection/Traffic Dataset/images/test/Video11.mp4: 384x640 19 Cars, 2 Number Plates, 1 Blur Number Plate, 3 Trucks, 62.8ms\n",
      "video 263/278 (frame 488/1800) /kaggle/input/traffic-vehicles-object-detection/Traffic Dataset/images/test/Video11.mp4: 384x640 19 Cars, 2 Number Plates, 3 Trucks, 62.9ms\n",
      "video 263/278 (frame 489/1800) /kaggle/input/traffic-vehicles-object-detection/Traffic Dataset/images/test/Video11.mp4: 384x640 18 Cars, 2 Number Plates, 1 Blur Number Plate, 3 Trucks, 62.8ms\n",
      "video 263/278 (frame 490/1800) /kaggle/input/traffic-vehicles-object-detection/Traffic Dataset/images/test/Video11.mp4: 384x640 19 Cars, 2 Number Plates, 1 Blur Number Plate, 3 Trucks, 62.9ms\n",
      "video 263/278 (frame 491/1800) /kaggle/input/traffic-vehicles-object-detection/Traffic Dataset/images/test/Video11.mp4: 384x640 19 Cars, 2 Number Plates, 1 Blur Number Plate, 3 Trucks, 62.8ms\n",
      "video 263/278 (frame 492/1800) /kaggle/input/traffic-vehicles-object-detection/Traffic Dataset/images/test/Video11.mp4: 384x640 19 Cars, 3 Number Plates, 3 Trucks, 62.8ms\n",
      "video 263/278 (frame 493/1800) /kaggle/input/traffic-vehicles-object-detection/Traffic Dataset/images/test/Video11.mp4: 384x640 19 Cars, 2 Number Plates, 3 Trucks, 62.8ms\n",
      "video 263/278 (frame 494/1800) /kaggle/input/traffic-vehicles-object-detection/Traffic Dataset/images/test/Video11.mp4: 384x640 17 Cars, 2 Number Plates, 3 Trucks, 62.8ms\n",
      "video 263/278 (frame 495/1800) /kaggle/input/traffic-vehicles-object-detection/Traffic Dataset/images/test/Video11.mp4: 384x640 18 Cars, 2 Number Plates, 3 Trucks, 62.8ms\n",
      "video 263/278 (frame 496/1800) /kaggle/input/traffic-vehicles-object-detection/Traffic Dataset/images/test/Video11.mp4: 384x640 18 Cars, 2 Number Plates, 3 Trucks, 62.8ms\n",
      "video 263/278 (frame 497/1800) /kaggle/input/traffic-vehicles-object-detection/Traffic Dataset/images/test/Video11.mp4: 384x640 18 Cars, 3 Number Plates, 3 Trucks, 62.8ms\n",
      "video 263/278 (frame 498/1800) /kaggle/input/traffic-vehicles-object-detection/Traffic Dataset/images/test/Video11.mp4: 384x640 18 Cars, 3 Number Plates, 1 Blur Number Plate, 3 Trucks, 62.8ms\n",
      "video 263/278 (frame 499/1800) /kaggle/input/traffic-vehicles-object-detection/Traffic Dataset/images/test/Video11.mp4: 384x640 18 Cars, 3 Number Plates, 1 Blur Number Plate, 3 Trucks, 62.9ms\n",
      "video 263/278 (frame 500/1800) /kaggle/input/traffic-vehicles-object-detection/Traffic Dataset/images/test/Video11.mp4: 384x640 18 Cars, 3 Number Plates, 1 Blur Number Plate, 3 Trucks, 62.8ms\n",
      "video 263/278 (frame 501/1800) /kaggle/input/traffic-vehicles-object-detection/Traffic Dataset/images/test/Video11.mp4: 384x640 18 Cars, 3 Number Plates, 1 Blur Number Plate, 4 Trucks, 62.8ms\n",
      "video 263/278 (frame 502/1800) /kaggle/input/traffic-vehicles-object-detection/Traffic Dataset/images/test/Video11.mp4: 384x640 19 Cars, 2 Number Plates, 2 Blur Number Plates, 4 Trucks, 62.8ms\n",
      "video 263/278 (frame 503/1800) /kaggle/input/traffic-vehicles-object-detection/Traffic Dataset/images/test/Video11.mp4: 384x640 19 Cars, 3 Number Plates, 2 Blur Number Plates, 4 Trucks, 62.8ms\n",
      "video 263/278 (frame 504/1800) /kaggle/input/traffic-vehicles-object-detection/Traffic Dataset/images/test/Video11.mp4: 384x640 18 Cars, 3 Number Plates, 2 Blur Number Plates, 4 Trucks, 62.8ms\n",
      "video 263/278 (frame 505/1800) /kaggle/input/traffic-vehicles-object-detection/Traffic Dataset/images/test/Video11.mp4: 384x640 18 Cars, 3 Number Plates, 1 Blur Number Plate, 3 Trucks, 62.8ms\n",
      "video 263/278 (frame 506/1800) /kaggle/input/traffic-vehicles-object-detection/Traffic Dataset/images/test/Video11.mp4: 384x640 18 Cars, 2 Number Plates, 2 Blur Number Plates, 3 Trucks, 62.8ms\n",
      "video 263/278 (frame 507/1800) /kaggle/input/traffic-vehicles-object-detection/Traffic Dataset/images/test/Video11.mp4: 384x640 18 Cars, 2 Number Plates, 2 Blur Number Plates, 3 Trucks, 62.8ms\n",
      "video 263/278 (frame 508/1800) /kaggle/input/traffic-vehicles-object-detection/Traffic Dataset/images/test/Video11.mp4: 384x640 18 Cars, 2 Number Plates, 2 Blur Number Plates, 3 Trucks, 62.8ms\n",
      "video 263/278 (frame 509/1800) /kaggle/input/traffic-vehicles-object-detection/Traffic Dataset/images/test/Video11.mp4: 384x640 18 Cars, 3 Number Plates, 1 Blur Number Plate, 3 Trucks, 62.8ms\n",
      "video 263/278 (frame 510/1800) /kaggle/input/traffic-vehicles-object-detection/Traffic Dataset/images/test/Video11.mp4: 384x640 19 Cars, 2 Number Plates, 2 Blur Number Plates, 3 Trucks, 62.8ms\n",
      "video 263/278 (frame 511/1800) /kaggle/input/traffic-vehicles-object-detection/Traffic Dataset/images/test/Video11.mp4: 384x640 19 Cars, 3 Number Plates, 1 Blur Number Plate, 3 Trucks, 62.8ms\n",
      "video 263/278 (frame 512/1800) /kaggle/input/traffic-vehicles-object-detection/Traffic Dataset/images/test/Video11.mp4: 384x640 18 Cars, 2 Number Plates, 1 Blur Number Plate, 3 Trucks, 62.9ms\n",
      "video 263/278 (frame 513/1800) /kaggle/input/traffic-vehicles-object-detection/Traffic Dataset/images/test/Video11.mp4: 384x640 19 Cars, 2 Number Plates, 3 Trucks, 62.8ms\n",
      "video 263/278 (frame 514/1800) /kaggle/input/traffic-vehicles-object-detection/Traffic Dataset/images/test/Video11.mp4: 384x640 18 Cars, 2 Number Plates, 3 Trucks, 62.9ms\n",
      "video 263/278 (frame 515/1800) /kaggle/input/traffic-vehicles-object-detection/Traffic Dataset/images/test/Video11.mp4: 384x640 18 Cars, 2 Number Plates, 1 Blur Number Plate, 3 Trucks, 62.8ms\n",
      "video 263/278 (frame 516/1800) /kaggle/input/traffic-vehicles-object-detection/Traffic Dataset/images/test/Video11.mp4: 384x640 19 Cars, 2 Number Plates, 1 Blur Number Plate, 3 Trucks, 62.8ms\n",
      "video 263/278 (frame 517/1800) /kaggle/input/traffic-vehicles-object-detection/Traffic Dataset/images/test/Video11.mp4: 384x640 20 Cars, 2 Number Plates, 1 Blur Number Plate, 3 Trucks, 62.8ms\n",
      "video 263/278 (frame 518/1800) /kaggle/input/traffic-vehicles-object-detection/Traffic Dataset/images/test/Video11.mp4: 384x640 20 Cars, 2 Number Plates, 1 Blur Number Plate, 3 Trucks, 62.8ms\n",
      "video 263/278 (frame 519/1800) /kaggle/input/traffic-vehicles-object-detection/Traffic Dataset/images/test/Video11.mp4: 384x640 22 Cars, 3 Number Plates, 1 Blur Number Plate, 3 Trucks, 62.8ms\n",
      "video 263/278 (frame 520/1800) /kaggle/input/traffic-vehicles-object-detection/Traffic Dataset/images/test/Video11.mp4: 384x640 20 Cars, 3 Number Plates, 1 Blur Number Plate, 3 Trucks, 63.0ms\n",
      "video 263/278 (frame 521/1800) /kaggle/input/traffic-vehicles-object-detection/Traffic Dataset/images/test/Video11.mp4: 384x640 21 Cars, 3 Number Plates, 1 Blur Number Plate, 3 Trucks, 62.9ms\n",
      "video 263/278 (frame 522/1800) /kaggle/input/traffic-vehicles-object-detection/Traffic Dataset/images/test/Video11.mp4: 384x640 21 Cars, 4 Number Plates, 1 Blur Number Plate, 3 Trucks, 62.9ms\n",
      "video 263/278 (frame 523/1800) /kaggle/input/traffic-vehicles-object-detection/Traffic Dataset/images/test/Video11.mp4: 384x640 22 Cars, 4 Number Plates, 1 Blur Number Plate, 3 Trucks, 62.9ms\n",
      "video 263/278 (frame 524/1800) /kaggle/input/traffic-vehicles-object-detection/Traffic Dataset/images/test/Video11.mp4: 384x640 22 Cars, 4 Number Plates, 1 Blur Number Plate, 3 Trucks, 62.9ms\n",
      "video 263/278 (frame 525/1800) /kaggle/input/traffic-vehicles-object-detection/Traffic Dataset/images/test/Video11.mp4: 384x640 23 Cars, 4 Number Plates, 1 Blur Number Plate, 3 Trucks, 62.8ms\n",
      "video 263/278 (frame 526/1800) /kaggle/input/traffic-vehicles-object-detection/Traffic Dataset/images/test/Video11.mp4: 384x640 23 Cars, 4 Number Plates, 1 Blur Number Plate, 3 Trucks, 62.8ms\n",
      "video 263/278 (frame 527/1800) /kaggle/input/traffic-vehicles-object-detection/Traffic Dataset/images/test/Video11.mp4: 384x640 24 Cars, 4 Number Plates, 1 Blur Number Plate, 3 Trucks, 62.9ms\n",
      "video 263/278 (frame 528/1800) /kaggle/input/traffic-vehicles-object-detection/Traffic Dataset/images/test/Video11.mp4: 384x640 23 Cars, 3 Number Plates, 1 Blur Number Plate, 2 Trucks, 62.8ms\n",
      "video 263/278 (frame 529/1800) /kaggle/input/traffic-vehicles-object-detection/Traffic Dataset/images/test/Video11.mp4: 384x640 19 Cars, 4 Number Plates, 1 Blur Number Plate, 2 Trucks, 62.9ms\n",
      "video 263/278 (frame 530/1800) /kaggle/input/traffic-vehicles-object-detection/Traffic Dataset/images/test/Video11.mp4: 384x640 19 Cars, 3 Number Plates, 1 Blur Number Plate, 2 Trucks, 62.8ms\n",
      "video 263/278 (frame 531/1800) /kaggle/input/traffic-vehicles-object-detection/Traffic Dataset/images/test/Video11.mp4: 384x640 18 Cars, 3 Number Plates, 2 Blur Number Plates, 2 Trucks, 62.8ms\n",
      "video 263/278 (frame 532/1800) /kaggle/input/traffic-vehicles-object-detection/Traffic Dataset/images/test/Video11.mp4: 384x640 20 Cars, 3 Number Plates, 1 Blur Number Plate, 2 Trucks, 62.8ms\n",
      "video 263/278 (frame 533/1800) /kaggle/input/traffic-vehicles-object-detection/Traffic Dataset/images/test/Video11.mp4: 384x640 19 Cars, 3 Number Plates, 2 Blur Number Plates, 2 Trucks, 62.9ms\n",
      "video 263/278 (frame 534/1800) /kaggle/input/traffic-vehicles-object-detection/Traffic Dataset/images/test/Video11.mp4: 384x640 19 Cars, 4 Number Plates, 1 Blur Number Plate, 2 Trucks, 62.8ms\n",
      "video 263/278 (frame 535/1800) /kaggle/input/traffic-vehicles-object-detection/Traffic Dataset/images/test/Video11.mp4: 384x640 19 Cars, 4 Number Plates, 1 Blur Number Plate, 2 Trucks, 62.8ms\n",
      "video 263/278 (frame 536/1800) /kaggle/input/traffic-vehicles-object-detection/Traffic Dataset/images/test/Video11.mp4: 384x640 21 Cars, 4 Number Plates, 1 Blur Number Plate, 2 Trucks, 62.8ms\n",
      "video 263/278 (frame 537/1800) /kaggle/input/traffic-vehicles-object-detection/Traffic Dataset/images/test/Video11.mp4: 384x640 20 Cars, 4 Number Plates, 1 Blur Number Plate, 2 Trucks, 62.8ms\n",
      "video 263/278 (frame 538/1800) /kaggle/input/traffic-vehicles-object-detection/Traffic Dataset/images/test/Video11.mp4: 384x640 21 Cars, 4 Number Plates, 1 Blur Number Plate, 2 Trucks, 62.8ms\n",
      "video 263/278 (frame 539/1800) /kaggle/input/traffic-vehicles-object-detection/Traffic Dataset/images/test/Video11.mp4: 384x640 20 Cars, 4 Number Plates, 1 Blur Number Plate, 2 Trucks, 62.9ms\n",
      "video 263/278 (frame 540/1800) /kaggle/input/traffic-vehicles-object-detection/Traffic Dataset/images/test/Video11.mp4: 384x640 19 Cars, 2 Number Plates, 2 Blur Number Plates, 2 Trucks, 62.8ms\n",
      "video 263/278 (frame 541/1800) /kaggle/input/traffic-vehicles-object-detection/Traffic Dataset/images/test/Video11.mp4: 384x640 20 Cars, 4 Number Plates, 1 Blur Number Plate, 2 Trucks, 62.8ms\n",
      "video 263/278 (frame 542/1800) /kaggle/input/traffic-vehicles-object-detection/Traffic Dataset/images/test/Video11.mp4: 384x640 18 Cars, 4 Number Plates, 2 Blur Number Plates, 2 Trucks, 62.8ms\n",
      "video 263/278 (frame 543/1800) /kaggle/input/traffic-vehicles-object-detection/Traffic Dataset/images/test/Video11.mp4: 384x640 19 Cars, 3 Number Plates, 1 Blur Number Plate, 2 Trucks, 62.8ms\n",
      "video 263/278 (frame 544/1800) /kaggle/input/traffic-vehicles-object-detection/Traffic Dataset/images/test/Video11.mp4: 384x640 18 Cars, 3 Number Plates, 1 Blur Number Plate, 2 Trucks, 62.8ms\n",
      "video 263/278 (frame 545/1800) /kaggle/input/traffic-vehicles-object-detection/Traffic Dataset/images/test/Video11.mp4: 384x640 19 Cars, 3 Number Plates, 2 Trucks, 62.8ms\n",
      "video 263/278 (frame 546/1800) /kaggle/input/traffic-vehicles-object-detection/Traffic Dataset/images/test/Video11.mp4: 384x640 19 Cars, 3 Number Plates, 2 Trucks, 62.8ms\n",
      "video 263/278 (frame 547/1800) /kaggle/input/traffic-vehicles-object-detection/Traffic Dataset/images/test/Video11.mp4: 384x640 19 Cars, 4 Number Plates, 2 Trucks, 62.8ms\n",
      "video 263/278 (frame 548/1800) /kaggle/input/traffic-vehicles-object-detection/Traffic Dataset/images/test/Video11.mp4: 384x640 19 Cars, 4 Number Plates, 2 Trucks, 62.8ms\n",
      "video 263/278 (frame 549/1800) /kaggle/input/traffic-vehicles-object-detection/Traffic Dataset/images/test/Video11.mp4: 384x640 18 Cars, 4 Number Plates, 2 Trucks, 62.8ms\n",
      "video 263/278 (frame 550/1800) /kaggle/input/traffic-vehicles-object-detection/Traffic Dataset/images/test/Video11.mp4: 384x640 20 Cars, 4 Number Plates, 1 Blur Number Plate, 2 Trucks, 62.8ms\n",
      "video 263/278 (frame 551/1800) /kaggle/input/traffic-vehicles-object-detection/Traffic Dataset/images/test/Video11.mp4: 384x640 17 Cars, 3 Number Plates, 1 Blur Number Plate, 2 Trucks, 62.8ms\n",
      "video 263/278 (frame 552/1800) /kaggle/input/traffic-vehicles-object-detection/Traffic Dataset/images/test/Video11.mp4: 384x640 17 Cars, 4 Number Plates, 2 Trucks, 62.9ms\n",
      "video 263/278 (frame 553/1800) /kaggle/input/traffic-vehicles-object-detection/Traffic Dataset/images/test/Video11.mp4: 384x640 17 Cars, 4 Number Plates, 2 Trucks, 62.8ms\n",
      "video 263/278 (frame 554/1800) /kaggle/input/traffic-vehicles-object-detection/Traffic Dataset/images/test/Video11.mp4: 384x640 17 Cars, 4 Number Plates, 2 Trucks, 62.8ms\n",
      "video 263/278 (frame 555/1800) /kaggle/input/traffic-vehicles-object-detection/Traffic Dataset/images/test/Video11.mp4: 384x640 17 Cars, 4 Number Plates, 2 Trucks, 62.8ms\n",
      "video 263/278 (frame 556/1800) /kaggle/input/traffic-vehicles-object-detection/Traffic Dataset/images/test/Video11.mp4: 384x640 16 Cars, 3 Number Plates, 2 Trucks, 62.8ms\n",
      "video 263/278 (frame 557/1800) /kaggle/input/traffic-vehicles-object-detection/Traffic Dataset/images/test/Video11.mp4: 384x640 16 Cars, 4 Number Plates, 2 Trucks, 62.8ms\n",
      "video 263/278 (frame 558/1800) /kaggle/input/traffic-vehicles-object-detection/Traffic Dataset/images/test/Video11.mp4: 384x640 16 Cars, 4 Number Plates, 2 Trucks, 62.8ms\n",
      "video 263/278 (frame 559/1800) /kaggle/input/traffic-vehicles-object-detection/Traffic Dataset/images/test/Video11.mp4: 384x640 18 Cars, 4 Number Plates, 1 Blur Number Plate, 2 Trucks, 62.8ms\n",
      "video 263/278 (frame 560/1800) /kaggle/input/traffic-vehicles-object-detection/Traffic Dataset/images/test/Video11.mp4: 384x640 19 Cars, 4 Number Plates, 2 Blur Number Plates, 2 Trucks, 62.9ms\n",
      "video 263/278 (frame 561/1800) /kaggle/input/traffic-vehicles-object-detection/Traffic Dataset/images/test/Video11.mp4: 384x640 18 Cars, 4 Number Plates, 2 Trucks, 62.8ms\n",
      "video 263/278 (frame 562/1800) /kaggle/input/traffic-vehicles-object-detection/Traffic Dataset/images/test/Video11.mp4: 384x640 16 Cars, 4 Number Plates, 2 Trucks, 62.8ms\n",
      "video 263/278 (frame 563/1800) /kaggle/input/traffic-vehicles-object-detection/Traffic Dataset/images/test/Video11.mp4: 384x640 16 Cars, 4 Number Plates, 2 Trucks, 62.8ms\n",
      "video 263/278 (frame 564/1800) /kaggle/input/traffic-vehicles-object-detection/Traffic Dataset/images/test/Video11.mp4: 384x640 17 Cars, 4 Number Plates, 2 Trucks, 62.8ms\n",
      "video 263/278 (frame 565/1800) /kaggle/input/traffic-vehicles-object-detection/Traffic Dataset/images/test/Video11.mp4: 384x640 18 Cars, 4 Number Plates, 2 Trucks, 62.8ms\n",
      "video 263/278 (frame 566/1800) /kaggle/input/traffic-vehicles-object-detection/Traffic Dataset/images/test/Video11.mp4: 384x640 18 Cars, 4 Number Plates, 2 Trucks, 62.8ms\n",
      "video 263/278 (frame 567/1800) /kaggle/input/traffic-vehicles-object-detection/Traffic Dataset/images/test/Video11.mp4: 384x640 18 Cars, 4 Number Plates, 1 Blur Number Plate, 2 Trucks, 62.8ms\n",
      "video 263/278 (frame 568/1800) /kaggle/input/traffic-vehicles-object-detection/Traffic Dataset/images/test/Video11.mp4: 384x640 18 Cars, 3 Number Plates, 1 Blur Number Plate, 2 Trucks, 62.8ms\n",
      "video 263/278 (frame 569/1800) /kaggle/input/traffic-vehicles-object-detection/Traffic Dataset/images/test/Video11.mp4: 384x640 16 Cars, 4 Number Plates, 1 Blur Number Plate, 2 Trucks, 62.9ms\n",
      "video 263/278 (frame 570/1800) /kaggle/input/traffic-vehicles-object-detection/Traffic Dataset/images/test/Video11.mp4: 384x640 16 Cars, 3 Number Plates, 1 Blur Number Plate, 2 Trucks, 62.8ms\n",
      "video 263/278 (frame 571/1800) /kaggle/input/traffic-vehicles-object-detection/Traffic Dataset/images/test/Video11.mp4: 384x640 17 Cars, 3 Number Plates, 1 Blur Number Plate, 2 Trucks, 62.8ms\n",
      "video 263/278 (frame 572/1800) /kaggle/input/traffic-vehicles-object-detection/Traffic Dataset/images/test/Video11.mp4: 384x640 17 Cars, 3 Number Plates, 1 Blur Number Plate, 2 Trucks, 62.8ms\n",
      "video 263/278 (frame 573/1800) /kaggle/input/traffic-vehicles-object-detection/Traffic Dataset/images/test/Video11.mp4: 384x640 16 Cars, 3 Number Plates, 1 Blur Number Plate, 2 Trucks, 62.8ms\n",
      "video 263/278 (frame 574/1800) /kaggle/input/traffic-vehicles-object-detection/Traffic Dataset/images/test/Video11.mp4: 384x640 16 Cars, 3 Number Plates, 1 Blur Number Plate, 2 Trucks, 62.9ms\n",
      "video 263/278 (frame 575/1800) /kaggle/input/traffic-vehicles-object-detection/Traffic Dataset/images/test/Video11.mp4: 384x640 16 Cars, 3 Number Plates, 1 Blur Number Plate, 2 Trucks, 62.8ms\n",
      "video 263/278 (frame 576/1800) /kaggle/input/traffic-vehicles-object-detection/Traffic Dataset/images/test/Video11.mp4: 384x640 16 Cars, 3 Number Plates, 1 Blur Number Plate, 2 Trucks, 62.8ms\n",
      "video 263/278 (frame 577/1800) /kaggle/input/traffic-vehicles-object-detection/Traffic Dataset/images/test/Video11.mp4: 384x640 16 Cars, 3 Number Plates, 1 Blur Number Plate, 2 Trucks, 62.8ms\n",
      "video 263/278 (frame 578/1800) /kaggle/input/traffic-vehicles-object-detection/Traffic Dataset/images/test/Video11.mp4: 384x640 15 Cars, 3 Number Plates, 1 Blur Number Plate, 2 Trucks, 62.8ms\n",
      "video 263/278 (frame 579/1800) /kaggle/input/traffic-vehicles-object-detection/Traffic Dataset/images/test/Video11.mp4: 384x640 16 Cars, 4 Number Plates, 1 Blur Number Plate, 2 Trucks, 62.8ms\n",
      "video 263/278 (frame 580/1800) /kaggle/input/traffic-vehicles-object-detection/Traffic Dataset/images/test/Video11.mp4: 384x640 15 Cars, 4 Number Plates, 1 Blur Number Plate, 2 Trucks, 62.8ms\n",
      "video 263/278 (frame 581/1800) /kaggle/input/traffic-vehicles-object-detection/Traffic Dataset/images/test/Video11.mp4: 384x640 16 Cars, 4 Number Plates, 1 Blur Number Plate, 2 Trucks, 62.8ms\n",
      "video 263/278 (frame 582/1800) /kaggle/input/traffic-vehicles-object-detection/Traffic Dataset/images/test/Video11.mp4: 384x640 16 Cars, 4 Number Plates, 1 Blur Number Plate, 2 Trucks, 62.9ms\n",
      "video 263/278 (frame 583/1800) /kaggle/input/traffic-vehicles-object-detection/Traffic Dataset/images/test/Video11.mp4: 384x640 15 Cars, 4 Number Plates, 1 Blur Number Plate, 2 Trucks, 62.8ms\n",
      "video 263/278 (frame 584/1800) /kaggle/input/traffic-vehicles-object-detection/Traffic Dataset/images/test/Video11.mp4: 384x640 15 Cars, 4 Number Plates, 1 Blur Number Plate, 2 Trucks, 62.9ms\n",
      "video 263/278 (frame 585/1800) /kaggle/input/traffic-vehicles-object-detection/Traffic Dataset/images/test/Video11.mp4: 384x640 15 Cars, 4 Number Plates, 2 Trucks, 62.8ms\n",
      "video 263/278 (frame 586/1800) /kaggle/input/traffic-vehicles-object-detection/Traffic Dataset/images/test/Video11.mp4: 384x640 17 Cars, 4 Number Plates, 1 Blur Number Plate, 2 Trucks, 62.8ms\n",
      "video 263/278 (frame 587/1800) /kaggle/input/traffic-vehicles-object-detection/Traffic Dataset/images/test/Video11.mp4: 384x640 16 Cars, 4 Number Plates, 1 Blur Number Plate, 2 Trucks, 62.8ms\n",
      "video 263/278 (frame 588/1800) /kaggle/input/traffic-vehicles-object-detection/Traffic Dataset/images/test/Video11.mp4: 384x640 16 Cars, 5 Number Plates, 1 Blur Number Plate, 2 Trucks, 62.9ms\n",
      "video 263/278 (frame 589/1800) /kaggle/input/traffic-vehicles-object-detection/Traffic Dataset/images/test/Video11.mp4: 384x640 16 Cars, 4 Number Plates, 1 Blur Number Plate, 2 Trucks, 62.8ms\n",
      "video 263/278 (frame 590/1800) /kaggle/input/traffic-vehicles-object-detection/Traffic Dataset/images/test/Video11.mp4: 384x640 18 Cars, 4 Number Plates, 2 Trucks, 62.8ms\n",
      "video 263/278 (frame 591/1800) /kaggle/input/traffic-vehicles-object-detection/Traffic Dataset/images/test/Video11.mp4: 384x640 17 Cars, 4 Number Plates, 2 Trucks, 62.8ms\n",
      "video 263/278 (frame 592/1800) /kaggle/input/traffic-vehicles-object-detection/Traffic Dataset/images/test/Video11.mp4: 384x640 16 Cars, 3 Number Plates, 2 Trucks, 62.9ms\n",
      "video 263/278 (frame 593/1800) /kaggle/input/traffic-vehicles-object-detection/Traffic Dataset/images/test/Video11.mp4: 384x640 16 Cars, 3 Number Plates, 2 Trucks, 62.8ms\n",
      "video 263/278 (frame 594/1800) /kaggle/input/traffic-vehicles-object-detection/Traffic Dataset/images/test/Video11.mp4: 384x640 16 Cars, 4 Number Plates, 2 Trucks, 62.9ms\n",
      "video 263/278 (frame 595/1800) /kaggle/input/traffic-vehicles-object-detection/Traffic Dataset/images/test/Video11.mp4: 384x640 16 Cars, 4 Number Plates, 2 Trucks, 62.8ms\n",
      "video 263/278 (frame 596/1800) /kaggle/input/traffic-vehicles-object-detection/Traffic Dataset/images/test/Video11.mp4: 384x640 16 Cars, 4 Number Plates, 2 Trucks, 62.8ms\n",
      "video 263/278 (frame 597/1800) /kaggle/input/traffic-vehicles-object-detection/Traffic Dataset/images/test/Video11.mp4: 384x640 16 Cars, 4 Number Plates, 2 Trucks, 62.8ms\n",
      "video 263/278 (frame 598/1800) /kaggle/input/traffic-vehicles-object-detection/Traffic Dataset/images/test/Video11.mp4: 384x640 16 Cars, 4 Number Plates, 2 Trucks, 62.8ms\n",
      "video 263/278 (frame 599/1800) /kaggle/input/traffic-vehicles-object-detection/Traffic Dataset/images/test/Video11.mp4: 384x640 16 Cars, 4 Number Plates, 2 Trucks, 62.9ms\n",
      "video 263/278 (frame 600/1800) /kaggle/input/traffic-vehicles-object-detection/Traffic Dataset/images/test/Video11.mp4: 384x640 16 Cars, 4 Number Plates, 2 Trucks, 62.8ms\n",
      "video 263/278 (frame 601/1800) /kaggle/input/traffic-vehicles-object-detection/Traffic Dataset/images/test/Video11.mp4: 384x640 16 Cars, 4 Number Plates, 2 Trucks, 62.8ms\n",
      "video 263/278 (frame 602/1800) /kaggle/input/traffic-vehicles-object-detection/Traffic Dataset/images/test/Video11.mp4: 384x640 17 Cars, 4 Number Plates, 2 Trucks, 62.8ms\n",
      "video 263/278 (frame 603/1800) /kaggle/input/traffic-vehicles-object-detection/Traffic Dataset/images/test/Video11.mp4: 384x640 16 Cars, 4 Number Plates, 2 Trucks, 62.8ms\n",
      "video 263/278 (frame 604/1800) /kaggle/input/traffic-vehicles-object-detection/Traffic Dataset/images/test/Video11.mp4: 384x640 16 Cars, 4 Number Plates, 2 Trucks, 62.8ms\n",
      "video 263/278 (frame 605/1800) /kaggle/input/traffic-vehicles-object-detection/Traffic Dataset/images/test/Video11.mp4: 384x640 16 Cars, 4 Number Plates, 2 Trucks, 62.8ms\n",
      "video 263/278 (frame 606/1800) /kaggle/input/traffic-vehicles-object-detection/Traffic Dataset/images/test/Video11.mp4: 384x640 16 Cars, 4 Number Plates, 2 Trucks, 62.8ms\n",
      "video 263/278 (frame 607/1800) /kaggle/input/traffic-vehicles-object-detection/Traffic Dataset/images/test/Video11.mp4: 384x640 16 Cars, 4 Number Plates, 1 Blur Number Plate, 2 Trucks, 62.8ms\n",
      "video 263/278 (frame 608/1800) /kaggle/input/traffic-vehicles-object-detection/Traffic Dataset/images/test/Video11.mp4: 384x640 16 Cars, 5 Number Plates, 1 Blur Number Plate, 2 Trucks, 62.8ms\n",
      "video 263/278 (frame 609/1800) /kaggle/input/traffic-vehicles-object-detection/Traffic Dataset/images/test/Video11.mp4: 384x640 16 Cars, 4 Number Plates, 1 Blur Number Plate, 2 Trucks, 62.8ms\n",
      "video 263/278 (frame 610/1800) /kaggle/input/traffic-vehicles-object-detection/Traffic Dataset/images/test/Video11.mp4: 384x640 16 Cars, 3 Number Plates, 2 Trucks, 62.8ms\n",
      "video 263/278 (frame 611/1800) /kaggle/input/traffic-vehicles-object-detection/Traffic Dataset/images/test/Video11.mp4: 384x640 16 Cars, 3 Number Plates, 2 Trucks, 62.8ms\n",
      "video 263/278 (frame 612/1800) /kaggle/input/traffic-vehicles-object-detection/Traffic Dataset/images/test/Video11.mp4: 384x640 15 Cars, 3 Number Plates, 2 Trucks, 62.8ms\n",
      "video 263/278 (frame 613/1800) /kaggle/input/traffic-vehicles-object-detection/Traffic Dataset/images/test/Video11.mp4: 384x640 16 Cars, 3 Number Plates, 1 Blur Number Plate, 2 Trucks, 62.8ms\n",
      "video 263/278 (frame 614/1800) /kaggle/input/traffic-vehicles-object-detection/Traffic Dataset/images/test/Video11.mp4: 384x640 16 Cars, 3 Number Plates, 1 Blur Number Plate, 2 Trucks, 62.8ms\n",
      "video 263/278 (frame 615/1800) /kaggle/input/traffic-vehicles-object-detection/Traffic Dataset/images/test/Video11.mp4: 384x640 17 Cars, 3 Number Plates, 1 Blur Number Plate, 1 Bus, 2 Trucks, 62.8ms\n",
      "video 263/278 (frame 616/1800) /kaggle/input/traffic-vehicles-object-detection/Traffic Dataset/images/test/Video11.mp4: 384x640 17 Cars, 3 Number Plates, 1 Blur Number Plate, 2 Trucks, 62.8ms\n",
      "video 263/278 (frame 617/1800) /kaggle/input/traffic-vehicles-object-detection/Traffic Dataset/images/test/Video11.mp4: 384x640 16 Cars, 3 Number Plates, 1 Blur Number Plate, 2 Trucks, 62.8ms\n",
      "video 263/278 (frame 618/1800) /kaggle/input/traffic-vehicles-object-detection/Traffic Dataset/images/test/Video11.mp4: 384x640 17 Cars, 3 Number Plates, 2 Trucks, 62.9ms\n",
      "video 263/278 (frame 619/1800) /kaggle/input/traffic-vehicles-object-detection/Traffic Dataset/images/test/Video11.mp4: 384x640 17 Cars, 2 Number Plates, 1 Bus, 2 Trucks, 62.8ms\n",
      "video 263/278 (frame 620/1800) /kaggle/input/traffic-vehicles-object-detection/Traffic Dataset/images/test/Video11.mp4: 384x640 18 Cars, 2 Number Plates, 1 Bus, 2 Trucks, 62.8ms\n",
      "video 263/278 (frame 621/1800) /kaggle/input/traffic-vehicles-object-detection/Traffic Dataset/images/test/Video11.mp4: 384x640 17 Cars, 2 Number Plates, 2 Trucks, 62.8ms\n",
      "video 263/278 (frame 622/1800) /kaggle/input/traffic-vehicles-object-detection/Traffic Dataset/images/test/Video11.mp4: 384x640 16 Cars, 3 Number Plates, 3 Trucks, 62.8ms\n",
      "video 263/278 (frame 623/1800) /kaggle/input/traffic-vehicles-object-detection/Traffic Dataset/images/test/Video11.mp4: 384x640 16 Cars, 3 Number Plates, 4 Trucks, 62.8ms\n",
      "video 263/278 (frame 624/1800) /kaggle/input/traffic-vehicles-object-detection/Traffic Dataset/images/test/Video11.mp4: 384x640 16 Cars, 3 Number Plates, 3 Trucks, 62.8ms\n",
      "video 263/278 (frame 625/1800) /kaggle/input/traffic-vehicles-object-detection/Traffic Dataset/images/test/Video11.mp4: 384x640 15 Cars, 3 Number Plates, 3 Trucks, 62.9ms\n",
      "video 263/278 (frame 626/1800) /kaggle/input/traffic-vehicles-object-detection/Traffic Dataset/images/test/Video11.mp4: 384x640 15 Cars, 3 Number Plates, 1 Bus, 3 Trucks, 62.8ms\n",
      "video 263/278 (frame 627/1800) /kaggle/input/traffic-vehicles-object-detection/Traffic Dataset/images/test/Video11.mp4: 384x640 15 Cars, 3 Number Plates, 1 Bus, 3 Trucks, 62.8ms\n",
      "video 263/278 (frame 628/1800) /kaggle/input/traffic-vehicles-object-detection/Traffic Dataset/images/test/Video11.mp4: 384x640 15 Cars, 3 Number Plates, 3 Trucks, 62.8ms\n",
      "video 263/278 (frame 629/1800) /kaggle/input/traffic-vehicles-object-detection/Traffic Dataset/images/test/Video11.mp4: 384x640 15 Cars, 2 Number Plates, 3 Trucks, 62.9ms\n",
      "video 263/278 (frame 630/1800) /kaggle/input/traffic-vehicles-object-detection/Traffic Dataset/images/test/Video11.mp4: 384x640 15 Cars, 3 Number Plates, 3 Trucks, 62.8ms\n",
      "video 263/278 (frame 631/1800) /kaggle/input/traffic-vehicles-object-detection/Traffic Dataset/images/test/Video11.mp4: 384x640 17 Cars, 4 Number Plates, 3 Trucks, 62.8ms\n",
      "video 263/278 (frame 632/1800) /kaggle/input/traffic-vehicles-object-detection/Traffic Dataset/images/test/Video11.mp4: 384x640 15 Cars, 4 Number Plates, 3 Trucks, 62.8ms\n",
      "video 263/278 (frame 633/1800) /kaggle/input/traffic-vehicles-object-detection/Traffic Dataset/images/test/Video11.mp4: 384x640 15 Cars, 4 Number Plates, 1 Blur Number Plate, 3 Trucks, 62.9ms\n",
      "video 263/278 (frame 634/1800) /kaggle/input/traffic-vehicles-object-detection/Traffic Dataset/images/test/Video11.mp4: 384x640 14 Cars, 4 Number Plates, 1 Blur Number Plate, 3 Trucks, 62.9ms\n",
      "video 263/278 (frame 635/1800) /kaggle/input/traffic-vehicles-object-detection/Traffic Dataset/images/test/Video11.mp4: 384x640 14 Cars, 4 Number Plates, 1 Blur Number Plate, 3 Trucks, 62.9ms\n",
      "video 263/278 (frame 636/1800) /kaggle/input/traffic-vehicles-object-detection/Traffic Dataset/images/test/Video11.mp4: 384x640 15 Cars, 4 Number Plates, 1 Blur Number Plate, 3 Trucks, 62.9ms\n",
      "video 263/278 (frame 637/1800) /kaggle/input/traffic-vehicles-object-detection/Traffic Dataset/images/test/Video11.mp4: 384x640 16 Cars, 4 Number Plates, 3 Trucks, 62.8ms\n",
      "video 263/278 (frame 638/1800) /kaggle/input/traffic-vehicles-object-detection/Traffic Dataset/images/test/Video11.mp4: 384x640 16 Cars, 3 Number Plates, 3 Trucks, 62.8ms\n",
      "video 263/278 (frame 639/1800) /kaggle/input/traffic-vehicles-object-detection/Traffic Dataset/images/test/Video11.mp4: 384x640 15 Cars, 3 Number Plates, 3 Trucks, 62.8ms\n",
      "video 263/278 (frame 640/1800) /kaggle/input/traffic-vehicles-object-detection/Traffic Dataset/images/test/Video11.mp4: 384x640 15 Cars, 3 Number Plates, 1 Blur Number Plate, 3 Trucks, 62.8ms\n",
      "video 263/278 (frame 641/1800) /kaggle/input/traffic-vehicles-object-detection/Traffic Dataset/images/test/Video11.mp4: 384x640 15 Cars, 3 Number Plates, 3 Trucks, 62.8ms\n",
      "video 263/278 (frame 642/1800) /kaggle/input/traffic-vehicles-object-detection/Traffic Dataset/images/test/Video11.mp4: 384x640 15 Cars, 3 Number Plates, 3 Trucks, 62.8ms\n",
      "video 263/278 (frame 643/1800) /kaggle/input/traffic-vehicles-object-detection/Traffic Dataset/images/test/Video11.mp4: 384x640 15 Cars, 3 Number Plates, 3 Trucks, 62.8ms\n",
      "video 263/278 (frame 644/1800) /kaggle/input/traffic-vehicles-object-detection/Traffic Dataset/images/test/Video11.mp4: 384x640 15 Cars, 3 Number Plates, 1 Blur Number Plate, 3 Trucks, 62.8ms\n",
      "video 263/278 (frame 645/1800) /kaggle/input/traffic-vehicles-object-detection/Traffic Dataset/images/test/Video11.mp4: 384x640 16 Cars, 3 Number Plates, 1 Blur Number Plate, 3 Trucks, 62.8ms\n",
      "video 263/278 (frame 646/1800) /kaggle/input/traffic-vehicles-object-detection/Traffic Dataset/images/test/Video11.mp4: 384x640 15 Cars, 3 Number Plates, 2 Trucks, 62.8ms\n",
      "video 263/278 (frame 647/1800) /kaggle/input/traffic-vehicles-object-detection/Traffic Dataset/images/test/Video11.mp4: 384x640 14 Cars, 3 Number Plates, 2 Trucks, 62.8ms\n",
      "video 263/278 (frame 648/1800) /kaggle/input/traffic-vehicles-object-detection/Traffic Dataset/images/test/Video11.mp4: 384x640 15 Cars, 3 Number Plates, 3 Trucks, 62.8ms\n",
      "video 263/278 (frame 649/1800) /kaggle/input/traffic-vehicles-object-detection/Traffic Dataset/images/test/Video11.mp4: 384x640 15 Cars, 3 Number Plates, 2 Trucks, 62.9ms\n",
      "video 263/278 (frame 650/1800) /kaggle/input/traffic-vehicles-object-detection/Traffic Dataset/images/test/Video11.mp4: 384x640 15 Cars, 3 Number Plates, 3 Trucks, 62.8ms\n",
      "video 263/278 (frame 651/1800) /kaggle/input/traffic-vehicles-object-detection/Traffic Dataset/images/test/Video11.mp4: 384x640 15 Cars, 4 Number Plates, 1 Blur Number Plate, 2 Trucks, 62.8ms\n",
      "video 263/278 (frame 652/1800) /kaggle/input/traffic-vehicles-object-detection/Traffic Dataset/images/test/Video11.mp4: 384x640 15 Cars, 3 Number Plates, 2 Trucks, 62.9ms\n",
      "video 263/278 (frame 653/1800) /kaggle/input/traffic-vehicles-object-detection/Traffic Dataset/images/test/Video11.mp4: 384x640 15 Cars, 3 Number Plates, 2 Trucks, 62.8ms\n",
      "video 263/278 (frame 654/1800) /kaggle/input/traffic-vehicles-object-detection/Traffic Dataset/images/test/Video11.mp4: 384x640 15 Cars, 3 Number Plates, 2 Trucks, 62.3ms\n",
      "video 263/278 (frame 655/1800) /kaggle/input/traffic-vehicles-object-detection/Traffic Dataset/images/test/Video11.mp4: 384x640 15 Cars, 3 Number Plates, 2 Trucks, 61.5ms\n",
      "video 263/278 (frame 656/1800) /kaggle/input/traffic-vehicles-object-detection/Traffic Dataset/images/test/Video11.mp4: 384x640 15 Cars, 3 Number Plates, 2 Trucks, 61.4ms\n",
      "video 263/278 (frame 657/1800) /kaggle/input/traffic-vehicles-object-detection/Traffic Dataset/images/test/Video11.mp4: 384x640 14 Cars, 2 Number Plates, 2 Trucks, 61.5ms\n",
      "video 263/278 (frame 658/1800) /kaggle/input/traffic-vehicles-object-detection/Traffic Dataset/images/test/Video11.mp4: 384x640 15 Cars, 2 Number Plates, 2 Trucks, 61.4ms\n",
      "video 263/278 (frame 659/1800) /kaggle/input/traffic-vehicles-object-detection/Traffic Dataset/images/test/Video11.mp4: 384x640 15 Cars, 3 Number Plates, 2 Trucks, 61.4ms\n",
      "video 263/278 (frame 660/1800) /kaggle/input/traffic-vehicles-object-detection/Traffic Dataset/images/test/Video11.mp4: 384x640 15 Cars, 3 Number Plates, 2 Trucks, 61.4ms\n",
      "video 263/278 (frame 661/1800) /kaggle/input/traffic-vehicles-object-detection/Traffic Dataset/images/test/Video11.mp4: 384x640 14 Cars, 3 Number Plates, 2 Trucks, 61.4ms\n",
      "video 263/278 (frame 662/1800) /kaggle/input/traffic-vehicles-object-detection/Traffic Dataset/images/test/Video11.mp4: 384x640 14 Cars, 3 Number Plates, 2 Trucks, 61.4ms\n",
      "video 263/278 (frame 663/1800) /kaggle/input/traffic-vehicles-object-detection/Traffic Dataset/images/test/Video11.mp4: 384x640 14 Cars, 3 Number Plates, 3 Trucks, 62.9ms\n",
      "video 263/278 (frame 664/1800) /kaggle/input/traffic-vehicles-object-detection/Traffic Dataset/images/test/Video11.mp4: 384x640 14 Cars, 3 Number Plates, 3 Trucks, 62.8ms\n",
      "video 263/278 (frame 665/1800) /kaggle/input/traffic-vehicles-object-detection/Traffic Dataset/images/test/Video11.mp4: 384x640 14 Cars, 3 Number Plates, 3 Trucks, 62.9ms\n",
      "video 263/278 (frame 666/1800) /kaggle/input/traffic-vehicles-object-detection/Traffic Dataset/images/test/Video11.mp4: 384x640 14 Cars, 3 Number Plates, 2 Trucks, 62.8ms\n",
      "video 263/278 (frame 667/1800) /kaggle/input/traffic-vehicles-object-detection/Traffic Dataset/images/test/Video11.mp4: 384x640 15 Cars, 3 Number Plates, 3 Trucks, 62.8ms\n",
      "video 263/278 (frame 668/1800) /kaggle/input/traffic-vehicles-object-detection/Traffic Dataset/images/test/Video11.mp4: 384x640 15 Cars, 3 Number Plates, 3 Trucks, 62.8ms\n",
      "video 263/278 (frame 669/1800) /kaggle/input/traffic-vehicles-object-detection/Traffic Dataset/images/test/Video11.mp4: 384x640 14 Cars, 3 Number Plates, 2 Trucks, 62.8ms\n",
      "video 263/278 (frame 670/1800) /kaggle/input/traffic-vehicles-object-detection/Traffic Dataset/images/test/Video11.mp4: 384x640 15 Cars, 3 Number Plates, 3 Trucks, 62.8ms\n",
      "video 263/278 (frame 671/1800) /kaggle/input/traffic-vehicles-object-detection/Traffic Dataset/images/test/Video11.mp4: 384x640 15 Cars, 3 Number Plates, 2 Trucks, 62.8ms\n",
      "video 263/278 (frame 672/1800) /kaggle/input/traffic-vehicles-object-detection/Traffic Dataset/images/test/Video11.mp4: 384x640 14 Cars, 3 Number Plates, 2 Trucks, 62.8ms\n",
      "video 263/278 (frame 673/1800) /kaggle/input/traffic-vehicles-object-detection/Traffic Dataset/images/test/Video11.mp4: 384x640 14 Cars, 2 Number Plates, 3 Trucks, 62.8ms\n",
      "video 263/278 (frame 674/1800) /kaggle/input/traffic-vehicles-object-detection/Traffic Dataset/images/test/Video11.mp4: 384x640 14 Cars, 3 Number Plates, 2 Trucks, 62.8ms\n",
      "video 263/278 (frame 675/1800) /kaggle/input/traffic-vehicles-object-detection/Traffic Dataset/images/test/Video11.mp4: 384x640 15 Cars, 2 Number Plates, 2 Trucks, 62.8ms\n",
      "video 263/278 (frame 676/1800) /kaggle/input/traffic-vehicles-object-detection/Traffic Dataset/images/test/Video11.mp4: 384x640 15 Cars, 3 Number Plates, 2 Trucks, 62.8ms\n",
      "video 263/278 (frame 677/1800) /kaggle/input/traffic-vehicles-object-detection/Traffic Dataset/images/test/Video11.mp4: 384x640 14 Cars, 3 Number Plates, 2 Trucks, 62.8ms\n",
      "video 263/278 (frame 678/1800) /kaggle/input/traffic-vehicles-object-detection/Traffic Dataset/images/test/Video11.mp4: 384x640 17 Cars, 2 Number Plates, 3 Trucks, 62.8ms\n",
      "video 263/278 (frame 679/1800) /kaggle/input/traffic-vehicles-object-detection/Traffic Dataset/images/test/Video11.mp4: 384x640 17 Cars, 3 Number Plates, 3 Trucks, 62.8ms\n",
      "video 263/278 (frame 680/1800) /kaggle/input/traffic-vehicles-object-detection/Traffic Dataset/images/test/Video11.mp4: 384x640 15 Cars, 3 Number Plates, 3 Trucks, 62.8ms\n",
      "video 263/278 (frame 681/1800) /kaggle/input/traffic-vehicles-object-detection/Traffic Dataset/images/test/Video11.mp4: 384x640 14 Cars, 3 Number Plates, 3 Trucks, 62.8ms\n",
      "video 263/278 (frame 682/1800) /kaggle/input/traffic-vehicles-object-detection/Traffic Dataset/images/test/Video11.mp4: 384x640 14 Cars, 3 Number Plates, 3 Trucks, 62.8ms\n",
      "video 263/278 (frame 683/1800) /kaggle/input/traffic-vehicles-object-detection/Traffic Dataset/images/test/Video11.mp4: 384x640 14 Cars, 3 Number Plates, 3 Trucks, 62.8ms\n",
      "video 263/278 (frame 684/1800) /kaggle/input/traffic-vehicles-object-detection/Traffic Dataset/images/test/Video11.mp4: 384x640 13 Cars, 2 Number Plates, 4 Trucks, 62.8ms\n",
      "video 263/278 (frame 685/1800) /kaggle/input/traffic-vehicles-object-detection/Traffic Dataset/images/test/Video11.mp4: 384x640 12 Cars, 3 Number Plates, 3 Trucks, 62.8ms\n",
      "video 263/278 (frame 686/1800) /kaggle/input/traffic-vehicles-object-detection/Traffic Dataset/images/test/Video11.mp4: 384x640 12 Cars, 3 Number Plates, 3 Trucks, 62.8ms\n",
      "video 263/278 (frame 687/1800) /kaggle/input/traffic-vehicles-object-detection/Traffic Dataset/images/test/Video11.mp4: 384x640 13 Cars, 3 Number Plates, 3 Trucks, 62.8ms\n",
      "video 263/278 (frame 688/1800) /kaggle/input/traffic-vehicles-object-detection/Traffic Dataset/images/test/Video11.mp4: 384x640 13 Cars, 2 Number Plates, 3 Trucks, 62.8ms\n",
      "video 263/278 (frame 689/1800) /kaggle/input/traffic-vehicles-object-detection/Traffic Dataset/images/test/Video11.mp4: 384x640 13 Cars, 3 Number Plates, 3 Trucks, 62.8ms\n",
      "video 263/278 (frame 690/1800) /kaggle/input/traffic-vehicles-object-detection/Traffic Dataset/images/test/Video11.mp4: 384x640 13 Cars, 3 Number Plates, 3 Trucks, 61.5ms\n",
      "video 263/278 (frame 691/1800) /kaggle/input/traffic-vehicles-object-detection/Traffic Dataset/images/test/Video11.mp4: 384x640 12 Cars, 1 Number Plate, 4 Trucks, 60.1ms\n",
      "video 263/278 (frame 692/1800) /kaggle/input/traffic-vehicles-object-detection/Traffic Dataset/images/test/Video11.mp4: 384x640 12 Cars, 2 Number Plates, 4 Trucks, 60.2ms\n",
      "video 263/278 (frame 693/1800) /kaggle/input/traffic-vehicles-object-detection/Traffic Dataset/images/test/Video11.mp4: 384x640 12 Cars, 3 Number Plates, 1 Blur Number Plate, 4 Trucks, 60.2ms\n",
      "video 263/278 (frame 694/1800) /kaggle/input/traffic-vehicles-object-detection/Traffic Dataset/images/test/Video11.mp4: 384x640 12 Cars, 3 Number Plates, 4 Trucks, 60.2ms\n",
      "video 263/278 (frame 695/1800) /kaggle/input/traffic-vehicles-object-detection/Traffic Dataset/images/test/Video11.mp4: 384x640 12 Cars, 4 Number Plates, 4 Trucks, 60.2ms\n",
      "video 263/278 (frame 696/1800) /kaggle/input/traffic-vehicles-object-detection/Traffic Dataset/images/test/Video11.mp4: 384x640 12 Cars, 2 Number Plates, 4 Trucks, 60.1ms\n",
      "video 263/278 (frame 697/1800) /kaggle/input/traffic-vehicles-object-detection/Traffic Dataset/images/test/Video11.mp4: 384x640 12 Cars, 3 Number Plates, 3 Trucks, 60.1ms\n",
      "video 263/278 (frame 698/1800) /kaggle/input/traffic-vehicles-object-detection/Traffic Dataset/images/test/Video11.mp4: 384x640 12 Cars, 3 Number Plates, 3 Trucks, 60.1ms\n",
      "video 263/278 (frame 699/1800) /kaggle/input/traffic-vehicles-object-detection/Traffic Dataset/images/test/Video11.mp4: 384x640 12 Cars, 3 Number Plates, 4 Trucks, 62.8ms\n",
      "video 263/278 (frame 700/1800) /kaggle/input/traffic-vehicles-object-detection/Traffic Dataset/images/test/Video11.mp4: 384x640 12 Cars, 3 Number Plates, 3 Trucks, 62.9ms\n",
      "video 263/278 (frame 701/1800) /kaggle/input/traffic-vehicles-object-detection/Traffic Dataset/images/test/Video11.mp4: 384x640 12 Cars, 3 Number Plates, 4 Trucks, 62.8ms\n",
      "video 263/278 (frame 702/1800) /kaggle/input/traffic-vehicles-object-detection/Traffic Dataset/images/test/Video11.mp4: 384x640 12 Cars, 3 Number Plates, 4 Trucks, 62.9ms\n",
      "video 263/278 (frame 703/1800) /kaggle/input/traffic-vehicles-object-detection/Traffic Dataset/images/test/Video11.mp4: 384x640 12 Cars, 3 Number Plates, 3 Trucks, 62.8ms\n",
      "video 263/278 (frame 704/1800) /kaggle/input/traffic-vehicles-object-detection/Traffic Dataset/images/test/Video11.mp4: 384x640 12 Cars, 3 Number Plates, 3 Trucks, 62.8ms\n",
      "video 263/278 (frame 705/1800) /kaggle/input/traffic-vehicles-object-detection/Traffic Dataset/images/test/Video11.mp4: 384x640 13 Cars, 4 Number Plates, 3 Trucks, 62.8ms\n",
      "video 263/278 (frame 706/1800) /kaggle/input/traffic-vehicles-object-detection/Traffic Dataset/images/test/Video11.mp4: 384x640 12 Cars, 4 Number Plates, 3 Trucks, 62.9ms\n",
      "video 263/278 (frame 707/1800) /kaggle/input/traffic-vehicles-object-detection/Traffic Dataset/images/test/Video11.mp4: 384x640 13 Cars, 4 Number Plates, 3 Trucks, 62.8ms\n",
      "video 263/278 (frame 708/1800) /kaggle/input/traffic-vehicles-object-detection/Traffic Dataset/images/test/Video11.mp4: 384x640 12 Cars, 4 Number Plates, 3 Trucks, 62.8ms\n",
      "video 263/278 (frame 709/1800) /kaggle/input/traffic-vehicles-object-detection/Traffic Dataset/images/test/Video11.mp4: 384x640 12 Cars, 4 Number Plates, 4 Trucks, 62.9ms\n",
      "video 263/278 (frame 710/1800) /kaggle/input/traffic-vehicles-object-detection/Traffic Dataset/images/test/Video11.mp4: 384x640 11 Cars, 5 Number Plates, 3 Trucks, 62.8ms\n",
      "video 263/278 (frame 711/1800) /kaggle/input/traffic-vehicles-object-detection/Traffic Dataset/images/test/Video11.mp4: 384x640 12 Cars, 4 Number Plates, 3 Trucks, 62.8ms\n",
      "video 263/278 (frame 712/1800) /kaggle/input/traffic-vehicles-object-detection/Traffic Dataset/images/test/Video11.mp4: 384x640 12 Cars, 4 Number Plates, 3 Trucks, 62.8ms\n",
      "video 263/278 (frame 713/1800) /kaggle/input/traffic-vehicles-object-detection/Traffic Dataset/images/test/Video11.mp4: 384x640 12 Cars, 5 Number Plates, 3 Trucks, 62.8ms\n",
      "video 263/278 (frame 714/1800) /kaggle/input/traffic-vehicles-object-detection/Traffic Dataset/images/test/Video11.mp4: 384x640 12 Cars, 4 Number Plates, 3 Trucks, 62.9ms\n",
      "video 263/278 (frame 715/1800) /kaggle/input/traffic-vehicles-object-detection/Traffic Dataset/images/test/Video11.mp4: 384x640 12 Cars, 4 Number Plates, 4 Trucks, 62.8ms\n",
      "video 263/278 (frame 716/1800) /kaggle/input/traffic-vehicles-object-detection/Traffic Dataset/images/test/Video11.mp4: 384x640 12 Cars, 4 Number Plates, 4 Trucks, 62.8ms\n",
      "video 263/278 (frame 717/1800) /kaggle/input/traffic-vehicles-object-detection/Traffic Dataset/images/test/Video11.mp4: 384x640 12 Cars, 4 Number Plates, 4 Trucks, 62.8ms\n",
      "video 263/278 (frame 718/1800) /kaggle/input/traffic-vehicles-object-detection/Traffic Dataset/images/test/Video11.mp4: 384x640 12 Cars, 4 Number Plates, 4 Trucks, 62.8ms\n",
      "video 263/278 (frame 719/1800) /kaggle/input/traffic-vehicles-object-detection/Traffic Dataset/images/test/Video11.mp4: 384x640 12 Cars, 5 Number Plates, 4 Trucks, 62.8ms\n",
      "video 263/278 (frame 720/1800) /kaggle/input/traffic-vehicles-object-detection/Traffic Dataset/images/test/Video11.mp4: 384x640 12 Cars, 5 Number Plates, 3 Trucks, 62.8ms\n",
      "video 263/278 (frame 721/1800) /kaggle/input/traffic-vehicles-object-detection/Traffic Dataset/images/test/Video11.mp4: 384x640 11 Cars, 3 Number Plates, 4 Trucks, 62.8ms\n",
      "video 263/278 (frame 722/1800) /kaggle/input/traffic-vehicles-object-detection/Traffic Dataset/images/test/Video11.mp4: 384x640 11 Cars, 3 Number Plates, 4 Trucks, 62.8ms\n",
      "video 263/278 (frame 723/1800) /kaggle/input/traffic-vehicles-object-detection/Traffic Dataset/images/test/Video11.mp4: 384x640 11 Cars, 3 Number Plates, 4 Trucks, 62.8ms\n",
      "video 263/278 (frame 724/1800) /kaggle/input/traffic-vehicles-object-detection/Traffic Dataset/images/test/Video11.mp4: 384x640 12 Cars, 4 Number Plates, 4 Trucks, 62.8ms\n",
      "video 263/278 (frame 725/1800) /kaggle/input/traffic-vehicles-object-detection/Traffic Dataset/images/test/Video11.mp4: 384x640 11 Cars, 4 Number Plates, 4 Trucks, 62.8ms\n",
      "video 263/278 (frame 726/1800) /kaggle/input/traffic-vehicles-object-detection/Traffic Dataset/images/test/Video11.mp4: 384x640 11 Cars, 3 Number Plates, 4 Trucks, 62.8ms\n",
      "video 263/278 (frame 727/1800) /kaggle/input/traffic-vehicles-object-detection/Traffic Dataset/images/test/Video11.mp4: 384x640 13 Cars, 3 Number Plates, 4 Trucks, 62.8ms\n",
      "video 263/278 (frame 728/1800) /kaggle/input/traffic-vehicles-object-detection/Traffic Dataset/images/test/Video11.mp4: 384x640 11 Cars, 3 Number Plates, 3 Trucks, 62.8ms\n",
      "video 263/278 (frame 729/1800) /kaggle/input/traffic-vehicles-object-detection/Traffic Dataset/images/test/Video11.mp4: 384x640 11 Cars, 3 Number Plates, 3 Trucks, 62.8ms\n",
      "video 263/278 (frame 730/1800) /kaggle/input/traffic-vehicles-object-detection/Traffic Dataset/images/test/Video11.mp4: 384x640 11 Cars, 3 Number Plates, 3 Trucks, 63.3ms\n",
      "video 263/278 (frame 731/1800) /kaggle/input/traffic-vehicles-object-detection/Traffic Dataset/images/test/Video11.mp4: 384x640 11 Cars, 3 Number Plates, 3 Trucks, 62.9ms\n",
      "video 263/278 (frame 732/1800) /kaggle/input/traffic-vehicles-object-detection/Traffic Dataset/images/test/Video11.mp4: 384x640 11 Cars, 3 Number Plates, 4 Trucks, 62.8ms\n",
      "video 263/278 (frame 733/1800) /kaggle/input/traffic-vehicles-object-detection/Traffic Dataset/images/test/Video11.mp4: 384x640 11 Cars, 3 Number Plates, 4 Trucks, 62.8ms\n",
      "video 263/278 (frame 734/1800) /kaggle/input/traffic-vehicles-object-detection/Traffic Dataset/images/test/Video11.mp4: 384x640 11 Cars, 3 Number Plates, 4 Trucks, 62.8ms\n",
      "video 263/278 (frame 735/1800) /kaggle/input/traffic-vehicles-object-detection/Traffic Dataset/images/test/Video11.mp4: 384x640 11 Cars, 3 Number Plates, 4 Trucks, 62.8ms\n",
      "video 263/278 (frame 736/1800) /kaggle/input/traffic-vehicles-object-detection/Traffic Dataset/images/test/Video11.mp4: 384x640 11 Cars, 3 Number Plates, 4 Trucks, 62.8ms\n",
      "video 263/278 (frame 737/1800) /kaggle/input/traffic-vehicles-object-detection/Traffic Dataset/images/test/Video11.mp4: 384x640 11 Cars, 3 Number Plates, 4 Trucks, 62.8ms\n",
      "video 263/278 (frame 738/1800) /kaggle/input/traffic-vehicles-object-detection/Traffic Dataset/images/test/Video11.mp4: 384x640 11 Cars, 3 Number Plates, 4 Trucks, 62.8ms\n",
      "video 263/278 (frame 739/1800) /kaggle/input/traffic-vehicles-object-detection/Traffic Dataset/images/test/Video11.mp4: 384x640 10 Cars, 3 Number Plates, 4 Trucks, 62.8ms\n",
      "video 263/278 (frame 740/1800) /kaggle/input/traffic-vehicles-object-detection/Traffic Dataset/images/test/Video11.mp4: 384x640 9 Cars, 3 Number Plates, 4 Trucks, 62.8ms\n",
      "video 263/278 (frame 741/1800) /kaggle/input/traffic-vehicles-object-detection/Traffic Dataset/images/test/Video11.mp4: 384x640 11 Cars, 3 Number Plates, 4 Trucks, 62.8ms\n",
      "video 263/278 (frame 742/1800) /kaggle/input/traffic-vehicles-object-detection/Traffic Dataset/images/test/Video11.mp4: 384x640 10 Cars, 3 Number Plates, 4 Trucks, 62.8ms\n",
      "video 263/278 (frame 743/1800) /kaggle/input/traffic-vehicles-object-detection/Traffic Dataset/images/test/Video11.mp4: 384x640 9 Cars, 3 Number Plates, 4 Trucks, 62.8ms\n",
      "video 263/278 (frame 744/1800) /kaggle/input/traffic-vehicles-object-detection/Traffic Dataset/images/test/Video11.mp4: 384x640 9 Cars, 3 Number Plates, 5 Trucks, 62.8ms\n",
      "video 263/278 (frame 745/1800) /kaggle/input/traffic-vehicles-object-detection/Traffic Dataset/images/test/Video11.mp4: 384x640 9 Cars, 2 Number Plates, 4 Trucks, 62.8ms\n",
      "video 263/278 (frame 746/1800) /kaggle/input/traffic-vehicles-object-detection/Traffic Dataset/images/test/Video11.mp4: 384x640 9 Cars, 2 Number Plates, 5 Trucks, 62.8ms\n",
      "video 263/278 (frame 747/1800) /kaggle/input/traffic-vehicles-object-detection/Traffic Dataset/images/test/Video11.mp4: 384x640 9 Cars, 4 Number Plates, 6 Trucks, 62.8ms\n",
      "video 263/278 (frame 748/1800) /kaggle/input/traffic-vehicles-object-detection/Traffic Dataset/images/test/Video11.mp4: 384x640 10 Cars, 4 Number Plates, 1 Blur Number Plate, 5 Trucks, 62.9ms\n",
      "video 263/278 (frame 749/1800) /kaggle/input/traffic-vehicles-object-detection/Traffic Dataset/images/test/Video11.mp4: 384x640 10 Cars, 4 Number Plates, 5 Trucks, 62.8ms\n",
      "video 263/278 (frame 750/1800) /kaggle/input/traffic-vehicles-object-detection/Traffic Dataset/images/test/Video11.mp4: 384x640 12 Cars, 4 Number Plates, 4 Trucks, 62.8ms\n",
      "video 263/278 (frame 751/1800) /kaggle/input/traffic-vehicles-object-detection/Traffic Dataset/images/test/Video11.mp4: 384x640 11 Cars, 3 Number Plates, 5 Trucks, 62.8ms\n",
      "video 263/278 (frame 752/1800) /kaggle/input/traffic-vehicles-object-detection/Traffic Dataset/images/test/Video11.mp4: 384x640 11 Cars, 3 Number Plates, 4 Trucks, 62.8ms\n",
      "video 263/278 (frame 753/1800) /kaggle/input/traffic-vehicles-object-detection/Traffic Dataset/images/test/Video11.mp4: 384x640 11 Cars, 4 Number Plates, 4 Trucks, 62.9ms\n",
      "video 263/278 (frame 754/1800) /kaggle/input/traffic-vehicles-object-detection/Traffic Dataset/images/test/Video11.mp4: 384x640 10 Cars, 3 Number Plates, 4 Trucks, 62.8ms\n",
      "video 263/278 (frame 755/1800) /kaggle/input/traffic-vehicles-object-detection/Traffic Dataset/images/test/Video11.mp4: 384x640 10 Cars, 4 Number Plates, 4 Trucks, 62.8ms\n",
      "video 263/278 (frame 756/1800) /kaggle/input/traffic-vehicles-object-detection/Traffic Dataset/images/test/Video11.mp4: 384x640 10 Cars, 4 Number Plates, 4 Trucks, 62.9ms\n",
      "video 263/278 (frame 757/1800) /kaggle/input/traffic-vehicles-object-detection/Traffic Dataset/images/test/Video11.mp4: 384x640 11 Cars, 3 Number Plates, 5 Trucks, 62.9ms\n",
      "video 263/278 (frame 758/1800) /kaggle/input/traffic-vehicles-object-detection/Traffic Dataset/images/test/Video11.mp4: 384x640 10 Cars, 4 Number Plates, 4 Trucks, 62.8ms\n",
      "video 263/278 (frame 759/1800) /kaggle/input/traffic-vehicles-object-detection/Traffic Dataset/images/test/Video11.mp4: 384x640 11 Cars, 4 Number Plates, 4 Trucks, 62.8ms\n",
      "video 263/278 (frame 760/1800) /kaggle/input/traffic-vehicles-object-detection/Traffic Dataset/images/test/Video11.mp4: 384x640 12 Cars, 4 Number Plates, 5 Trucks, 62.8ms\n",
      "video 263/278 (frame 761/1800) /kaggle/input/traffic-vehicles-object-detection/Traffic Dataset/images/test/Video11.mp4: 384x640 11 Cars, 4 Number Plates, 4 Trucks, 62.8ms\n",
      "video 263/278 (frame 762/1800) /kaggle/input/traffic-vehicles-object-detection/Traffic Dataset/images/test/Video11.mp4: 384x640 10 Cars, 4 Number Plates, 3 Trucks, 62.8ms\n",
      "video 263/278 (frame 763/1800) /kaggle/input/traffic-vehicles-object-detection/Traffic Dataset/images/test/Video11.mp4: 384x640 11 Cars, 4 Number Plates, 3 Trucks, 62.9ms\n",
      "video 263/278 (frame 764/1800) /kaggle/input/traffic-vehicles-object-detection/Traffic Dataset/images/test/Video11.mp4: 384x640 13 Cars, 4 Number Plates, 3 Trucks, 62.8ms\n",
      "video 263/278 (frame 765/1800) /kaggle/input/traffic-vehicles-object-detection/Traffic Dataset/images/test/Video11.mp4: 384x640 12 Cars, 3 Number Plates, 3 Trucks, 62.8ms\n",
      "video 263/278 (frame 766/1800) /kaggle/input/traffic-vehicles-object-detection/Traffic Dataset/images/test/Video11.mp4: 384x640 12 Cars, 3 Number Plates, 4 Trucks, 62.8ms\n",
      "video 263/278 (frame 767/1800) /kaggle/input/traffic-vehicles-object-detection/Traffic Dataset/images/test/Video11.mp4: 384x640 13 Cars, 3 Number Plates, 3 Trucks, 62.9ms\n",
      "video 263/278 (frame 768/1800) /kaggle/input/traffic-vehicles-object-detection/Traffic Dataset/images/test/Video11.mp4: 384x640 12 Cars, 3 Number Plates, 3 Trucks, 62.8ms\n",
      "video 263/278 (frame 769/1800) /kaggle/input/traffic-vehicles-object-detection/Traffic Dataset/images/test/Video11.mp4: 384x640 13 Cars, 3 Number Plates, 1 Blur Number Plate, 3 Trucks, 62.9ms\n",
      "video 263/278 (frame 770/1800) /kaggle/input/traffic-vehicles-object-detection/Traffic Dataset/images/test/Video11.mp4: 384x640 13 Cars, 2 Number Plates, 1 Blur Number Plate, 4 Trucks, 62.9ms\n",
      "video 263/278 (frame 771/1800) /kaggle/input/traffic-vehicles-object-detection/Traffic Dataset/images/test/Video11.mp4: 384x640 12 Cars, 3 Number Plates, 3 Trucks, 62.8ms\n",
      "video 263/278 (frame 772/1800) /kaggle/input/traffic-vehicles-object-detection/Traffic Dataset/images/test/Video11.mp4: 384x640 12 Cars, 3 Number Plates, 1 Blur Number Plate, 4 Trucks, 62.8ms\n",
      "video 263/278 (frame 773/1800) /kaggle/input/traffic-vehicles-object-detection/Traffic Dataset/images/test/Video11.mp4: 384x640 11 Cars, 2 Number Plates, 1 Blur Number Plate, 2 Trucks, 62.9ms\n",
      "video 263/278 (frame 774/1800) /kaggle/input/traffic-vehicles-object-detection/Traffic Dataset/images/test/Video11.mp4: 384x640 11 Cars, 3 Number Plates, 3 Trucks, 62.8ms\n",
      "video 263/278 (frame 775/1800) /kaggle/input/traffic-vehicles-object-detection/Traffic Dataset/images/test/Video11.mp4: 384x640 10 Cars, 2 Number Plates, 4 Trucks, 62.8ms\n",
      "video 263/278 (frame 776/1800) /kaggle/input/traffic-vehicles-object-detection/Traffic Dataset/images/test/Video11.mp4: 384x640 10 Cars, 2 Number Plates, 3 Trucks, 62.9ms\n",
      "video 263/278 (frame 777/1800) /kaggle/input/traffic-vehicles-object-detection/Traffic Dataset/images/test/Video11.mp4: 384x640 11 Cars, 2 Number Plates, 4 Trucks, 62.8ms\n",
      "video 263/278 (frame 778/1800) /kaggle/input/traffic-vehicles-object-detection/Traffic Dataset/images/test/Video11.mp4: 384x640 11 Cars, 3 Number Plates, 4 Trucks, 62.8ms\n",
      "video 263/278 (frame 779/1800) /kaggle/input/traffic-vehicles-object-detection/Traffic Dataset/images/test/Video11.mp4: 384x640 11 Cars, 3 Number Plates, 3 Trucks, 62.8ms\n",
      "video 263/278 (frame 780/1800) /kaggle/input/traffic-vehicles-object-detection/Traffic Dataset/images/test/Video11.mp4: 384x640 11 Cars, 4 Number Plates, 3 Trucks, 62.8ms\n",
      "video 263/278 (frame 781/1800) /kaggle/input/traffic-vehicles-object-detection/Traffic Dataset/images/test/Video11.mp4: 384x640 12 Cars, 4 Number Plates, 3 Trucks, 62.8ms\n",
      "video 263/278 (frame 782/1800) /kaggle/input/traffic-vehicles-object-detection/Traffic Dataset/images/test/Video11.mp4: 384x640 11 Cars, 3 Number Plates, 3 Trucks, 62.8ms\n",
      "video 263/278 (frame 783/1800) /kaggle/input/traffic-vehicles-object-detection/Traffic Dataset/images/test/Video11.mp4: 384x640 11 Cars, 3 Number Plates, 3 Trucks, 62.8ms\n",
      "video 263/278 (frame 784/1800) /kaggle/input/traffic-vehicles-object-detection/Traffic Dataset/images/test/Video11.mp4: 384x640 13 Cars, 3 Number Plates, 4 Trucks, 62.8ms\n",
      "video 263/278 (frame 785/1800) /kaggle/input/traffic-vehicles-object-detection/Traffic Dataset/images/test/Video11.mp4: 384x640 13 Cars, 2 Number Plates, 3 Trucks, 62.9ms\n",
      "video 263/278 (frame 786/1800) /kaggle/input/traffic-vehicles-object-detection/Traffic Dataset/images/test/Video11.mp4: 384x640 15 Cars, 2 Number Plates, 4 Trucks, 62.8ms\n",
      "video 263/278 (frame 787/1800) /kaggle/input/traffic-vehicles-object-detection/Traffic Dataset/images/test/Video11.mp4: 384x640 12 Cars, 2 Number Plates, 4 Trucks, 62.9ms\n",
      "video 263/278 (frame 788/1800) /kaggle/input/traffic-vehicles-object-detection/Traffic Dataset/images/test/Video11.mp4: 384x640 12 Cars, 3 Number Plates, 4 Trucks, 62.8ms\n",
      "video 263/278 (frame 789/1800) /kaggle/input/traffic-vehicles-object-detection/Traffic Dataset/images/test/Video11.mp4: 384x640 12 Cars, 3 Number Plates, 4 Trucks, 62.8ms\n",
      "video 263/278 (frame 790/1800) /kaggle/input/traffic-vehicles-object-detection/Traffic Dataset/images/test/Video11.mp4: 384x640 14 Cars, 3 Number Plates, 5 Trucks, 62.8ms\n",
      "video 263/278 (frame 791/1800) /kaggle/input/traffic-vehicles-object-detection/Traffic Dataset/images/test/Video11.mp4: 384x640 13 Cars, 3 Number Plates, 4 Trucks, 62.8ms\n",
      "video 263/278 (frame 792/1800) /kaggle/input/traffic-vehicles-object-detection/Traffic Dataset/images/test/Video11.mp4: 384x640 13 Cars, 4 Number Plates, 5 Trucks, 62.8ms\n",
      "video 263/278 (frame 793/1800) /kaggle/input/traffic-vehicles-object-detection/Traffic Dataset/images/test/Video11.mp4: 384x640 12 Cars, 4 Number Plates, 4 Trucks, 62.8ms\n",
      "video 263/278 (frame 794/1800) /kaggle/input/traffic-vehicles-object-detection/Traffic Dataset/images/test/Video11.mp4: 384x640 11 Cars, 4 Number Plates, 4 Trucks, 62.3ms\n",
      "video 263/278 (frame 795/1800) /kaggle/input/traffic-vehicles-object-detection/Traffic Dataset/images/test/Video11.mp4: 384x640 12 Cars, 4 Number Plates, 4 Trucks, 61.4ms\n",
      "video 263/278 (frame 796/1800) /kaggle/input/traffic-vehicles-object-detection/Traffic Dataset/images/test/Video11.mp4: 384x640 11 Cars, 4 Number Plates, 4 Trucks, 61.4ms\n",
      "video 263/278 (frame 797/1800) /kaggle/input/traffic-vehicles-object-detection/Traffic Dataset/images/test/Video11.mp4: 384x640 11 Cars, 3 Number Plates, 4 Trucks, 61.5ms\n",
      "video 263/278 (frame 798/1800) /kaggle/input/traffic-vehicles-object-detection/Traffic Dataset/images/test/Video11.mp4: 384x640 10 Cars, 4 Number Plates, 4 Trucks, 61.4ms\n",
      "video 263/278 (frame 799/1800) /kaggle/input/traffic-vehicles-object-detection/Traffic Dataset/images/test/Video11.mp4: 384x640 10 Cars, 3 Number Plates, 4 Trucks, 61.5ms\n",
      "video 263/278 (frame 800/1800) /kaggle/input/traffic-vehicles-object-detection/Traffic Dataset/images/test/Video11.mp4: 384x640 11 Cars, 3 Number Plates, 4 Trucks, 61.4ms\n",
      "video 263/278 (frame 801/1800) /kaggle/input/traffic-vehicles-object-detection/Traffic Dataset/images/test/Video11.mp4: 384x640 13 Cars, 4 Number Plates, 4 Trucks, 61.5ms\n",
      "video 263/278 (frame 802/1800) /kaggle/input/traffic-vehicles-object-detection/Traffic Dataset/images/test/Video11.mp4: 384x640 12 Cars, 4 Number Plates, 4 Trucks, 61.5ms\n",
      "video 263/278 (frame 803/1800) /kaggle/input/traffic-vehicles-object-detection/Traffic Dataset/images/test/Video11.mp4: 384x640 12 Cars, 4 Number Plates, 4 Trucks, 62.8ms\n",
      "video 263/278 (frame 804/1800) /kaggle/input/traffic-vehicles-object-detection/Traffic Dataset/images/test/Video11.mp4: 384x640 11 Cars, 4 Number Plates, 4 Trucks, 62.9ms\n",
      "video 263/278 (frame 805/1800) /kaggle/input/traffic-vehicles-object-detection/Traffic Dataset/images/test/Video11.mp4: 384x640 11 Cars, 4 Number Plates, 4 Trucks, 62.9ms\n",
      "video 263/278 (frame 806/1800) /kaggle/input/traffic-vehicles-object-detection/Traffic Dataset/images/test/Video11.mp4: 384x640 12 Cars, 4 Number Plates, 4 Trucks, 62.8ms\n",
      "video 263/278 (frame 807/1800) /kaggle/input/traffic-vehicles-object-detection/Traffic Dataset/images/test/Video11.mp4: 384x640 11 Cars, 4 Number Plates, 4 Trucks, 62.9ms\n",
      "video 263/278 (frame 808/1800) /kaggle/input/traffic-vehicles-object-detection/Traffic Dataset/images/test/Video11.mp4: 384x640 12 Cars, 4 Number Plates, 3 Trucks, 62.8ms\n",
      "video 263/278 (frame 809/1800) /kaggle/input/traffic-vehicles-object-detection/Traffic Dataset/images/test/Video11.mp4: 384x640 12 Cars, 4 Number Plates, 3 Trucks, 62.9ms\n",
      "video 263/278 (frame 810/1800) /kaggle/input/traffic-vehicles-object-detection/Traffic Dataset/images/test/Video11.mp4: 384x640 11 Cars, 4 Number Plates, 5 Trucks, 62.9ms\n",
      "video 263/278 (frame 811/1800) /kaggle/input/traffic-vehicles-object-detection/Traffic Dataset/images/test/Video11.mp4: 384x640 11 Cars, 4 Number Plates, 5 Trucks, 62.8ms\n",
      "video 263/278 (frame 812/1800) /kaggle/input/traffic-vehicles-object-detection/Traffic Dataset/images/test/Video11.mp4: 384x640 10 Cars, 4 Number Plates, 5 Trucks, 62.8ms\n",
      "video 263/278 (frame 813/1800) /kaggle/input/traffic-vehicles-object-detection/Traffic Dataset/images/test/Video11.mp4: 384x640 10 Cars, 4 Number Plates, 4 Trucks, 62.8ms\n",
      "video 263/278 (frame 814/1800) /kaggle/input/traffic-vehicles-object-detection/Traffic Dataset/images/test/Video11.mp4: 384x640 10 Cars, 4 Number Plates, 3 Trucks, 62.8ms\n",
      "video 263/278 (frame 815/1800) /kaggle/input/traffic-vehicles-object-detection/Traffic Dataset/images/test/Video11.mp4: 384x640 10 Cars, 3 Number Plates, 3 Trucks, 62.8ms\n",
      "video 263/278 (frame 816/1800) /kaggle/input/traffic-vehicles-object-detection/Traffic Dataset/images/test/Video11.mp4: 384x640 10 Cars, 4 Number Plates, 4 Trucks, 62.8ms\n",
      "video 263/278 (frame 817/1800) /kaggle/input/traffic-vehicles-object-detection/Traffic Dataset/images/test/Video11.mp4: 384x640 10 Cars, 4 Number Plates, 4 Trucks, 62.9ms\n",
      "video 263/278 (frame 818/1800) /kaggle/input/traffic-vehicles-object-detection/Traffic Dataset/images/test/Video11.mp4: 384x640 10 Cars, 4 Number Plates, 4 Trucks, 62.8ms\n",
      "video 263/278 (frame 819/1800) /kaggle/input/traffic-vehicles-object-detection/Traffic Dataset/images/test/Video11.mp4: 384x640 11 Cars, 4 Number Plates, 4 Trucks, 62.8ms\n",
      "video 263/278 (frame 820/1800) /kaggle/input/traffic-vehicles-object-detection/Traffic Dataset/images/test/Video11.mp4: 384x640 11 Cars, 4 Number Plates, 5 Trucks, 62.8ms\n",
      "video 263/278 (frame 821/1800) /kaggle/input/traffic-vehicles-object-detection/Traffic Dataset/images/test/Video11.mp4: 384x640 11 Cars, 4 Number Plates, 5 Trucks, 62.8ms\n",
      "video 263/278 (frame 822/1800) /kaggle/input/traffic-vehicles-object-detection/Traffic Dataset/images/test/Video11.mp4: 384x640 10 Cars, 4 Number Plates, 3 Trucks, 62.8ms\n",
      "video 263/278 (frame 823/1800) /kaggle/input/traffic-vehicles-object-detection/Traffic Dataset/images/test/Video11.mp4: 384x640 11 Cars, 4 Number Plates, 5 Trucks, 62.9ms\n",
      "video 263/278 (frame 824/1800) /kaggle/input/traffic-vehicles-object-detection/Traffic Dataset/images/test/Video11.mp4: 384x640 11 Cars, 4 Number Plates, 4 Trucks, 62.8ms\n",
      "video 263/278 (frame 825/1800) /kaggle/input/traffic-vehicles-object-detection/Traffic Dataset/images/test/Video11.mp4: 384x640 10 Cars, 3 Number Plates, 4 Trucks, 62.8ms\n",
      "video 263/278 (frame 826/1800) /kaggle/input/traffic-vehicles-object-detection/Traffic Dataset/images/test/Video11.mp4: 384x640 9 Cars, 3 Number Plates, 5 Trucks, 62.8ms\n",
      "video 263/278 (frame 827/1800) /kaggle/input/traffic-vehicles-object-detection/Traffic Dataset/images/test/Video11.mp4: 384x640 9 Cars, 3 Number Plates, 4 Trucks, 62.9ms\n",
      "video 263/278 (frame 828/1800) /kaggle/input/traffic-vehicles-object-detection/Traffic Dataset/images/test/Video11.mp4: 384x640 9 Cars, 3 Number Plates, 5 Trucks, 62.8ms\n",
      "video 263/278 (frame 829/1800) /kaggle/input/traffic-vehicles-object-detection/Traffic Dataset/images/test/Video11.mp4: 384x640 10 Cars, 3 Number Plates, 4 Trucks, 62.8ms\n",
      "video 263/278 (frame 830/1800) /kaggle/input/traffic-vehicles-object-detection/Traffic Dataset/images/test/Video11.mp4: 384x640 9 Cars, 3 Number Plates, 4 Trucks, 62.8ms\n",
      "video 263/278 (frame 831/1800) /kaggle/input/traffic-vehicles-object-detection/Traffic Dataset/images/test/Video11.mp4: 384x640 9 Cars, 4 Number Plates, 5 Trucks, 62.9ms\n",
      "video 263/278 (frame 832/1800) /kaggle/input/traffic-vehicles-object-detection/Traffic Dataset/images/test/Video11.mp4: 384x640 9 Cars, 4 Number Plates, 5 Trucks, 62.9ms\n",
      "video 263/278 (frame 833/1800) /kaggle/input/traffic-vehicles-object-detection/Traffic Dataset/images/test/Video11.mp4: 384x640 10 Cars, 4 Number Plates, 5 Trucks, 62.8ms\n",
      "video 263/278 (frame 834/1800) /kaggle/input/traffic-vehicles-object-detection/Traffic Dataset/images/test/Video11.mp4: 384x640 8 Cars, 4 Number Plates, 5 Trucks, 62.8ms\n",
      "video 263/278 (frame 835/1800) /kaggle/input/traffic-vehicles-object-detection/Traffic Dataset/images/test/Video11.mp4: 384x640 9 Cars, 4 Number Plates, 5 Trucks, 62.8ms\n",
      "video 263/278 (frame 836/1800) /kaggle/input/traffic-vehicles-object-detection/Traffic Dataset/images/test/Video11.mp4: 384x640 10 Cars, 4 Number Plates, 5 Trucks, 62.8ms\n",
      "video 263/278 (frame 837/1800) /kaggle/input/traffic-vehicles-object-detection/Traffic Dataset/images/test/Video11.mp4: 384x640 10 Cars, 4 Number Plates, 5 Trucks, 62.8ms\n",
      "video 263/278 (frame 838/1800) /kaggle/input/traffic-vehicles-object-detection/Traffic Dataset/images/test/Video11.mp4: 384x640 10 Cars, 4 Number Plates, 5 Trucks, 62.8ms\n",
      "video 263/278 (frame 839/1800) /kaggle/input/traffic-vehicles-object-detection/Traffic Dataset/images/test/Video11.mp4: 384x640 10 Cars, 4 Number Plates, 5 Trucks, 62.9ms\n",
      "video 263/278 (frame 840/1800) /kaggle/input/traffic-vehicles-object-detection/Traffic Dataset/images/test/Video11.mp4: 384x640 11 Cars, 4 Number Plates, 4 Trucks, 62.9ms\n",
      "video 263/278 (frame 841/1800) /kaggle/input/traffic-vehicles-object-detection/Traffic Dataset/images/test/Video11.mp4: 384x640 10 Cars, 4 Number Plates, 4 Trucks, 62.9ms\n",
      "video 263/278 (frame 842/1800) /kaggle/input/traffic-vehicles-object-detection/Traffic Dataset/images/test/Video11.mp4: 384x640 10 Cars, 4 Number Plates, 4 Trucks, 62.8ms\n",
      "video 263/278 (frame 843/1800) /kaggle/input/traffic-vehicles-object-detection/Traffic Dataset/images/test/Video11.mp4: 384x640 10 Cars, 4 Number Plates, 4 Trucks, 62.9ms\n",
      "video 263/278 (frame 844/1800) /kaggle/input/traffic-vehicles-object-detection/Traffic Dataset/images/test/Video11.mp4: 384x640 10 Cars, 4 Number Plates, 4 Trucks, 62.8ms\n",
      "video 263/278 (frame 845/1800) /kaggle/input/traffic-vehicles-object-detection/Traffic Dataset/images/test/Video11.mp4: 384x640 10 Cars, 4 Number Plates, 4 Trucks, 62.9ms\n",
      "video 263/278 (frame 846/1800) /kaggle/input/traffic-vehicles-object-detection/Traffic Dataset/images/test/Video11.mp4: 384x640 11 Cars, 4 Number Plates, 4 Trucks, 62.8ms\n",
      "video 263/278 (frame 847/1800) /kaggle/input/traffic-vehicles-object-detection/Traffic Dataset/images/test/Video11.mp4: 384x640 11 Cars, 3 Number Plates, 4 Trucks, 62.8ms\n",
      "video 263/278 (frame 848/1800) /kaggle/input/traffic-vehicles-object-detection/Traffic Dataset/images/test/Video11.mp4: 384x640 11 Cars, 3 Number Plates, 4 Trucks, 62.8ms\n",
      "video 263/278 (frame 849/1800) /kaggle/input/traffic-vehicles-object-detection/Traffic Dataset/images/test/Video11.mp4: 384x640 11 Cars, 4 Number Plates, 4 Trucks, 62.8ms\n",
      "video 263/278 (frame 850/1800) /kaggle/input/traffic-vehicles-object-detection/Traffic Dataset/images/test/Video11.mp4: 384x640 10 Cars, 4 Number Plates, 4 Trucks, 62.8ms\n",
      "video 263/278 (frame 851/1800) /kaggle/input/traffic-vehicles-object-detection/Traffic Dataset/images/test/Video11.mp4: 384x640 10 Cars, 4 Number Plates, 4 Trucks, 62.9ms\n",
      "video 263/278 (frame 852/1800) /kaggle/input/traffic-vehicles-object-detection/Traffic Dataset/images/test/Video11.mp4: 384x640 10 Cars, 3 Number Plates, 4 Trucks, 62.8ms\n",
      "video 263/278 (frame 853/1800) /kaggle/input/traffic-vehicles-object-detection/Traffic Dataset/images/test/Video11.mp4: 384x640 11 Cars, 4 Number Plates, 4 Trucks, 62.8ms\n",
      "video 263/278 (frame 854/1800) /kaggle/input/traffic-vehicles-object-detection/Traffic Dataset/images/test/Video11.mp4: 384x640 11 Cars, 4 Number Plates, 4 Trucks, 62.9ms\n",
      "video 263/278 (frame 855/1800) /kaggle/input/traffic-vehicles-object-detection/Traffic Dataset/images/test/Video11.mp4: 384x640 11 Cars, 4 Number Plates, 4 Trucks, 62.8ms\n",
      "video 263/278 (frame 856/1800) /kaggle/input/traffic-vehicles-object-detection/Traffic Dataset/images/test/Video11.mp4: 384x640 11 Cars, 4 Number Plates, 4 Trucks, 62.9ms\n",
      "video 263/278 (frame 857/1800) /kaggle/input/traffic-vehicles-object-detection/Traffic Dataset/images/test/Video11.mp4: 384x640 11 Cars, 4 Number Plates, 4 Trucks, 62.8ms\n",
      "video 263/278 (frame 858/1800) /kaggle/input/traffic-vehicles-object-detection/Traffic Dataset/images/test/Video11.mp4: 384x640 12 Cars, 4 Number Plates, 4 Trucks, 62.8ms\n",
      "video 263/278 (frame 859/1800) /kaggle/input/traffic-vehicles-object-detection/Traffic Dataset/images/test/Video11.mp4: 384x640 11 Cars, 4 Number Plates, 4 Trucks, 62.8ms\n",
      "video 263/278 (frame 860/1800) /kaggle/input/traffic-vehicles-object-detection/Traffic Dataset/images/test/Video11.mp4: 384x640 11 Cars, 4 Number Plates, 5 Trucks, 62.9ms\n",
      "video 263/278 (frame 861/1800) /kaggle/input/traffic-vehicles-object-detection/Traffic Dataset/images/test/Video11.mp4: 384x640 10 Cars, 3 Number Plates, 5 Trucks, 62.8ms\n",
      "video 263/278 (frame 862/1800) /kaggle/input/traffic-vehicles-object-detection/Traffic Dataset/images/test/Video11.mp4: 384x640 11 Cars, 2 Number Plates, 4 Trucks, 62.8ms\n",
      "video 263/278 (frame 863/1800) /kaggle/input/traffic-vehicles-object-detection/Traffic Dataset/images/test/Video11.mp4: 384x640 10 Cars, 3 Number Plates, 5 Trucks, 62.8ms\n",
      "video 263/278 (frame 864/1800) /kaggle/input/traffic-vehicles-object-detection/Traffic Dataset/images/test/Video11.mp4: 384x640 11 Cars, 4 Number Plates, 6 Trucks, 62.9ms\n",
      "video 263/278 (frame 865/1800) /kaggle/input/traffic-vehicles-object-detection/Traffic Dataset/images/test/Video11.mp4: 384x640 10 Cars, 4 Number Plates, 6 Trucks, 62.8ms\n",
      "video 263/278 (frame 866/1800) /kaggle/input/traffic-vehicles-object-detection/Traffic Dataset/images/test/Video11.mp4: 384x640 11 Cars, 4 Number Plates, 6 Trucks, 62.8ms\n",
      "video 263/278 (frame 867/1800) /kaggle/input/traffic-vehicles-object-detection/Traffic Dataset/images/test/Video11.mp4: 384x640 11 Cars, 4 Number Plates, 4 Trucks, 62.8ms\n",
      "video 263/278 (frame 868/1800) /kaggle/input/traffic-vehicles-object-detection/Traffic Dataset/images/test/Video11.mp4: 384x640 11 Cars, 4 Number Plates, 6 Trucks, 62.9ms\n",
      "video 263/278 (frame 869/1800) /kaggle/input/traffic-vehicles-object-detection/Traffic Dataset/images/test/Video11.mp4: 384x640 12 Cars, 4 Number Plates, 6 Trucks, 62.8ms\n",
      "video 263/278 (frame 870/1800) /kaggle/input/traffic-vehicles-object-detection/Traffic Dataset/images/test/Video11.mp4: 384x640 12 Cars, 3 Number Plates, 6 Trucks, 62.8ms\n",
      "video 263/278 (frame 871/1800) /kaggle/input/traffic-vehicles-object-detection/Traffic Dataset/images/test/Video11.mp4: 384x640 12 Cars, 3 Number Plates, 6 Trucks, 62.9ms\n",
      "video 263/278 (frame 872/1800) /kaggle/input/traffic-vehicles-object-detection/Traffic Dataset/images/test/Video11.mp4: 384x640 13 Cars, 4 Number Plates, 6 Trucks, 62.9ms\n",
      "video 263/278 (frame 873/1800) /kaggle/input/traffic-vehicles-object-detection/Traffic Dataset/images/test/Video11.mp4: 384x640 11 Cars, 3 Number Plates, 5 Trucks, 62.8ms\n",
      "video 263/278 (frame 874/1800) /kaggle/input/traffic-vehicles-object-detection/Traffic Dataset/images/test/Video11.mp4: 384x640 11 Cars, 3 Number Plates, 6 Trucks, 62.8ms\n",
      "video 263/278 (frame 875/1800) /kaggle/input/traffic-vehicles-object-detection/Traffic Dataset/images/test/Video11.mp4: 384x640 11 Cars, 3 Number Plates, 6 Trucks, 62.8ms\n",
      "video 263/278 (frame 876/1800) /kaggle/input/traffic-vehicles-object-detection/Traffic Dataset/images/test/Video11.mp4: 384x640 11 Cars, 3 Number Plates, 5 Trucks, 62.8ms\n",
      "video 263/278 (frame 877/1800) /kaggle/input/traffic-vehicles-object-detection/Traffic Dataset/images/test/Video11.mp4: 384x640 12 Cars, 3 Number Plates, 5 Trucks, 62.8ms\n",
      "video 263/278 (frame 878/1800) /kaggle/input/traffic-vehicles-object-detection/Traffic Dataset/images/test/Video11.mp4: 384x640 12 Cars, 3 Number Plates, 5 Trucks, 62.9ms\n",
      "video 263/278 (frame 879/1800) /kaggle/input/traffic-vehicles-object-detection/Traffic Dataset/images/test/Video11.mp4: 384x640 11 Cars, 3 Number Plates, 6 Trucks, 62.8ms\n",
      "video 263/278 (frame 880/1800) /kaggle/input/traffic-vehicles-object-detection/Traffic Dataset/images/test/Video11.mp4: 384x640 11 Cars, 3 Number Plates, 6 Trucks, 62.8ms\n",
      "video 263/278 (frame 881/1800) /kaggle/input/traffic-vehicles-object-detection/Traffic Dataset/images/test/Video11.mp4: 384x640 12 Cars, 3 Number Plates, 6 Trucks, 62.8ms\n",
      "video 263/278 (frame 882/1800) /kaggle/input/traffic-vehicles-object-detection/Traffic Dataset/images/test/Video11.mp4: 384x640 11 Cars, 3 Number Plates, 6 Trucks, 62.8ms\n",
      "video 263/278 (frame 883/1800) /kaggle/input/traffic-vehicles-object-detection/Traffic Dataset/images/test/Video11.mp4: 384x640 11 Cars, 3 Number Plates, 6 Trucks, 62.8ms\n",
      "video 263/278 (frame 884/1800) /kaggle/input/traffic-vehicles-object-detection/Traffic Dataset/images/test/Video11.mp4: 384x640 11 Cars, 3 Number Plates, 6 Trucks, 62.8ms\n",
      "video 263/278 (frame 885/1800) /kaggle/input/traffic-vehicles-object-detection/Traffic Dataset/images/test/Video11.mp4: 384x640 11 Cars, 3 Number Plates, 6 Trucks, 62.8ms\n",
      "video 263/278 (frame 886/1800) /kaggle/input/traffic-vehicles-object-detection/Traffic Dataset/images/test/Video11.mp4: 384x640 9 Cars, 3 Number Plates, 6 Trucks, 62.8ms\n",
      "video 263/278 (frame 887/1800) /kaggle/input/traffic-vehicles-object-detection/Traffic Dataset/images/test/Video11.mp4: 384x640 10 Cars, 3 Number Plates, 6 Trucks, 62.9ms\n",
      "video 263/278 (frame 888/1800) /kaggle/input/traffic-vehicles-object-detection/Traffic Dataset/images/test/Video11.mp4: 384x640 12 Cars, 3 Number Plates, 6 Trucks, 62.8ms\n",
      "video 263/278 (frame 889/1800) /kaggle/input/traffic-vehicles-object-detection/Traffic Dataset/images/test/Video11.mp4: 384x640 13 Cars, 3 Number Plates, 8 Trucks, 62.8ms\n",
      "video 263/278 (frame 890/1800) /kaggle/input/traffic-vehicles-object-detection/Traffic Dataset/images/test/Video11.mp4: 384x640 14 Cars, 3 Number Plates, 7 Trucks, 62.9ms\n",
      "video 263/278 (frame 891/1800) /kaggle/input/traffic-vehicles-object-detection/Traffic Dataset/images/test/Video11.mp4: 384x640 14 Cars, 3 Number Plates, 7 Trucks, 62.8ms\n",
      "video 263/278 (frame 892/1800) /kaggle/input/traffic-vehicles-object-detection/Traffic Dataset/images/test/Video11.mp4: 384x640 13 Cars, 3 Number Plates, 5 Trucks, 62.8ms\n",
      "video 263/278 (frame 893/1800) /kaggle/input/traffic-vehicles-object-detection/Traffic Dataset/images/test/Video11.mp4: 384x640 12 Cars, 3 Number Plates, 6 Trucks, 62.8ms\n",
      "video 263/278 (frame 894/1800) /kaggle/input/traffic-vehicles-object-detection/Traffic Dataset/images/test/Video11.mp4: 384x640 13 Cars, 2 Number Plates, 5 Trucks, 62.9ms\n",
      "video 263/278 (frame 895/1800) /kaggle/input/traffic-vehicles-object-detection/Traffic Dataset/images/test/Video11.mp4: 384x640 11 Cars, 3 Number Plates, 5 Trucks, 62.8ms\n",
      "video 263/278 (frame 896/1800) /kaggle/input/traffic-vehicles-object-detection/Traffic Dataset/images/test/Video11.mp4: 384x640 11 Cars, 3 Number Plates, 5 Trucks, 62.8ms\n"
     ]
    }
   ],
   "source": [
    "from ultralytics import YOLO\n",
    "\n",
    "# Path to your trained model\n",
    "model_path = '/kaggle/working/runs/train/exp/weights/best.pt'\n",
    "\n",
    "# Path to your test dataset (only images)\n",
    "test_images_path = '/kaggle/input/traffic-vehicles-object-detection/Traffic Dataset/images/test'\n",
    "\n",
    "# Load the trained YOLOv8 model\n",
    "model = YOLO(model_path)\n",
    "\n",
    "# Perform predictions on the test dataset\n",
    "results = model.predict(source=test_images_path, save=True, conf=0.25)\n",
    "\n",
    "# Display the results\n",
    "print(\"Testing complete. Results saved to:\", results.save_dir)\n"
   ]
  },
  {
   "cell_type": "code",
   "execution_count": 3,
   "metadata": {
    "editable": false,
    "execution": {
     "iopub.execute_input": "2024-12-01T20:33:28.420388Z",
     "iopub.status.busy": "2024-12-01T20:33:28.419754Z",
     "iopub.status.idle": "2024-12-01T20:33:29.469556Z",
     "shell.execute_reply": "2024-12-01T20:33:29.468699Z",
     "shell.execute_reply.started": "2024-12-01T20:33:28.420347Z"
    },
    "trusted": true
   },
   "outputs": [],
   "source": [
    "from ultralytics import YOLO\n",
    "\n",
    "# Load the best.pt model\n",
    "model = YOLO('/kaggle/working/runs/train/exp/weights/best.pt')  # Replace with the path to your best.pt file\n"
   ]
  },
  {
   "cell_type": "code",
   "execution_count": 4,
   "metadata": {
    "editable": false,
    "execution": {
     "iopub.execute_input": "2024-12-01T20:33:50.678606Z",
     "iopub.status.busy": "2024-12-01T20:33:50.678237Z",
     "iopub.status.idle": "2024-12-01T20:34:10.861243Z",
     "shell.execute_reply": "2024-12-01T20:34:10.860240Z",
     "shell.execute_reply.started": "2024-12-01T20:33:50.678573Z"
    },
    "trusted": true
   },
   "outputs": [
    {
     "name": "stdout",
     "output_type": "stream",
     "text": [
      "Ultralytics 8.3.39 🚀 Python-3.10.14 torch-2.4.0 CUDA:0 (Tesla T4, 15095MiB)\n",
      "Model summary (fused): 268 layers, 68,130,309 parameters, 0 gradients, 257.4 GFLOPs\n"
     ]
    },
    {
     "name": "stderr",
     "output_type": "stream",
     "text": [
      "\u001b[34m\u001b[1mval: \u001b[0mScanning /kaggle/input/traffic-vehicles-object-detection/Traffic Dataset/labels/val... 185 images, 1 backgrounds, 0 corrupt: 100%|██████████| 185/185 [00:01<00:00, 147.65it/s]\n"
     ]
    },
    {
     "name": "stdout",
     "output_type": "stream",
     "text": [
      "\u001b[34m\u001b[1mval: \u001b[0mWARNING ⚠️ Cache directory /kaggle/input/traffic-vehicles-object-detection/Traffic Dataset/labels is not writeable, cache not saved.\n"
     ]
    },
    {
     "name": "stderr",
     "output_type": "stream",
     "text": [
      "                 Class     Images  Instances      Box(P          R      mAP50  mAP50-95): 100%|██████████| 12/12 [00:09<00:00,  1.29it/s]\n"
     ]
    },
    {
     "name": "stdout",
     "output_type": "stream",
     "text": [
      "                   all        185       1980      0.805      0.742      0.818       0.57\n",
      "                   Car        159       1061      0.885      0.911      0.942      0.793\n",
      "          Number Plate        104        174      0.729      0.862       0.87      0.561\n",
      "     Blur Number Plate         80        161      0.864      0.478      0.708      0.385\n",
      "           Two Wheeler         88        271      0.846      0.811      0.892       0.63\n",
      "                  Auto         44         94      0.697      0.691      0.698      0.383\n",
      "                   Bus         93        110      0.772      0.755      0.835      0.614\n",
      "                 Truck         55        109      0.842      0.685      0.781      0.625\n",
      "Speed: 0.9ms preprocess, 41.1ms inference, 0.0ms loss, 2.2ms postprocess per image\n",
      "Results saved to \u001b[1mruns/detect/val\u001b[0m\n"
     ]
    }
   ],
   "source": [
    "# Assuming you have a validation dataset in the YOLO format\n",
    "results = model.val(data='/kaggle/working/dataset.yaml')  # Use the path to your data.yaml file\n"
   ]
  },
  {
   "cell_type": "code",
   "execution_count": 7,
   "metadata": {
    "editable": false,
    "execution": {
     "iopub.execute_input": "2024-12-01T20:35:41.123769Z",
     "iopub.status.busy": "2024-12-01T20:35:41.123381Z",
     "iopub.status.idle": "2024-12-01T20:35:41.128516Z",
     "shell.execute_reply": "2024-12-01T20:35:41.127620Z",
     "shell.execute_reply.started": "2024-12-01T20:35:41.123737Z"
    },
    "trusted": true
   },
   "outputs": [
    {
     "name": "stdout",
     "output_type": "stream",
     "text": [
      "dict_keys(['metrics/precision(B)', 'metrics/recall(B)', 'metrics/mAP50(B)', 'metrics/mAP50-95(B)', 'fitness'])\n"
     ]
    }
   ],
   "source": [
    "# Check the available keys in results_dict\n",
    "print(results_dict.keys())\n"
   ]
  },
  {
   "cell_type": "code",
   "execution_count": 14,
   "metadata": {
    "editable": false,
    "execution": {
     "iopub.execute_input": "2024-12-01T20:46:59.819985Z",
     "iopub.status.busy": "2024-12-01T20:46:59.819588Z",
     "iopub.status.idle": "2024-12-01T20:46:59.828122Z",
     "shell.execute_reply": "2024-12-01T20:46:59.827105Z",
     "shell.execute_reply.started": "2024-12-01T20:46:59.819952Z"
    },
    "trusted": true
   },
   "outputs": [],
   "source": [
    "import pandas as pd\n",
    "data=pd.read_csv(\"/kaggle/working/runs/train/exp/results.csv\")"
   ]
  },
  {
   "cell_type": "code",
   "execution_count": 15,
   "metadata": {
    "editable": false,
    "execution": {
     "iopub.execute_input": "2024-12-01T20:47:06.605383Z",
     "iopub.status.busy": "2024-12-01T20:47:06.604524Z",
     "iopub.status.idle": "2024-12-01T20:47:06.611822Z",
     "shell.execute_reply": "2024-12-01T20:47:06.610924Z",
     "shell.execute_reply.started": "2024-12-01T20:47:06.605347Z"
    },
    "trusted": true
   },
   "outputs": [
    {
     "data": {
      "text/plain": [
       "Index(['epoch', 'time', 'train/box_loss', 'train/cls_loss', 'train/dfl_loss',\n",
       "       'metrics/precision(B)', 'metrics/recall(B)', 'metrics/mAP50(B)',\n",
       "       'metrics/mAP50-95(B)', 'val/box_loss', 'val/cls_loss', 'val/dfl_loss',\n",
       "       'lr/pg0', 'lr/pg1', 'lr/pg2'],\n",
       "      dtype='object')"
      ]
     },
     "execution_count": 15,
     "metadata": {},
     "output_type": "execute_result"
    }
   ],
   "source": [
    "data.columns"
   ]
  },
  {
   "cell_type": "code",
   "execution_count": 16,
   "metadata": {
    "editable": false,
    "execution": {
     "iopub.execute_input": "2024-12-01T20:48:35.301559Z",
     "iopub.status.busy": "2024-12-01T20:48:35.300881Z",
     "iopub.status.idle": "2024-12-01T20:48:37.113807Z",
     "shell.execute_reply": "2024-12-01T20:48:37.112965Z",
     "shell.execute_reply.started": "2024-12-01T20:48:35.301520Z"
    },
    "trusted": true
   },
   "outputs": [
    {
     "data": {
      "image/png": "[encoded data removed]",
      "text/plain": [
       "<Figure size 2000x800 with 10 Axes>"
      ]
     },
     "metadata": {},
     "output_type": "display_data"
    }
   ],
   "source": [
    "import pandas as pd\n",
    "import matplotlib.pyplot as plt\n",
    "\n",
    "# Replace with the path to your results.csv file\n",
    "file_path = \"/kaggle/working/runs/train/exp/results.csv\"  # Update with the actual path\n",
    "\n",
    "# Load the results data\n",
    "data = pd.read_csv(file_path)\n",
    "\n",
    "# Extract data for plotting\n",
    "epochs = data['epoch']\n",
    "precision = data['metrics/precision(B)']\n",
    "recall = data['metrics/recall(B)']\n",
    "map50 = data['metrics/mAP50(B)']\n",
    "map50_95 = data['metrics/mAP50-95(B)']\n",
    "train_box_loss = data['train/box_loss']\n",
    "train_cls_loss = data['train/cls_loss']\n",
    "train_dfl_loss = data['train/dfl_loss']\n",
    "val_box_loss = data['val/box_loss']\n",
    "val_cls_loss = data['val/cls_loss']\n",
    "val_dfl_loss = data['val/dfl_loss']\n",
    "\n",
    "# Plotting the graphs\n",
    "fig, axes = plt.subplots(2, 5, figsize=(20, 8))\n",
    "axes = axes.flatten()\n",
    "\n",
    "# Row 1: Training metrics\n",
    "axes[0].plot(epochs, train_box_loss, label='results', marker='o')\n",
    "axes[0].set_title(\"train/box_loss\")\n",
    "\n",
    "axes[1].plot(epochs, train_cls_loss, label='results', marker='o')\n",
    "axes[1].set_title(\"train/cls_loss\")\n",
    "\n",
    "axes[2].plot(epochs, train_dfl_loss, label='results', marker='o')\n",
    "axes[2].set_title(\"train/dfl_loss\")\n",
    "\n",
    "axes[3].plot(epochs, precision, label='results', marker='o')\n",
    "axes[3].set_title(\"metrics/precision(B)\")\n",
    "\n",
    "axes[4].plot(epochs, recall, label='results', marker='o')\n",
    "axes[4].set_title(\"metrics/recall(B)\")\n",
    "\n",
    "# Row 2: Validation metrics\n",
    "axes[5].plot(epochs, val_box_loss, label='results', marker='o')\n",
    "axes[5].set_title(\"val/box_loss\")\n",
    "\n",
    "axes[6].plot(epochs, val_cls_loss, label='results', marker='o')\n",
    "axes[6].set_title(\"val/cls_loss\")\n",
    "\n",
    "axes[7].plot(epochs, val_dfl_loss, label='results', marker='o')\n",
    "axes[7].set_title(\"val/dfl_loss\")\n",
    "\n",
    "axes[8].plot(epochs, map50, label='results', marker='o')\n",
    "axes[8].set_title(\"metrics/mAP50(B)\")\n",
    "\n",
    "axes[9].plot(epochs, map50_95, label='results', marker='o')\n",
    "axes[9].set_title(\"metrics/mAP50-95(B)\")\n",
    "\n",
    "# Adjustments\n",
    "for ax in axes:\n",
    "    ax.set_xlabel(\"Epoch\")\n",
    "    ax.set_ylabel(\"Value\")\n",
    "    ax.grid()\n",
    "    ax.legend()\n",
    "\n",
    "plt.tight_layout()\n",
    "plt.show()\n"
   ]
  },
  {
   "cell_type": "code",
   "execution_count": 3,
   "metadata": {
    "editable": false,
    "execution": {
     "iopub.execute_input": "2024-12-02T07:32:04.146447Z",
     "iopub.status.busy": "2024-12-02T07:32:04.145622Z",
     "iopub.status.idle": "2024-12-02T07:32:09.527572Z",
     "shell.execute_reply": "2024-12-02T07:32:09.526863Z",
     "shell.execute_reply.started": "2024-12-02T07:32:04.146401Z"
    },
    "trusted": true
   },
   "outputs": [
    {
     "name": "stdout",
     "output_type": "stream",
     "text": [
      "Creating new Ultralytics Settings v0.0.6 file ✅ \n",
      "View Ultralytics Settings with 'yolo settings' or at '/root/.config/Ultralytics/settings.json'\n",
      "Update Settings with 'yolo settings key=value', i.e. 'yolo settings runs_dir=path/to/dir'. For help see https://docs.ultralytics.com/quickstart/#ultralytics-settings.\n"
     ]
    }
   ],
   "source": [
    "from ultralytics import YOLO\n",
    "\n",
    "# Path to your YOLO model file (e.g., a trained .pt model)\n",
    "model_path = \"/kaggle/input/results/best (2).pt\"\n",
    "\n",
    "# Load the YOLO model\n",
    "model = YOLO(model_path)\n",
    "\n"
   ]
  },
  {
   "cell_type": "code",
   "execution_count": 8,
   "metadata": {
    "editable": false,
    "execution": {
     "iopub.execute_input": "2024-12-06T03:51:24.012486Z",
     "iopub.status.busy": "2024-12-06T03:51:24.011653Z",
     "iopub.status.idle": "2024-12-06T03:51:24.738110Z",
     "shell.execute_reply": "2024-12-06T03:51:24.737265Z",
     "shell.execute_reply.started": "2024-12-06T03:51:24.012451Z"
    },
    "trusted": true
   },
   "outputs": [
    {
     "data": {
      "image/png": "[encoded data removed]",
      "text/plain": [
       "<Figure size 2000x1000 with 3 Axes>"
      ]
     },
     "metadata": {},
     "output_type": "display_data"
    }
   ],
   "source": [
    "import pandas as pd\n",
    "import matplotlib.pyplot as plt\n",
    "\n",
    "# Load results\n",
    "results = pd.read_csv('/kaggle/input/results/results.csv')\n",
    "\n",
    "# Strip whitespace from column names\n",
    "results.columns = results.columns.str.strip()\n",
    "\n",
    "# Plotting\n",
    "plt.figure(figsize=(20, 10))\n",
    "\n",
    "# Subplot 1: mAP@0.5 over epochs\n",
    "plt.subplot(2, 3, 1)\n",
    "plt.plot(results['epoch'], results['metrics/mAP50(B)'], label='mAP@0.5', color='blue')\n",
    "plt.xlabel('Epoch')\n",
    "plt.ylabel('mAP@0.5')\n",
    "plt.title('mAP@0.5 over Epochs')\n",
    "plt.legend()\n",
    "\n",
    "# Subplot 2: Training and Validation Box Loss\n",
    "plt.subplot(2, 3, 2)\n",
    "plt.plot(results['epoch'], results['train/box_loss'], label='Train Box Loss', color='orange')\n",
    "plt.plot(results['epoch'], results['val/box_loss'], label='Val Box Loss', linestyle='--', color='red')\n",
    "plt.xlabel('Epoch')\n",
    "plt.ylabel('Box Loss')\n",
    "plt.title('Box Loss over Epochs')\n",
    "plt.legend()\n",
    "\n",
    "# Subplot 3: Training and Validation Object Loss\n",
    "plt.subplot(2, 3, 3)\n",
    "plt.plot(results['epoch'], results['train/cls_loss'], label='Train Class Loss', color='green')\n",
    "plt.plot(results['epoch'], results['val/cls_loss'], label='Val Class Loss', linestyle='--', color='purple')\n",
    "plt.xlabel('Epoch')\n",
    "plt.ylabel('Class Loss')\n",
    "plt.title('Class Loss over Epochs')\n",
    "plt.legend()\n",
    "\n",
    "# Show the plots\n",
    "plt.tight_layout()\n",
    "plt.show()\n"
   ]
  },
  {
   "cell_type": "code",
   "execution_count": 5,
   "metadata": {
    "editable": false,
    "execution": {
     "iopub.execute_input": "2024-12-07T06:04:58.485996Z",
     "iopub.status.busy": "2024-12-07T06:04:58.485187Z",
     "iopub.status.idle": "2024-12-07T06:04:58.718654Z",
     "shell.execute_reply": "2024-12-07T06:04:58.717803Z",
     "shell.execute_reply.started": "2024-12-07T06:04:58.485963Z"
    },
    "trusted": true
   },
   "outputs": [
    {
     "data": {
      "image/png": "[encoded data removed]",
      "text/plain": [
       "<Figure size 1000x600 with 1 Axes>"
      ]
     },
     "metadata": {},
     "output_type": "display_data"
    }
   ],
   "source": [
    "import pandas as pd\n",
    "import matplotlib.pyplot as plt\n",
    "\n",
    "# Load the results.csv file\n",
    "df = pd.read_csv(\"/kaggle/input/results/results.csv\")\n",
    "\n",
    "# Plot mAP metrics\n",
    "plt.figure(figsize=(10, 6))\n",
    "plt.plot(df['epoch'], df['metrics/mAP50(B)'], label='mAP@50')\n",
    "plt.plot(df['epoch'], df['metrics/mAP50-95(B)'], label='mAP@50-95')\n",
    "plt.title('Model Performance (mAP) Over Epochs')\n",
    "plt.xlabel('Epoch')\n",
    "plt.ylabel('mAP')\n",
    "plt.legend()\n",
    "plt.grid(True)\n",
    "plt.show()"
   ]
  },
  {
   "cell_type": "code",
   "execution_count": 4,
   "metadata": {
    "editable": false,
    "trusted": true
   },
   "outputs": [
    {
     "name": "stdout",
     "output_type": "stream",
     "text": [
      "Index(['epoch', 'time', 'train/box_loss', 'train/cls_loss', 'train/dfl_loss',\n",
      "       'metrics/precision(B)', 'metrics/recall(B)', 'metrics/mAP50(B)',\n",
      "       'metrics/mAP50-95(B)', 'val/box_loss', 'val/cls_loss', 'val/dfl_loss',\n",
      "       'lr/pg0', 'lr/pg1', 'lr/pg2'],\n",
      "      dtype='object')\n"
     ]
    }
   ],
   "source": [
    "import pandas as pd\n",
    "import matplotlib.pyplot as plt\n",
    "# Load the results.csv file\n",
    "df = pd.read_csv('results.csv')\n",
    "\n",
    "# Check available columns\n",
    "print(df.columns)\n"
   ]
  },
  {
   "cell_type": "code",
   "execution_count": 5,
   "metadata": {
    "editable": false,
    "trusted": true
   },
   "outputs": [
    {
     "name": "stdout",
     "output_type": "stream",
     "text": [
      "Simulated Average Precision (mAP): 0.818\n"
     ]
    }
   ],
   "source": [
    "import numpy as np\n",
    "\n",
    "# Simulate recall values (0 to 1)\n",
    "recall = np.linspace(0, 1, 100)\n",
    "\n",
    "# Simulate precision values based on high mAP\n",
    "average_precision = df['metrics/mAP50(B)'].max()  # Take the highest mAP value\n",
    "precision = 1 - (1 - average_precision) * recall**2  # Simulate a curve\n",
    "\n",
    "# Print the simulated mAP\n",
    "print(f\"Simulated Average Precision (mAP): {average_precision:.3f}\")\n"
   ]
  },
  {
   "cell_type": "code",
   "execution_count": 6,
   "metadata": {
    "editable": false,
    "trusted": true
   },
   "outputs": [
    {
     "data": {
      "image/png": "[encoded data removed]",
      "text/plain": [
       "<Figure size 800x600 with 1 Axes>"
      ]
     },
     "metadata": {},
     "output_type": "display_data"
    }
   ],
   "source": [
    "# Plot the Precision-Recall Curve\n",
    "plt.figure(figsize=(8, 6))\n",
    "plt.plot(recall, precision, label=f'AP = {average_precision:.3f}', color='blue', linewidth=2)\n",
    "\n",
    "# Add labels, title, and legend\n",
    "plt.title('Precision-Recall Curve', fontsize=16)\n",
    "plt.xlabel('Recall', fontsize=14)\n",
    "plt.ylabel('Precision', fontsize=14)\n",
    "plt.legend(fontsize=12)\n",
    "plt.grid(True)\n",
    "plt.show()\n"
   ]
  },
  {
   "cell_type": "code",
   "execution_count": null,
   "metadata": {
    "editable": false,
    "trusted": true
   },
   "outputs": [],
   "source": []
  }
 ],
 "metadata": {
  "kaggle": {
   "accelerator": "nvidiaTeslaT4",
   "dataSources": [
    {
     "datasetId": 1615118,
     "sourceId": 2655824,
     "sourceType": "datasetVersion"
    },
    {
     "datasetId": 6209955,
     "sourceId": 10074552,
     "sourceType": "datasetVersion"
    }
   ],
   "dockerImageVersionId": 30787,
   "isGpuEnabled": true,
   "isInternetEnabled": true,
   "language": "python",
   "sourceType": "notebook"
  },
  "kernelspec": {
   "display_name": "Python 3",
   "language": "python",
   "name": "python3"
  },
  "language_info": {
   "codemirror_mode": {
    "name": "ipython",
    "version": 3
   },
   "file_extension": ".py",
   "mimetype": "text/x-python",
   "name": "python",
   "nbconvert_exporter": "python",
   "pygments_lexer": "ipython3",
   "version": "3.9.20"
  }
 },
 "nbformat": 4,
 "nbformat_minor": 4
}
